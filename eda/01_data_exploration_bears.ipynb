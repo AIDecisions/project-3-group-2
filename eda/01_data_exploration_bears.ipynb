{
 "cells": [
  {
   "cell_type": "code",
   "execution_count": 1,
   "metadata": {},
   "outputs": [
    {
     "data": {
      "application/javascript": "(function(root) {\n  function now() {\n    return new Date();\n  }\n\n  var force = true;\n  var py_version = '3.4.0'.replace('rc', '-rc.').replace('.dev', '-dev.');\n  var reloading = false;\n  var Bokeh = root.Bokeh;\n\n  if (typeof (root._bokeh_timeout) === \"undefined\" || force) {\n    root._bokeh_timeout = Date.now() + 5000;\n    root._bokeh_failed_load = false;\n  }\n\n  function run_callbacks() {\n    try {\n      root._bokeh_onload_callbacks.forEach(function(callback) {\n        if (callback != null)\n          callback();\n      });\n    } finally {\n      delete root._bokeh_onload_callbacks;\n    }\n    console.debug(\"Bokeh: all callbacks have finished\");\n  }\n\n  function load_libs(css_urls, js_urls, js_modules, js_exports, callback) {\n    if (css_urls == null) css_urls = [];\n    if (js_urls == null) js_urls = [];\n    if (js_modules == null) js_modules = [];\n    if (js_exports == null) js_exports = {};\n\n    root._bokeh_onload_callbacks.push(callback);\n\n    if (root._bokeh_is_loading > 0) {\n      console.debug(\"Bokeh: BokehJS is being loaded, scheduling callback at\", now());\n      return null;\n    }\n    if (js_urls.length === 0 && js_modules.length === 0 && Object.keys(js_exports).length === 0) {\n      run_callbacks();\n      return null;\n    }\n    if (!reloading) {\n      console.debug(\"Bokeh: BokehJS not loaded, scheduling load and callback at\", now());\n    }\n\n    function on_load() {\n      root._bokeh_is_loading--;\n      if (root._bokeh_is_loading === 0) {\n        console.debug(\"Bokeh: all BokehJS libraries/stylesheets loaded\");\n        run_callbacks()\n      }\n    }\n    window._bokeh_on_load = on_load\n\n    function on_error() {\n      console.error(\"failed to load \" + url);\n    }\n\n    var skip = [];\n    if (window.requirejs) {\n      window.requirejs.config({'packages': {}, 'paths': {}, 'shim': {}});\n      root._bokeh_is_loading = css_urls.length + 0;\n    } else {\n      root._bokeh_is_loading = css_urls.length + js_urls.length + js_modules.length + Object.keys(js_exports).length;\n    }\n\n    var existing_stylesheets = []\n    var links = document.getElementsByTagName('link')\n    for (var i = 0; i < links.length; i++) {\n      var link = links[i]\n      if (link.href != null) {\n\texisting_stylesheets.push(link.href)\n      }\n    }\n    for (var i = 0; i < css_urls.length; i++) {\n      var url = css_urls[i];\n      if (existing_stylesheets.indexOf(url) !== -1) {\n\ton_load()\n\tcontinue;\n      }\n      const element = document.createElement(\"link\");\n      element.onload = on_load;\n      element.onerror = on_error;\n      element.rel = \"stylesheet\";\n      element.type = \"text/css\";\n      element.href = url;\n      console.debug(\"Bokeh: injecting link tag for BokehJS stylesheet: \", url);\n      document.body.appendChild(element);\n    }    var existing_scripts = []\n    var scripts = document.getElementsByTagName('script')\n    for (var i = 0; i < scripts.length; i++) {\n      var script = scripts[i]\n      if (script.src != null) {\n\texisting_scripts.push(script.src)\n      }\n    }\n    for (var i = 0; i < js_urls.length; i++) {\n      var url = js_urls[i];\n      if (skip.indexOf(url) !== -1 || existing_scripts.indexOf(url) !== -1) {\n\tif (!window.requirejs) {\n\t  on_load();\n\t}\n\tcontinue;\n      }\n      var element = document.createElement('script');\n      element.onload = on_load;\n      element.onerror = on_error;\n      element.async = false;\n      element.src = url;\n      console.debug(\"Bokeh: injecting script tag for BokehJS library: \", url);\n      document.head.appendChild(element);\n    }\n    for (var i = 0; i < js_modules.length; i++) {\n      var url = js_modules[i];\n      if (skip.indexOf(url) !== -1 || existing_scripts.indexOf(url) !== -1) {\n\tif (!window.requirejs) {\n\t  on_load();\n\t}\n\tcontinue;\n      }\n      var element = document.createElement('script');\n      element.onload = on_load;\n      element.onerror = on_error;\n      element.async = false;\n      element.src = url;\n      element.type = \"module\";\n      console.debug(\"Bokeh: injecting script tag for BokehJS library: \", url);\n      document.head.appendChild(element);\n    }\n    for (const name in js_exports) {\n      var url = js_exports[name];\n      if (skip.indexOf(url) >= 0 || root[name] != null) {\n\tif (!window.requirejs) {\n\t  on_load();\n\t}\n\tcontinue;\n      }\n      var element = document.createElement('script');\n      element.onerror = on_error;\n      element.async = false;\n      element.type = \"module\";\n      console.debug(\"Bokeh: injecting script tag for BokehJS library: \", url);\n      element.textContent = `\n      import ${name} from \"${url}\"\n      window.${name} = ${name}\n      window._bokeh_on_load()\n      `\n      document.head.appendChild(element);\n    }\n    if (!js_urls.length && !js_modules.length) {\n      on_load()\n    }\n  };\n\n  function inject_raw_css(css) {\n    const element = document.createElement(\"style\");\n    element.appendChild(document.createTextNode(css));\n    document.body.appendChild(element);\n  }\n\n  var js_urls = [\"https://cdn.bokeh.org/bokeh/release/bokeh-3.4.0.min.js\", \"https://cdn.bokeh.org/bokeh/release/bokeh-gl-3.4.0.min.js\", \"https://cdn.bokeh.org/bokeh/release/bokeh-widgets-3.4.0.min.js\", \"https://cdn.bokeh.org/bokeh/release/bokeh-tables-3.4.0.min.js\", \"https://cdn.holoviz.org/panel/1.4.2/dist/panel.min.js\"];\n  var js_modules = [];\n  var js_exports = {};\n  var css_urls = [];\n  var inline_js = [    function(Bokeh) {\n      Bokeh.set_log_level(\"info\");\n    },\nfunction(Bokeh) {} // ensure no trailing comma for IE\n  ];\n\n  function run_inline_js() {\n    if ((root.Bokeh !== undefined) || (force === true)) {\n      for (var i = 0; i < inline_js.length; i++) {\n\ttry {\n          inline_js[i].call(root, root.Bokeh);\n\t} catch(e) {\n\t  if (!reloading) {\n\t    throw e;\n\t  }\n\t}\n      }\n      // Cache old bokeh versions\n      if (Bokeh != undefined && !reloading) {\n\tvar NewBokeh = root.Bokeh;\n\tif (Bokeh.versions === undefined) {\n\t  Bokeh.versions = new Map();\n\t}\n\tif (NewBokeh.version !== Bokeh.version) {\n\t  Bokeh.versions.set(NewBokeh.version, NewBokeh)\n\t}\n\troot.Bokeh = Bokeh;\n      }} else if (Date.now() < root._bokeh_timeout) {\n      setTimeout(run_inline_js, 100);\n    } else if (!root._bokeh_failed_load) {\n      console.log(\"Bokeh: BokehJS failed to load within specified timeout.\");\n      root._bokeh_failed_load = true;\n    }\n    root._bokeh_is_initializing = false\n  }\n\n  function load_or_wait() {\n    // Implement a backoff loop that tries to ensure we do not load multiple\n    // versions of Bokeh and its dependencies at the same time.\n    // In recent versions we use the root._bokeh_is_initializing flag\n    // to determine whether there is an ongoing attempt to initialize\n    // bokeh, however for backward compatibility we also try to ensure\n    // that we do not start loading a newer (Panel>=1.0 and Bokeh>3) version\n    // before older versions are fully initialized.\n    if (root._bokeh_is_initializing && Date.now() > root._bokeh_timeout) {\n      root._bokeh_is_initializing = false;\n      root._bokeh_onload_callbacks = undefined;\n      console.log(\"Bokeh: BokehJS was loaded multiple times but one version failed to initialize.\");\n      load_or_wait();\n    } else if (root._bokeh_is_initializing || (typeof root._bokeh_is_initializing === \"undefined\" && root._bokeh_onload_callbacks !== undefined)) {\n      setTimeout(load_or_wait, 100);\n    } else {\n      root._bokeh_is_initializing = true\n      root._bokeh_onload_callbacks = []\n      var bokeh_loaded = Bokeh != null && (Bokeh.version === py_version || (Bokeh.versions !== undefined && Bokeh.versions.has(py_version)));\n      if (!reloading && !bokeh_loaded) {\n\troot.Bokeh = undefined;\n      }\n      load_libs(css_urls, js_urls, js_modules, js_exports, function() {\n\tconsole.debug(\"Bokeh: BokehJS plotting callback run at\", now());\n\trun_inline_js();\n      });\n    }\n  }\n  // Give older versions of the autoload script a head-start to ensure\n  // they initialize before we start loading newer version.\n  setTimeout(load_or_wait, 100)\n}(window));",
      "application/vnd.holoviews_load.v0+json": ""
     },
     "metadata": {},
     "output_type": "display_data"
    },
    {
     "data": {
      "application/javascript": "\nif ((window.PyViz === undefined) || (window.PyViz instanceof HTMLElement)) {\n  window.PyViz = {comms: {}, comm_status:{}, kernels:{}, receivers: {}, plot_index: []}\n}\n\n\n    function JupyterCommManager() {\n    }\n\n    JupyterCommManager.prototype.register_target = function(plot_id, comm_id, msg_handler) {\n      if (window.comm_manager || ((window.Jupyter !== undefined) && (Jupyter.notebook.kernel != null))) {\n        var comm_manager = window.comm_manager || Jupyter.notebook.kernel.comm_manager;\n        comm_manager.register_target(comm_id, function(comm) {\n          comm.on_msg(msg_handler);\n        });\n      } else if ((plot_id in window.PyViz.kernels) && (window.PyViz.kernels[plot_id])) {\n        window.PyViz.kernels[plot_id].registerCommTarget(comm_id, function(comm) {\n          comm.onMsg = msg_handler;\n        });\n      } else if (typeof google != 'undefined' && google.colab.kernel != null) {\n        google.colab.kernel.comms.registerTarget(comm_id, (comm) => {\n          var messages = comm.messages[Symbol.asyncIterator]();\n          function processIteratorResult(result) {\n            var message = result.value;\n            console.log(message)\n            var content = {data: message.data, comm_id};\n            var buffers = []\n            for (var buffer of message.buffers || []) {\n              buffers.push(new DataView(buffer))\n            }\n            var metadata = message.metadata || {};\n            var msg = {content, buffers, metadata}\n            msg_handler(msg);\n            return messages.next().then(processIteratorResult);\n          }\n          return messages.next().then(processIteratorResult);\n        })\n      }\n    }\n\n    JupyterCommManager.prototype.get_client_comm = function(plot_id, comm_id, msg_handler) {\n      if (comm_id in window.PyViz.comms) {\n        return window.PyViz.comms[comm_id];\n      } else if (window.comm_manager || ((window.Jupyter !== undefined) && (Jupyter.notebook.kernel != null))) {\n        var comm_manager = window.comm_manager || Jupyter.notebook.kernel.comm_manager;\n        var comm = comm_manager.new_comm(comm_id, {}, {}, {}, comm_id);\n        if (msg_handler) {\n          comm.on_msg(msg_handler);\n        }\n      } else if ((plot_id in window.PyViz.kernels) && (window.PyViz.kernels[plot_id])) {\n        var comm = window.PyViz.kernels[plot_id].connectToComm(comm_id);\n        comm.open();\n        if (msg_handler) {\n          comm.onMsg = msg_handler;\n        }\n      } else if (typeof google != 'undefined' && google.colab.kernel != null) {\n        var comm_promise = google.colab.kernel.comms.open(comm_id)\n        comm_promise.then((comm) => {\n          window.PyViz.comms[comm_id] = comm;\n          if (msg_handler) {\n            var messages = comm.messages[Symbol.asyncIterator]();\n            function processIteratorResult(result) {\n              var message = result.value;\n              var content = {data: message.data};\n              var metadata = message.metadata || {comm_id};\n              var msg = {content, metadata}\n              msg_handler(msg);\n              return messages.next().then(processIteratorResult);\n            }\n            return messages.next().then(processIteratorResult);\n          }\n        }) \n        var sendClosure = (data, metadata, buffers, disposeOnDone) => {\n          return comm_promise.then((comm) => {\n            comm.send(data, metadata, buffers, disposeOnDone);\n          });\n        };\n        var comm = {\n          send: sendClosure\n        };\n      }\n      window.PyViz.comms[comm_id] = comm;\n      return comm;\n    }\n    window.PyViz.comm_manager = new JupyterCommManager();\n    \n\n\nvar JS_MIME_TYPE = 'application/javascript';\nvar HTML_MIME_TYPE = 'text/html';\nvar EXEC_MIME_TYPE = 'application/vnd.holoviews_exec.v0+json';\nvar CLASS_NAME = 'output';\n\n/**\n * Render data to the DOM node\n */\nfunction render(props, node) {\n  var div = document.createElement(\"div\");\n  var script = document.createElement(\"script\");\n  node.appendChild(div);\n  node.appendChild(script);\n}\n\n/**\n * Handle when a new output is added\n */\nfunction handle_add_output(event, handle) {\n  var output_area = handle.output_area;\n  var output = handle.output;\n  if ((output.data == undefined) || (!output.data.hasOwnProperty(EXEC_MIME_TYPE))) {\n    return\n  }\n  var id = output.metadata[EXEC_MIME_TYPE][\"id\"];\n  var toinsert = output_area.element.find(\".\" + CLASS_NAME.split(' ')[0]);\n  if (id !== undefined) {\n    var nchildren = toinsert.length;\n    var html_node = toinsert[nchildren-1].children[0];\n    html_node.innerHTML = output.data[HTML_MIME_TYPE];\n    var scripts = [];\n    var nodelist = html_node.querySelectorAll(\"script\");\n    for (var i in nodelist) {\n      if (nodelist.hasOwnProperty(i)) {\n        scripts.push(nodelist[i])\n      }\n    }\n\n    scripts.forEach( function (oldScript) {\n      var newScript = document.createElement(\"script\");\n      var attrs = [];\n      var nodemap = oldScript.attributes;\n      for (var j in nodemap) {\n        if (nodemap.hasOwnProperty(j)) {\n          attrs.push(nodemap[j])\n        }\n      }\n      attrs.forEach(function(attr) { newScript.setAttribute(attr.name, attr.value) });\n      newScript.appendChild(document.createTextNode(oldScript.innerHTML));\n      oldScript.parentNode.replaceChild(newScript, oldScript);\n    });\n    if (JS_MIME_TYPE in output.data) {\n      toinsert[nchildren-1].children[1].textContent = output.data[JS_MIME_TYPE];\n    }\n    output_area._hv_plot_id = id;\n    if ((window.Bokeh !== undefined) && (id in Bokeh.index)) {\n      window.PyViz.plot_index[id] = Bokeh.index[id];\n    } else {\n      window.PyViz.plot_index[id] = null;\n    }\n  } else if (output.metadata[EXEC_MIME_TYPE][\"server_id\"] !== undefined) {\n    var bk_div = document.createElement(\"div\");\n    bk_div.innerHTML = output.data[HTML_MIME_TYPE];\n    var script_attrs = bk_div.children[0].attributes;\n    for (var i = 0; i < script_attrs.length; i++) {\n      toinsert[toinsert.length - 1].childNodes[1].setAttribute(script_attrs[i].name, script_attrs[i].value);\n    }\n    // store reference to server id on output_area\n    output_area._bokeh_server_id = output.metadata[EXEC_MIME_TYPE][\"server_id\"];\n  }\n}\n\n/**\n * Handle when an output is cleared or removed\n */\nfunction handle_clear_output(event, handle) {\n  var id = handle.cell.output_area._hv_plot_id;\n  var server_id = handle.cell.output_area._bokeh_server_id;\n  if (((id === undefined) || !(id in PyViz.plot_index)) && (server_id !== undefined)) { return; }\n  var comm = window.PyViz.comm_manager.get_client_comm(\"hv-extension-comm\", \"hv-extension-comm\", function () {});\n  if (server_id !== null) {\n    comm.send({event_type: 'server_delete', 'id': server_id});\n    return;\n  } else if (comm !== null) {\n    comm.send({event_type: 'delete', 'id': id});\n  }\n  delete PyViz.plot_index[id];\n  if ((window.Bokeh !== undefined) & (id in window.Bokeh.index)) {\n    var doc = window.Bokeh.index[id].model.document\n    doc.clear();\n    const i = window.Bokeh.documents.indexOf(doc);\n    if (i > -1) {\n      window.Bokeh.documents.splice(i, 1);\n    }\n  }\n}\n\n/**\n * Handle kernel restart event\n */\nfunction handle_kernel_cleanup(event, handle) {\n  delete PyViz.comms[\"hv-extension-comm\"];\n  window.PyViz.plot_index = {}\n}\n\n/**\n * Handle update_display_data messages\n */\nfunction handle_update_output(event, handle) {\n  handle_clear_output(event, {cell: {output_area: handle.output_area}})\n  handle_add_output(event, handle)\n}\n\nfunction register_renderer(events, OutputArea) {\n  function append_mime(data, metadata, element) {\n    // create a DOM node to render to\n    var toinsert = this.create_output_subarea(\n    metadata,\n    CLASS_NAME,\n    EXEC_MIME_TYPE\n    );\n    this.keyboard_manager.register_events(toinsert);\n    // Render to node\n    var props = {data: data, metadata: metadata[EXEC_MIME_TYPE]};\n    render(props, toinsert[0]);\n    element.append(toinsert);\n    return toinsert\n  }\n\n  events.on('output_added.OutputArea', handle_add_output);\n  events.on('output_updated.OutputArea', handle_update_output);\n  events.on('clear_output.CodeCell', handle_clear_output);\n  events.on('delete.Cell', handle_clear_output);\n  events.on('kernel_ready.Kernel', handle_kernel_cleanup);\n\n  OutputArea.prototype.register_mime_type(EXEC_MIME_TYPE, append_mime, {\n    safe: true,\n    index: 0\n  });\n}\n\nif (window.Jupyter !== undefined) {\n  try {\n    var events = require('base/js/events');\n    var OutputArea = require('notebook/js/outputarea').OutputArea;\n    if (OutputArea.prototype.mime_types().indexOf(EXEC_MIME_TYPE) == -1) {\n      register_renderer(events, OutputArea);\n    }\n  } catch(err) {\n  }\n}\n",
      "application/vnd.holoviews_load.v0+json": ""
     },
     "metadata": {},
     "output_type": "display_data"
    },
    {
     "data": {
      "text/html": [
       "<style>*[data-root-id],\n",
       "*[data-root-id] > * {\n",
       "  box-sizing: border-box;\n",
       "  font-family: var(--jp-ui-font-family);\n",
       "  font-size: var(--jp-ui-font-size1);\n",
       "  color: var(--vscode-editor-foreground, var(--jp-ui-font-color1));\n",
       "}\n",
       "\n",
       "/* Override VSCode background color */\n",
       ".cell-output-ipywidget-background:has(\n",
       "    > .cell-output-ipywidget-background > .lm-Widget > *[data-root-id]\n",
       "  ),\n",
       ".cell-output-ipywidget-background:has(> .lm-Widget > *[data-root-id]) {\n",
       "  background-color: transparent !important;\n",
       "}\n",
       "</style>"
      ]
     },
     "metadata": {},
     "output_type": "display_data"
    },
    {
     "data": {
      "application/vnd.holoviews_exec.v0+json": "",
      "text/html": [
       "<div id='p1002'>\n",
       "  <div id=\"bd7692d0-0129-456b-a6b4-707e70911a8b\" data-root-id=\"p1002\" style=\"display: contents;\"></div>\n",
       "</div>\n",
       "<script type=\"application/javascript\">(function(root) {\n",
       "  var docs_json = {\"cf241c8a-a86f-4c87-b707-f3740fd9087d\":{\"version\":\"3.4.0\",\"title\":\"Bokeh Application\",\"roots\":[{\"type\":\"object\",\"name\":\"panel.models.browser.BrowserInfo\",\"id\":\"p1002\"},{\"type\":\"object\",\"name\":\"panel.models.comm_manager.CommManager\",\"id\":\"p1003\",\"attributes\":{\"plot_id\":\"p1002\",\"comm_id\":\"053f0108b1404b72a96f26bfc6a2ec42\",\"client_comm_id\":\"7993d1ef1c484bcdb802860c0813520b\"}}],\"defs\":[{\"type\":\"model\",\"name\":\"ReactiveHTML1\"},{\"type\":\"model\",\"name\":\"FlexBox1\",\"properties\":[{\"name\":\"align_content\",\"kind\":\"Any\",\"default\":\"flex-start\"},{\"name\":\"align_items\",\"kind\":\"Any\",\"default\":\"flex-start\"},{\"name\":\"flex_direction\",\"kind\":\"Any\",\"default\":\"row\"},{\"name\":\"flex_wrap\",\"kind\":\"Any\",\"default\":\"wrap\"},{\"name\":\"gap\",\"kind\":\"Any\",\"default\":\"\"},{\"name\":\"justify_content\",\"kind\":\"Any\",\"default\":\"flex-start\"}]},{\"type\":\"model\",\"name\":\"FloatPanel1\",\"properties\":[{\"name\":\"config\",\"kind\":\"Any\",\"default\":{\"type\":\"map\"}},{\"name\":\"contained\",\"kind\":\"Any\",\"default\":true},{\"name\":\"position\",\"kind\":\"Any\",\"default\":\"right-top\"},{\"name\":\"offsetx\",\"kind\":\"Any\",\"default\":null},{\"name\":\"offsety\",\"kind\":\"Any\",\"default\":null},{\"name\":\"theme\",\"kind\":\"Any\",\"default\":\"primary\"},{\"name\":\"status\",\"kind\":\"Any\",\"default\":\"normalized\"}]},{\"type\":\"model\",\"name\":\"GridStack1\",\"properties\":[{\"name\":\"mode\",\"kind\":\"Any\",\"default\":\"warn\"},{\"name\":\"ncols\",\"kind\":\"Any\",\"default\":null},{\"name\":\"nrows\",\"kind\":\"Any\",\"default\":null},{\"name\":\"allow_resize\",\"kind\":\"Any\",\"default\":true},{\"name\":\"allow_drag\",\"kind\":\"Any\",\"default\":true},{\"name\":\"state\",\"kind\":\"Any\",\"default\":[]}]},{\"type\":\"model\",\"name\":\"drag1\",\"properties\":[{\"name\":\"slider_width\",\"kind\":\"Any\",\"default\":5},{\"name\":\"slider_color\",\"kind\":\"Any\",\"default\":\"black\"},{\"name\":\"value\",\"kind\":\"Any\",\"default\":50}]},{\"type\":\"model\",\"name\":\"click1\",\"properties\":[{\"name\":\"terminal_output\",\"kind\":\"Any\",\"default\":\"\"},{\"name\":\"debug_name\",\"kind\":\"Any\",\"default\":\"\"},{\"name\":\"clears\",\"kind\":\"Any\",\"default\":0}]},{\"type\":\"model\",\"name\":\"FastWrapper1\",\"properties\":[{\"name\":\"object\",\"kind\":\"Any\",\"default\":null},{\"name\":\"style\",\"kind\":\"Any\",\"default\":null}]},{\"type\":\"model\",\"name\":\"NotificationAreaBase1\",\"properties\":[{\"name\":\"js_events\",\"kind\":\"Any\",\"default\":{\"type\":\"map\"}},{\"name\":\"position\",\"kind\":\"Any\",\"default\":\"bottom-right\"},{\"name\":\"_clear\",\"kind\":\"Any\",\"default\":0}]},{\"type\":\"model\",\"name\":\"NotificationArea1\",\"properties\":[{\"name\":\"js_events\",\"kind\":\"Any\",\"default\":{\"type\":\"map\"}},{\"name\":\"notifications\",\"kind\":\"Any\",\"default\":[]},{\"name\":\"position\",\"kind\":\"Any\",\"default\":\"bottom-right\"},{\"name\":\"_clear\",\"kind\":\"Any\",\"default\":0},{\"name\":\"types\",\"kind\":\"Any\",\"default\":[{\"type\":\"map\",\"entries\":[[\"type\",\"warning\"],[\"background\",\"#ffc107\"],[\"icon\",{\"type\":\"map\",\"entries\":[[\"className\",\"fas fa-exclamation-triangle\"],[\"tagName\",\"i\"],[\"color\",\"white\"]]}]]},{\"type\":\"map\",\"entries\":[[\"type\",\"info\"],[\"background\",\"#007bff\"],[\"icon\",{\"type\":\"map\",\"entries\":[[\"className\",\"fas fa-info-circle\"],[\"tagName\",\"i\"],[\"color\",\"white\"]]}]]}]}]},{\"type\":\"model\",\"name\":\"Notification\",\"properties\":[{\"name\":\"background\",\"kind\":\"Any\",\"default\":null},{\"name\":\"duration\",\"kind\":\"Any\",\"default\":3000},{\"name\":\"icon\",\"kind\":\"Any\",\"default\":null},{\"name\":\"message\",\"kind\":\"Any\",\"default\":\"\"},{\"name\":\"notification_type\",\"kind\":\"Any\",\"default\":null},{\"name\":\"_destroyed\",\"kind\":\"Any\",\"default\":false}]},{\"type\":\"model\",\"name\":\"TemplateActions1\",\"properties\":[{\"name\":\"open_modal\",\"kind\":\"Any\",\"default\":0},{\"name\":\"close_modal\",\"kind\":\"Any\",\"default\":0}]},{\"type\":\"model\",\"name\":\"BootstrapTemplateActions1\",\"properties\":[{\"name\":\"open_modal\",\"kind\":\"Any\",\"default\":0},{\"name\":\"close_modal\",\"kind\":\"Any\",\"default\":0}]},{\"type\":\"model\",\"name\":\"TemplateEditor1\",\"properties\":[{\"name\":\"layout\",\"kind\":\"Any\",\"default\":[]}]},{\"type\":\"model\",\"name\":\"MaterialTemplateActions1\",\"properties\":[{\"name\":\"open_modal\",\"kind\":\"Any\",\"default\":0},{\"name\":\"close_modal\",\"kind\":\"Any\",\"default\":0}]},{\"type\":\"model\",\"name\":\"copy_to_clipboard1\",\"properties\":[{\"name\":\"fill\",\"kind\":\"Any\",\"default\":\"none\"},{\"name\":\"value\",\"kind\":\"Any\",\"default\":null}]}]}};\n",
       "  var render_items = [{\"docid\":\"cf241c8a-a86f-4c87-b707-f3740fd9087d\",\"roots\":{\"p1002\":\"bd7692d0-0129-456b-a6b4-707e70911a8b\"},\"root_ids\":[\"p1002\"]}];\n",
       "  var docs = Object.values(docs_json)\n",
       "  if (!docs) {\n",
       "    return\n",
       "  }\n",
       "  const py_version = docs[0].version.replace('rc', '-rc.').replace('.dev', '-dev.')\n",
       "  function embed_document(root) {\n",
       "    var Bokeh = get_bokeh(root)\n",
       "    Bokeh.embed.embed_items_notebook(docs_json, render_items);\n",
       "    for (const render_item of render_items) {\n",
       "      for (const root_id of render_item.root_ids) {\n",
       "\tconst id_el = document.getElementById(root_id)\n",
       "\tif (id_el.children.length && (id_el.children[0].className === 'bk-root')) {\n",
       "\t  const root_el = id_el.children[0]\n",
       "\t  root_el.id = root_el.id + '-rendered'\n",
       "\t}\n",
       "      }\n",
       "    }\n",
       "  }\n",
       "  function get_bokeh(root) {\n",
       "    if (root.Bokeh === undefined) {\n",
       "      return null\n",
       "    } else if (root.Bokeh.version !== py_version) {\n",
       "      if (root.Bokeh.versions === undefined || !root.Bokeh.versions.has(py_version)) {\n",
       "\treturn null\n",
       "      }\n",
       "      return root.Bokeh.versions.get(py_version);\n",
       "    } else if (root.Bokeh.version === py_version) {\n",
       "      return root.Bokeh\n",
       "    }\n",
       "    return null\n",
       "  }\n",
       "  function is_loaded(root) {\n",
       "    var Bokeh = get_bokeh(root)\n",
       "    return (Bokeh != null && Bokeh.Panel !== undefined)\n",
       "  }\n",
       "  if (is_loaded(root)) {\n",
       "    embed_document(root);\n",
       "  } else {\n",
       "    var attempts = 0;\n",
       "    var timer = setInterval(function(root) {\n",
       "      if (is_loaded(root)) {\n",
       "        clearInterval(timer);\n",
       "        embed_document(root);\n",
       "      } else if (document.readyState == \"complete\") {\n",
       "        attempts++;\n",
       "        if (attempts > 200) {\n",
       "          clearInterval(timer);\n",
       "\t  var Bokeh = get_bokeh(root)\n",
       "\t  if (Bokeh == null || Bokeh.Panel == null) {\n",
       "            console.warn(\"Panel: ERROR: Unable to run Panel code because Bokeh or Panel library is missing\");\n",
       "\t  } else {\n",
       "\t    console.warn(\"Panel: WARNING: Attempting to render but not all required libraries could be resolved.\")\n",
       "\t    embed_document(root)\n",
       "\t  }\n",
       "        }\n",
       "      }\n",
       "    }, 25, root)\n",
       "  }\n",
       "})(window);</script>"
      ]
     },
     "metadata": {
      "application/vnd.holoviews_exec.v0+json": {
       "id": "p1002"
      }
     },
     "output_type": "display_data"
    }
   ],
   "source": [
    "# Import dependencies\n",
    "import pandas as pd\n",
    "import numpy as np\n",
    "import hvplot.pandas\n",
    "\n",
    "# Extend width of the results\n",
    "pd.set_option('max_colwidth', 400)"
   ]
  },
  {
   "cell_type": "markdown",
   "metadata": {},
   "source": [
    "### Bear Attacks data retrieval"
   ]
  },
  {
   "cell_type": "code",
   "execution_count": 2,
   "metadata": {},
   "outputs": [
    {
     "data": {
      "text/html": [
       "<div>\n",
       "<style scoped>\n",
       "    .dataframe tbody tr th:only-of-type {\n",
       "        vertical-align: middle;\n",
       "    }\n",
       "\n",
       "    .dataframe tbody tr th {\n",
       "        vertical-align: top;\n",
       "    }\n",
       "\n",
       "    .dataframe thead th {\n",
       "        text-align: right;\n",
       "    }\n",
       "</style>\n",
       "<table border=\"1\" class=\"dataframe\">\n",
       "  <thead>\n",
       "    <tr style=\"text-align: right;\">\n",
       "      <th></th>\n",
       "      <th>Date</th>\n",
       "      <th>Location</th>\n",
       "      <th>Details</th>\n",
       "      <th>Bear</th>\n",
       "      <th>Latitude</th>\n",
       "      <th>Longitude</th>\n",
       "      <th>Name</th>\n",
       "      <th>Age</th>\n",
       "      <th>Gender</th>\n",
       "    </tr>\n",
       "  </thead>\n",
       "  <tbody>\n",
       "    <tr>\n",
       "      <th>0</th>\n",
       "      <td>August 23, 2018</td>\n",
       "      <td>Lyon Inlet, Nunavut</td>\n",
       "      <td>Three men from Naujaat, whose boat had broken down, were having tea on the morning of August 23 when a female bear and a cub surprised them. Leo Ijjangiaq fired a rifle to scare the bear but it attacked Laurent Junior Uttak before killing Darryl Kaunak. The mother and cub were killed. During the next three days, prior to being rescued, more bears approached the two survivors and at least one m...</td>\n",
       "      <td>Polar</td>\n",
       "      <td>66.534160</td>\n",
       "      <td>-83.882170</td>\n",
       "      <td>Darryl Kaunak</td>\n",
       "      <td>33</td>\n",
       "      <td>male</td>\n",
       "    </tr>\n",
       "    <tr>\n",
       "      <th>1</th>\n",
       "      <td>July 3, 2018</td>\n",
       "      <td>Sentry Island, Nunavut</td>\n",
       "      <td>A polar bear approached a man and his children on Sentry Island. The man, identified as 31-year-old Aaron Gibbons from Arviat, put himself between the children and the bear and was attacked, causing fatal injuries. The bear was killed by other people who were also in the area.[84][85]</td>\n",
       "      <td>Polar</td>\n",
       "      <td>61.167230</td>\n",
       "      <td>-93.850150</td>\n",
       "      <td>Aaron Gibbons</td>\n",
       "      <td>31</td>\n",
       "      <td>male</td>\n",
       "    </tr>\n",
       "    <tr>\n",
       "      <th>2</th>\n",
       "      <td>July 9, 1999</td>\n",
       "      <td>near Rankin Inlet, Nunavut</td>\n",
       "      <td>Amitnak was mauled after trying to distract a bear that attacked and injured two other people at a Hudson Bay camp.[161] She was later awarded a posthumous medal of bravery by then-Governor-General of Canada, Adrienne Clarkson.[162]</td>\n",
       "      <td>Polar</td>\n",
       "      <td>62.808913</td>\n",
       "      <td>-92.087741</td>\n",
       "      <td>Hattie Amitnak</td>\n",
       "      <td>64</td>\n",
       "      <td>female</td>\n",
       "    </tr>\n",
       "    <tr>\n",
       "      <th>3</th>\n",
       "      <td>December 8, 1990</td>\n",
       "      <td>Point Lay, Alaska</td>\n",
       "      <td>While Stalker was walking with his girlfriend, he was chased and consumed in the middle of the town. The bear was shot and killed near Stalker's corpse.[163]</td>\n",
       "      <td>Polar</td>\n",
       "      <td>69.742800</td>\n",
       "      <td>-163.011250</td>\n",
       "      <td>Carl Stalker</td>\n",
       "      <td>28</td>\n",
       "      <td>male</td>\n",
       "    </tr>\n",
       "    <tr>\n",
       "      <th>4</th>\n",
       "      <td>November 29, 1983</td>\n",
       "      <td>Churchill, Manitoba</td>\n",
       "      <td>Mutanen was attacked and dragged on a street in Churchill. The bear was part of an annual migration to Hudson Bay. Due to a lack of ice on the bay, the bear wandered into the town.[188]</td>\n",
       "      <td>Polar</td>\n",
       "      <td>58.767755</td>\n",
       "      <td>-94.163998</td>\n",
       "      <td>Thomas Mutanen</td>\n",
       "      <td>46</td>\n",
       "      <td>male</td>\n",
       "    </tr>\n",
       "  </tbody>\n",
       "</table>\n",
       "</div>"
      ],
      "text/plain": [
       "                Date                    Location  \\\n",
       "0    August 23, 2018       Lyon Inlet, Nunavut     \n",
       "1       July 3, 2018      Sentry Island, Nunavut   \n",
       "2       July 9, 1999  near Rankin Inlet, Nunavut   \n",
       "3   December 8, 1990           Point Lay, Alaska   \n",
       "4  November 29, 1983         Churchill, Manitoba   \n",
       "\n",
       "                                                                                                                                                                                                                                                                                                                                                                                                           Details  \\\n",
       "0  Three men from Naujaat, whose boat had broken down, were having tea on the morning of August 23 when a female bear and a cub surprised them. Leo Ijjangiaq fired a rifle to scare the bear but it attacked Laurent Junior Uttak before killing Darryl Kaunak. The mother and cub were killed. During the next three days, prior to being rescued, more bears approached the two survivors and at least one m...   \n",
       "1                                                                                                                   A polar bear approached a man and his children on Sentry Island. The man, identified as 31-year-old Aaron Gibbons from Arviat, put himself between the children and the bear and was attacked, causing fatal injuries. The bear was killed by other people who were also in the area.[84][85]    \n",
       "2                                                                                                                                                                        Amitnak was mauled after trying to distract a bear that attacked and injured two other people at a Hudson Bay camp.[161] She was later awarded a posthumous medal of bravery by then-Governor-General of Canada, Adrienne Clarkson.[162]    \n",
       "3                                                                                                                                                                                                                                                   While Stalker was walking with his girlfriend, he was chased and consumed in the middle of the town. The bear was shot and killed near Stalker's corpse.[163]    \n",
       "4                                                                                                                                                                                                                       Mutanen was attacked and dragged on a street in Churchill. The bear was part of an annual migration to Hudson Bay. Due to a lack of ice on the bay, the bear wandered into the town.[188]    \n",
       "\n",
       "    Bear   Latitude   Longitude            Name  Age   Gender  \n",
       "0  Polar  66.534160  -83.882170   Darryl Kaunak   33     male  \n",
       "1  Polar  61.167230  -93.850150   Aaron Gibbons   31     male  \n",
       "2  Polar  62.808913  -92.087741  Hattie Amitnak   64   female  \n",
       "3  Polar  69.742800 -163.011250    Carl Stalker   28     male  \n",
       "4  Polar  58.767755  -94.163998  Thomas Mutanen   46     male  "
      ]
     },
     "execution_count": 2,
     "metadata": {},
     "output_type": "execute_result"
    }
   ],
   "source": [
    "# Read the data into a Pandas DataFrame\n",
    "bear_data_raw_df = pd.read_csv(\"Resources/source/bear_attacks.csv\")\n",
    "bear_data_raw_df.head()"
   ]
  },
  {
   "cell_type": "code",
   "execution_count": 3,
   "metadata": {},
   "outputs": [
    {
     "name": "stdout",
     "output_type": "stream",
     "text": [
      "<class 'pandas.core.frame.DataFrame'>\n",
      "RangeIndex: 156 entries, 0 to 155\n",
      "Data columns (total 9 columns):\n",
      " #   Column     Non-Null Count  Dtype  \n",
      "---  ------     --------------  -----  \n",
      " 0   Date       156 non-null    object \n",
      " 1   Location   156 non-null    object \n",
      " 2   Details    156 non-null    object \n",
      " 3   Bear       156 non-null    object \n",
      " 4   Latitude   156 non-null    float64\n",
      " 5   Longitude  156 non-null    float64\n",
      " 6   Name       155 non-null    object \n",
      " 7   Age        155 non-null    object \n",
      " 8   Gender     155 non-null    object \n",
      "dtypes: float64(2), object(7)\n",
      "memory usage: 11.1+ KB\n"
     ]
    }
   ],
   "source": [
    "# Get a brief summary of the shark_data_raw_df DataFrame\n",
    "bear_data_raw_df.info()"
   ]
  },
  {
   "cell_type": "code",
   "execution_count": 4,
   "metadata": {},
   "outputs": [
    {
     "data": {
      "text/html": [
       "<div>\n",
       "<style scoped>\n",
       "    .dataframe tbody tr th:only-of-type {\n",
       "        vertical-align: middle;\n",
       "    }\n",
       "\n",
       "    .dataframe tbody tr th {\n",
       "        vertical-align: top;\n",
       "    }\n",
       "\n",
       "    .dataframe thead th {\n",
       "        text-align: right;\n",
       "    }\n",
       "</style>\n",
       "<table border=\"1\" class=\"dataframe\">\n",
       "  <thead>\n",
       "    <tr style=\"text-align: right;\">\n",
       "      <th></th>\n",
       "      <th>Latitude</th>\n",
       "      <th>Longitude</th>\n",
       "    </tr>\n",
       "  </thead>\n",
       "  <tbody>\n",
       "    <tr>\n",
       "      <th>count</th>\n",
       "      <td>156.000000</td>\n",
       "      <td>156.000000</td>\n",
       "    </tr>\n",
       "    <tr>\n",
       "      <th>mean</th>\n",
       "      <td>51.014942</td>\n",
       "      <td>-113.889579</td>\n",
       "    </tr>\n",
       "    <tr>\n",
       "      <th>std</th>\n",
       "      <td>8.825507</td>\n",
       "      <td>22.993165</td>\n",
       "    </tr>\n",
       "    <tr>\n",
       "      <th>min</th>\n",
       "      <td>28.647838</td>\n",
       "      <td>-163.011250</td>\n",
       "    </tr>\n",
       "    <tr>\n",
       "      <th>25%</th>\n",
       "      <td>45.250210</td>\n",
       "      <td>-124.686183</td>\n",
       "    </tr>\n",
       "    <tr>\n",
       "      <th>50%</th>\n",
       "      <td>49.814079</td>\n",
       "      <td>-113.780475</td>\n",
       "    </tr>\n",
       "    <tr>\n",
       "      <th>75%</th>\n",
       "      <td>58.416670</td>\n",
       "      <td>-105.525439</td>\n",
       "    </tr>\n",
       "    <tr>\n",
       "      <th>max</th>\n",
       "      <td>69.742800</td>\n",
       "      <td>-66.825422</td>\n",
       "    </tr>\n",
       "  </tbody>\n",
       "</table>\n",
       "</div>"
      ],
      "text/plain": [
       "         Latitude   Longitude\n",
       "count  156.000000  156.000000\n",
       "mean    51.014942 -113.889579\n",
       "std      8.825507   22.993165\n",
       "min     28.647838 -163.011250\n",
       "25%     45.250210 -124.686183\n",
       "50%     49.814079 -113.780475\n",
       "75%     58.416670 -105.525439\n",
       "max     69.742800  -66.825422"
      ]
     },
     "execution_count": 4,
     "metadata": {},
     "output_type": "execute_result"
    }
   ],
   "source": [
    "# Brief summary of the shark_data_raw_df DataFrame\n",
    "bear_data_raw_df.describe()"
   ]
  },
  {
   "cell_type": "markdown",
   "metadata": {},
   "source": [
    "### Bear Data Cleaning"
   ]
  },
  {
   "cell_type": "code",
   "execution_count": 5,
   "metadata": {},
   "outputs": [
    {
     "data": {
      "text/html": [
       "<div>\n",
       "<style scoped>\n",
       "    .dataframe tbody tr th:only-of-type {\n",
       "        vertical-align: middle;\n",
       "    }\n",
       "\n",
       "    .dataframe tbody tr th {\n",
       "        vertical-align: top;\n",
       "    }\n",
       "\n",
       "    .dataframe thead th {\n",
       "        text-align: right;\n",
       "    }\n",
       "</style>\n",
       "<table border=\"1\" class=\"dataframe\">\n",
       "  <thead>\n",
       "    <tr style=\"text-align: right;\">\n",
       "      <th></th>\n",
       "      <th>Date</th>\n",
       "      <th>Location</th>\n",
       "      <th>Details</th>\n",
       "      <th>Bear</th>\n",
       "      <th>Latitude</th>\n",
       "      <th>Longitude</th>\n",
       "      <th>Name</th>\n",
       "      <th>Age</th>\n",
       "      <th>Gender</th>\n",
       "    </tr>\n",
       "  </thead>\n",
       "  <tbody>\n",
       "    <tr>\n",
       "      <th>0</th>\n",
       "      <td>August 23, 2018</td>\n",
       "      <td>Lyon Inlet, Nunavut</td>\n",
       "      <td>Three men from Naujaat, whose boat had broken down, were having tea on the morning of August 23 when a female bear and a cub surprised them. Leo Ijjangiaq fired a rifle to scare the bear but it attacked Laurent Junior Uttak before killing Darryl Kaunak. The mother and cub were killed. During the next three days, prior to being rescued, more bears approached the two survivors and at least one m...</td>\n",
       "      <td>Polar</td>\n",
       "      <td>66.534160</td>\n",
       "      <td>-83.882170</td>\n",
       "      <td>Darryl Kaunak</td>\n",
       "      <td>33</td>\n",
       "      <td>male</td>\n",
       "    </tr>\n",
       "    <tr>\n",
       "      <th>1</th>\n",
       "      <td>July 3, 2018</td>\n",
       "      <td>Sentry Island, Nunavut</td>\n",
       "      <td>A polar bear approached a man and his children on Sentry Island. The man, identified as 31-year-old Aaron Gibbons from Arviat, put himself between the children and the bear and was attacked, causing fatal injuries. The bear was killed by other people who were also in the area.[84][85]</td>\n",
       "      <td>Polar</td>\n",
       "      <td>61.167230</td>\n",
       "      <td>-93.850150</td>\n",
       "      <td>Aaron Gibbons</td>\n",
       "      <td>31</td>\n",
       "      <td>male</td>\n",
       "    </tr>\n",
       "    <tr>\n",
       "      <th>2</th>\n",
       "      <td>July 9, 1999</td>\n",
       "      <td>near Rankin Inlet, Nunavut</td>\n",
       "      <td>Amitnak was mauled after trying to distract a bear that attacked and injured two other people at a Hudson Bay camp.[161] She was later awarded a posthumous medal of bravery by then-Governor-General of Canada, Adrienne Clarkson.[162]</td>\n",
       "      <td>Polar</td>\n",
       "      <td>62.808913</td>\n",
       "      <td>-92.087741</td>\n",
       "      <td>Hattie Amitnak</td>\n",
       "      <td>64</td>\n",
       "      <td>female</td>\n",
       "    </tr>\n",
       "    <tr>\n",
       "      <th>3</th>\n",
       "      <td>December 8, 1990</td>\n",
       "      <td>Point Lay, Alaska</td>\n",
       "      <td>While Stalker was walking with his girlfriend, he was chased and consumed in the middle of the town. The bear was shot and killed near Stalker's corpse.[163]</td>\n",
       "      <td>Polar</td>\n",
       "      <td>69.742800</td>\n",
       "      <td>-163.011250</td>\n",
       "      <td>Carl Stalker</td>\n",
       "      <td>28</td>\n",
       "      <td>male</td>\n",
       "    </tr>\n",
       "    <tr>\n",
       "      <th>4</th>\n",
       "      <td>November 29, 1983</td>\n",
       "      <td>Churchill, Manitoba</td>\n",
       "      <td>Mutanen was attacked and dragged on a street in Churchill. The bear was part of an annual migration to Hudson Bay. Due to a lack of ice on the bay, the bear wandered into the town.[188]</td>\n",
       "      <td>Polar</td>\n",
       "      <td>58.767755</td>\n",
       "      <td>-94.163998</td>\n",
       "      <td>Thomas Mutanen</td>\n",
       "      <td>46</td>\n",
       "      <td>male</td>\n",
       "    </tr>\n",
       "  </tbody>\n",
       "</table>\n",
       "</div>"
      ],
      "text/plain": [
       "                Date                    Location  \\\n",
       "0    August 23, 2018       Lyon Inlet, Nunavut     \n",
       "1       July 3, 2018      Sentry Island, Nunavut   \n",
       "2       July 9, 1999  near Rankin Inlet, Nunavut   \n",
       "3   December 8, 1990           Point Lay, Alaska   \n",
       "4  November 29, 1983         Churchill, Manitoba   \n",
       "\n",
       "                                                                                                                                                                                                                                                                                                                                                                                                           Details  \\\n",
       "0  Three men from Naujaat, whose boat had broken down, were having tea on the morning of August 23 when a female bear and a cub surprised them. Leo Ijjangiaq fired a rifle to scare the bear but it attacked Laurent Junior Uttak before killing Darryl Kaunak. The mother and cub were killed. During the next three days, prior to being rescued, more bears approached the two survivors and at least one m...   \n",
       "1                                                                                                                   A polar bear approached a man and his children on Sentry Island. The man, identified as 31-year-old Aaron Gibbons from Arviat, put himself between the children and the bear and was attacked, causing fatal injuries. The bear was killed by other people who were also in the area.[84][85]    \n",
       "2                                                                                                                                                                        Amitnak was mauled after trying to distract a bear that attacked and injured two other people at a Hudson Bay camp.[161] She was later awarded a posthumous medal of bravery by then-Governor-General of Canada, Adrienne Clarkson.[162]    \n",
       "3                                                                                                                                                                                                                                                   While Stalker was walking with his girlfriend, he was chased and consumed in the middle of the town. The bear was shot and killed near Stalker's corpse.[163]    \n",
       "4                                                                                                                                                                                                                       Mutanen was attacked and dragged on a street in Churchill. The bear was part of an annual migration to Hudson Bay. Due to a lack of ice on the bay, the bear wandered into the town.[188]    \n",
       "\n",
       "    Bear   Latitude   Longitude            Name  Age   Gender  \n",
       "0  Polar  66.534160  -83.882170   Darryl Kaunak   33     male  \n",
       "1  Polar  61.167230  -93.850150   Aaron Gibbons   31     male  \n",
       "2  Polar  62.808913  -92.087741  Hattie Amitnak   64   female  \n",
       "3  Polar  69.742800 -163.011250    Carl Stalker   28     male  \n",
       "4  Polar  58.767755  -94.163998  Thomas Mutanen   46     male  "
      ]
     },
     "execution_count": 5,
     "metadata": {},
     "output_type": "execute_result"
    }
   ],
   "source": [
    "# Copy the raw data to a new DataFrame\n",
    "bear_data_df = bear_data_raw_df.copy()\n",
    "bear_data_df.head()"
   ]
  },
  {
   "cell_type": "code",
   "execution_count": 6,
   "metadata": {},
   "outputs": [
    {
     "name": "stdout",
     "output_type": "stream",
     "text": [
      "<class 'pandas.core.frame.DataFrame'>\n",
      "RangeIndex: 156 entries, 0 to 155\n",
      "Data columns (total 9 columns):\n",
      " #   Column     Non-Null Count  Dtype  \n",
      "---  ------     --------------  -----  \n",
      " 0   Date       156 non-null    object \n",
      " 1   Location   156 non-null    object \n",
      " 2   Details    156 non-null    object \n",
      " 3   Bear       156 non-null    object \n",
      " 4   Latitude   156 non-null    float64\n",
      " 5   Longitude  156 non-null    float64\n",
      " 6   Name       155 non-null    object \n",
      " 7   Age        155 non-null    object \n",
      " 8   Gender     155 non-null    object \n",
      "dtypes: float64(2), object(7)\n",
      "memory usage: 11.1+ KB\n"
     ]
    }
   ],
   "source": [
    "bear_data_df.info()"
   ]
  },
  {
   "cell_type": "code",
   "execution_count": 7,
   "metadata": {},
   "outputs": [
    {
     "data": {
      "text/html": [
       "<div>\n",
       "<style scoped>\n",
       "    .dataframe tbody tr th:only-of-type {\n",
       "        vertical-align: middle;\n",
       "    }\n",
       "\n",
       "    .dataframe tbody tr th {\n",
       "        vertical-align: top;\n",
       "    }\n",
       "\n",
       "    .dataframe thead th {\n",
       "        text-align: right;\n",
       "    }\n",
       "</style>\n",
       "<table border=\"1\" class=\"dataframe\">\n",
       "  <thead>\n",
       "    <tr style=\"text-align: right;\">\n",
       "      <th></th>\n",
       "      <th>date</th>\n",
       "      <th>location</th>\n",
       "      <th>details</th>\n",
       "      <th>bear</th>\n",
       "      <th>latitude</th>\n",
       "      <th>longitude</th>\n",
       "      <th>name</th>\n",
       "      <th>age</th>\n",
       "      <th>gender</th>\n",
       "    </tr>\n",
       "  </thead>\n",
       "  <tbody>\n",
       "    <tr>\n",
       "      <th>0</th>\n",
       "      <td>August 23, 2018</td>\n",
       "      <td>Lyon Inlet, Nunavut</td>\n",
       "      <td>Three men from Naujaat, whose boat had broken down, were having tea on the morning of August 23 when a female bear and a cub surprised them. Leo Ijjangiaq fired a rifle to scare the bear but it attacked Laurent Junior Uttak before killing Darryl Kaunak. The mother and cub were killed. During the next three days, prior to being rescued, more bears approached the two survivors and at least one m...</td>\n",
       "      <td>Polar</td>\n",
       "      <td>66.534160</td>\n",
       "      <td>-83.882170</td>\n",
       "      <td>Darryl Kaunak</td>\n",
       "      <td>33</td>\n",
       "      <td>male</td>\n",
       "    </tr>\n",
       "    <tr>\n",
       "      <th>1</th>\n",
       "      <td>July 3, 2018</td>\n",
       "      <td>Sentry Island, Nunavut</td>\n",
       "      <td>A polar bear approached a man and his children on Sentry Island. The man, identified as 31-year-old Aaron Gibbons from Arviat, put himself between the children and the bear and was attacked, causing fatal injuries. The bear was killed by other people who were also in the area.[84][85]</td>\n",
       "      <td>Polar</td>\n",
       "      <td>61.167230</td>\n",
       "      <td>-93.850150</td>\n",
       "      <td>Aaron Gibbons</td>\n",
       "      <td>31</td>\n",
       "      <td>male</td>\n",
       "    </tr>\n",
       "    <tr>\n",
       "      <th>2</th>\n",
       "      <td>July 9, 1999</td>\n",
       "      <td>near Rankin Inlet, Nunavut</td>\n",
       "      <td>Amitnak was mauled after trying to distract a bear that attacked and injured two other people at a Hudson Bay camp.[161] She was later awarded a posthumous medal of bravery by then-Governor-General of Canada, Adrienne Clarkson.[162]</td>\n",
       "      <td>Polar</td>\n",
       "      <td>62.808913</td>\n",
       "      <td>-92.087741</td>\n",
       "      <td>Hattie Amitnak</td>\n",
       "      <td>64</td>\n",
       "      <td>female</td>\n",
       "    </tr>\n",
       "    <tr>\n",
       "      <th>3</th>\n",
       "      <td>December 8, 1990</td>\n",
       "      <td>Point Lay, Alaska</td>\n",
       "      <td>While Stalker was walking with his girlfriend, he was chased and consumed in the middle of the town. The bear was shot and killed near Stalker's corpse.[163]</td>\n",
       "      <td>Polar</td>\n",
       "      <td>69.742800</td>\n",
       "      <td>-163.011250</td>\n",
       "      <td>Carl Stalker</td>\n",
       "      <td>28</td>\n",
       "      <td>male</td>\n",
       "    </tr>\n",
       "    <tr>\n",
       "      <th>4</th>\n",
       "      <td>November 29, 1983</td>\n",
       "      <td>Churchill, Manitoba</td>\n",
       "      <td>Mutanen was attacked and dragged on a street in Churchill. The bear was part of an annual migration to Hudson Bay. Due to a lack of ice on the bay, the bear wandered into the town.[188]</td>\n",
       "      <td>Polar</td>\n",
       "      <td>58.767755</td>\n",
       "      <td>-94.163998</td>\n",
       "      <td>Thomas Mutanen</td>\n",
       "      <td>46</td>\n",
       "      <td>male</td>\n",
       "    </tr>\n",
       "  </tbody>\n",
       "</table>\n",
       "</div>"
      ],
      "text/plain": [
       "                date                    location  \\\n",
       "0    August 23, 2018       Lyon Inlet, Nunavut     \n",
       "1       July 3, 2018      Sentry Island, Nunavut   \n",
       "2       July 9, 1999  near Rankin Inlet, Nunavut   \n",
       "3   December 8, 1990           Point Lay, Alaska   \n",
       "4  November 29, 1983         Churchill, Manitoba   \n",
       "\n",
       "                                                                                                                                                                                                                                                                                                                                                                                                           details  \\\n",
       "0  Three men from Naujaat, whose boat had broken down, were having tea on the morning of August 23 when a female bear and a cub surprised them. Leo Ijjangiaq fired a rifle to scare the bear but it attacked Laurent Junior Uttak before killing Darryl Kaunak. The mother and cub were killed. During the next three days, prior to being rescued, more bears approached the two survivors and at least one m...   \n",
       "1                                                                                                                   A polar bear approached a man and his children on Sentry Island. The man, identified as 31-year-old Aaron Gibbons from Arviat, put himself between the children and the bear and was attacked, causing fatal injuries. The bear was killed by other people who were also in the area.[84][85]    \n",
       "2                                                                                                                                                                        Amitnak was mauled after trying to distract a bear that attacked and injured two other people at a Hudson Bay camp.[161] She was later awarded a posthumous medal of bravery by then-Governor-General of Canada, Adrienne Clarkson.[162]    \n",
       "3                                                                                                                                                                                                                                                   While Stalker was walking with his girlfriend, he was chased and consumed in the middle of the town. The bear was shot and killed near Stalker's corpse.[163]    \n",
       "4                                                                                                                                                                                                                       Mutanen was attacked and dragged on a street in Churchill. The bear was part of an annual migration to Hudson Bay. Due to a lack of ice on the bay, the bear wandered into the town.[188]    \n",
       "\n",
       "    bear   latitude   longitude            name  age   gender  \n",
       "0  Polar  66.534160  -83.882170   Darryl Kaunak   33     male  \n",
       "1  Polar  61.167230  -93.850150   Aaron Gibbons   31     male  \n",
       "2  Polar  62.808913  -92.087741  Hattie Amitnak   64   female  \n",
       "3  Polar  69.742800 -163.011250    Carl Stalker   28     male  \n",
       "4  Polar  58.767755  -94.163998  Thomas Mutanen   46     male  "
      ]
     },
     "execution_count": 7,
     "metadata": {},
     "output_type": "execute_result"
    }
   ],
   "source": [
    "# Change headers to lowercase and replace spaces with underscores\n",
    "bear_data_df.columns = bear_data_df.columns.str.lower().str.replace(\" \", \"_\")\n",
    "bear_data_df.head()"
   ]
  },
  {
   "cell_type": "markdown",
   "metadata": {},
   "source": [
    "#### Clean Date"
   ]
  },
  {
   "cell_type": "code",
   "execution_count": 8,
   "metadata": {},
   "outputs": [
    {
     "name": "stdout",
     "output_type": "stream",
     "text": [
      "['August 23, 2018' 'July 3, 2018' 'July 9, 1999' 'December 8, 1990'\n",
      " 'November 29, 1983' 'January 5, 1975' 'November 17, 1968'\n",
      " 'September 1, 2019' 'June 19, 2017' 'June 18, 2017' 'May 10, 2015'\n",
      " 'September 21, 2014' 'May 7, 2014' 'June 6, 2013' 'July 25, 2011'\n",
      " 'June 2011' 'August 7, 2009' 'May 30, 2008' 'July 20, 2007'\n",
      " 'June 17, 2007' 'April 13, 2006' 'September 6, 2005' 'August 26, 2005'\n",
      " 'June 14, 2005' 'September 29, 2002' 'September 1, 2002'\n",
      " 'August 19, 2002' 'August 18, 2001' 'June 3, 2001' 'July 2, 2000'\n",
      " 'May 21, 2000' 'August 14, 1997' 'June 14, 1996' 'September 16, 1994'\n",
      " 'August 10, 1993' 'July 8, 1992' 'June 14, 1992' 'October 11, 1991'\n",
      " 'May 26, 1991' 'May 29, 1985' 'July 6, 1983' 'May 27, 1983'\n",
      " 'May 21, 1983' 'August 14, 1980' 'July 18, 1980' 'May 13, 1978'\n",
      " 'May 16, 1974' 'July 25, 1971' 'October 1, 1968' 'August 8, 1967'\n",
      " 'July 2, 1965' 'September 17, 1964' 'August 16, 1963' 'September 6, 1959'\n",
      " 'August 12, 1958' 'November 19, 1952' 'July 7, 1948' 'November 23, 1943'\n",
      " 'November 24, 1906' 'May 19, 1901' 'September 4, 1883'\n",
      " 'December 29, 1883' 'June 1881' 'August 1784' 'August 15, 2019'\n",
      " 'November 26, 2018' 'October 1, 2018' 'September 14, 2018'\n",
      " 'June 19, 2018' 'June 29, 2016' 'August 7, 2015' 'October 14, 2014'\n",
      " 'September 17, 2014' 'September 7, 2014' 'September 4, 2014'\n",
      " 'August 24, 2012' 'October 2012' 'August 24, 2011' 'July 6, 2011'\n",
      " 'July 28, 2010' 'June 17, 2010' 'October 1, 2008' 'November 25, 2007'\n",
      " 'April 28, 2006' 'September 20, 2005' 'June 23, 2005' 'June 5, 2005'\n",
      " 'October 5, 2003' 'October 30, 2001' 'July 14, 2000' 'November 1, 1999'\n",
      " 'May 25, 1999' 'October 24, 1998' 'August 22, 1998' 'May 17, 1998'\n",
      " 'February 8, 1998' 'August 23, 1996' 'July 5, 1996' 'October 9, 1995'\n",
      " 'July 1, 1995' 'October 3, 1992' 'September 15, 1992' 'July 10, 1992'\n",
      " 'November 4, 1988' 'July 23, 1987' 'April 25, 1987' 'October 5, 1986'\n",
      " 'July 30, 1984' 'June 25, 1983' 'September 30, 1980' 'August 24, 1980'\n",
      " 'July 24, 1980' 'September 15, 1979' 'July 1, 1977' 'September 23, 1976'\n",
      " 'September 11, 12 or 13, 1976; exact date unknown' 'July 24, 1976'\n",
      " 'August 3, 1974' 'September 25, 1973' 'June 25, 1972' 'January 14, 1970'\n",
      " 'August 13, 1967' 'October 27, 1958' 'October 22, 1956'\n",
      " 'September 19, 1955' 'August 23, 1942' 'October 1932'\n",
      " 'September 12, 1929' 'June 12, 1922' 'September 8, 1916'\n",
      " 'Unknown date prior to February 1914' 'September 2, 1892' 'June 1886'\n",
      " 'July 1885' '24 June 1892' '1875' 'August 30, 1863' '1855'\n",
      " 'December 19, 1853' 'October 27, 1854' 'Circa 1850' 'October 17, 1837']\n"
     ]
    }
   ],
   "source": [
    "# Verify the original date values\n",
    "print(bear_data_df.date.unique())"
   ]
  },
  {
   "cell_type": "code",
   "execution_count": 9,
   "metadata": {},
   "outputs": [
    {
     "name": "stdout",
     "output_type": "stream",
     "text": [
      "        date    year  month   day\n",
      "0 2018-08-23  2018.0    8.0  23.0\n",
      "1 2018-07-03  2018.0    7.0   3.0\n",
      "2 1999-07-09  1999.0    7.0   9.0\n",
      "3 1990-12-08  1990.0   12.0   8.0\n",
      "4 1983-11-29  1983.0   11.0  29.0\n",
      "Distinct Years: [2018. 1999. 1990. 1983. 1975. 1968. 2019. 2017. 2015. 2014. 2013. 2011.\n",
      "   nan 2009. 2008. 2007. 2006. 2005. 2002. 2001. 2000. 1997. 1996. 1994.\n",
      " 1993. 1992. 1991. 1985. 1980. 1978. 1974. 1971. 1967. 1965. 1964. 1963.\n",
      " 1959. 1958. 1952. 1948. 1943. 1906. 1901. 1883. 2016. 2012. 2010. 2003.\n",
      " 1998. 1995. 1988. 1987. 1986. 1984. 1979. 1977. 1976. 1973. 1972. 1970.\n",
      " 1956. 1955. 1942. 1929. 1922. 1916. 1892. 1863. 1853. 1854. 1837.]\n",
      "Distinct Months: [ 8.  7. 12. 11.  1.  9.  6.  5. nan  4. 10.  2.]\n",
      "Distinct Days: [23.  3.  9.  8. 29.  5. 17.  1. 19. 18. 10. 21.  7.  6. 25. nan 30. 20.\n",
      " 13. 26. 14.  2. 16. 11. 27. 12. 24.  4. 15. 28. 22.]\n",
      "<bound method Series.unique of 0       8-23-2018\n",
      "1        7-3-2018\n",
      "2        7-9-1999\n",
      "3       12-8-1990\n",
      "4      11-29-1983\n",
      "          ...    \n",
      "151           NaN\n",
      "152    12-19-1853\n",
      "153    10-27-1854\n",
      "154           NaN\n",
      "155    10-17-1837\n",
      "Length: 156, dtype: object>\n"
     ]
    },
    {
     "name": "stderr",
     "output_type": "stream",
     "text": [
      "C:\\Users\\carlo\\AppData\\Local\\Temp\\ipykernel_26864\\3695030024.py:5: UserWarning: The argument 'infer_datetime_format' is deprecated and will be removed in a future version. A strict version of it is now the default, see https://pandas.pydata.org/pdeps/0004-consistent-to-datetime-parsing.html. You can safely remove this argument.\n",
      "  bear_data_df['date'] = pd.to_datetime(bear_data_df['date'], errors='coerce', infer_datetime_format=True)\n"
     ]
    }
   ],
   "source": [
    "# Replace specific text patters in the 'Date' column (e.g. 'Reported ')\n",
    "bear_data_df['date'] = bear_data_df['date'].str.replace('Reported ', '', regex=False)\n",
    "\n",
    "# Convert 'Date' to datetime\n",
    "bear_data_df['date'] = pd.to_datetime(bear_data_df['date'], errors='coerce', infer_datetime_format=True)\n",
    "\n",
    "# Function to extract year, month, and day from datetime\n",
    "def extract_date_components(date):\n",
    "    if pd.notnull(date):\n",
    "        return pd.Series([date.year, date.month, date.day])\n",
    "    else:\n",
    "        return pd.Series([np.nan, np.nan, np.nan])\n",
    "\n",
    "# Apply the function to the 'Date' column and create new columns for year, month, and day\n",
    "bear_data_df[['year', 'month', 'day']] = bear_data_df['date'].apply(extract_date_components)\n",
    "\n",
    "# Display the cleaned DataFrame with Year, Month, and Day\n",
    "print(bear_data_df[['date', 'year', 'month', 'day']].head())\n",
    "\n",
    "# Verify the distinct values in the new columns\n",
    "distinct_years = bear_data_df['year'].unique()\n",
    "distinct_months = bear_data_df['month'].unique()\n",
    "distinct_days = bear_data_df['day'].unique()\n",
    "\n",
    "print(f\"Distinct Years: {distinct_years}\")\n",
    "print(f\"Distinct Months: {distinct_months}\")\n",
    "print(f\"Distinct Days: {distinct_days}\")\n",
    "\n",
    "date_string = bear_data_df['month'].astype(str) + '-' + bear_data_df['day'].astype(str) + '-' + bear_data_df['year'].astype(str)\n",
    "\n",
    "date_string = date_string.replace('nan-nan-nan', np.nan)\n",
    "date_string = date_string.str.replace('.0', '')\n",
    "\n",
    "print(date_string.unique)"
   ]
  },
  {
   "cell_type": "code",
   "execution_count": 10,
   "metadata": {},
   "outputs": [
    {
     "data": {
      "text/plain": [
       "<DatetimeArray>\n",
       "['2018-08-23 00:00:00', '2018-07-03 00:00:00', '1999-07-09 00:00:00',\n",
       " '1990-12-08 00:00:00', '1983-11-29 00:00:00', '1975-01-05 00:00:00',\n",
       " '1968-11-17 00:00:00', '2019-09-01 00:00:00', '2017-06-19 00:00:00',\n",
       " '2017-06-18 00:00:00',\n",
       " ...\n",
       " '1955-09-19 00:00:00', '1942-08-23 00:00:00', '1929-09-12 00:00:00',\n",
       " '1922-06-12 00:00:00', '1916-09-08 00:00:00', '1892-09-02 00:00:00',\n",
       " '1863-08-30 00:00:00', '1853-12-19 00:00:00', '1854-10-27 00:00:00',\n",
       " '1837-10-17 00:00:00']\n",
       "Length: 130, dtype: datetime64[ns]"
      ]
     },
     "execution_count": 10,
     "metadata": {},
     "output_type": "execute_result"
    }
   ],
   "source": [
    "# Convert date to datetime\n",
    "bear_data_df['date'] = pd.to_datetime(date_string, errors='coerce', format='%m-%d-%Y')\n",
    "bear_data_df['date'].unique()"
   ]
  },
  {
   "cell_type": "markdown",
   "metadata": {},
   "source": [
    "#### Clean age"
   ]
  },
  {
   "cell_type": "code",
   "execution_count": 11,
   "metadata": {},
   "outputs": [
    {
     "data": {
      "text/plain": [
       "array([' 33', ' 31', ' 64', ' 28', ' 46', ' 18', ' 19', ' 62', ' 27',\n",
       "       ' 16', ' 22', ' 36', ' 61', ' 72', ' 74', ' 70', ' 11', ' 6',\n",
       "       ' 30', ' 69', ' 71', ' 77', ' 5 months', ' 93', ' 24', ' 50',\n",
       "       ' 56', ' 37', ' 53', ' 4', ' 20', ' 32', ' 48', ' 12', ' 55',\n",
       "       ' 26', ' 44', ' 10', ' 15', ' 51', ' 7', ' 3', ' 5', ' 52',\n",
       "       '\\xa0?', ' 82', '\" 8', ' 10 months', ' 38', ' 63', ' 42', ' 54',\n",
       "       ' 49', ' 59', ' 57', ' 60', ' 58', ' 35', ' 41', ' 65', ' 40',\n",
       "       ' 45', ' 29', ' 25', ' 23', nan, ' 43', ' 68'], dtype=object)"
      ]
     },
     "execution_count": 11,
     "metadata": {},
     "output_type": "execute_result"
    }
   ],
   "source": [
    "# Verify the original values\n",
    "bear_data_df.age.unique()"
   ]
  },
  {
   "cell_type": "code",
   "execution_count": 12,
   "metadata": {},
   "outputs": [
    {
     "name": "stdout",
     "output_type": "stream",
     "text": [
      "    age\n",
      "0  33.0\n",
      "1  31.0\n",
      "2  64.0\n",
      "3  28.0\n",
      "4  46.0\n"
     ]
    },
    {
     "data": {
      "text/plain": [
       "array([33., 31., 64., 28., 46., 18., 19., 62., 27., 16., 22., 36., 61.,\n",
       "       72., 74., 70., 11.,  6., 30., 69., 71., 77., nan, 93., 24., 50.,\n",
       "       56., 37., 53.,  4., 20., 32., 48., 12., 55., 26., 44., 10., 15.,\n",
       "       51.,  7.,  3.,  5., 52., 82., 38., 63., 42., 54., 49., 59., 57.,\n",
       "       60., 58., 35., 41., 65., 40., 45., 29., 25., 23., 43., 68.])"
      ]
     },
     "execution_count": 12,
     "metadata": {},
     "output_type": "execute_result"
    }
   ],
   "source": [
    "# Function to clean and convert age values\n",
    "def clean_age(value):\n",
    "    # Remove leading/trailing whitespace\n",
    "    value = str(value).strip()\n",
    "    \n",
    "    # Handle special cases\n",
    "    if 'month' in value or '?' in value or 'unknown' in value.lower():\n",
    "        return np.nan\n",
    "    \n",
    "    # Convert to numeric, setting errors='coerce' to handle non-numeric values\n",
    "    try:\n",
    "        # Convert value to numeric, forcing errors to NaN\n",
    "        return pd.to_numeric(value, errors='coerce')\n",
    "    except Exception as e:\n",
    "        print(f\"Error processing age: {value} - {e}\")\n",
    "        return np.nan\n",
    "\n",
    "# Apply the function to the 'Age' column\n",
    "bear_data_df['age'] = bear_data_df['age'].apply(clean_age)\n",
    "\n",
    "# Display the cleaned DataFrame with the 'Age' column\n",
    "print(bear_data_df[['age']].head())\n",
    "\n",
    "# Verify the distinct values in the 'Age' column\n",
    "bear_data_df['age'].unique()"
   ]
  },
  {
   "cell_type": "markdown",
   "metadata": {},
   "source": [
    "#### Clean gender"
   ]
  },
  {
   "cell_type": "code",
   "execution_count": 13,
   "metadata": {},
   "outputs": [
    {
     "data": {
      "text/plain": [
       "array([' male', ' female', nan], dtype=object)"
      ]
     },
     "execution_count": 13,
     "metadata": {},
     "output_type": "execute_result"
    }
   ],
   "source": [
    "# Verify the original values\n",
    "bear_data_df['gender'].unique()"
   ]
  },
  {
   "cell_type": "code",
   "execution_count": 14,
   "metadata": {},
   "outputs": [
    {
     "data": {
      "text/plain": [
       "array(['M', 'F', 'U'], dtype=object)"
      ]
     },
     "execution_count": 14,
     "metadata": {},
     "output_type": "execute_result"
    }
   ],
   "source": [
    "# Define mapping for gender\n",
    "gender_mapping = {\n",
    "    ' male': 'M',\n",
    "    ' female': 'F',\n",
    "    '': 'U',  \n",
    "    np.nan: 'U'  # Handles NaN values\n",
    "}\n",
    "# Replace values in the 'Gender' column using the mapping\n",
    "bear_data_df['gender'] = bear_data_df['gender'].replace(gender_mapping)\n",
    "\n",
    "# Rename 'Gender' to 'Sex'\n",
    "bear_data_df.rename(columns={'gender': 'sex'}, inplace=True)\n",
    "\n",
    "# Verify the updated values\n",
    "bear_data_df['sex'].unique()"
   ]
  },
  {
   "cell_type": "markdown",
   "metadata": {},
   "source": [
    "### Limit years to match years in Shark Attacks"
   ]
  },
  {
   "cell_type": "code",
   "execution_count": 15,
   "metadata": {},
   "outputs": [
    {
     "data": {
      "text/plain": [
       "array([2019., 2018., 2017., 2016., 2015., 2014., 2013., 2012., 2011.,\n",
       "       2010., 2009., 2008., 2007., 2006., 2005., 2003., 2002., 2001.,\n",
       "       2000., 1999., 1998., 1997., 1996., 1995., 1994., 1993., 1992.,\n",
       "       1991., 1990., 1988., 1987., 1986., 1985., 1984., 1983., 1980.,\n",
       "       1979., 1978., 1977., 1976., 1975., 1974., 1973., 1972., 1971.,\n",
       "       1970., 1968., 1967., 1965., 1964., 1963., 1959., 1958., 1956.,\n",
       "       1955., 1952., 1948., 1943., 1942., 1929., 1922., 1916., 1906.,\n",
       "       1901.])"
      ]
     },
     "execution_count": 15,
     "metadata": {},
     "output_type": "execute_result"
    }
   ],
   "source": [
    "# Limit the years in bear data from 1900 to 2019\n",
    "bear_data_df = bear_data_df[(bear_data_df['year'] >= 1900) & (bear_data_df['year'] <= 2019)]\n",
    "bear_data_df['year'].sort_values(ascending=False).unique()\n"
   ]
  },
  {
   "cell_type": "markdown",
   "metadata": {},
   "source": [
    "### Display a map of Bear Attacks"
   ]
  },
  {
   "cell_type": "code",
   "execution_count": 16,
   "metadata": {},
   "outputs": [
    {
     "data": {},
     "metadata": {},
     "output_type": "display_data"
    },
    {
     "data": {
      "application/vnd.holoviews_exec.v0+json": "",
      "text/html": [
       "<div id='p1011'>\n",
       "  <div id=\"af2015ed-61c0-41ba-95fc-3766a5aa0551\" data-root-id=\"p1011\" style=\"display: contents;\"></div>\n",
       "</div>\n",
       "<script type=\"application/javascript\">(function(root) {\n",
       "  var docs_json = {\"bfdc1689-0810-4726-8ffa-5a45b3388ed3\":{\"version\":\"3.4.0\",\"title\":\"Bokeh Application\",\"roots\":[{\"type\":\"object\",\"name\":\"Row\",\"id\":\"p1011\",\"attributes\":{\"name\":\"Row01689\",\"tags\":[\"embedded\"],\"stylesheets\":[\"\\n:host(.pn-loading):before, .pn-loading:before {\\n  background-color: #c3c3c3;\\n  mask-size: auto calc(min(50%, 400px));\\n  -webkit-mask-size: auto calc(min(50%, 400px));\\n}\",{\"type\":\"object\",\"name\":\"ImportedStyleSheet\",\"id\":\"p1014\",\"attributes\":{\"url\":\"https://cdn.holoviz.org/panel/1.4.2/dist/css/loading.css\"}},{\"type\":\"object\",\"name\":\"ImportedStyleSheet\",\"id\":\"p1103\",\"attributes\":{\"url\":\"https://cdn.holoviz.org/panel/1.4.2/dist/css/listpanel.css\"}},{\"type\":\"object\",\"name\":\"ImportedStyleSheet\",\"id\":\"p1012\",\"attributes\":{\"url\":\"https://cdn.holoviz.org/panel/1.4.2/dist/bundled/theme/default.css\"}},{\"type\":\"object\",\"name\":\"ImportedStyleSheet\",\"id\":\"p1013\",\"attributes\":{\"url\":\"https://cdn.holoviz.org/panel/1.4.2/dist/bundled/theme/native.css\"}}],\"margin\":0,\"sizing_mode\":\"stretch_width\",\"align\":\"start\",\"children\":[{\"type\":\"object\",\"name\":\"Spacer\",\"id\":\"p1015\",\"attributes\":{\"name\":\"HSpacer01695\",\"stylesheets\":[\"\\n:host(.pn-loading):before, .pn-loading:before {\\n  background-color: #c3c3c3;\\n  mask-size: auto calc(min(50%, 400px));\\n  -webkit-mask-size: auto calc(min(50%, 400px));\\n}\",{\"id\":\"p1014\"},{\"id\":\"p1012\"},{\"id\":\"p1013\"}],\"margin\":0,\"sizing_mode\":\"stretch_width\",\"align\":\"start\"}},{\"type\":\"object\",\"name\":\"Figure\",\"id\":\"p1044\",\"attributes\":{\"width\":null,\"height\":null,\"margin\":[5,10],\"sizing_mode\":\"fixed\",\"align\":\"start\",\"x_range\":{\"type\":\"object\",\"name\":\"Range1d\",\"id\":\"p1025\",\"attributes\":{\"tags\":[[[\"Longitude\",\"Longitude\",null]],[]],\"start\":-18911140.458816327,\"end\":-6674160.8338443935,\"reset_start\":-18911140.458816327,\"reset_end\":-6674160.8338443935,\"min_interval\":5}},\"y_range\":{\"type\":\"object\",\"name\":\"Range1d\",\"id\":\"p1026\",\"attributes\":{\"tags\":[[[\"Latitude\",\"Latitude\",null]],{\"type\":\"map\",\"entries\":[[\"invert_yaxis\",false],[\"autorange\",false]]}],\"start\":3353199.157623755,\"end\":11679361.404406263,\"reset_start\":3353199.157623755,\"reset_end\":11679361.404406263,\"min_interval\":5}},\"x_scale\":{\"type\":\"object\",\"name\":\"LinearScale\",\"id\":\"p1054\"},\"y_scale\":{\"type\":\"object\",\"name\":\"LinearScale\",\"id\":\"p1055\"},\"title\":{\"type\":\"object\",\"name\":\"Title\",\"id\":\"p1047\",\"attributes\":{\"text_color\":\"black\",\"text_font_size\":\"12pt\"}},\"renderers\":[{\"type\":\"object\",\"name\":\"TileRenderer\",\"id\":\"p1077\",\"attributes\":{\"level\":\"underlay\",\"tile_source\":{\"type\":\"object\",\"name\":\"WMTSTileSource\",\"id\":\"p1073\",\"attributes\":{\"url\":\"https://c.tile.openstreetmap.org/{Z}/{X}/{Y}.png\",\"attribution\":\"&copy; <a href=\\\"https://www.openstreetmap.org/copyright\\\">OpenStreetMap</a> contributors\"}}}},{\"type\":\"object\",\"name\":\"GlyphRenderer\",\"id\":\"p1093\",\"attributes\":{\"name\":\"color\",\"data_source\":{\"type\":\"object\",\"name\":\"ColumnDataSource\",\"id\":\"p1082\",\"attributes\":{\"selected\":{\"type\":\"object\",\"name\":\"Selection\",\"id\":\"p1083\",\"attributes\":{\"indices\":[],\"line_indices\":[]}},\"selection_policy\":{\"type\":\"object\",\"name\":\"UnionRenderers\",\"id\":\"p1084\"},\"data\":{\"type\":\"map\",\"entries\":[[\"longitude\",{\"type\":\"ndarray\",\"array\":{\"type\":\"bytes\",\"data\":\"n+BuDm/PYcGKexXdPu1jwSUt9w1zjWPBlUh/lUFOccE9kd4JTv5jwc5bOGVmZGzBPZHeCU7+Y8EYzpqoB+Ngwc9FSp/uB3DB3D6Nrcy+b8HMKvbyliJqwRxX3dSDlF/B11ZA+yWlZ8GwlNyAhvFuwYcu/J1dWGfBSZQ0g4HcZsF0SZqkM9Fgwe3Ou4sormjBX+sRuRKfZ8HiZ+HNfZ9hwctYoDvHcGHBPY7k2G2RZMEANzSnLj5nwT5usXqRslzBOETa5TUNasF8InupXK5fwR860lI5XWbB9cI1SfVIaMF3BLvhCl5ewX79GTgju2HBYaQ5MLmna8FhpDkwuadrwZCkWluYamrB0LEQZn7GacGt2QOWMGNmwUySZ7x55m7BM+5lu2Q0YcG6iH5h3KpgwbqIfmHcqmDBIMFBYXCDaME4RNrlNQ1qwVY63jF1eVzBjbCPGqQVZsHM9A+pU6JmwTVs6Tv9L2nBNWzpO/0vacG5k12/AsxqwbqIfmHcqmDBuoh+YdyqYMG6iH5h3KpgwTF/eXrkwGnBdJVaKmppZsFsp+xKU3RjwWg3sY6wVmnBz4PIFnzlY8G30b38nmBcwU7hbZ53XW/BANPfLk/paMEcYrWGORJpwT30mAKU0W/BTmy8LlWPYsH0nIeqeeBewZbzFRj9smDBYPVf42DkYMFg9V/jYORgwWD1X+Ng5GDBLTY0IZilasHAKwjuc/BrwcArCO5z8GvBRp2MvLeFbMHaypYZ5yFgwSf+aPTAwW/BN8g6+WEZaMFF4nOeHoFnwV23Jwp9LWzB3wwkTOHtasGAqmu3onJowcTEZmvsYWfBzZqybA6db8FF4nOeHoFnwUXic54egWfB+zxBr3yRZ8F+jVXwI0JnwSBnQkZPV2jBIGdCRk9XaMH55CT4SB1swXZh/+3U3WnBEMvzIM2bb8EQy/MgzZtvwed7PFbbfmjBxNsdzUNycMHE2x3NQ3JwwSJD8wxfBWjBq5Myb0+ba8EKLDRB2kdwwQoDnZKQDXDBapdmeB0QasGQwqGT7T5owWgQ0lVEJWjBkH4gsOAOcMF28r3+rChwwfa2JEWJaW3B6DKSr/GkaMHoMpKv8aRowT30mAKU0W/BPfSYApTRb8FoENJVRCVowRxitYY5EmnB1hIO8DI7ccHUEecyvZZswWgQ0lVEJWjBaBDSVUQlaMFF4nOeHoFnwUXic54egWfB+zxBr3yRZ8FoENJVRCVowT4kzPnPiWjBaBDSVUQlaMFoENJVRCVowXq59o+uMWjB8HawzNsraMFoENJVRCVowUEH0IvV82jBS8Vy1ytHccF93GgQ2olowUXic54egWfBVLXZFqKoacFoENJVRCVowWgQ0lVEJWjBIkPzDF8FaMHP1PZ5Kd1nwbXFjpcJ4m/BReJznh6BZ8EcYrWGORJpwWDyOj1xiGfBReJznh6BZ8E=\"},\"shape\":[136],\"dtype\":\"float64\",\"order\":\"little\"}],[\"latitude\",{\"type\":\"ndarray\",\"array\":{\"type\":\"bytes\",\"data\":\"USWCSdIeY0F+wU9moIZgQS/dNJGtRGFBuJrnWwX0ZEEXcCCQzQNfQV07XQXPIWRBF3AgkM0DX0ECPK8fxiFWQUQP3DP+OmJBvXqoPFRyYEHx0ZjOOVVcQeNnvG1BMlNBG6eMs6JiXUFrhJF+G9thQa2QQvBi4E5Bq0YUdIR7UUEei6aa489XQW/qFEhp5VhBJPxmRa+hUkExGx9vd1FQQe4o0hDML1hBsiOd7FOvWEEZx4rt3+NgQbgFpOTDfVdB9ySot5wLX0HnlWJF+IhTQTUTQJpaZFBBFHueIcoaYUETlaDbOZlWQYJgo2lMMlBBTksI2JLXXUFOSwjYktddQfolsKWEuVlBw6ETyqR2WUEKN8D3jblRQWDp0TtF8mBB1MTJqJf6V0G0eSjz2uVVQbR5KPPa5VVBweLY+R1rXEH3JKi3nAtfQe7ujzIOhFdBthFMHwDlWkEkx7IT4OVaQSuDJwYZT19BK4MnBhlPX0EvJSCI5v9bQbR5KPPa5VVBtHko89rlVUG0eSjz2uVVQRI35mHBD1ZB7EBrLdrDUkGuViiDp8dXQR7wv4HPv1hB3QQk6b9gVkHS8l4YZPNbQdBmZOe9P2JBRYHJpzOpWkFi39k4+4xaQWao9ehMjGBBd2zIB7hiVkFpGC7aAVBUQa/Ph95PXFNBzDVj/gDxUUHMNWP+APFRQcw1Y/4A8VFB1LrIl7NKYkH6EzQsTsthQfoTNCxOy2FBZxjqt4QgXkG47IOiJ3dTQaeqGKYQmGBBwkUVHz4jV0Fbte7CIW5VQb/zLQnBF2BB7mWCKOh3YkH1M5+vXzFZQRKi6qmWmlRBOlvGuTi0YUFbte7CIW5VQVu17sIhblVBwrM0lFGYVUEy27LQV99UQTO/J4MFzVlBM78ngwXNWUERu2M+jeRgQd7riaSfZFtBErM9jMVxZEESsz2MxXFkQUzRCjyTUFlBPx3LP5C6XkE/Hcs/kLpeQUaa5o0GrlZBXMinkQjEXEEL1zQkbU1eQa92Hu/gIGBB3/tBWyJKW0GCEBvGVj1YQWidUSW/vVdBcS0PwRFCYEGvAN1gIKxjQS3sNedadWBB+UQESikAWUH5RARKKQBZQWao9ehMjGBBZqj16EyMYEFonVElv71XQWLf2Tj7jFpBdtHFu9kfXEF/bRrmHgZdQWidUSW/vVdBaJ1RJb+9V0Fbte7CIW5VQVu17sIhblVBwrM0lFGYVUFonVElv71XQUPyyQRTYVlBaJ1RJb+9V0FonVElv71XQSvY1/upQFhB30CB6I4CWEFonVElv71XQbrUwvJPdllBoRwP1vVEXEHvyGaP6mBZQVu17sIhblVBTZsxu38GXUFonVElv71XQWidUSW/vVdBRprmjQauVkEj91/aevlWQRSUQYE5bGJBW7XuwiFuVUFi39k4+4xaQS6BbE5bn1VBW7XuwiFuVUE=\"},\"shape\":[136],\"dtype\":\"float64\",\"order\":\"little\"}],[\"date\",[\"2018-08-23\",\"2018-07-03\",\"1999-07-09\",\"1990-12-08\",\"1983-11-29\",\"1975-01-05\",\"1968-11-17\",\"2019-09-01\",\"2017-06-19\",\"2017-06-18\",\"2015-05-10\",\"2014-09-21\",\"2014-05-07\",\"2013-06-06\",\"2011-07-25\",\"2009-08-07\",\"2008-05-30\",\"2007-07-20\",\"2007-06-17\",\"2006-04-13\",\"2005-09-06\",\"2005-08-26\",\"2005-06-14\",\"2002-09-29\",\"2002-09-01\",\"2002-08-19\",\"2001-08-18\",\"2001-06-03\",\"2000-07-02\",\"2000-05-21\",\"1997-08-14\",\"1997-08-14\",\"1996-06-14\",\"1994-09-16\",\"1993-08-10\",\"1992-07-08\",\"1992-06-14\",\"1991-10-11\",\"1991-10-11\",\"1991-05-26\",\"1985-05-29\",\"1983-07-06\",\"1983-05-27\",\"1983-05-21\",\"1980-08-14\",\"1980-08-14\",\"1980-07-18\",\"1978-05-13\",\"1978-05-13\",\"1978-05-13\",\"1974-05-16\",\"1971-07-25\",\"1968-10-01\",\"1967-08-08\",\"1965-07-02\",\"1964-09-17\",\"1963-08-16\",\"1959-09-06\",\"1958-08-12\",\"1952-11-19\",\"1948-07-07\",\"1943-11-23\",\"1906-11-24\",\"1901-05-19\",\"1901-05-19\",\"1901-05-19\",\"2019-08-15\",\"2018-11-26\",\"2018-11-26\",\"2018-10-01\",\"2018-09-14\",\"2018-06-19\",\"2016-06-29\",\"2015-08-07\",\"2014-10-14\",\"2014-09-17\",\"2014-09-07\",\"2014-09-04\",\"2012-08-24\",\"2011-08-24\",\"2011-07-06\",\"2010-07-28\",\"2010-06-17\",\"2008-10-01\",\"2007-11-25\",\"2006-04-28\",\"2005-09-20\",\"2005-06-23\",\"2005-06-23\",\"2005-06-05\",\"2003-10-05\",\"2003-10-05\",\"2001-10-30\",\"2000-07-14\",\"1999-11-01\",\"1999-05-25\",\"1998-10-24\",\"1998-08-22\",\"1998-05-17\",\"1998-02-08\",\"1996-08-23\",\"1996-07-05\",\"1995-10-09\",\"1995-10-09\",\"1995-07-01\",\"1995-07-01\",\"1992-10-03\",\"1992-09-15\",\"1992-07-10\",\"1988-11-04\",\"1987-07-23\",\"1987-04-25\",\"1986-10-05\",\"1984-07-30\",\"1983-06-25\",\"1980-09-30\",\"1980-08-24\",\"1980-07-24\",\"1980-07-24\",\"1979-09-15\",\"1977-07-01\",\"1976-09-23\",\"1976-07-24\",\"1974-08-03\",\"1973-09-25\",\"1972-06-25\",\"1970-01-14\",\"1967-08-13\",\"1967-08-13\",\"1958-10-27\",\"1956-10-22\",\"1955-09-19\",\"1942-08-23\",\"1929-09-12\",\"1922-06-12\",\"1916-09-08\"]],[\"color\",[\"2018-08-23\",\"2018-07-03\",\"1999-07-09\",\"1990-12-08\",\"1983-11-29\",\"1975-01-05\",\"1968-11-17\",\"2019-09-01\",\"2017-06-19\",\"2017-06-18\",\"2015-05-10\",\"2014-09-21\",\"2014-05-07\",\"2013-06-06\",\"2011-07-25\",\"2009-08-07\",\"2008-05-30\",\"2007-07-20\",\"2007-06-17\",\"2006-04-13\",\"2005-09-06\",\"2005-08-26\",\"2005-06-14\",\"2002-09-29\",\"2002-09-01\",\"2002-08-19\",\"2001-08-18\",\"2001-06-03\",\"2000-07-02\",\"2000-05-21\",\"1997-08-14\",\"1997-08-14\",\"1996-06-14\",\"1994-09-16\",\"1993-08-10\",\"1992-07-08\",\"1992-06-14\",\"1991-10-11\",\"1991-10-11\",\"1991-05-26\",\"1985-05-29\",\"1983-07-06\",\"1983-05-27\",\"1983-05-21\",\"1980-08-14\",\"1980-08-14\",\"1980-07-18\",\"1978-05-13\",\"1978-05-13\",\"1978-05-13\",\"1974-05-16\",\"1971-07-25\",\"1968-10-01\",\"1967-08-08\",\"1965-07-02\",\"1964-09-17\",\"1963-08-16\",\"1959-09-06\",\"1958-08-12\",\"1952-11-19\",\"1948-07-07\",\"1943-11-23\",\"1906-11-24\",\"1901-05-19\",\"1901-05-19\",\"1901-05-19\",\"2019-08-15\",\"2018-11-26\",\"2018-11-26\",\"2018-10-01\",\"2018-09-14\",\"2018-06-19\",\"2016-06-29\",\"2015-08-07\",\"2014-10-14\",\"2014-09-17\",\"2014-09-07\",\"2014-09-04\",\"2012-08-24\",\"2011-08-24\",\"2011-07-06\",\"2010-07-28\",\"2010-06-17\",\"2008-10-01\",\"2007-11-25\",\"2006-04-28\",\"2005-09-20\",\"2005-06-23\",\"2005-06-23\",\"2005-06-05\",\"2003-10-05\",\"2003-10-05\",\"2001-10-30\",\"2000-07-14\",\"1999-11-01\",\"1999-05-25\",\"1998-10-24\",\"1998-08-22\",\"1998-05-17\",\"1998-02-08\",\"1996-08-23\",\"1996-07-05\",\"1995-10-09\",\"1995-10-09\",\"1995-07-01\",\"1995-07-01\",\"1992-10-03\",\"1992-09-15\",\"1992-07-10\",\"1988-11-04\",\"1987-07-23\",\"1987-04-25\",\"1986-10-05\",\"1984-07-30\",\"1983-06-25\",\"1980-09-30\",\"1980-08-24\",\"1980-07-24\",\"1980-07-24\",\"1979-09-15\",\"1977-07-01\",\"1976-09-23\",\"1976-07-24\",\"1974-08-03\",\"1973-09-25\",\"1972-06-25\",\"1970-01-14\",\"1967-08-13\",\"1967-08-13\",\"1958-10-27\",\"1956-10-22\",\"1955-09-19\",\"1942-08-23\",\"1929-09-12\",\"1922-06-12\",\"1916-09-08\"]]]}}},\"view\":{\"type\":\"object\",\"name\":\"CDSView\",\"id\":\"p1094\",\"attributes\":{\"filter\":{\"type\":\"object\",\"name\":\"AllIndices\",\"id\":\"p1095\"}}},\"glyph\":{\"type\":\"object\",\"name\":\"Scatter\",\"id\":\"p1088\",\"attributes\":{\"tags\":[\"apply_ranges\"],\"x\":{\"type\":\"field\",\"field\":\"longitude\"},\"y\":{\"type\":\"field\",\"field\":\"latitude\"},\"size\":{\"type\":\"value\",\"value\":5.477225575051661},\"line_color\":{\"type\":\"field\",\"field\":\"color\",\"transform\":{\"type\":\"object\",\"name\":\"CategoricalColorMapper\",\"id\":\"p1081\",\"attributes\":{\"palette\":[\"#1f77b3\",\"#ff7e0e\",\"#2ba02b\",\"#d62628\",\"#9367bc\",\"#8c564b\",\"#e277c1\",\"#7e7e7e\",\"#bcbc21\",\"#16bdcf\",\"#3a0182\",\"#004201\",\"#0fffa8\",\"#5d003f\",\"#bcbcff\",\"#d8afa1\",\"#b80080\",\"#004d52\",\"#6b6400\",\"#7c0100\",\"#6026ff\",\"#ffff9a\",\"#564964\",\"#8cb893\",\"#93fbff\",\"#018267\",\"#90ff00\",\"#8200a0\",\"#ac8944\",\"#5b3400\",\"#ffbff2\",\"#ff6e75\",\"#798cff\",\"#dd00ff\",\"#505646\",\"#004489\",\"#ffbf60\",\"#ff018c\",\"#bdc8cf\",\"#af97b5\",\"#b65600\",\"#017000\",\"#cd87ff\",\"#1cd646\",\"#bfebc3\",\"#7997b5\",\"#a56089\",\"#6e8956\",\"#bc7c75\",\"#8a2844\",\"#00acff\",\"#8ed4ff\",\"#4b6d77\",\"#00d4b1\",\"#9300f2\",\"#8a9500\",\"#5d5b9e\",\"#fddfba\",\"#00939e\",\"#ffdb00\",\"#00aa79\",\"#520067\",\"#000091\",\"#0a5d3d\",\"#a5e275\",\"#623b41\",\"#c6c689\",\"#ff9eb5\",\"#cd4f6b\",\"#ff07d6\",\"#8a3a05\",\"#7e3d70\",\"#ff4901\",\"#602ba5\",\"#1c00ff\",\"#e6dfff\",\"#aa3baf\",\"#d89c00\",\"#a3a39e\",\"#3f69ff\",\"#46490c\",\"#7b6985\",\"#6b978c\",\"#ff9a75\",\"#835bff\",\"#7c6b46\",\"#80b654\",\"#bc0049\",\"#fd93ff\",\"#5d0018\",\"#89d1d1\",\"#9c8cd3\",\"#da6d42\",\"#8a5700\",\"#3b5069\",\"#4b6b3b\",\"#edcfd8\",\"#cfedff\",\"#aa1500\",\"#dfff4f\",\"#ff2a56\",\"#d1499e\",\"#707cb8\",\"#598000\",\"#00e4fd\",\"#774b95\",\"#67d48c\",\"#3d3a72\",\"#ac413f\",\"#d6a166\",\"#c169cd\",\"#69595d\",\"#87aced\",\"#a0a569\",\"#d1aae6\",\"#870062\",\"#00fddb\",\"#672818\",\"#b342ff\",\"#0e59c4\",\"#168742\",\"#90d300\"],\"factors\":[\"2018-08-23\",\"2018-07-03\",\"1999-07-09\",\"1990-12-08\",\"1983-11-29\",\"1975-01-05\",\"1968-11-17\",\"2019-09-01\",\"2017-06-19\",\"2017-06-18\",\"2015-05-10\",\"2014-09-21\",\"2014-05-07\",\"2013-06-06\",\"2011-07-25\",\"2009-08-07\",\"2008-05-30\",\"2007-07-20\",\"2007-06-17\",\"2006-04-13\",\"2005-09-06\",\"2005-08-26\",\"2005-06-14\",\"2002-09-29\",\"2002-09-01\",\"2002-08-19\",\"2001-08-18\",\"2001-06-03\",\"2000-07-02\",\"2000-05-21\",\"1997-08-14\",\"1996-06-14\",\"1994-09-16\",\"1993-08-10\",\"1992-07-08\",\"1992-06-14\",\"1991-10-11\",\"1991-05-26\",\"1985-05-29\",\"1983-07-06\",\"1983-05-27\",\"1983-05-21\",\"1980-08-14\",\"1980-07-18\",\"1978-05-13\",\"1974-05-16\",\"1971-07-25\",\"1968-10-01\",\"1967-08-08\",\"1965-07-02\",\"1964-09-17\",\"1963-08-16\",\"1959-09-06\",\"1958-08-12\",\"1952-11-19\",\"1948-07-07\",\"1943-11-23\",\"1906-11-24\",\"1901-05-19\",\"2019-08-15\",\"2018-11-26\",\"2018-10-01\",\"2018-09-14\",\"2018-06-19\",\"2016-06-29\",\"2015-08-07\",\"2014-10-14\",\"2014-09-17\",\"2014-09-07\",\"2014-09-04\",\"2012-08-24\",\"2011-08-24\",\"2011-07-06\",\"2010-07-28\",\"2010-06-17\",\"2008-10-01\",\"2007-11-25\",\"2006-04-28\",\"2005-09-20\",\"2005-06-23\",\"2005-06-05\",\"2003-10-05\",\"2001-10-30\",\"2000-07-14\",\"1999-11-01\",\"1999-05-25\",\"1998-10-24\",\"1998-08-22\",\"1998-05-17\",\"1998-02-08\",\"1996-08-23\",\"1996-07-05\",\"1995-10-09\",\"1995-07-01\",\"1992-10-03\",\"1992-09-15\",\"1992-07-10\",\"1988-11-04\",\"1987-07-23\",\"1987-04-25\",\"1986-10-05\",\"1984-07-30\",\"1983-06-25\",\"1980-09-30\",\"1980-08-24\",\"1980-07-24\",\"1979-09-15\",\"1977-07-01\",\"1976-09-23\",\"1976-07-24\",\"1974-08-03\",\"1973-09-25\",\"1972-06-25\",\"1970-01-14\",\"1967-08-13\",\"1958-10-27\",\"1956-10-22\",\"1955-09-19\",\"1942-08-23\",\"1929-09-12\",\"1922-06-12\",\"1916-09-08\"]}}},\"fill_color\":{\"type\":\"field\",\"field\":\"color\",\"transform\":{\"id\":\"p1081\"}},\"hatch_color\":{\"type\":\"field\",\"field\":\"color\",\"transform\":{\"id\":\"p1081\"}}}},\"selection_glyph\":{\"type\":\"object\",\"name\":\"Scatter\",\"id\":\"p1090\",\"attributes\":{\"tags\":[\"apply_ranges\"],\"x\":{\"type\":\"field\",\"field\":\"longitude\"},\"y\":{\"type\":\"field\",\"field\":\"latitude\"},\"size\":{\"type\":\"value\",\"value\":5.477225575051661},\"line_color\":{\"type\":\"field\",\"field\":\"color\",\"transform\":{\"id\":\"p1081\"}},\"fill_color\":{\"type\":\"field\",\"field\":\"color\",\"transform\":{\"id\":\"p1081\"}},\"hatch_color\":{\"type\":\"field\",\"field\":\"color\",\"transform\":{\"id\":\"p1081\"}}}},\"nonselection_glyph\":{\"type\":\"object\",\"name\":\"Scatter\",\"id\":\"p1089\",\"attributes\":{\"tags\":[\"apply_ranges\"],\"x\":{\"type\":\"field\",\"field\":\"longitude\"},\"y\":{\"type\":\"field\",\"field\":\"latitude\"},\"size\":{\"type\":\"value\",\"value\":5.477225575051661},\"line_color\":{\"type\":\"field\",\"field\":\"color\",\"transform\":{\"id\":\"p1081\"}},\"line_alpha\":{\"type\":\"value\",\"value\":0.1},\"fill_color\":{\"type\":\"field\",\"field\":\"color\",\"transform\":{\"id\":\"p1081\"}},\"fill_alpha\":{\"type\":\"value\",\"value\":0.1},\"hatch_color\":{\"type\":\"field\",\"field\":\"color\",\"transform\":{\"id\":\"p1081\"}},\"hatch_alpha\":{\"type\":\"value\",\"value\":0.1}}},\"hover_glyph\":{\"type\":\"object\",\"name\":\"Scatter\",\"id\":\"p1091\",\"attributes\":{\"tags\":[\"apply_ranges\"],\"x\":{\"type\":\"field\",\"field\":\"longitude\"},\"y\":{\"type\":\"field\",\"field\":\"latitude\"},\"size\":{\"type\":\"value\",\"value\":5.477225575051661},\"line_color\":{\"type\":\"field\",\"field\":\"color\",\"transform\":{\"id\":\"p1081\"}},\"fill_color\":{\"type\":\"field\",\"field\":\"color\",\"transform\":{\"id\":\"p1081\"}},\"hatch_color\":{\"type\":\"field\",\"field\":\"color\",\"transform\":{\"id\":\"p1081\"}}}},\"muted_glyph\":{\"type\":\"object\",\"name\":\"Scatter\",\"id\":\"p1092\",\"attributes\":{\"tags\":[\"apply_ranges\"],\"x\":{\"type\":\"field\",\"field\":\"longitude\"},\"y\":{\"type\":\"field\",\"field\":\"latitude\"},\"size\":{\"type\":\"value\",\"value\":5.477225575051661},\"line_color\":{\"type\":\"field\",\"field\":\"color\",\"transform\":{\"id\":\"p1081\"}},\"line_alpha\":{\"type\":\"value\",\"value\":0.2},\"fill_color\":{\"type\":\"field\",\"field\":\"color\",\"transform\":{\"id\":\"p1081\"}},\"fill_alpha\":{\"type\":\"value\",\"value\":0.2},\"hatch_color\":{\"type\":\"field\",\"field\":\"color\",\"transform\":{\"id\":\"p1081\"}},\"hatch_alpha\":{\"type\":\"value\",\"value\":0.2}}}}}],\"toolbar\":{\"type\":\"object\",\"name\":\"Toolbar\",\"id\":\"p1053\",\"attributes\":{\"tools\":[{\"type\":\"object\",\"name\":\"WheelZoomTool\",\"id\":\"p1029\",\"attributes\":{\"renderers\":\"auto\",\"zoom_on_axis\":false}},{\"type\":\"object\",\"name\":\"BoxZoomTool\",\"id\":\"p1030\",\"attributes\":{\"overlay\":{\"type\":\"object\",\"name\":\"BoxAnnotation\",\"id\":\"p1006\",\"attributes\":{\"syncable\":false,\"level\":\"overlay\",\"visible\":false,\"left\":{\"type\":\"number\",\"value\":\"nan\"},\"right\":{\"type\":\"number\",\"value\":\"nan\"},\"top\":{\"type\":\"number\",\"value\":\"nan\"},\"bottom\":{\"type\":\"number\",\"value\":\"nan\"},\"left_units\":\"canvas\",\"right_units\":\"canvas\",\"top_units\":\"canvas\",\"bottom_units\":\"canvas\",\"line_color\":\"black\",\"line_alpha\":1.0,\"line_width\":2,\"line_dash\":[4,4],\"fill_color\":\"lightgrey\",\"fill_alpha\":0.5}},\"match_aspect\":true}},{\"type\":\"object\",\"name\":\"HoverTool\",\"id\":\"p1043\",\"attributes\":{\"tags\":[\"hv_created\"],\"renderers\":[{\"id\":\"p1093\"}],\"tooltips\":[[\"longitude\",\"$x{custom}\"],[\"latitude\",\"$y{custom}\"],[\"date\",\"@{date}\"]],\"formatters\":{\"type\":\"map\",\"entries\":[[\"$x\",{\"type\":\"object\",\"name\":\"CustomJSHover\",\"id\":\"p1098\",\"attributes\":{\"code\":\"\\n        const projections = Bokeh.require(\\\"core/util/projections\\\");\\n        const {snap_x, snap_y} = special_vars\\n        const coords = projections.wgs84_mercator.invert(snap_x, snap_y)\\n        return \\\"\\\" + (coords[0]).toFixed(4)\\n    \"}}],[\"$y\",{\"type\":\"object\",\"name\":\"CustomJSHover\",\"id\":\"p1099\",\"attributes\":{\"code\":\"\\n        const projections = Bokeh.require(\\\"core/util/projections\\\");\\n        const {snap_x, snap_y} = special_vars\\n        const coords = projections.wgs84_mercator.invert(snap_x, snap_y)\\n        return \\\"\\\" + (coords[1]).toFixed(4)\\n    \"}}]]}}},{\"type\":\"object\",\"name\":\"PanTool\",\"id\":\"p1067\"},{\"type\":\"object\",\"name\":\"ResetTool\",\"id\":\"p1068\"}],\"active_drag\":{\"id\":\"p1067\"}}},\"left\":[{\"type\":\"object\",\"name\":\"LinearAxis\",\"id\":\"p1061\",\"attributes\":{\"ticker\":{\"type\":\"object\",\"name\":\"MercatorTicker\",\"id\":\"p1071\",\"attributes\":{\"mantissas\":[1,2,5],\"dimension\":\"lat\"}},\"formatter\":{\"type\":\"object\",\"name\":\"MercatorTickFormatter\",\"id\":\"p1072\",\"attributes\":{\"dimension\":\"lat\"}},\"axis_label\":\"Latitude\",\"major_label_policy\":{\"type\":\"object\",\"name\":\"AllLabels\",\"id\":\"p1064\"}}}],\"right\":[{\"type\":\"object\",\"name\":\"Legend\",\"id\":\"p1096\",\"attributes\":{\"location\":[0,0],\"click_policy\":\"mute\",\"items\":[{\"type\":\"object\",\"name\":\"LegendItem\",\"id\":\"p1097\",\"attributes\":{\"label\":{\"type\":\"field\",\"field\":\"color\"},\"renderers\":[{\"id\":\"p1093\"}]}}]}}],\"below\":[{\"type\":\"object\",\"name\":\"LinearAxis\",\"id\":\"p1056\",\"attributes\":{\"ticker\":{\"type\":\"object\",\"name\":\"MercatorTicker\",\"id\":\"p1069\",\"attributes\":{\"mantissas\":[1,2,5],\"dimension\":\"lon\"}},\"formatter\":{\"type\":\"object\",\"name\":\"MercatorTickFormatter\",\"id\":\"p1070\",\"attributes\":{\"dimension\":\"lon\"}},\"axis_label\":\"Longitude\",\"major_label_policy\":{\"type\":\"object\",\"name\":\"AllLabels\",\"id\":\"p1059\"}}}],\"center\":[{\"type\":\"object\",\"name\":\"Grid\",\"id\":\"p1060\",\"attributes\":{\"axis\":{\"id\":\"p1056\"},\"grid_line_color\":null}},{\"type\":\"object\",\"name\":\"Grid\",\"id\":\"p1065\",\"attributes\":{\"dimension\":1,\"axis\":{\"id\":\"p1061\"},\"grid_line_color\":null}}],\"frame_width\":700,\"frame_height\":500,\"min_border_top\":10,\"min_border_bottom\":10,\"min_border_left\":10,\"min_border_right\":10,\"output_backend\":\"webgl\",\"match_aspect\":true}},{\"type\":\"object\",\"name\":\"Spacer\",\"id\":\"p1101\",\"attributes\":{\"name\":\"HSpacer01696\",\"stylesheets\":[\"\\n:host(.pn-loading):before, .pn-loading:before {\\n  background-color: #c3c3c3;\\n  mask-size: auto calc(min(50%, 400px));\\n  -webkit-mask-size: auto calc(min(50%, 400px));\\n}\",{\"id\":\"p1014\"},{\"id\":\"p1012\"},{\"id\":\"p1013\"}],\"margin\":0,\"sizing_mode\":\"stretch_width\",\"align\":\"start\"}}]}}],\"defs\":[{\"type\":\"model\",\"name\":\"ReactiveHTML1\"},{\"type\":\"model\",\"name\":\"FlexBox1\",\"properties\":[{\"name\":\"align_content\",\"kind\":\"Any\",\"default\":\"flex-start\"},{\"name\":\"align_items\",\"kind\":\"Any\",\"default\":\"flex-start\"},{\"name\":\"flex_direction\",\"kind\":\"Any\",\"default\":\"row\"},{\"name\":\"flex_wrap\",\"kind\":\"Any\",\"default\":\"wrap\"},{\"name\":\"gap\",\"kind\":\"Any\",\"default\":\"\"},{\"name\":\"justify_content\",\"kind\":\"Any\",\"default\":\"flex-start\"}]},{\"type\":\"model\",\"name\":\"FloatPanel1\",\"properties\":[{\"name\":\"config\",\"kind\":\"Any\",\"default\":{\"type\":\"map\"}},{\"name\":\"contained\",\"kind\":\"Any\",\"default\":true},{\"name\":\"position\",\"kind\":\"Any\",\"default\":\"right-top\"},{\"name\":\"offsetx\",\"kind\":\"Any\",\"default\":null},{\"name\":\"offsety\",\"kind\":\"Any\",\"default\":null},{\"name\":\"theme\",\"kind\":\"Any\",\"default\":\"primary\"},{\"name\":\"status\",\"kind\":\"Any\",\"default\":\"normalized\"}]},{\"type\":\"model\",\"name\":\"GridStack1\",\"properties\":[{\"name\":\"mode\",\"kind\":\"Any\",\"default\":\"warn\"},{\"name\":\"ncols\",\"kind\":\"Any\",\"default\":null},{\"name\":\"nrows\",\"kind\":\"Any\",\"default\":null},{\"name\":\"allow_resize\",\"kind\":\"Any\",\"default\":true},{\"name\":\"allow_drag\",\"kind\":\"Any\",\"default\":true},{\"name\":\"state\",\"kind\":\"Any\",\"default\":[]}]},{\"type\":\"model\",\"name\":\"drag1\",\"properties\":[{\"name\":\"slider_width\",\"kind\":\"Any\",\"default\":5},{\"name\":\"slider_color\",\"kind\":\"Any\",\"default\":\"black\"},{\"name\":\"value\",\"kind\":\"Any\",\"default\":50}]},{\"type\":\"model\",\"name\":\"click1\",\"properties\":[{\"name\":\"terminal_output\",\"kind\":\"Any\",\"default\":\"\"},{\"name\":\"debug_name\",\"kind\":\"Any\",\"default\":\"\"},{\"name\":\"clears\",\"kind\":\"Any\",\"default\":0}]},{\"type\":\"model\",\"name\":\"FastWrapper1\",\"properties\":[{\"name\":\"object\",\"kind\":\"Any\",\"default\":null},{\"name\":\"style\",\"kind\":\"Any\",\"default\":null}]},{\"type\":\"model\",\"name\":\"NotificationAreaBase1\",\"properties\":[{\"name\":\"js_events\",\"kind\":\"Any\",\"default\":{\"type\":\"map\"}},{\"name\":\"position\",\"kind\":\"Any\",\"default\":\"bottom-right\"},{\"name\":\"_clear\",\"kind\":\"Any\",\"default\":0}]},{\"type\":\"model\",\"name\":\"NotificationArea1\",\"properties\":[{\"name\":\"js_events\",\"kind\":\"Any\",\"default\":{\"type\":\"map\"}},{\"name\":\"notifications\",\"kind\":\"Any\",\"default\":[]},{\"name\":\"position\",\"kind\":\"Any\",\"default\":\"bottom-right\"},{\"name\":\"_clear\",\"kind\":\"Any\",\"default\":0},{\"name\":\"types\",\"kind\":\"Any\",\"default\":[{\"type\":\"map\",\"entries\":[[\"type\",\"warning\"],[\"background\",\"#ffc107\"],[\"icon\",{\"type\":\"map\",\"entries\":[[\"className\",\"fas fa-exclamation-triangle\"],[\"tagName\",\"i\"],[\"color\",\"white\"]]}]]},{\"type\":\"map\",\"entries\":[[\"type\",\"info\"],[\"background\",\"#007bff\"],[\"icon\",{\"type\":\"map\",\"entries\":[[\"className\",\"fas fa-info-circle\"],[\"tagName\",\"i\"],[\"color\",\"white\"]]}]]}]}]},{\"type\":\"model\",\"name\":\"Notification\",\"properties\":[{\"name\":\"background\",\"kind\":\"Any\",\"default\":null},{\"name\":\"duration\",\"kind\":\"Any\",\"default\":3000},{\"name\":\"icon\",\"kind\":\"Any\",\"default\":null},{\"name\":\"message\",\"kind\":\"Any\",\"default\":\"\"},{\"name\":\"notification_type\",\"kind\":\"Any\",\"default\":null},{\"name\":\"_destroyed\",\"kind\":\"Any\",\"default\":false}]},{\"type\":\"model\",\"name\":\"TemplateActions1\",\"properties\":[{\"name\":\"open_modal\",\"kind\":\"Any\",\"default\":0},{\"name\":\"close_modal\",\"kind\":\"Any\",\"default\":0}]},{\"type\":\"model\",\"name\":\"BootstrapTemplateActions1\",\"properties\":[{\"name\":\"open_modal\",\"kind\":\"Any\",\"default\":0},{\"name\":\"close_modal\",\"kind\":\"Any\",\"default\":0}]},{\"type\":\"model\",\"name\":\"TemplateEditor1\",\"properties\":[{\"name\":\"layout\",\"kind\":\"Any\",\"default\":[]}]},{\"type\":\"model\",\"name\":\"MaterialTemplateActions1\",\"properties\":[{\"name\":\"open_modal\",\"kind\":\"Any\",\"default\":0},{\"name\":\"close_modal\",\"kind\":\"Any\",\"default\":0}]},{\"type\":\"model\",\"name\":\"copy_to_clipboard1\",\"properties\":[{\"name\":\"fill\",\"kind\":\"Any\",\"default\":\"none\"},{\"name\":\"value\",\"kind\":\"Any\",\"default\":null}]}]}};\n",
       "  var render_items = [{\"docid\":\"bfdc1689-0810-4726-8ffa-5a45b3388ed3\",\"roots\":{\"p1011\":\"af2015ed-61c0-41ba-95fc-3766a5aa0551\"},\"root_ids\":[\"p1011\"]}];\n",
       "  var docs = Object.values(docs_json)\n",
       "  if (!docs) {\n",
       "    return\n",
       "  }\n",
       "  const py_version = docs[0].version.replace('rc', '-rc.').replace('.dev', '-dev.')\n",
       "  function embed_document(root) {\n",
       "    var Bokeh = get_bokeh(root)\n",
       "    Bokeh.embed.embed_items_notebook(docs_json, render_items);\n",
       "    for (const render_item of render_items) {\n",
       "      for (const root_id of render_item.root_ids) {\n",
       "\tconst id_el = document.getElementById(root_id)\n",
       "\tif (id_el.children.length && (id_el.children[0].className === 'bk-root')) {\n",
       "\t  const root_el = id_el.children[0]\n",
       "\t  root_el.id = root_el.id + '-rendered'\n",
       "\t}\n",
       "      }\n",
       "    }\n",
       "  }\n",
       "  function get_bokeh(root) {\n",
       "    if (root.Bokeh === undefined) {\n",
       "      return null\n",
       "    } else if (root.Bokeh.version !== py_version) {\n",
       "      if (root.Bokeh.versions === undefined || !root.Bokeh.versions.has(py_version)) {\n",
       "\treturn null\n",
       "      }\n",
       "      return root.Bokeh.versions.get(py_version);\n",
       "    } else if (root.Bokeh.version === py_version) {\n",
       "      return root.Bokeh\n",
       "    }\n",
       "    return null\n",
       "  }\n",
       "  function is_loaded(root) {\n",
       "    var Bokeh = get_bokeh(root)\n",
       "    return (Bokeh != null && Bokeh.Panel !== undefined)\n",
       "  }\n",
       "  if (is_loaded(root)) {\n",
       "    embed_document(root);\n",
       "  } else {\n",
       "    var attempts = 0;\n",
       "    var timer = setInterval(function(root) {\n",
       "      if (is_loaded(root)) {\n",
       "        clearInterval(timer);\n",
       "        embed_document(root);\n",
       "      } else if (document.readyState == \"complete\") {\n",
       "        attempts++;\n",
       "        if (attempts > 200) {\n",
       "          clearInterval(timer);\n",
       "\t  var Bokeh = get_bokeh(root)\n",
       "\t  if (Bokeh == null || Bokeh.Panel == null) {\n",
       "            console.warn(\"Panel: ERROR: Unable to run Panel code because Bokeh or Panel library is missing\");\n",
       "\t  } else {\n",
       "\t    console.warn(\"Panel: WARNING: Attempting to render but not all required libraries could be resolved.\")\n",
       "\t    embed_document(root)\n",
       "\t  }\n",
       "        }\n",
       "      }\n",
       "    }, 25, root)\n",
       "  }\n",
       "})(window);</script>"
      ],
      "text/plain": [
       ":Overlay\n",
       "   .WMTS.I   :WMTS   [Longitude,Latitude]\n",
       "   .Points.I :Points   [longitude,latitude]   (date)"
      ]
     },
     "execution_count": 16,
     "metadata": {
      "application/vnd.holoviews_exec.v0+json": {
       "id": "p1011"
      }
     },
     "output_type": "execute_result"
    }
   ],
   "source": [
    "%%capture --no-display\n",
    "\n",
    "# Configure the map plot\n",
    "bear_attack = bear_data_df[[\"date\", \"latitude\", \"longitude\"]]\n",
    "\n",
    "# Convert date to string\n",
    "bear_attack[\"date\"] = bear_attack[\"date\"].dt.strftime('%Y-%m-%d')\n",
    "\n",
    "# Configure the map plot\n",
    "bear_map = bear_attack.hvplot.points(\n",
    "    x=\"longitude\",\n",
    "    y=\"latitude\",\n",
    "    geo=True,\n",
    "    tiles=\"OSM\",\n",
    "    color = \"date\",\n",
    "    frame_width = 700,\n",
    "    frame_height = 500\n",
    ")\n",
    "\n",
    "# Display the map\n",
    "bear_map"
   ]
  },
  {
   "cell_type": "markdown",
   "metadata": {},
   "source": [
    "### Save Bear Attacks dataframe into CSV file in the Resources directory"
   ]
  },
  {
   "cell_type": "code",
   "execution_count": 17,
   "metadata": {},
   "outputs": [],
   "source": [
    "bear_data_df.to_csv(\"Resources/bear_attacks_clean_data.csv\", index=False)"
   ]
  },
  {
   "cell_type": "code",
   "execution_count": null,
   "metadata": {},
   "outputs": [],
   "source": []
  }
 ],
 "metadata": {
  "kernelspec": {
   "display_name": "dev",
   "language": "python",
   "name": "python3"
  },
  "language_info": {
   "codemirror_mode": {
    "name": "ipython",
    "version": 3
   },
   "file_extension": ".py",
   "mimetype": "text/x-python",
   "name": "python",
   "nbconvert_exporter": "python",
   "pygments_lexer": "ipython3",
   "version": "3.10.14"
  }
 },
 "nbformat": 4,
 "nbformat_minor": 2
}
