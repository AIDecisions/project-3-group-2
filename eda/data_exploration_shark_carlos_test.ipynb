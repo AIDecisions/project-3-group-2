{
 "cells": [
  {
   "cell_type": "code",
   "execution_count": 1,
   "metadata": {},
   "outputs": [
    {
     "data": {
      "application/javascript": "(function(root) {\n  function now() {\n    return new Date();\n  }\n\n  var force = true;\n  var py_version = '3.4.0'.replace('rc', '-rc.').replace('.dev', '-dev.');\n  var reloading = false;\n  var Bokeh = root.Bokeh;\n\n  if (typeof (root._bokeh_timeout) === \"undefined\" || force) {\n    root._bokeh_timeout = Date.now() + 5000;\n    root._bokeh_failed_load = false;\n  }\n\n  function run_callbacks() {\n    try {\n      root._bokeh_onload_callbacks.forEach(function(callback) {\n        if (callback != null)\n          callback();\n      });\n    } finally {\n      delete root._bokeh_onload_callbacks;\n    }\n    console.debug(\"Bokeh: all callbacks have finished\");\n  }\n\n  function load_libs(css_urls, js_urls, js_modules, js_exports, callback) {\n    if (css_urls == null) css_urls = [];\n    if (js_urls == null) js_urls = [];\n    if (js_modules == null) js_modules = [];\n    if (js_exports == null) js_exports = {};\n\n    root._bokeh_onload_callbacks.push(callback);\n\n    if (root._bokeh_is_loading > 0) {\n      console.debug(\"Bokeh: BokehJS is being loaded, scheduling callback at\", now());\n      return null;\n    }\n    if (js_urls.length === 0 && js_modules.length === 0 && Object.keys(js_exports).length === 0) {\n      run_callbacks();\n      return null;\n    }\n    if (!reloading) {\n      console.debug(\"Bokeh: BokehJS not loaded, scheduling load and callback at\", now());\n    }\n\n    function on_load() {\n      root._bokeh_is_loading--;\n      if (root._bokeh_is_loading === 0) {\n        console.debug(\"Bokeh: all BokehJS libraries/stylesheets loaded\");\n        run_callbacks()\n      }\n    }\n    window._bokeh_on_load = on_load\n\n    function on_error() {\n      console.error(\"failed to load \" + url);\n    }\n\n    var skip = [];\n    if (window.requirejs) {\n      window.requirejs.config({'packages': {}, 'paths': {}, 'shim': {}});\n      root._bokeh_is_loading = css_urls.length + 0;\n    } else {\n      root._bokeh_is_loading = css_urls.length + js_urls.length + js_modules.length + Object.keys(js_exports).length;\n    }\n\n    var existing_stylesheets = []\n    var links = document.getElementsByTagName('link')\n    for (var i = 0; i < links.length; i++) {\n      var link = links[i]\n      if (link.href != null) {\n\texisting_stylesheets.push(link.href)\n      }\n    }\n    for (var i = 0; i < css_urls.length; i++) {\n      var url = css_urls[i];\n      if (existing_stylesheets.indexOf(url) !== -1) {\n\ton_load()\n\tcontinue;\n      }\n      const element = document.createElement(\"link\");\n      element.onload = on_load;\n      element.onerror = on_error;\n      element.rel = \"stylesheet\";\n      element.type = \"text/css\";\n      element.href = url;\n      console.debug(\"Bokeh: injecting link tag for BokehJS stylesheet: \", url);\n      document.body.appendChild(element);\n    }    var existing_scripts = []\n    var scripts = document.getElementsByTagName('script')\n    for (var i = 0; i < scripts.length; i++) {\n      var script = scripts[i]\n      if (script.src != null) {\n\texisting_scripts.push(script.src)\n      }\n    }\n    for (var i = 0; i < js_urls.length; i++) {\n      var url = js_urls[i];\n      if (skip.indexOf(url) !== -1 || existing_scripts.indexOf(url) !== -1) {\n\tif (!window.requirejs) {\n\t  on_load();\n\t}\n\tcontinue;\n      }\n      var element = document.createElement('script');\n      element.onload = on_load;\n      element.onerror = on_error;\n      element.async = false;\n      element.src = url;\n      console.debug(\"Bokeh: injecting script tag for BokehJS library: \", url);\n      document.head.appendChild(element);\n    }\n    for (var i = 0; i < js_modules.length; i++) {\n      var url = js_modules[i];\n      if (skip.indexOf(url) !== -1 || existing_scripts.indexOf(url) !== -1) {\n\tif (!window.requirejs) {\n\t  on_load();\n\t}\n\tcontinue;\n      }\n      var element = document.createElement('script');\n      element.onload = on_load;\n      element.onerror = on_error;\n      element.async = false;\n      element.src = url;\n      element.type = \"module\";\n      console.debug(\"Bokeh: injecting script tag for BokehJS library: \", url);\n      document.head.appendChild(element);\n    }\n    for (const name in js_exports) {\n      var url = js_exports[name];\n      if (skip.indexOf(url) >= 0 || root[name] != null) {\n\tif (!window.requirejs) {\n\t  on_load();\n\t}\n\tcontinue;\n      }\n      var element = document.createElement('script');\n      element.onerror = on_error;\n      element.async = false;\n      element.type = \"module\";\n      console.debug(\"Bokeh: injecting script tag for BokehJS library: \", url);\n      element.textContent = `\n      import ${name} from \"${url}\"\n      window.${name} = ${name}\n      window._bokeh_on_load()\n      `\n      document.head.appendChild(element);\n    }\n    if (!js_urls.length && !js_modules.length) {\n      on_load()\n    }\n  };\n\n  function inject_raw_css(css) {\n    const element = document.createElement(\"style\");\n    element.appendChild(document.createTextNode(css));\n    document.body.appendChild(element);\n  }\n\n  var js_urls = [\"https://cdn.bokeh.org/bokeh/release/bokeh-3.4.0.min.js\", \"https://cdn.bokeh.org/bokeh/release/bokeh-gl-3.4.0.min.js\", \"https://cdn.bokeh.org/bokeh/release/bokeh-widgets-3.4.0.min.js\", \"https://cdn.bokeh.org/bokeh/release/bokeh-tables-3.4.0.min.js\", \"https://cdn.holoviz.org/panel/1.4.2/dist/panel.min.js\"];\n  var js_modules = [];\n  var js_exports = {};\n  var css_urls = [];\n  var inline_js = [    function(Bokeh) {\n      Bokeh.set_log_level(\"info\");\n    },\nfunction(Bokeh) {} // ensure no trailing comma for IE\n  ];\n\n  function run_inline_js() {\n    if ((root.Bokeh !== undefined) || (force === true)) {\n      for (var i = 0; i < inline_js.length; i++) {\n\ttry {\n          inline_js[i].call(root, root.Bokeh);\n\t} catch(e) {\n\t  if (!reloading) {\n\t    throw e;\n\t  }\n\t}\n      }\n      // Cache old bokeh versions\n      if (Bokeh != undefined && !reloading) {\n\tvar NewBokeh = root.Bokeh;\n\tif (Bokeh.versions === undefined) {\n\t  Bokeh.versions = new Map();\n\t}\n\tif (NewBokeh.version !== Bokeh.version) {\n\t  Bokeh.versions.set(NewBokeh.version, NewBokeh)\n\t}\n\troot.Bokeh = Bokeh;\n      }} else if (Date.now() < root._bokeh_timeout) {\n      setTimeout(run_inline_js, 100);\n    } else if (!root._bokeh_failed_load) {\n      console.log(\"Bokeh: BokehJS failed to load within specified timeout.\");\n      root._bokeh_failed_load = true;\n    }\n    root._bokeh_is_initializing = false\n  }\n\n  function load_or_wait() {\n    // Implement a backoff loop that tries to ensure we do not load multiple\n    // versions of Bokeh and its dependencies at the same time.\n    // In recent versions we use the root._bokeh_is_initializing flag\n    // to determine whether there is an ongoing attempt to initialize\n    // bokeh, however for backward compatibility we also try to ensure\n    // that we do not start loading a newer (Panel>=1.0 and Bokeh>3) version\n    // before older versions are fully initialized.\n    if (root._bokeh_is_initializing && Date.now() > root._bokeh_timeout) {\n      root._bokeh_is_initializing = false;\n      root._bokeh_onload_callbacks = undefined;\n      console.log(\"Bokeh: BokehJS was loaded multiple times but one version failed to initialize.\");\n      load_or_wait();\n    } else if (root._bokeh_is_initializing || (typeof root._bokeh_is_initializing === \"undefined\" && root._bokeh_onload_callbacks !== undefined)) {\n      setTimeout(load_or_wait, 100);\n    } else {\n      root._bokeh_is_initializing = true\n      root._bokeh_onload_callbacks = []\n      var bokeh_loaded = Bokeh != null && (Bokeh.version === py_version || (Bokeh.versions !== undefined && Bokeh.versions.has(py_version)));\n      if (!reloading && !bokeh_loaded) {\n\troot.Bokeh = undefined;\n      }\n      load_libs(css_urls, js_urls, js_modules, js_exports, function() {\n\tconsole.debug(\"Bokeh: BokehJS plotting callback run at\", now());\n\trun_inline_js();\n      });\n    }\n  }\n  // Give older versions of the autoload script a head-start to ensure\n  // they initialize before we start loading newer version.\n  setTimeout(load_or_wait, 100)\n}(window));",
      "application/vnd.holoviews_load.v0+json": ""
     },
     "metadata": {},
     "output_type": "display_data"
    },
    {
     "data": {
      "application/javascript": "\nif ((window.PyViz === undefined) || (window.PyViz instanceof HTMLElement)) {\n  window.PyViz = {comms: {}, comm_status:{}, kernels:{}, receivers: {}, plot_index: []}\n}\n\n\n    function JupyterCommManager() {\n    }\n\n    JupyterCommManager.prototype.register_target = function(plot_id, comm_id, msg_handler) {\n      if (window.comm_manager || ((window.Jupyter !== undefined) && (Jupyter.notebook.kernel != null))) {\n        var comm_manager = window.comm_manager || Jupyter.notebook.kernel.comm_manager;\n        comm_manager.register_target(comm_id, function(comm) {\n          comm.on_msg(msg_handler);\n        });\n      } else if ((plot_id in window.PyViz.kernels) && (window.PyViz.kernels[plot_id])) {\n        window.PyViz.kernels[plot_id].registerCommTarget(comm_id, function(comm) {\n          comm.onMsg = msg_handler;\n        });\n      } else if (typeof google != 'undefined' && google.colab.kernel != null) {\n        google.colab.kernel.comms.registerTarget(comm_id, (comm) => {\n          var messages = comm.messages[Symbol.asyncIterator]();\n          function processIteratorResult(result) {\n            var message = result.value;\n            console.log(message)\n            var content = {data: message.data, comm_id};\n            var buffers = []\n            for (var buffer of message.buffers || []) {\n              buffers.push(new DataView(buffer))\n            }\n            var metadata = message.metadata || {};\n            var msg = {content, buffers, metadata}\n            msg_handler(msg);\n            return messages.next().then(processIteratorResult);\n          }\n          return messages.next().then(processIteratorResult);\n        })\n      }\n    }\n\n    JupyterCommManager.prototype.get_client_comm = function(plot_id, comm_id, msg_handler) {\n      if (comm_id in window.PyViz.comms) {\n        return window.PyViz.comms[comm_id];\n      } else if (window.comm_manager || ((window.Jupyter !== undefined) && (Jupyter.notebook.kernel != null))) {\n        var comm_manager = window.comm_manager || Jupyter.notebook.kernel.comm_manager;\n        var comm = comm_manager.new_comm(comm_id, {}, {}, {}, comm_id);\n        if (msg_handler) {\n          comm.on_msg(msg_handler);\n        }\n      } else if ((plot_id in window.PyViz.kernels) && (window.PyViz.kernels[plot_id])) {\n        var comm = window.PyViz.kernels[plot_id].connectToComm(comm_id);\n        comm.open();\n        if (msg_handler) {\n          comm.onMsg = msg_handler;\n        }\n      } else if (typeof google != 'undefined' && google.colab.kernel != null) {\n        var comm_promise = google.colab.kernel.comms.open(comm_id)\n        comm_promise.then((comm) => {\n          window.PyViz.comms[comm_id] = comm;\n          if (msg_handler) {\n            var messages = comm.messages[Symbol.asyncIterator]();\n            function processIteratorResult(result) {\n              var message = result.value;\n              var content = {data: message.data};\n              var metadata = message.metadata || {comm_id};\n              var msg = {content, metadata}\n              msg_handler(msg);\n              return messages.next().then(processIteratorResult);\n            }\n            return messages.next().then(processIteratorResult);\n          }\n        }) \n        var sendClosure = (data, metadata, buffers, disposeOnDone) => {\n          return comm_promise.then((comm) => {\n            comm.send(data, metadata, buffers, disposeOnDone);\n          });\n        };\n        var comm = {\n          send: sendClosure\n        };\n      }\n      window.PyViz.comms[comm_id] = comm;\n      return comm;\n    }\n    window.PyViz.comm_manager = new JupyterCommManager();\n    \n\n\nvar JS_MIME_TYPE = 'application/javascript';\nvar HTML_MIME_TYPE = 'text/html';\nvar EXEC_MIME_TYPE = 'application/vnd.holoviews_exec.v0+json';\nvar CLASS_NAME = 'output';\n\n/**\n * Render data to the DOM node\n */\nfunction render(props, node) {\n  var div = document.createElement(\"div\");\n  var script = document.createElement(\"script\");\n  node.appendChild(div);\n  node.appendChild(script);\n}\n\n/**\n * Handle when a new output is added\n */\nfunction handle_add_output(event, handle) {\n  var output_area = handle.output_area;\n  var output = handle.output;\n  if ((output.data == undefined) || (!output.data.hasOwnProperty(EXEC_MIME_TYPE))) {\n    return\n  }\n  var id = output.metadata[EXEC_MIME_TYPE][\"id\"];\n  var toinsert = output_area.element.find(\".\" + CLASS_NAME.split(' ')[0]);\n  if (id !== undefined) {\n    var nchildren = toinsert.length;\n    var html_node = toinsert[nchildren-1].children[0];\n    html_node.innerHTML = output.data[HTML_MIME_TYPE];\n    var scripts = [];\n    var nodelist = html_node.querySelectorAll(\"script\");\n    for (var i in nodelist) {\n      if (nodelist.hasOwnProperty(i)) {\n        scripts.push(nodelist[i])\n      }\n    }\n\n    scripts.forEach( function (oldScript) {\n      var newScript = document.createElement(\"script\");\n      var attrs = [];\n      var nodemap = oldScript.attributes;\n      for (var j in nodemap) {\n        if (nodemap.hasOwnProperty(j)) {\n          attrs.push(nodemap[j])\n        }\n      }\n      attrs.forEach(function(attr) { newScript.setAttribute(attr.name, attr.value) });\n      newScript.appendChild(document.createTextNode(oldScript.innerHTML));\n      oldScript.parentNode.replaceChild(newScript, oldScript);\n    });\n    if (JS_MIME_TYPE in output.data) {\n      toinsert[nchildren-1].children[1].textContent = output.data[JS_MIME_TYPE];\n    }\n    output_area._hv_plot_id = id;\n    if ((window.Bokeh !== undefined) && (id in Bokeh.index)) {\n      window.PyViz.plot_index[id] = Bokeh.index[id];\n    } else {\n      window.PyViz.plot_index[id] = null;\n    }\n  } else if (output.metadata[EXEC_MIME_TYPE][\"server_id\"] !== undefined) {\n    var bk_div = document.createElement(\"div\");\n    bk_div.innerHTML = output.data[HTML_MIME_TYPE];\n    var script_attrs = bk_div.children[0].attributes;\n    for (var i = 0; i < script_attrs.length; i++) {\n      toinsert[toinsert.length - 1].childNodes[1].setAttribute(script_attrs[i].name, script_attrs[i].value);\n    }\n    // store reference to server id on output_area\n    output_area._bokeh_server_id = output.metadata[EXEC_MIME_TYPE][\"server_id\"];\n  }\n}\n\n/**\n * Handle when an output is cleared or removed\n */\nfunction handle_clear_output(event, handle) {\n  var id = handle.cell.output_area._hv_plot_id;\n  var server_id = handle.cell.output_area._bokeh_server_id;\n  if (((id === undefined) || !(id in PyViz.plot_index)) && (server_id !== undefined)) { return; }\n  var comm = window.PyViz.comm_manager.get_client_comm(\"hv-extension-comm\", \"hv-extension-comm\", function () {});\n  if (server_id !== null) {\n    comm.send({event_type: 'server_delete', 'id': server_id});\n    return;\n  } else if (comm !== null) {\n    comm.send({event_type: 'delete', 'id': id});\n  }\n  delete PyViz.plot_index[id];\n  if ((window.Bokeh !== undefined) & (id in window.Bokeh.index)) {\n    var doc = window.Bokeh.index[id].model.document\n    doc.clear();\n    const i = window.Bokeh.documents.indexOf(doc);\n    if (i > -1) {\n      window.Bokeh.documents.splice(i, 1);\n    }\n  }\n}\n\n/**\n * Handle kernel restart event\n */\nfunction handle_kernel_cleanup(event, handle) {\n  delete PyViz.comms[\"hv-extension-comm\"];\n  window.PyViz.plot_index = {}\n}\n\n/**\n * Handle update_display_data messages\n */\nfunction handle_update_output(event, handle) {\n  handle_clear_output(event, {cell: {output_area: handle.output_area}})\n  handle_add_output(event, handle)\n}\n\nfunction register_renderer(events, OutputArea) {\n  function append_mime(data, metadata, element) {\n    // create a DOM node to render to\n    var toinsert = this.create_output_subarea(\n    metadata,\n    CLASS_NAME,\n    EXEC_MIME_TYPE\n    );\n    this.keyboard_manager.register_events(toinsert);\n    // Render to node\n    var props = {data: data, metadata: metadata[EXEC_MIME_TYPE]};\n    render(props, toinsert[0]);\n    element.append(toinsert);\n    return toinsert\n  }\n\n  events.on('output_added.OutputArea', handle_add_output);\n  events.on('output_updated.OutputArea', handle_update_output);\n  events.on('clear_output.CodeCell', handle_clear_output);\n  events.on('delete.Cell', handle_clear_output);\n  events.on('kernel_ready.Kernel', handle_kernel_cleanup);\n\n  OutputArea.prototype.register_mime_type(EXEC_MIME_TYPE, append_mime, {\n    safe: true,\n    index: 0\n  });\n}\n\nif (window.Jupyter !== undefined) {\n  try {\n    var events = require('base/js/events');\n    var OutputArea = require('notebook/js/outputarea').OutputArea;\n    if (OutputArea.prototype.mime_types().indexOf(EXEC_MIME_TYPE) == -1) {\n      register_renderer(events, OutputArea);\n    }\n  } catch(err) {\n  }\n}\n",
      "application/vnd.holoviews_load.v0+json": ""
     },
     "metadata": {},
     "output_type": "display_data"
    },
    {
     "data": {
      "text/html": [
       "<style>*[data-root-id],\n",
       "*[data-root-id] > * {\n",
       "  box-sizing: border-box;\n",
       "  font-family: var(--jp-ui-font-family);\n",
       "  font-size: var(--jp-ui-font-size1);\n",
       "  color: var(--vscode-editor-foreground, var(--jp-ui-font-color1));\n",
       "}\n",
       "\n",
       "/* Override VSCode background color */\n",
       ".cell-output-ipywidget-background:has(\n",
       "    > .cell-output-ipywidget-background > .lm-Widget > *[data-root-id]\n",
       "  ),\n",
       ".cell-output-ipywidget-background:has(> .lm-Widget > *[data-root-id]) {\n",
       "  background-color: transparent !important;\n",
       "}\n",
       "</style>"
      ]
     },
     "metadata": {},
     "output_type": "display_data"
    },
    {
     "data": {
      "application/vnd.holoviews_exec.v0+json": "",
      "text/html": [
       "<div id='p1002'>\n",
       "  <div id=\"a5f4ee42-78db-43bf-ba4e-93510d2cd532\" data-root-id=\"p1002\" style=\"display: contents;\"></div>\n",
       "</div>\n",
       "<script type=\"application/javascript\">(function(root) {\n",
       "  var docs_json = {\"53aac3fc-93fa-4069-a27d-8514c0c85e1b\":{\"version\":\"3.4.0\",\"title\":\"Bokeh Application\",\"roots\":[{\"type\":\"object\",\"name\":\"panel.models.browser.BrowserInfo\",\"id\":\"p1002\"},{\"type\":\"object\",\"name\":\"panel.models.comm_manager.CommManager\",\"id\":\"p1003\",\"attributes\":{\"plot_id\":\"p1002\",\"comm_id\":\"72a1c694aa26496a807733b974dc3ef4\",\"client_comm_id\":\"9b5843adffe642199a9db89d9dceb0d5\"}}],\"defs\":[{\"type\":\"model\",\"name\":\"ReactiveHTML1\"},{\"type\":\"model\",\"name\":\"FlexBox1\",\"properties\":[{\"name\":\"align_content\",\"kind\":\"Any\",\"default\":\"flex-start\"},{\"name\":\"align_items\",\"kind\":\"Any\",\"default\":\"flex-start\"},{\"name\":\"flex_direction\",\"kind\":\"Any\",\"default\":\"row\"},{\"name\":\"flex_wrap\",\"kind\":\"Any\",\"default\":\"wrap\"},{\"name\":\"gap\",\"kind\":\"Any\",\"default\":\"\"},{\"name\":\"justify_content\",\"kind\":\"Any\",\"default\":\"flex-start\"}]},{\"type\":\"model\",\"name\":\"FloatPanel1\",\"properties\":[{\"name\":\"config\",\"kind\":\"Any\",\"default\":{\"type\":\"map\"}},{\"name\":\"contained\",\"kind\":\"Any\",\"default\":true},{\"name\":\"position\",\"kind\":\"Any\",\"default\":\"right-top\"},{\"name\":\"offsetx\",\"kind\":\"Any\",\"default\":null},{\"name\":\"offsety\",\"kind\":\"Any\",\"default\":null},{\"name\":\"theme\",\"kind\":\"Any\",\"default\":\"primary\"},{\"name\":\"status\",\"kind\":\"Any\",\"default\":\"normalized\"}]},{\"type\":\"model\",\"name\":\"GridStack1\",\"properties\":[{\"name\":\"mode\",\"kind\":\"Any\",\"default\":\"warn\"},{\"name\":\"ncols\",\"kind\":\"Any\",\"default\":null},{\"name\":\"nrows\",\"kind\":\"Any\",\"default\":null},{\"name\":\"allow_resize\",\"kind\":\"Any\",\"default\":true},{\"name\":\"allow_drag\",\"kind\":\"Any\",\"default\":true},{\"name\":\"state\",\"kind\":\"Any\",\"default\":[]}]},{\"type\":\"model\",\"name\":\"drag1\",\"properties\":[{\"name\":\"slider_width\",\"kind\":\"Any\",\"default\":5},{\"name\":\"slider_color\",\"kind\":\"Any\",\"default\":\"black\"},{\"name\":\"value\",\"kind\":\"Any\",\"default\":50}]},{\"type\":\"model\",\"name\":\"click1\",\"properties\":[{\"name\":\"terminal_output\",\"kind\":\"Any\",\"default\":\"\"},{\"name\":\"debug_name\",\"kind\":\"Any\",\"default\":\"\"},{\"name\":\"clears\",\"kind\":\"Any\",\"default\":0}]},{\"type\":\"model\",\"name\":\"FastWrapper1\",\"properties\":[{\"name\":\"object\",\"kind\":\"Any\",\"default\":null},{\"name\":\"style\",\"kind\":\"Any\",\"default\":null}]},{\"type\":\"model\",\"name\":\"NotificationAreaBase1\",\"properties\":[{\"name\":\"js_events\",\"kind\":\"Any\",\"default\":{\"type\":\"map\"}},{\"name\":\"position\",\"kind\":\"Any\",\"default\":\"bottom-right\"},{\"name\":\"_clear\",\"kind\":\"Any\",\"default\":0}]},{\"type\":\"model\",\"name\":\"NotificationArea1\",\"properties\":[{\"name\":\"js_events\",\"kind\":\"Any\",\"default\":{\"type\":\"map\"}},{\"name\":\"notifications\",\"kind\":\"Any\",\"default\":[]},{\"name\":\"position\",\"kind\":\"Any\",\"default\":\"bottom-right\"},{\"name\":\"_clear\",\"kind\":\"Any\",\"default\":0},{\"name\":\"types\",\"kind\":\"Any\",\"default\":[{\"type\":\"map\",\"entries\":[[\"type\",\"warning\"],[\"background\",\"#ffc107\"],[\"icon\",{\"type\":\"map\",\"entries\":[[\"className\",\"fas fa-exclamation-triangle\"],[\"tagName\",\"i\"],[\"color\",\"white\"]]}]]},{\"type\":\"map\",\"entries\":[[\"type\",\"info\"],[\"background\",\"#007bff\"],[\"icon\",{\"type\":\"map\",\"entries\":[[\"className\",\"fas fa-info-circle\"],[\"tagName\",\"i\"],[\"color\",\"white\"]]}]]}]}]},{\"type\":\"model\",\"name\":\"Notification\",\"properties\":[{\"name\":\"background\",\"kind\":\"Any\",\"default\":null},{\"name\":\"duration\",\"kind\":\"Any\",\"default\":3000},{\"name\":\"icon\",\"kind\":\"Any\",\"default\":null},{\"name\":\"message\",\"kind\":\"Any\",\"default\":\"\"},{\"name\":\"notification_type\",\"kind\":\"Any\",\"default\":null},{\"name\":\"_destroyed\",\"kind\":\"Any\",\"default\":false}]},{\"type\":\"model\",\"name\":\"TemplateActions1\",\"properties\":[{\"name\":\"open_modal\",\"kind\":\"Any\",\"default\":0},{\"name\":\"close_modal\",\"kind\":\"Any\",\"default\":0}]},{\"type\":\"model\",\"name\":\"BootstrapTemplateActions1\",\"properties\":[{\"name\":\"open_modal\",\"kind\":\"Any\",\"default\":0},{\"name\":\"close_modal\",\"kind\":\"Any\",\"default\":0}]},{\"type\":\"model\",\"name\":\"TemplateEditor1\",\"properties\":[{\"name\":\"layout\",\"kind\":\"Any\",\"default\":[]}]},{\"type\":\"model\",\"name\":\"MaterialTemplateActions1\",\"properties\":[{\"name\":\"open_modal\",\"kind\":\"Any\",\"default\":0},{\"name\":\"close_modal\",\"kind\":\"Any\",\"default\":0}]},{\"type\":\"model\",\"name\":\"copy_to_clipboard1\",\"properties\":[{\"name\":\"fill\",\"kind\":\"Any\",\"default\":\"none\"},{\"name\":\"value\",\"kind\":\"Any\",\"default\":null}]}]}};\n",
       "  var render_items = [{\"docid\":\"53aac3fc-93fa-4069-a27d-8514c0c85e1b\",\"roots\":{\"p1002\":\"a5f4ee42-78db-43bf-ba4e-93510d2cd532\"},\"root_ids\":[\"p1002\"]}];\n",
       "  var docs = Object.values(docs_json)\n",
       "  if (!docs) {\n",
       "    return\n",
       "  }\n",
       "  const py_version = docs[0].version.replace('rc', '-rc.').replace('.dev', '-dev.')\n",
       "  function embed_document(root) {\n",
       "    var Bokeh = get_bokeh(root)\n",
       "    Bokeh.embed.embed_items_notebook(docs_json, render_items);\n",
       "    for (const render_item of render_items) {\n",
       "      for (const root_id of render_item.root_ids) {\n",
       "\tconst id_el = document.getElementById(root_id)\n",
       "\tif (id_el.children.length && (id_el.children[0].className === 'bk-root')) {\n",
       "\t  const root_el = id_el.children[0]\n",
       "\t  root_el.id = root_el.id + '-rendered'\n",
       "\t}\n",
       "      }\n",
       "    }\n",
       "  }\n",
       "  function get_bokeh(root) {\n",
       "    if (root.Bokeh === undefined) {\n",
       "      return null\n",
       "    } else if (root.Bokeh.version !== py_version) {\n",
       "      if (root.Bokeh.versions === undefined || !root.Bokeh.versions.has(py_version)) {\n",
       "\treturn null\n",
       "      }\n",
       "      return root.Bokeh.versions.get(py_version);\n",
       "    } else if (root.Bokeh.version === py_version) {\n",
       "      return root.Bokeh\n",
       "    }\n",
       "    return null\n",
       "  }\n",
       "  function is_loaded(root) {\n",
       "    var Bokeh = get_bokeh(root)\n",
       "    return (Bokeh != null && Bokeh.Panel !== undefined)\n",
       "  }\n",
       "  if (is_loaded(root)) {\n",
       "    embed_document(root);\n",
       "  } else {\n",
       "    var attempts = 0;\n",
       "    var timer = setInterval(function(root) {\n",
       "      if (is_loaded(root)) {\n",
       "        clearInterval(timer);\n",
       "        embed_document(root);\n",
       "      } else if (document.readyState == \"complete\") {\n",
       "        attempts++;\n",
       "        if (attempts > 200) {\n",
       "          clearInterval(timer);\n",
       "\t  var Bokeh = get_bokeh(root)\n",
       "\t  if (Bokeh == null || Bokeh.Panel == null) {\n",
       "            console.warn(\"Panel: ERROR: Unable to run Panel code because Bokeh or Panel library is missing\");\n",
       "\t  } else {\n",
       "\t    console.warn(\"Panel: WARNING: Attempting to render but not all required libraries could be resolved.\")\n",
       "\t    embed_document(root)\n",
       "\t  }\n",
       "        }\n",
       "      }\n",
       "    }, 25, root)\n",
       "  }\n",
       "})(window);</script>"
      ]
     },
     "metadata": {
      "application/vnd.holoviews_exec.v0+json": {
       "id": "p1002"
      }
     },
     "output_type": "display_data"
    }
   ],
   "source": [
    "# Import dependencies\n",
    "import pandas as pd\n",
    "import numpy as np\n",
    "import json\n",
    "\n",
    "from config import GEOAPIFY_API\n",
    "import requests\n",
    "import pprint\n",
    "import time\n",
    "import hvplot.pandas\n",
    "\n",
    "pd.set_option('max_colwidth', 400)"
   ]
  },
  {
   "cell_type": "markdown",
   "metadata": {},
   "source": [
    "### Shark Attacks data retrieval"
   ]
  },
  {
   "cell_type": "code",
   "execution_count": 2,
   "metadata": {},
   "outputs": [
    {
     "data": {
      "text/html": [
       "<div>\n",
       "<style scoped>\n",
       "    .dataframe tbody tr th:only-of-type {\n",
       "        vertical-align: middle;\n",
       "    }\n",
       "\n",
       "    .dataframe tbody tr th {\n",
       "        vertical-align: top;\n",
       "    }\n",
       "\n",
       "    .dataframe thead th {\n",
       "        text-align: right;\n",
       "    }\n",
       "</style>\n",
       "<table border=\"1\" class=\"dataframe\">\n",
       "  <thead>\n",
       "    <tr style=\"text-align: right;\">\n",
       "      <th></th>\n",
       "      <th>Case Number</th>\n",
       "      <th>Date</th>\n",
       "      <th>Year</th>\n",
       "      <th>Type</th>\n",
       "      <th>Country</th>\n",
       "      <th>Area</th>\n",
       "      <th>Location</th>\n",
       "      <th>Activity</th>\n",
       "      <th>Name</th>\n",
       "      <th>Sex</th>\n",
       "      <th>...</th>\n",
       "      <th>Species</th>\n",
       "      <th>Investigator or Source</th>\n",
       "      <th>pdf</th>\n",
       "      <th>href formula</th>\n",
       "      <th>href</th>\n",
       "      <th>Case Number.1</th>\n",
       "      <th>Case Number.2</th>\n",
       "      <th>original order</th>\n",
       "      <th>Unnamed: 22</th>\n",
       "      <th>Unnamed: 23</th>\n",
       "    </tr>\n",
       "  </thead>\n",
       "  <tbody>\n",
       "    <tr>\n",
       "      <th>0</th>\n",
       "      <td>2019.08.27</td>\n",
       "      <td>27-Aug-2019</td>\n",
       "      <td>2019.0</td>\n",
       "      <td>Provoked</td>\n",
       "      <td>USA</td>\n",
       "      <td>Florida</td>\n",
       "      <td>New Smyrna Beach, Volusia County</td>\n",
       "      <td>Surfing</td>\n",
       "      <td>Donald Walsh</td>\n",
       "      <td>M</td>\n",
       "      <td>...</td>\n",
       "      <td>6.5' shark</td>\n",
       "      <td>K. McMurray, TrackingSharks.com</td>\n",
       "      <td>2019.08.27-Walsh.pdf</td>\n",
       "      <td>http://sharkattackfile.net/spreadsheets/pdf_directory/2019.08.27-Walsh.pdf</td>\n",
       "      <td>http://sharkattackfile.net/spreadsheets/pdf_directory/2019.08.27-Walsh.pdf</td>\n",
       "      <td>2019.08.27</td>\n",
       "      <td>2019.08.27</td>\n",
       "      <td>6452.0</td>\n",
       "      <td>NaN</td>\n",
       "      <td>NaN</td>\n",
       "    </tr>\n",
       "    <tr>\n",
       "      <th>1</th>\n",
       "      <td>2019.08.21</td>\n",
       "      <td>21-Aug-2019</td>\n",
       "      <td>2019.0</td>\n",
       "      <td>Unprovoked</td>\n",
       "      <td>USA</td>\n",
       "      <td>Florida</td>\n",
       "      <td>Fort Lauderdale, Broward County</td>\n",
       "      <td>Wading</td>\n",
       "      <td>Christian Mariani</td>\n",
       "      <td>M</td>\n",
       "      <td>...</td>\n",
       "      <td>NaN</td>\n",
       "      <td>K. McMurray, TrackingSharks.com</td>\n",
       "      <td>2019.08.21-Mariani.pdf</td>\n",
       "      <td>http://sharkattackfile.net/spreadsheets/pdf_directory/2019.08.21-Mariani.pdf</td>\n",
       "      <td>http://sharkattackfile.net/spreadsheets/pdf_directory/2019.08.21-Mariani.pdf</td>\n",
       "      <td>2019.08.21</td>\n",
       "      <td>2019.08.21</td>\n",
       "      <td>6451.0</td>\n",
       "      <td>NaN</td>\n",
       "      <td>NaN</td>\n",
       "    </tr>\n",
       "    <tr>\n",
       "      <th>2</th>\n",
       "      <td>2019.08.20</td>\n",
       "      <td>20-Aug-2019</td>\n",
       "      <td>2019.0</td>\n",
       "      <td>Unprovoked</td>\n",
       "      <td>USA</td>\n",
       "      <td>Hawaii</td>\n",
       "      <td>Napoopoo Park in Kealakekua Bay, The Big Island</td>\n",
       "      <td>Swimming</td>\n",
       "      <td>female</td>\n",
       "      <td>F</td>\n",
       "      <td>...</td>\n",
       "      <td>NaN</td>\n",
       "      <td>Hawaii News Now, 8/20/2019</td>\n",
       "      <td>2019.08.20-Hawaii.pdf</td>\n",
       "      <td>http://sharkattackfile.net/spreadsheets/pdf_directory/2019.08.20-Hawaii.pdf</td>\n",
       "      <td>http://sharkattackfile.net/spreadsheets/pdf_directory/2019.08.20-Hawaii.pdf</td>\n",
       "      <td>2019.08.20</td>\n",
       "      <td>2019.08.20</td>\n",
       "      <td>6450.0</td>\n",
       "      <td>NaN</td>\n",
       "      <td>NaN</td>\n",
       "    </tr>\n",
       "    <tr>\n",
       "      <th>3</th>\n",
       "      <td>2019.08.16</td>\n",
       "      <td>16-Aug-2019</td>\n",
       "      <td>2019.0</td>\n",
       "      <td>Unprovoked</td>\n",
       "      <td>USA</td>\n",
       "      <td>Florida</td>\n",
       "      <td>New Smyrna Beach, Volusia County</td>\n",
       "      <td>Wading</td>\n",
       "      <td>Maggie Crum</td>\n",
       "      <td>M</td>\n",
       "      <td>...</td>\n",
       "      <td>NaN</td>\n",
       "      <td>WESH, 8/16/2019</td>\n",
       "      <td>2019.08.16-Crum.pdf</td>\n",
       "      <td>http://sharkattackfile.net/spreadsheets/pdf_directory/2019.08.16-Crum.pdf</td>\n",
       "      <td>http://sharkattackfile.net/spreadsheets/pdf_directory/2019.08.16-Crum.pdf</td>\n",
       "      <td>2019.08.16</td>\n",
       "      <td>2019.08.16</td>\n",
       "      <td>6449.0</td>\n",
       "      <td>NaN</td>\n",
       "      <td>NaN</td>\n",
       "    </tr>\n",
       "    <tr>\n",
       "      <th>4</th>\n",
       "      <td>2019.08.11</td>\n",
       "      <td>11-Aug-2019</td>\n",
       "      <td>2019.0</td>\n",
       "      <td>Unprovoked</td>\n",
       "      <td>USA</td>\n",
       "      <td>Hawaii</td>\n",
       "      <td>Makaha Beach, Oahu</td>\n",
       "      <td>Surfing</td>\n",
       "      <td>Max Keliikipi</td>\n",
       "      <td>M</td>\n",
       "      <td>...</td>\n",
       "      <td>10' to 12' shark</td>\n",
       "      <td>M. Michaelson, GSAF</td>\n",
       "      <td>2019.08.11-Keliikipi.pdf</td>\n",
       "      <td>http://sharkattackfile.net/spreadsheets/pdf_directory/2019.08.11-Keliikipi.pdf</td>\n",
       "      <td>http://sharkattackfile.net/spreadsheets/pdf_directory/http://sharkattackfile.net/spreadsheets/pdf_directory/2019.08.11-Keliikipi.pdf</td>\n",
       "      <td>2019.08.11</td>\n",
       "      <td>2019.08.11</td>\n",
       "      <td>6448.0</td>\n",
       "      <td>NaN</td>\n",
       "      <td>NaN</td>\n",
       "    </tr>\n",
       "  </tbody>\n",
       "</table>\n",
       "<p>5 rows × 24 columns</p>\n",
       "</div>"
      ],
      "text/plain": [
       "  Case Number         Date    Year        Type Country     Area  \\\n",
       "0  2019.08.27  27-Aug-2019  2019.0    Provoked     USA  Florida   \n",
       "1  2019.08.21  21-Aug-2019  2019.0  Unprovoked     USA  Florida   \n",
       "2  2019.08.20  20-Aug-2019  2019.0  Unprovoked     USA   Hawaii   \n",
       "3  2019.08.16  16-Aug-2019  2019.0  Unprovoked     USA  Florida   \n",
       "4  2019.08.11  11-Aug-2019  2019.0  Unprovoked     USA   Hawaii   \n",
       "\n",
       "                                          Location  Activity  \\\n",
       "0                 New Smyrna Beach, Volusia County   Surfing   \n",
       "1                  Fort Lauderdale, Broward County    Wading   \n",
       "2  Napoopoo Park in Kealakekua Bay, The Big Island  Swimming   \n",
       "3                 New Smyrna Beach, Volusia County    Wading   \n",
       "4                               Makaha Beach, Oahu   Surfing   \n",
       "\n",
       "                 Name Sex   ...          Species   \\\n",
       "0        Donald Walsh    M  ...        6.5' shark   \n",
       "1  Christian Mariani     M  ...               NaN   \n",
       "2              female    F  ...               NaN   \n",
       "3         Maggie Crum    M  ...               NaN   \n",
       "4      Max Keliikipi     M  ...  10' to 12' shark   \n",
       "\n",
       "            Investigator or Source                       pdf  \\\n",
       "0  K. McMurray, TrackingSharks.com      2019.08.27-Walsh.pdf   \n",
       "1  K. McMurray, TrackingSharks.com    2019.08.21-Mariani.pdf   \n",
       "2       Hawaii News Now, 8/20/2019     2019.08.20-Hawaii.pdf   \n",
       "3                  WESH, 8/16/2019       2019.08.16-Crum.pdf   \n",
       "4              M. Michaelson, GSAF  2019.08.11-Keliikipi.pdf   \n",
       "\n",
       "                                                                     href formula  \\\n",
       "0      http://sharkattackfile.net/spreadsheets/pdf_directory/2019.08.27-Walsh.pdf   \n",
       "1    http://sharkattackfile.net/spreadsheets/pdf_directory/2019.08.21-Mariani.pdf   \n",
       "2     http://sharkattackfile.net/spreadsheets/pdf_directory/2019.08.20-Hawaii.pdf   \n",
       "3       http://sharkattackfile.net/spreadsheets/pdf_directory/2019.08.16-Crum.pdf   \n",
       "4  http://sharkattackfile.net/spreadsheets/pdf_directory/2019.08.11-Keliikipi.pdf   \n",
       "\n",
       "                                                                                                                                   href  \\\n",
       "0                                                            http://sharkattackfile.net/spreadsheets/pdf_directory/2019.08.27-Walsh.pdf   \n",
       "1                                                          http://sharkattackfile.net/spreadsheets/pdf_directory/2019.08.21-Mariani.pdf   \n",
       "2                                                           http://sharkattackfile.net/spreadsheets/pdf_directory/2019.08.20-Hawaii.pdf   \n",
       "3                                                             http://sharkattackfile.net/spreadsheets/pdf_directory/2019.08.16-Crum.pdf   \n",
       "4  http://sharkattackfile.net/spreadsheets/pdf_directory/http://sharkattackfile.net/spreadsheets/pdf_directory/2019.08.11-Keliikipi.pdf   \n",
       "\n",
       "  Case Number.1 Case Number.2 original order Unnamed: 22 Unnamed: 23  \n",
       "0    2019.08.27    2019.08.27         6452.0         NaN         NaN  \n",
       "1    2019.08.21    2019.08.21         6451.0         NaN         NaN  \n",
       "2    2019.08.20    2019.08.20         6450.0         NaN         NaN  \n",
       "3    2019.08.16    2019.08.16         6449.0         NaN         NaN  \n",
       "4    2019.08.11    2019.08.11         6448.0         NaN         NaN  \n",
       "\n",
       "[5 rows x 24 columns]"
      ]
     },
     "execution_count": 2,
     "metadata": {},
     "output_type": "execute_result"
    }
   ],
   "source": [
    "# Read the data into a Pandas DataFrame\n",
    "shark_data_raw_df = pd.read_excel(\"Resources/GSAF5-1.xlsx\")\n",
    "shark_data_raw_df.head()"
   ]
  },
  {
   "cell_type": "code",
   "execution_count": 3,
   "metadata": {},
   "outputs": [
    {
     "name": "stdout",
     "output_type": "stream",
     "text": [
      "<class 'pandas.core.frame.DataFrame'>\n",
      "RangeIndex: 25760 entries, 0 to 25759\n",
      "Data columns (total 24 columns):\n",
      " #   Column                  Non-Null Count  Dtype  \n",
      "---  ------                  --------------  -----  \n",
      " 0   Case Number             8739 non-null   object \n",
      " 1   Date                    6451 non-null   object \n",
      " 2   Year                    6449 non-null   float64\n",
      " 3   Type                    6447 non-null   object \n",
      " 4   Country                 6401 non-null   object \n",
      " 5   Area                    5988 non-null   object \n",
      " 6   Location                5904 non-null   object \n",
      " 7   Activity                5901 non-null   object \n",
      " 8   Name                    6241 non-null   object \n",
      " 9   Sex                     5886 non-null   object \n",
      " 10  Age                     3586 non-null   object \n",
      " 11  Injury                  6423 non-null   object \n",
      " 12  Fatal (Y/N)             5905 non-null   object \n",
      " 13  Time                    3064 non-null   object \n",
      " 14  Species                 3545 non-null   object \n",
      " 15  Investigator or Source  6434 non-null   object \n",
      " 16  pdf                     6451 non-null   object \n",
      " 17  href formula            6449 non-null   object \n",
      " 18  href                    6451 non-null   object \n",
      " 19  Case Number.1           6451 non-null   object \n",
      " 20  Case Number.2           6451 non-null   object \n",
      " 21  original order          6451 non-null   float64\n",
      " 22  Unnamed: 22             1 non-null      object \n",
      " 23  Unnamed: 23             2 non-null      object \n",
      "dtypes: float64(2), object(22)\n",
      "memory usage: 4.7+ MB\n"
     ]
    }
   ],
   "source": [
    "# Get a brief summary of the shark_data_raw_df DataFrame\n",
    "shark_data_raw_df.info()"
   ]
  },
  {
   "cell_type": "code",
   "execution_count": 4,
   "metadata": {},
   "outputs": [
    {
     "data": {
      "text/html": [
       "<div>\n",
       "<style scoped>\n",
       "    .dataframe tbody tr th:only-of-type {\n",
       "        vertical-align: middle;\n",
       "    }\n",
       "\n",
       "    .dataframe tbody tr th {\n",
       "        vertical-align: top;\n",
       "    }\n",
       "\n",
       "    .dataframe thead th {\n",
       "        text-align: right;\n",
       "    }\n",
       "</style>\n",
       "<table border=\"1\" class=\"dataframe\">\n",
       "  <thead>\n",
       "    <tr style=\"text-align: right;\">\n",
       "      <th></th>\n",
       "      <th>Case Number</th>\n",
       "      <th>Date</th>\n",
       "      <th>Year</th>\n",
       "      <th>Type</th>\n",
       "      <th>Country</th>\n",
       "      <th>Area</th>\n",
       "      <th>Location</th>\n",
       "      <th>Activity</th>\n",
       "      <th>Name</th>\n",
       "      <th>Sex</th>\n",
       "      <th>...</th>\n",
       "      <th>Species</th>\n",
       "      <th>Investigator or Source</th>\n",
       "      <th>pdf</th>\n",
       "      <th>href formula</th>\n",
       "      <th>href</th>\n",
       "      <th>Case Number.1</th>\n",
       "      <th>Case Number.2</th>\n",
       "      <th>original order</th>\n",
       "      <th>Unnamed: 22</th>\n",
       "      <th>Unnamed: 23</th>\n",
       "    </tr>\n",
       "  </thead>\n",
       "  <tbody>\n",
       "    <tr>\n",
       "      <th>0</th>\n",
       "      <td>2019.08.27</td>\n",
       "      <td>27-Aug-2019</td>\n",
       "      <td>2019.0</td>\n",
       "      <td>Provoked</td>\n",
       "      <td>USA</td>\n",
       "      <td>Florida</td>\n",
       "      <td>New Smyrna Beach, Volusia County</td>\n",
       "      <td>Surfing</td>\n",
       "      <td>Donald Walsh</td>\n",
       "      <td>M</td>\n",
       "      <td>...</td>\n",
       "      <td>6.5' shark</td>\n",
       "      <td>K. McMurray, TrackingSharks.com</td>\n",
       "      <td>2019.08.27-Walsh.pdf</td>\n",
       "      <td>http://sharkattackfile.net/spreadsheets/pdf_directory/2019.08.27-Walsh.pdf</td>\n",
       "      <td>http://sharkattackfile.net/spreadsheets/pdf_directory/2019.08.27-Walsh.pdf</td>\n",
       "      <td>2019.08.27</td>\n",
       "      <td>2019.08.27</td>\n",
       "      <td>6452.0</td>\n",
       "      <td>NaN</td>\n",
       "      <td>NaN</td>\n",
       "    </tr>\n",
       "    <tr>\n",
       "      <th>1</th>\n",
       "      <td>2019.08.21</td>\n",
       "      <td>21-Aug-2019</td>\n",
       "      <td>2019.0</td>\n",
       "      <td>Unprovoked</td>\n",
       "      <td>USA</td>\n",
       "      <td>Florida</td>\n",
       "      <td>Fort Lauderdale, Broward County</td>\n",
       "      <td>Wading</td>\n",
       "      <td>Christian Mariani</td>\n",
       "      <td>M</td>\n",
       "      <td>...</td>\n",
       "      <td>NaN</td>\n",
       "      <td>K. McMurray, TrackingSharks.com</td>\n",
       "      <td>2019.08.21-Mariani.pdf</td>\n",
       "      <td>http://sharkattackfile.net/spreadsheets/pdf_directory/2019.08.21-Mariani.pdf</td>\n",
       "      <td>http://sharkattackfile.net/spreadsheets/pdf_directory/2019.08.21-Mariani.pdf</td>\n",
       "      <td>2019.08.21</td>\n",
       "      <td>2019.08.21</td>\n",
       "      <td>6451.0</td>\n",
       "      <td>NaN</td>\n",
       "      <td>NaN</td>\n",
       "    </tr>\n",
       "    <tr>\n",
       "      <th>2</th>\n",
       "      <td>2019.08.20</td>\n",
       "      <td>20-Aug-2019</td>\n",
       "      <td>2019.0</td>\n",
       "      <td>Unprovoked</td>\n",
       "      <td>USA</td>\n",
       "      <td>Hawaii</td>\n",
       "      <td>Napoopoo Park in Kealakekua Bay, The Big Island</td>\n",
       "      <td>Swimming</td>\n",
       "      <td>female</td>\n",
       "      <td>F</td>\n",
       "      <td>...</td>\n",
       "      <td>NaN</td>\n",
       "      <td>Hawaii News Now, 8/20/2019</td>\n",
       "      <td>2019.08.20-Hawaii.pdf</td>\n",
       "      <td>http://sharkattackfile.net/spreadsheets/pdf_directory/2019.08.20-Hawaii.pdf</td>\n",
       "      <td>http://sharkattackfile.net/spreadsheets/pdf_directory/2019.08.20-Hawaii.pdf</td>\n",
       "      <td>2019.08.20</td>\n",
       "      <td>2019.08.20</td>\n",
       "      <td>6450.0</td>\n",
       "      <td>NaN</td>\n",
       "      <td>NaN</td>\n",
       "    </tr>\n",
       "    <tr>\n",
       "      <th>3</th>\n",
       "      <td>2019.08.16</td>\n",
       "      <td>16-Aug-2019</td>\n",
       "      <td>2019.0</td>\n",
       "      <td>Unprovoked</td>\n",
       "      <td>USA</td>\n",
       "      <td>Florida</td>\n",
       "      <td>New Smyrna Beach, Volusia County</td>\n",
       "      <td>Wading</td>\n",
       "      <td>Maggie Crum</td>\n",
       "      <td>M</td>\n",
       "      <td>...</td>\n",
       "      <td>NaN</td>\n",
       "      <td>WESH, 8/16/2019</td>\n",
       "      <td>2019.08.16-Crum.pdf</td>\n",
       "      <td>http://sharkattackfile.net/spreadsheets/pdf_directory/2019.08.16-Crum.pdf</td>\n",
       "      <td>http://sharkattackfile.net/spreadsheets/pdf_directory/2019.08.16-Crum.pdf</td>\n",
       "      <td>2019.08.16</td>\n",
       "      <td>2019.08.16</td>\n",
       "      <td>6449.0</td>\n",
       "      <td>NaN</td>\n",
       "      <td>NaN</td>\n",
       "    </tr>\n",
       "    <tr>\n",
       "      <th>4</th>\n",
       "      <td>2019.08.11</td>\n",
       "      <td>11-Aug-2019</td>\n",
       "      <td>2019.0</td>\n",
       "      <td>Unprovoked</td>\n",
       "      <td>USA</td>\n",
       "      <td>Hawaii</td>\n",
       "      <td>Makaha Beach, Oahu</td>\n",
       "      <td>Surfing</td>\n",
       "      <td>Max Keliikipi</td>\n",
       "      <td>M</td>\n",
       "      <td>...</td>\n",
       "      <td>10' to 12' shark</td>\n",
       "      <td>M. Michaelson, GSAF</td>\n",
       "      <td>2019.08.11-Keliikipi.pdf</td>\n",
       "      <td>http://sharkattackfile.net/spreadsheets/pdf_directory/2019.08.11-Keliikipi.pdf</td>\n",
       "      <td>http://sharkattackfile.net/spreadsheets/pdf_directory/http://sharkattackfile.net/spreadsheets/pdf_directory/2019.08.11-Keliikipi.pdf</td>\n",
       "      <td>2019.08.11</td>\n",
       "      <td>2019.08.11</td>\n",
       "      <td>6448.0</td>\n",
       "      <td>NaN</td>\n",
       "      <td>NaN</td>\n",
       "    </tr>\n",
       "  </tbody>\n",
       "</table>\n",
       "<p>5 rows × 24 columns</p>\n",
       "</div>"
      ],
      "text/plain": [
       "  Case Number         Date    Year        Type Country     Area  \\\n",
       "0  2019.08.27  27-Aug-2019  2019.0    Provoked     USA  Florida   \n",
       "1  2019.08.21  21-Aug-2019  2019.0  Unprovoked     USA  Florida   \n",
       "2  2019.08.20  20-Aug-2019  2019.0  Unprovoked     USA   Hawaii   \n",
       "3  2019.08.16  16-Aug-2019  2019.0  Unprovoked     USA  Florida   \n",
       "4  2019.08.11  11-Aug-2019  2019.0  Unprovoked     USA   Hawaii   \n",
       "\n",
       "                                          Location  Activity  \\\n",
       "0                 New Smyrna Beach, Volusia County   Surfing   \n",
       "1                  Fort Lauderdale, Broward County    Wading   \n",
       "2  Napoopoo Park in Kealakekua Bay, The Big Island  Swimming   \n",
       "3                 New Smyrna Beach, Volusia County    Wading   \n",
       "4                               Makaha Beach, Oahu   Surfing   \n",
       "\n",
       "                 Name Sex   ...          Species   \\\n",
       "0        Donald Walsh    M  ...        6.5' shark   \n",
       "1  Christian Mariani     M  ...               NaN   \n",
       "2              female    F  ...               NaN   \n",
       "3         Maggie Crum    M  ...               NaN   \n",
       "4      Max Keliikipi     M  ...  10' to 12' shark   \n",
       "\n",
       "            Investigator or Source                       pdf  \\\n",
       "0  K. McMurray, TrackingSharks.com      2019.08.27-Walsh.pdf   \n",
       "1  K. McMurray, TrackingSharks.com    2019.08.21-Mariani.pdf   \n",
       "2       Hawaii News Now, 8/20/2019     2019.08.20-Hawaii.pdf   \n",
       "3                  WESH, 8/16/2019       2019.08.16-Crum.pdf   \n",
       "4              M. Michaelson, GSAF  2019.08.11-Keliikipi.pdf   \n",
       "\n",
       "                                                                     href formula  \\\n",
       "0      http://sharkattackfile.net/spreadsheets/pdf_directory/2019.08.27-Walsh.pdf   \n",
       "1    http://sharkattackfile.net/spreadsheets/pdf_directory/2019.08.21-Mariani.pdf   \n",
       "2     http://sharkattackfile.net/spreadsheets/pdf_directory/2019.08.20-Hawaii.pdf   \n",
       "3       http://sharkattackfile.net/spreadsheets/pdf_directory/2019.08.16-Crum.pdf   \n",
       "4  http://sharkattackfile.net/spreadsheets/pdf_directory/2019.08.11-Keliikipi.pdf   \n",
       "\n",
       "                                                                                                                                   href  \\\n",
       "0                                                            http://sharkattackfile.net/spreadsheets/pdf_directory/2019.08.27-Walsh.pdf   \n",
       "1                                                          http://sharkattackfile.net/spreadsheets/pdf_directory/2019.08.21-Mariani.pdf   \n",
       "2                                                           http://sharkattackfile.net/spreadsheets/pdf_directory/2019.08.20-Hawaii.pdf   \n",
       "3                                                             http://sharkattackfile.net/spreadsheets/pdf_directory/2019.08.16-Crum.pdf   \n",
       "4  http://sharkattackfile.net/spreadsheets/pdf_directory/http://sharkattackfile.net/spreadsheets/pdf_directory/2019.08.11-Keliikipi.pdf   \n",
       "\n",
       "  Case Number.1 Case Number.2 original order Unnamed: 22 Unnamed: 23  \n",
       "0    2019.08.27    2019.08.27         6452.0         NaN         NaN  \n",
       "1    2019.08.21    2019.08.21         6451.0         NaN         NaN  \n",
       "2    2019.08.20    2019.08.20         6450.0         NaN         NaN  \n",
       "3    2019.08.16    2019.08.16         6449.0         NaN         NaN  \n",
       "4    2019.08.11    2019.08.11         6448.0         NaN         NaN  \n",
       "\n",
       "[5 rows x 24 columns]"
      ]
     },
     "execution_count": 4,
     "metadata": {},
     "output_type": "execute_result"
    }
   ],
   "source": [
    "# Limit the attacks to those that occurred in the United States or Canada to match Bear Attacks data\n",
    "shark_data_north_america_df = shark_data_raw_df[shark_data_raw_df[\"Country\"].isin([\"USA\", \"CANADA\"])]\n",
    "shark_data_north_america_df.head()"
   ]
  },
  {
   "cell_type": "code",
   "execution_count": 5,
   "metadata": {},
   "outputs": [
    {
     "name": "stdout",
     "output_type": "stream",
     "text": [
      "<class 'pandas.core.frame.DataFrame'>\n",
      "Index: 2322 entries, 0 to 6446\n",
      "Data columns (total 24 columns):\n",
      " #   Column                  Non-Null Count  Dtype  \n",
      "---  ------                  --------------  -----  \n",
      " 0   Case Number             2321 non-null   object \n",
      " 1   Date                    2322 non-null   object \n",
      " 2   Year                    2322 non-null   float64\n",
      " 3   Type                    2322 non-null   object \n",
      " 4   Country                 2322 non-null   object \n",
      " 5   Area                    2316 non-null   object \n",
      " 6   Location                2268 non-null   object \n",
      " 7   Activity                2185 non-null   object \n",
      " 8   Name                    2291 non-null   object \n",
      " 9   Sex                     2221 non-null   object \n",
      " 10  Age                     1565 non-null   object \n",
      " 11  Injury                  2317 non-null   object \n",
      " 12  Fatal (Y/N)             2130 non-null   object \n",
      " 13  Time                    1452 non-null   object \n",
      " 14  Species                 1374 non-null   object \n",
      " 15  Investigator or Source  2316 non-null   object \n",
      " 16  pdf                     2322 non-null   object \n",
      " 17  href formula            2322 non-null   object \n",
      " 18  href                    2322 non-null   object \n",
      " 19  Case Number.1           2322 non-null   object \n",
      " 20  Case Number.2           2322 non-null   object \n",
      " 21  original order          2322 non-null   float64\n",
      " 22  Unnamed: 22             1 non-null      object \n",
      " 23  Unnamed: 23             1 non-null      object \n",
      "dtypes: float64(2), object(22)\n",
      "memory usage: 453.5+ KB\n"
     ]
    }
   ],
   "source": [
    "# Get a brief summary of the shark_data_usa_df DataFrame\n",
    "shark_data_north_america_df.info()"
   ]
  },
  {
   "cell_type": "code",
   "execution_count": 6,
   "metadata": {},
   "outputs": [
    {
     "data": {
      "text/html": [
       "<div>\n",
       "<style scoped>\n",
       "    .dataframe tbody tr th:only-of-type {\n",
       "        vertical-align: middle;\n",
       "    }\n",
       "\n",
       "    .dataframe tbody tr th {\n",
       "        vertical-align: top;\n",
       "    }\n",
       "\n",
       "    .dataframe thead th {\n",
       "        text-align: right;\n",
       "    }\n",
       "</style>\n",
       "<table border=\"1\" class=\"dataframe\">\n",
       "  <thead>\n",
       "    <tr style=\"text-align: right;\">\n",
       "      <th></th>\n",
       "      <th>Year</th>\n",
       "      <th>original order</th>\n",
       "    </tr>\n",
       "  </thead>\n",
       "  <tbody>\n",
       "    <tr>\n",
       "      <th>count</th>\n",
       "      <td>2322.000000</td>\n",
       "      <td>2322.000000</td>\n",
       "    </tr>\n",
       "    <tr>\n",
       "      <th>mean</th>\n",
       "      <td>1966.368648</td>\n",
       "      <td>3824.114126</td>\n",
       "    </tr>\n",
       "    <tr>\n",
       "      <th>std</th>\n",
       "      <td>178.481008</td>\n",
       "      <td>1728.334868</td>\n",
       "    </tr>\n",
       "    <tr>\n",
       "      <th>min</th>\n",
       "      <td>0.000000</td>\n",
       "      <td>4.000000</td>\n",
       "    </tr>\n",
       "    <tr>\n",
       "      <th>25%</th>\n",
       "      <td>1965.000000</td>\n",
       "      <td>2671.500000</td>\n",
       "    </tr>\n",
       "    <tr>\n",
       "      <th>50%</th>\n",
       "      <td>1997.000000</td>\n",
       "      <td>4084.500000</td>\n",
       "    </tr>\n",
       "    <tr>\n",
       "      <th>75%</th>\n",
       "      <td>2009.000000</td>\n",
       "      <td>5211.750000</td>\n",
       "    </tr>\n",
       "    <tr>\n",
       "      <th>max</th>\n",
       "      <td>2019.000000</td>\n",
       "      <td>6452.000000</td>\n",
       "    </tr>\n",
       "  </tbody>\n",
       "</table>\n",
       "</div>"
      ],
      "text/plain": [
       "              Year  original order\n",
       "count  2322.000000     2322.000000\n",
       "mean   1966.368648     3824.114126\n",
       "std     178.481008     1728.334868\n",
       "min       0.000000        4.000000\n",
       "25%    1965.000000     2671.500000\n",
       "50%    1997.000000     4084.500000\n",
       "75%    2009.000000     5211.750000\n",
       "max    2019.000000     6452.000000"
      ]
     },
     "execution_count": 6,
     "metadata": {},
     "output_type": "execute_result"
    }
   ],
   "source": [
    "shark_data_north_america_df.describe()"
   ]
  },
  {
   "cell_type": "markdown",
   "metadata": {},
   "source": [
    "### Shark Data Cleaning"
   ]
  },
  {
   "cell_type": "code",
   "execution_count": 7,
   "metadata": {},
   "outputs": [
    {
     "name": "stdout",
     "output_type": "stream",
     "text": [
      "<class 'pandas.core.frame.DataFrame'>\n",
      "Index: 2322 entries, 0 to 6446\n",
      "Data columns (total 24 columns):\n",
      " #   Column                  Non-Null Count  Dtype  \n",
      "---  ------                  --------------  -----  \n",
      " 0   case_number             2321 non-null   object \n",
      " 1   date                    2322 non-null   object \n",
      " 2   year                    2322 non-null   float64\n",
      " 3   type                    2322 non-null   object \n",
      " 4   country                 2322 non-null   object \n",
      " 5   area                    2316 non-null   object \n",
      " 6   location                2268 non-null   object \n",
      " 7   activity                2185 non-null   object \n",
      " 8   name                    2291 non-null   object \n",
      " 9   sex                     2221 non-null   object \n",
      " 10  age                     1565 non-null   object \n",
      " 11  injury                  2317 non-null   object \n",
      " 12  fatal_(y/n)             2130 non-null   object \n",
      " 13  time                    1452 non-null   object \n",
      " 14  species                 1374 non-null   object \n",
      " 15  investigator_or_source  2316 non-null   object \n",
      " 16  pdf                     2322 non-null   object \n",
      " 17  href_formula            2322 non-null   object \n",
      " 18  href                    2322 non-null   object \n",
      " 19  case_number.1           2322 non-null   object \n",
      " 20  case_number.2           2322 non-null   object \n",
      " 21  original_order          2322 non-null   float64\n",
      " 22  unnamed:_22             1 non-null      object \n",
      " 23  unnamed:_23             1 non-null      object \n",
      "dtypes: float64(2), object(22)\n",
      "memory usage: 453.5+ KB\n"
     ]
    }
   ],
   "source": [
    "# Change headers to lowercase and replace spaces with underscores\n",
    "shark_data_north_america_df.columns = shark_data_north_america_df.columns.str.lower().str.strip().str.replace(\" \", \"_\")\n",
    "shark_data_north_america_df.info()"
   ]
  },
  {
   "cell_type": "markdown",
   "metadata": {},
   "source": [
    "#### Clean date"
   ]
  },
  {
   "cell_type": "code",
   "execution_count": 8,
   "metadata": {},
   "outputs": [
    {
     "data": {
      "text/plain": [
       "array(['27-Aug-2019', '21-Aug-2019', '20-Aug-2019', ..., 'Before 1921',\n",
       "       'Before 17-Jul-1916', '1900-1905'], dtype=object)"
      ]
     },
     "execution_count": 8,
     "metadata": {},
     "output_type": "execute_result"
    }
   ],
   "source": [
    "# Verify the original values\n",
    "shark_data_north_america_df.date.unique()"
   ]
  },
  {
   "cell_type": "code",
   "execution_count": 9,
   "metadata": {},
   "outputs": [
    {
     "name": "stderr",
     "output_type": "stream",
     "text": [
      "C:\\Users\\carlo\\AppData\\Local\\Temp\\ipykernel_4832\\1730911965.py:2: SettingWithCopyWarning: \n",
      "A value is trying to be set on a copy of a slice from a DataFrame.\n",
      "Try using .loc[row_indexer,col_indexer] = value instead\n",
      "\n",
      "See the caveats in the documentation: https://pandas.pydata.org/pandas-docs/stable/user_guide/indexing.html#returning-a-view-versus-a-copy\n",
      "  shark_data_north_america_df['date'] = shark_data_north_america_df['date'].str.replace('Reported ', '', regex=False)\n",
      "C:\\Users\\carlo\\AppData\\Local\\Temp\\ipykernel_4832\\1730911965.py:5: SettingWithCopyWarning: \n",
      "A value is trying to be set on a copy of a slice from a DataFrame.\n",
      "Try using .loc[row_indexer,col_indexer] = value instead\n",
      "\n",
      "See the caveats in the documentation: https://pandas.pydata.org/pandas-docs/stable/user_guide/indexing.html#returning-a-view-versus-a-copy\n",
      "  shark_data_north_america_df['date'] = pd.to_datetime(shark_data_north_america_df['date'], errors='coerce', format='%d-%b-%Y')\n"
     ]
    },
    {
     "data": {
      "text/plain": [
       "<DatetimeArray>\n",
       "['2019-08-27 00:00:00', '2019-08-21 00:00:00', '2019-08-20 00:00:00',\n",
       " '2019-08-16 00:00:00', '2019-08-11 00:00:00', '2019-08-04 00:00:00',\n",
       " '2019-08-03 00:00:00', '2019-07-30 00:00:00', '2019-07-29 00:00:00',\n",
       " '2019-07-27 00:00:00',\n",
       " ...\n",
       " '1840-07-22 00:00:00', '1837-09-09 00:00:00', '1831-08-24 00:00:00',\n",
       " '1830-07-26 00:00:00', '1829-06-10 00:00:00', '1817-06-24 00:00:00',\n",
       " '1810-09-15 00:00:00', '1780-08-08 00:00:00', '1771-07-12 00:00:00',\n",
       " '1751-07-27 00:00:00']\n",
       "Length: 1867, dtype: datetime64[ns]"
      ]
     },
     "execution_count": 9,
     "metadata": {},
     "output_type": "execute_result"
    }
   ],
   "source": [
    "# Replace 'Reported' with an empty string in the 'Date' column\n",
    "shark_data_north_america_df['date'] = shark_data_north_america_df['date'].str.replace('Reported ', '', regex=False)\n",
    "\n",
    "# Convert 'Date' to datetime\n",
    "shark_data_north_america_df['date'] = pd.to_datetime(shark_data_north_america_df['date'], errors='coerce', format='%d-%b-%Y')\n",
    "\n",
    "# Optionally, print the distinct values after cleaning\n",
    "shark_data_north_america_df['date'].unique()"
   ]
  },
  {
   "cell_type": "markdown",
   "metadata": {},
   "source": [
    "#### Clean Year"
   ]
  },
  {
   "cell_type": "code",
   "execution_count": 10,
   "metadata": {},
   "outputs": [
    {
     "data": {
      "text/plain": [
       "array([2019., 2018., 2017., 2016., 2015., 2014., 2013., 2012., 2011.,\n",
       "       2010., 2009., 2008., 2007., 2006., 2005., 2004., 2003., 2002.,\n",
       "       2001., 2000., 1999., 1998., 1997., 1996., 1995., 1994., 1993.,\n",
       "       1992., 1991., 1990., 1989., 1988., 1987., 1986., 1985., 1984.,\n",
       "       1983., 1982., 1981., 1980., 1979., 1978., 1977., 1976., 1975.,\n",
       "       1974., 1973., 1972., 1971., 1970., 1969., 1968., 1967., 1966.,\n",
       "       1965., 1964., 1963., 1962., 1961., 1960., 1959., 1958., 1957.,\n",
       "       1956., 1955., 1954., 1953., 1952., 1951., 1950., 1949., 1948.,\n",
       "       1947., 1945., 1944., 1943., 1942., 1941., 1940., 1939., 1938.,\n",
       "       1937., 1936., 1935., 1934., 1933., 1932., 1931., 1930., 1929.,\n",
       "       1928., 1927., 1926., 1925., 1924., 1923., 1922., 1920., 1919.,\n",
       "       1918., 1917., 1916., 1915., 1914., 1913., 1912., 1911., 1910.,\n",
       "       1909., 1908., 1907., 1906., 1905., 1904., 1903., 1902., 1901.,\n",
       "       1900., 1899., 1898., 1897., 1896., 1895., 1894., 1892., 1891.,\n",
       "       1890., 1889., 1888., 1887., 1886., 1885., 1884., 1883., 1882.,\n",
       "       1881., 1880., 1879., 1878., 1876., 1874., 1873., 1872., 1871.,\n",
       "       1870., 1866., 1865., 1864., 1863., 1862., 1860., 1859., 1858.,\n",
       "       1857., 1855., 1853., 1852., 1851., 1850., 1849., 1848., 1847.,\n",
       "       1845., 1842., 1840., 1837., 1831., 1830., 1829., 1828., 1817.,\n",
       "       1816., 1810., 1805., 1803., 1780., 1779., 1771., 1751., 1642.,\n",
       "          0.])"
      ]
     },
     "execution_count": 10,
     "metadata": {},
     "output_type": "execute_result"
    }
   ],
   "source": [
    "# Verify the original values\n",
    "shark_data_north_america_df['year'].unique()"
   ]
  },
  {
   "cell_type": "code",
   "execution_count": 11,
   "metadata": {},
   "outputs": [
    {
     "name": "stderr",
     "output_type": "stream",
     "text": [
      "C:\\Users\\carlo\\AppData\\Local\\Temp\\ipykernel_4832\\1787755575.py:2: SettingWithCopyWarning: \n",
      "A value is trying to be set on a copy of a slice from a DataFrame.\n",
      "Try using .loc[row_indexer,col_indexer] = value instead\n",
      "\n",
      "See the caveats in the documentation: https://pandas.pydata.org/pandas-docs/stable/user_guide/indexing.html#returning-a-view-versus-a-copy\n",
      "  shark_data_north_america_df['year'] = pd.to_numeric(shark_data_north_america_df['year'], errors='coerce')\n",
      "C:\\Users\\carlo\\AppData\\Local\\Temp\\ipykernel_4832\\1787755575.py:8: SettingWithCopyWarning: \n",
      "A value is trying to be set on a copy of a slice from a DataFrame.\n",
      "Try using .loc[row_indexer,col_indexer] = value instead\n",
      "\n",
      "See the caveats in the documentation: https://pandas.pydata.org/pandas-docs/stable/user_guide/indexing.html#returning-a-view-versus-a-copy\n",
      "  shark_data_north_america_df['year'] = shark_data_north_america_df['year'].apply(lambda x: x if (pd.notnull(x) and valid_year_range[0] <= x <= valid_year_range[1]) else np.nan)\n"
     ]
    },
    {
     "data": {
      "text/plain": [
       "array([2019., 2018., 2017., 2016., 2015., 2014., 2013., 2012., 2011.,\n",
       "       2010., 2009., 2008., 2007., 2006., 2005., 2004., 2003., 2002.,\n",
       "       2001., 2000., 1999., 1998., 1997., 1996., 1995., 1994., 1993.,\n",
       "       1992., 1991., 1990., 1989., 1988., 1987., 1986., 1985., 1984.,\n",
       "       1983., 1982., 1981., 1980., 1979., 1978., 1977., 1976., 1975.,\n",
       "       1974., 1973., 1972., 1971., 1970., 1969., 1968., 1967., 1966.,\n",
       "       1965., 1964., 1963., 1962., 1961., 1960., 1959., 1958., 1957.,\n",
       "       1956., 1955., 1954., 1953., 1952., 1951., 1950., 1949., 1948.,\n",
       "       1947., 1945., 1944., 1943., 1942., 1941., 1940., 1939., 1938.,\n",
       "       1937., 1936., 1935., 1934., 1933., 1932., 1931., 1930., 1929.,\n",
       "       1928., 1927., 1926., 1925., 1924., 1923., 1922., 1920., 1919.,\n",
       "       1918., 1917., 1916., 1915., 1914., 1913., 1912., 1911., 1910.,\n",
       "       1909., 1908., 1907., 1906., 1905., 1904., 1903., 1902., 1901.,\n",
       "       1900.,   nan])"
      ]
     },
     "execution_count": 11,
     "metadata": {},
     "output_type": "execute_result"
    }
   ],
   "source": [
    "# Convert 'Year' to numeric, setting errors='coerce' to handle non-numeric values\n",
    "shark_data_north_america_df['year'] = pd.to_numeric(shark_data_north_america_df['year'], errors='coerce')\n",
    "\n",
    "# Define valid range for years\n",
    "valid_year_range = (1900, 2019)  # Adjust the range as needed\n",
    "\n",
    "# Filter out invalid years outside the valid range\n",
    "shark_data_north_america_df['year'] = shark_data_north_america_df['year'].apply(lambda x: x if (pd.notnull(x) and valid_year_range[0] <= x <= valid_year_range[1]) else np.nan)\n",
    "\n",
    "# Print the distinct values after cleaning\n",
    "shark_data_north_america_df['year'].sort_values(ascending=False).unique()"
   ]
  },
  {
   "cell_type": "markdown",
   "metadata": {},
   "source": [
    "#### Clean Fatal"
   ]
  },
  {
   "cell_type": "code",
   "execution_count": 12,
   "metadata": {},
   "outputs": [
    {
     "data": {
      "text/plain": [
       "array(['N', nan, 'Y', 'UNKNOWN', 'Y x 2'], dtype=object)"
      ]
     },
     "execution_count": 12,
     "metadata": {},
     "output_type": "execute_result"
    }
   ],
   "source": [
    "# Verify the original values\n",
    "shark_data_north_america_df['fatal_(y/n)'].unique()"
   ]
  },
  {
   "cell_type": "code",
   "execution_count": 13,
   "metadata": {},
   "outputs": [
    {
     "name": "stderr",
     "output_type": "stream",
     "text": [
      "C:\\Users\\carlo\\AppData\\Local\\Temp\\ipykernel_4832\\1262230436.py:12: SettingWithCopyWarning: \n",
      "A value is trying to be set on a copy of a slice from a DataFrame.\n",
      "Try using .loc[row_indexer,col_indexer] = value instead\n",
      "\n",
      "See the caveats in the documentation: https://pandas.pydata.org/pandas-docs/stable/user_guide/indexing.html#returning-a-view-versus-a-copy\n",
      "  shark_data_north_america_df['fatal_(y/n)'] = shark_data_north_america_df['fatal_(y/n)'].apply(standardize_fatal)\n"
     ]
    },
    {
     "data": {
      "text/plain": [
       "array(['N', nan, 'Y'], dtype=object)"
      ]
     },
     "execution_count": 13,
     "metadata": {},
     "output_type": "execute_result"
    }
   ],
   "source": [
    "# Define mapping for Fatal(Y/N) values\n",
    "def standardize_fatal(value):\n",
    "    value = str(value).strip().upper()\n",
    "    if value in ['Y', 'YES', 'Y X 2']:\n",
    "        return 'Y'\n",
    "    elif value in ['N', 'NO', 'N ']:\n",
    "        return 'N'\n",
    "    else:\n",
    "        return np.nan\n",
    "\n",
    "# Apply the function to the 'Fatal(Y/N)' column\n",
    "shark_data_north_america_df['fatal_(y/n)'] = shark_data_north_america_df['fatal_(y/n)'].apply(standardize_fatal)\n",
    "\n",
    "# Verify the updated values\n",
    "shark_data_north_america_df['fatal_(y/n)'].unique()"
   ]
  },
  {
   "cell_type": "markdown",
   "metadata": {},
   "source": [
    "#### Clean Age"
   ]
  },
  {
   "cell_type": "code",
   "execution_count": 14,
   "metadata": {},
   "outputs": [
    {
     "data": {
      "text/plain": [
       "array([40, 11, 26, 9, 16, 51, 21, 20, 37, nan, 18, 49, 23, 8, 64, 19, 17,\n",
       "       65, 67, 28, 25, 10, 58, 74, 46, 50, 48, 29, 13, 55, 39, '60s', 14,\n",
       "       61, 42, 'a minor', 12, 30, 57, 52, 15, 54, 35, 60, 33, 3, 69, 34,\n",
       "       22, 'Teen', 47, 41, 36, 66, 32, 43, 59, 6, 27, 71, 44, 31, '38',\n",
       "       '39', '32', '68', '12', '18', '43', '47', '6', '9', '10', '16',\n",
       "       '13', '11', '17', '14', '19', '30', '65', '63', '48', '70', '58',\n",
       "       '20', '50', '44', '53', '34', '7', '29', '40', '15', '28', '20s',\n",
       "       '52', '33', '26', '45', '50s', '8', '61', '22', '37', '23', '42',\n",
       "       '25', 'teen', '21', '57', '46', '3', '56', '60', '51', '35', '24',\n",
       "       '55', '30s', '31', '27', '41', '5', '54', '86', '49', '66', '36',\n",
       "       '12 or 13', '59', '62', 'Teens', 45, 38, 7, 56, '8 or 10', '\\xa0 ',\n",
       "       24, '6½', 'mid-30s', 73, 53, '23 & 20', 5, 62, 63,\n",
       "       '7      &    31', ' 28', '71', \"60's\", '87', '67', '77', 'Elderly',\n",
       "       'mid-20s', 'Ca. 33', 75, '21 or 26', 'adult', '9 & 12',\n",
       "       '37, 67, 35, 27,  ? & 27', '4', ' 43', '?    &   14', '10 or 12',\n",
       "       'young'], dtype=object)"
      ]
     },
     "execution_count": 14,
     "metadata": {},
     "output_type": "execute_result"
    }
   ],
   "source": [
    "# Verify the original values\n",
    "shark_data_north_america_df['age'].unique()"
   ]
  },
  {
   "cell_type": "code",
   "execution_count": 15,
   "metadata": {},
   "outputs": [
    {
     "name": "stdout",
     "output_type": "stream",
     "text": [
      "Number of NaN values in 'Age': 795\n"
     ]
    },
    {
     "name": "stderr",
     "output_type": "stream",
     "text": [
      "C:\\Users\\carlo\\AppData\\Local\\Temp\\ipykernel_4832\\3567059219.py:10: SettingWithCopyWarning: \n",
      "A value is trying to be set on a copy of a slice from a DataFrame.\n",
      "Try using .loc[row_indexer,col_indexer] = value instead\n",
      "\n",
      "See the caveats in the documentation: https://pandas.pydata.org/pandas-docs/stable/user_guide/indexing.html#returning-a-view-versus-a-copy\n",
      "  shark_data_north_america_df['age'] = shark_data_north_america_df['age'].apply(convert_to_numeric)\n"
     ]
    },
    {
     "data": {
      "text/plain": [
       "array([87., 86., 77., 75., 74., 73., 71., 70., 69., 68., 67., 66., 65.,\n",
       "       64., 63., 62., 61., 60., 59., 58., 57., 56., 55., 54., 53., 52.,\n",
       "       51., 50., 49., 48., 47., 46., 45., 44., 43., 42., 41., 40., 39.,\n",
       "       38., 37., 36., 35., 34., 33., 32., 31., 30., 29., 28., 27., 26.,\n",
       "       25., 24., 23., 22., 21., 20., 19., 18., 17., 16., 15., 14., 13.,\n",
       "       12., 11., 10.,  9.,  8.,  7.,  6.,  5.,  4.,  3., nan])"
      ]
     },
     "execution_count": 15,
     "metadata": {},
     "output_type": "execute_result"
    }
   ],
   "source": [
    "# Function to convert values to numeric, replacing invalid ones with NaN\n",
    "def convert_to_numeric(value):\n",
    "    try:\n",
    "        # Convert value to numeric, if possible\n",
    "        return pd.to_numeric(value, errors='coerce')\n",
    "    except (ValueError, TypeError):\n",
    "        return np.nan\n",
    "\n",
    "# Apply the function to the 'Age' column\n",
    "shark_data_north_america_df['age'] = shark_data_north_america_df['age'].apply(convert_to_numeric)\n",
    "\n",
    "# Print the number of NaN values in the 'Age' column to verify\n",
    "print(f\"Number of NaN values in 'Age': {shark_data_north_america_df['age'].isna().sum()}\")\n",
    "\n",
    "# Verify the original values\n",
    "shark_data_north_america_df['age'].sort_values(ascending=False).unique()"
   ]
  },
  {
   "cell_type": "markdown",
   "metadata": {},
   "source": [
    "#### Clean Gender"
   ]
  },
  {
   "cell_type": "code",
   "execution_count": 16,
   "metadata": {},
   "outputs": [
    {
     "data": {
      "text/plain": [
       "array(['M', 'F', nan, 'M ', 'lli', 'M x 2'], dtype=object)"
      ]
     },
     "execution_count": 16,
     "metadata": {},
     "output_type": "execute_result"
    }
   ],
   "source": [
    "# Verify the original values\n",
    "shark_data_north_america_df['sex'].unique()"
   ]
  },
  {
   "cell_type": "code",
   "execution_count": 17,
   "metadata": {},
   "outputs": [
    {
     "name": "stderr",
     "output_type": "stream",
     "text": [
      "C:\\Users\\carlo\\AppData\\Local\\Temp\\ipykernel_4832\\2695549873.py:5: SettingWithCopyWarning: \n",
      "A value is trying to be set on a copy of a slice from a DataFrame.\n",
      "Try using .loc[row_indexer,col_indexer] = value instead\n",
      "\n",
      "See the caveats in the documentation: https://pandas.pydata.org/pandas-docs/stable/user_guide/indexing.html#returning-a-view-versus-a-copy\n",
      "  shark_data_north_america_df['sex'] = shark_data_north_america_df['sex'].apply(lambda x: x.strip() if isinstance(x, str) else x)  # Remove any leading/trailing spaces\n",
      "C:\\Users\\carlo\\AppData\\Local\\Temp\\ipykernel_4832\\2695549873.py:6: SettingWithCopyWarning: \n",
      "A value is trying to be set on a copy of a slice from a DataFrame.\n",
      "Try using .loc[row_indexer,col_indexer] = value instead\n",
      "\n",
      "See the caveats in the documentation: https://pandas.pydata.org/pandas-docs/stable/user_guide/indexing.html#returning-a-view-versus-a-copy\n",
      "  shark_data_north_america_df['sex'] = shark_data_north_america_df['sex'].apply(lambda x: x if x in valid_sex_values else 'U')\n"
     ]
    },
    {
     "data": {
      "text/plain": [
       "array(['M', 'F', 'U'], dtype=object)"
      ]
     },
     "execution_count": 17,
     "metadata": {},
     "output_type": "execute_result"
    }
   ],
   "source": [
    "# Define the valid values for sex\n",
    "valid_sex_values = ['M', 'F']\n",
    "\n",
    "# Use apply with a lambda function to clean the 'Sex ' column\n",
    "shark_data_north_america_df['sex'] = shark_data_north_america_df['sex'].apply(lambda x: x.strip() if isinstance(x, str) else x)  # Remove any leading/trailing spaces\n",
    "shark_data_north_america_df['sex'] = shark_data_north_america_df['sex'].apply(lambda x: x if x in valid_sex_values else 'U')\n",
    "\n",
    "# Verify the cleaned values\n",
    "shark_data_north_america_df['sex'].unique()"
   ]
  },
  {
   "cell_type": "markdown",
   "metadata": {},
   "source": [
    "#### Clean location"
   ]
  },
  {
   "cell_type": "code",
   "execution_count": 18,
   "metadata": {},
   "outputs": [
    {
     "name": "stdout",
     "output_type": "stream",
     "text": [
      "<class 'pandas.core.frame.DataFrame'>\n",
      "Index: 2322 entries, 0 to 6446\n",
      "Data columns (total 24 columns):\n",
      " #   Column                  Non-Null Count  Dtype         \n",
      "---  ------                  --------------  -----         \n",
      " 0   case_number             2321 non-null   object        \n",
      " 1   date                    2094 non-null   datetime64[ns]\n",
      " 2   year                    2169 non-null   float64       \n",
      " 3   type                    2322 non-null   object        \n",
      " 4   country                 2322 non-null   object        \n",
      " 5   area                    2316 non-null   object        \n",
      " 6   location                2268 non-null   object        \n",
      " 7   activity                2185 non-null   object        \n",
      " 8   name                    2291 non-null   object        \n",
      " 9   sex                     2322 non-null   object        \n",
      " 10  age                     1527 non-null   float64       \n",
      " 11  injury                  2317 non-null   object        \n",
      " 12  fatal_(y/n)             2112 non-null   object        \n",
      " 13  time                    1452 non-null   object        \n",
      " 14  species                 1374 non-null   object        \n",
      " 15  investigator_or_source  2316 non-null   object        \n",
      " 16  pdf                     2322 non-null   object        \n",
      " 17  href_formula            2322 non-null   object        \n",
      " 18  href                    2322 non-null   object        \n",
      " 19  case_number.1           2322 non-null   object        \n",
      " 20  case_number.2           2322 non-null   object        \n",
      " 21  original_order          2322 non-null   float64       \n",
      " 22  unnamed:_22             1 non-null      object        \n",
      " 23  unnamed:_23             1 non-null      object        \n",
      "dtypes: datetime64[ns](1), float64(3), object(20)\n",
      "memory usage: 453.5+ KB\n"
     ]
    }
   ],
   "source": [
    "shark_data_north_america_df.info()"
   ]
  },
  {
   "cell_type": "code",
   "execution_count": 19,
   "metadata": {},
   "outputs": [
    {
     "name": "stdout",
     "output_type": "stream",
     "text": [
      "<class 'pandas.core.frame.DataFrame'>\n",
      "Index: 2268 entries, 0 to 6446\n",
      "Data columns (total 24 columns):\n",
      " #   Column                  Non-Null Count  Dtype         \n",
      "---  ------                  --------------  -----         \n",
      " 0   case_number             2267 non-null   object        \n",
      " 1   date                    2054 non-null   datetime64[ns]\n",
      " 2   year                    2130 non-null   float64       \n",
      " 3   type                    2268 non-null   object        \n",
      " 4   country                 2268 non-null   object        \n",
      " 5   area                    2266 non-null   object        \n",
      " 6   location                2268 non-null   object        \n",
      " 7   activity                2138 non-null   object        \n",
      " 8   name                    2237 non-null   object        \n",
      " 9   sex                     2268 non-null   object        \n",
      " 10  age                     1509 non-null   float64       \n",
      " 11  injury                  2263 non-null   object        \n",
      " 12  fatal_(y/n)             2066 non-null   object        \n",
      " 13  time                    1440 non-null   object        \n",
      " 14  species                 1353 non-null   object        \n",
      " 15  investigator_or_source  2262 non-null   object        \n",
      " 16  pdf                     2268 non-null   object        \n",
      " 17  href_formula            2268 non-null   object        \n",
      " 18  href                    2268 non-null   object        \n",
      " 19  case_number.1           2268 non-null   object        \n",
      " 20  case_number.2           2268 non-null   object        \n",
      " 21  original_order          2268 non-null   float64       \n",
      " 22  unnamed:_22             1 non-null      object        \n",
      " 23  unnamed:_23             1 non-null      object        \n",
      "dtypes: datetime64[ns](1), float64(3), object(20)\n",
      "memory usage: 443.0+ KB\n"
     ]
    }
   ],
   "source": [
    "# Remove rows where Location is NaN \n",
    "shark_data_north_america_df = shark_data_north_america_df.dropna(subset=[\"location\"])\n",
    "shark_data_north_america_df.info()"
   ]
  },
  {
   "cell_type": "markdown",
   "metadata": {},
   "source": [
    "### Retrieve Latitude and Longitude for each Location using Geoapify API"
   ]
  },
  {
   "cell_type": "code",
   "execution_count": 25,
   "metadata": {},
   "outputs": [
    {
     "data": {
      "text/html": [
       "<div>\n",
       "<style scoped>\n",
       "    .dataframe tbody tr th:only-of-type {\n",
       "        vertical-align: middle;\n",
       "    }\n",
       "\n",
       "    .dataframe tbody tr th {\n",
       "        vertical-align: top;\n",
       "    }\n",
       "\n",
       "    .dataframe thead th {\n",
       "        text-align: right;\n",
       "    }\n",
       "</style>\n",
       "<table border=\"1\" class=\"dataframe\">\n",
       "  <thead>\n",
       "    <tr style=\"text-align: right;\">\n",
       "      <th></th>\n",
       "      <th>location</th>\n",
       "      <th>area</th>\n",
       "      <th>country</th>\n",
       "      <th>count</th>\n",
       "    </tr>\n",
       "  </thead>\n",
       "  <tbody>\n",
       "    <tr>\n",
       "      <th>837</th>\n",
       "      <td>New Smyrna Beach, Volusia County</td>\n",
       "      <td>Florida</td>\n",
       "      <td>USA</td>\n",
       "      <td>172</td>\n",
       "    </tr>\n",
       "    <tr>\n",
       "      <th>311</th>\n",
       "      <td>Daytona Beach, Volusia County</td>\n",
       "      <td>Florida</td>\n",
       "      <td>USA</td>\n",
       "      <td>30</td>\n",
       "    </tr>\n",
       "    <tr>\n",
       "      <th>1067</th>\n",
       "      <td>Ponce Inlet, Volusia County</td>\n",
       "      <td>Florida</td>\n",
       "      <td>USA</td>\n",
       "      <td>22</td>\n",
       "    </tr>\n",
       "    <tr>\n",
       "      <th>737</th>\n",
       "      <td>Melbourne Beach, Brevard County</td>\n",
       "      <td>Florida</td>\n",
       "      <td>USA</td>\n",
       "      <td>18</td>\n",
       "    </tr>\n",
       "    <tr>\n",
       "      <th>793</th>\n",
       "      <td>Myrtle Beach, Horry County</td>\n",
       "      <td>South Carolina</td>\n",
       "      <td>USA</td>\n",
       "      <td>17</td>\n",
       "    </tr>\n",
       "    <tr>\n",
       "      <th>...</th>\n",
       "      <td>...</td>\n",
       "      <td>...</td>\n",
       "      <td>...</td>\n",
       "      <td>...</td>\n",
       "    </tr>\n",
       "    <tr>\n",
       "      <th>511</th>\n",
       "      <td>In kelp beds off La Jolla, San Diego County</td>\n",
       "      <td>California</td>\n",
       "      <td>USA</td>\n",
       "      <td>1</td>\n",
       "    </tr>\n",
       "    <tr>\n",
       "      <th>510</th>\n",
       "      <td>In front of Key Biscayne Beach Club, Key Biscayne</td>\n",
       "      <td>Florida</td>\n",
       "      <td>USA</td>\n",
       "      <td>1</td>\n",
       "    </tr>\n",
       "    <tr>\n",
       "      <th>509</th>\n",
       "      <td>In a canal 10 miles north of St Augustine</td>\n",
       "      <td>Florida</td>\n",
       "      <td>USA</td>\n",
       "      <td>1</td>\n",
       "    </tr>\n",
       "    <tr>\n",
       "      <th>508</th>\n",
       "      <td>In Matawan Creek, off NJ Clay Company brickyards at Cliffwood, Monmouth County, 9.5 miles from the sea, Monmouth County</td>\n",
       "      <td>New Jersey</td>\n",
       "      <td>USA</td>\n",
       "      <td>1</td>\n",
       "    </tr>\n",
       "    <tr>\n",
       "      <th>1431</th>\n",
       "      <td>“Southern Wharf”</td>\n",
       "      <td>South Carolina</td>\n",
       "      <td>USA</td>\n",
       "      <td>1</td>\n",
       "    </tr>\n",
       "  </tbody>\n",
       "</table>\n",
       "<p>1432 rows × 4 columns</p>\n",
       "</div>"
      ],
      "text/plain": [
       "                                                                                                                     location  \\\n",
       "837                                                                                          New Smyrna Beach, Volusia County   \n",
       "311                                                                                             Daytona Beach, Volusia County   \n",
       "1067                                                                                              Ponce Inlet, Volusia County   \n",
       "737                                                                                           Melbourne Beach, Brevard County   \n",
       "793                                                                                                Myrtle Beach, Horry County   \n",
       "...                                                                                                                       ...   \n",
       "511                                                                               In kelp beds off La Jolla, San Diego County   \n",
       "510                                                                         In front of Key Biscayne Beach Club, Key Biscayne   \n",
       "509                                                                                 In a canal 10 miles north of St Augustine   \n",
       "508   In Matawan Creek, off NJ Clay Company brickyards at Cliffwood, Monmouth County, 9.5 miles from the sea, Monmouth County   \n",
       "1431                                                                                                         “Southern Wharf”   \n",
       "\n",
       "                area country  count  \n",
       "837          Florida     USA    172  \n",
       "311          Florida     USA     30  \n",
       "1067         Florida     USA     22  \n",
       "737          Florida     USA     18  \n",
       "793   South Carolina     USA     17  \n",
       "...              ...     ...    ...  \n",
       "511       California     USA      1  \n",
       "510          Florida     USA      1  \n",
       "509          Florida     USA      1  \n",
       "508       New Jersey     USA      1  \n",
       "1431  South Carolina     USA      1  \n",
       "\n",
       "[1432 rows x 4 columns]"
      ]
     },
     "execution_count": 25,
     "metadata": {},
     "output_type": "execute_result"
    }
   ],
   "source": [
    "# Get the unique values in the 'Location' column to minimize the number of API calls including Area and Country columns\n",
    "# Only use location, area and country columns\n",
    "shark_unique_df = shark_data_north_america_df[['location', 'area', 'country']]\n",
    "\n",
    "# Group by location, area, and country to get the count of unique values\n",
    "shark_unique_df = shark_unique_df.groupby(['location', 'area', 'country']).size().reset_index(name='count')\n",
    "shark_unique_df.sort_values(by='count', ascending=False)"
   ]
  },
  {
   "cell_type": "code",
   "execution_count": 30,
   "metadata": {},
   "outputs": [
    {
     "name": "stdout",
     "output_type": "stream",
     "text": [
      " Cocoa Beach, Brevard  County, Florida, USA\n",
      " Daytona Beach, Volusia County, Florida, USA\n",
      " Huntington Beach, Orange County, California, USA\n",
      " Kahului, Maui, Hawaii, USA\n",
      " Kalepolepo, Kihei, Maui, Hawaii, USA\n",
      " Marathon, Monroe County, Florida, USA\n",
      " New Smyrna Beach, Volusia County, Florida, USA\n",
      " Palm Beach County, Florida, USA\n",
      " Riviera Beach, Palm Beach County, Florida, USA\n",
      " Vieques, Puerto Rico, USA\n"
     ]
    }
   ],
   "source": [
    "test_df = shark_unique_df[0:10]\n",
    "\n",
    "for index, row in test_df.iterrows():\n",
    "    location = row['location']\n",
    "    area = row['area']\n",
    "    country = row['country']\n",
    "    print(f\"{location}, {area}, {country}\")\n"
   ]
  },
  {
   "cell_type": "code",
   "execution_count": 32,
   "metadata": {},
   "outputs": [
    {
     "ename": "SyntaxError",
     "evalue": "f-string: expecting '}' (357123967.py, line 27)",
     "output_type": "error",
     "traceback": [
      "\u001b[1;36m  Cell \u001b[1;32mIn[32], line 27\u001b[1;36m\u001b[0m\n\u001b[1;33m    print(f\"Location not found: {f\"{location}, {area}, {country}\"}\")\u001b[0m\n\u001b[1;37m                                   ^\u001b[0m\n\u001b[1;31mSyntaxError\u001b[0m\u001b[1;31m:\u001b[0m f-string: expecting '}'\n"
     ]
    }
   ],
   "source": [
    "# Add a new column to the DataFrame to store the coordinates\n",
    "shark_unique_df[\"latitude\"] = np.nan\n",
    "shark_unique_df[\"longitude\"] = np.nan\n",
    "\n",
    "# Set parameters to get the latitude and longitude of the Location\n",
    "params = {\"apiKey\": GEOAPIFY_API}\n",
    "\n",
    "# Loop through the rows of the shark_short_data_usa_df DataFrame\n",
    "for index, row in shark_unique_df.iterrows():\n",
    "    # Get the location, area, country from the row\n",
    "    location = row['location']\n",
    "    area = row['area']\n",
    "    country = row['country']\n",
    "\n",
    "    params[\"text\"] = f\"{location}, {area}, {country}\"\n",
    "\n",
    "    # Set the base URL\n",
    "    base_url = \"https://api.geoapify.com/v1/geocode/search?\"\n",
    "\n",
    "    geo_location = requests.get(base_url, params=params).json()\n",
    "\n",
    "    # Get the coordinates from the response and add them to the DataFrame\n",
    "    try:\n",
    "        shark_unique_df.loc[index, \"latitude\"] = geo_location[\"features\"][0][\"properties\"][\"lat\"]\n",
    "        shark_unique_df.loc[index, \"longitude\"] = geo_location[\"features\"][0][\"properties\"][\"lon\"]\n",
    "    except (KeyError, IndexError):\n",
    "        print(f\"Location not found: {location}, {area}, {country}\")\n",
    "        \n",
    "    # Pause for 1 second to avoid hitting the rate limit\n",
    "    time.sleep(1)\n",
    "\n",
    "# Get the first 5 rows of the shark_short_data_usa_df DataFrame\n",
    "shark_unique_df.head()"
   ]
  },
  {
   "cell_type": "code",
   "execution_count": 33,
   "metadata": {},
   "outputs": [
    {
     "name": "stdout",
     "output_type": "stream",
     "text": [
      "<class 'pandas.core.frame.DataFrame'>\n",
      "RangeIndex: 1433 entries, 0 to 1432\n",
      "Data columns (total 4 columns):\n",
      " #   Column     Non-Null Count  Dtype  \n",
      "---  ------     --------------  -----  \n",
      " 0   location   1433 non-null   object \n",
      " 1   count      1433 non-null   int64  \n",
      " 2   latitude   1359 non-null   float64\n",
      " 3   longitude  1359 non-null   float64\n",
      "dtypes: float64(2), int64(1), object(1)\n",
      "memory usage: 44.9+ KB\n"
     ]
    }
   ],
   "source": [
    "shark_unique_df.info()"
   ]
  },
  {
   "cell_type": "code",
   "execution_count": 34,
   "metadata": {},
   "outputs": [
    {
     "name": "stdout",
     "output_type": "stream",
     "text": [
      "<class 'pandas.core.frame.DataFrame'>\n",
      "Index: 1359 entries, 0 to 1432\n",
      "Data columns (total 4 columns):\n",
      " #   Column     Non-Null Count  Dtype  \n",
      "---  ------     --------------  -----  \n",
      " 0   location   1359 non-null   object \n",
      " 1   count      1359 non-null   int64  \n",
      " 2   latitude   1359 non-null   float64\n",
      " 3   longitude  1359 non-null   float64\n",
      "dtypes: float64(2), int64(1), object(1)\n",
      "memory usage: 53.1+ KB\n"
     ]
    }
   ],
   "source": [
    "# Remove rows where location is not found\n",
    "shark_unique_df = shark_unique_df.dropna(subset=[\"latitude\", \"longitude\"])\n",
    "shark_unique_df.info()"
   ]
  },
  {
   "cell_type": "markdown",
   "metadata": {},
   "source": [
    "### Display a map of Shark Attacks"
   ]
  },
  {
   "cell_type": "code",
   "execution_count": 40,
   "metadata": {},
   "outputs": [
    {
     "data": {},
     "metadata": {},
     "output_type": "display_data"
    },
    {
     "data": {
      "application/vnd.holoviews_exec.v0+json": "",
      "text/html": [
       "<div id='p1011'>\n",
       "  <div id=\"c8fde6db-010c-44a4-9572-eb9953250acf\" data-root-id=\"p1011\" style=\"display: contents;\"></div>\n",
       "</div>\n",
       "<script type=\"application/javascript\">(function(root) {\n",
       "  var docs_json = {\"d4455903-75f6-47fb-be5d-37d36a98b062\":{\"version\":\"3.4.0\",\"title\":\"Bokeh Application\",\"roots\":[{\"type\":\"object\",\"name\":\"Row\",\"id\":\"p1011\",\"attributes\":{\"name\":\"Row01689\",\"tags\":[\"embedded\"],\"stylesheets\":[\"\\n:host(.pn-loading):before, .pn-loading:before {\\n  background-color: #c3c3c3;\\n  mask-size: auto calc(min(50%, 400px));\\n  -webkit-mask-size: auto calc(min(50%, 400px));\\n}\",{\"type\":\"object\",\"name\":\"ImportedStyleSheet\",\"id\":\"p1014\",\"attributes\":{\"url\":\"https://cdn.holoviz.org/panel/1.4.2/dist/css/loading.css\"}},{\"type\":\"object\",\"name\":\"ImportedStyleSheet\",\"id\":\"p1103\",\"attributes\":{\"url\":\"https://cdn.holoviz.org/panel/1.4.2/dist/css/listpanel.css\"}},{\"type\":\"object\",\"name\":\"ImportedStyleSheet\",\"id\":\"p1012\",\"attributes\":{\"url\":\"https://cdn.holoviz.org/panel/1.4.2/dist/bundled/theme/default.css\"}},{\"type\":\"object\",\"name\":\"ImportedStyleSheet\",\"id\":\"p1013\",\"attributes\":{\"url\":\"https://cdn.holoviz.org/panel/1.4.2/dist/bundled/theme/native.css\"}}],\"margin\":0,\"sizing_mode\":\"stretch_width\",\"align\":\"start\",\"children\":[{\"type\":\"object\",\"name\":\"Spacer\",\"id\":\"p1015\",\"attributes\":{\"name\":\"HSpacer01695\",\"stylesheets\":[\"\\n:host(.pn-loading):before, .pn-loading:before {\\n  background-color: #c3c3c3;\\n  mask-size: auto calc(min(50%, 400px));\\n  -webkit-mask-size: auto calc(min(50%, 400px));\\n}\",{\"id\":\"p1014\"},{\"id\":\"p1012\"},{\"id\":\"p1013\"}],\"margin\":0,\"sizing_mode\":\"stretch_width\",\"align\":\"start\"}},{\"type\":\"object\",\"name\":\"Figure\",\"id\":\"p1044\",\"attributes\":{\"width\":null,\"height\":null,\"margin\":[5,10],\"sizing_mode\":\"fixed\",\"align\":\"start\",\"x_range\":{\"type\":\"object\",\"name\":\"Range1d\",\"id\":\"p1025\",\"attributes\":{\"tags\":[[[\"Longitude\",\"Longitude\",null]],[]],\"start\":-22449263.014317557,\"end\":22417181.090196673,\"reset_start\":-22449263.014317557,\"reset_end\":22417181.090196673,\"min_interval\":5}},\"y_range\":{\"type\":\"object\",\"name\":\"Range1d\",\"id\":\"p1026\",\"attributes\":{\"tags\":[[[\"Latitude\",\"Latitude\",null]],{\"type\":\"map\",\"entries\":[[\"invert_yaxis\",false],[\"autorange\",false]]}],\"start\":-14121629.617862627,\"end\":17925830.456790395,\"reset_start\":-14121629.617862627,\"reset_end\":17925830.456790395,\"min_interval\":5}},\"x_scale\":{\"type\":\"object\",\"name\":\"LinearScale\",\"id\":\"p1054\"},\"y_scale\":{\"type\":\"object\",\"name\":\"LinearScale\",\"id\":\"p1055\"},\"title\":{\"type\":\"object\",\"name\":\"Title\",\"id\":\"p1047\",\"attributes\":{\"text_color\":\"black\",\"text_font_size\":\"12pt\"}},\"renderers\":[{\"type\":\"object\",\"name\":\"TileRenderer\",\"id\":\"p1077\",\"attributes\":{\"level\":\"underlay\",\"tile_source\":{\"type\":\"object\",\"name\":\"WMTSTileSource\",\"id\":\"p1073\",\"attributes\":{\"url\":\"https://c.tile.openstreetmap.org/{Z}/{X}/{Y}.png\",\"attribution\":\"&copy; <a href=\\\"https://www.openstreetmap.org/copyright\\\">OpenStreetMap</a> contributors\"}}}},{\"type\":\"object\",\"name\":\"GlyphRenderer\",\"id\":\"p1093\",\"attributes\":{\"name\":\"color\",\"data_source\":{\"type\":\"object\",\"name\":\"ColumnDataSource\",\"id\":\"p1082\",\"attributes\":{\"selected\":{\"type\":\"object\",\"name\":\"Selection\",\"id\":\"p1083\",\"attributes\":{\"indices\":[],\"line_indices\":[]}},\"selection_policy\":{\"type\":\"object\",\"name\":\"UnionRenderers\",\"id\":\"p1084\"},\"data\":{\"type\":\"map\",\"entries\":[[\"longitude\",{\"type\":\"ndarray\",\"array\":{\"type\":\"bytes\",\"data\":\"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\"},\"shape\":[1359],\"dtype\":\"float64\",\"order\":\"little\"}],[\"latitude\",{\"type\":\"ndarray\",\"array\":{\"type\":\"bytes\",\"data\":\"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\"},\"shape\":[1359],\"dtype\":\"float64\",\"order\":\"little\"}],[\"location\",[\"New Smyrna Beach, Volusia County\",\"Daytona Beach, Volusia County\",\"Ponce Inlet, Volusia County\",\"Melbourne Beach, Brevard County\",\"Myrtle Beach, Horry County\",\"Isle of Palms, Charleston County\",\"Cocoa Beach, Brevard County\",\"Ponce Inlet, New Smyrna Beach, Volusia County\",\"Jacksonville Beach, Duval County\",\"Ormond Beach, Volusia County\",\"Palm Beach, Palm Beach County\",\"Cocoa Beach, Brevard  County\",\"Singer Island, Riviera Beach, Palm Beach County\",\"Juno Beach, Palm Beach County\",\"Florida Keys, Monroe County\",\"Florida Keys\",\"Vero Beach, Indian River County\",\"Sanibel Island, Lee County\",\"Folly Beach, Charleston County\",\"Pensacola Bay, Escambia County\",\"Jacksonville, Duval County\",\"Charleston\",\"Riviera Beach, Palm Beach County\",\"Key West, Monroe County\",\"Galveston\",\"Huntington Beach, Orange County\",\"Gulf Shores, Baldwin County\",\"Jupiter, Palm Beach County\",\"Panama City, Bay County\",\"Jensen Beach, Martin County\",\"Playalinda Beach, Brevard County\",\"Fort Lauderdale, Broward County\",\"Ocean Isle, Brunswick County\",\"Ocean Reef Park, Singer Island, Palm Beach County\",\"Fernandina Beach, Nassau County\",\"Flagler Beach, Flagler County\",\"Wrightsville Beach, New Hanover County\",\"Daytona Beach Shores, Volusia County\",\"North Myrtle Beach, Horry County\",\"Emerald Isle, Carteret County\",\"La Jolla, San Diego County\",\"South Padre Island\",\"Bethune Beach, Volusia County\",\"Playalinda Beach, Canaveral National Seashore, Brevard County\",\"Jensen Beach, Martin County \",\"Hilton Head Island, Beaufort County\",\"Tomales Point, Marin County\",\"Venice Beach, Los Angeles County\",\"Atlantic City, Atlantic County\",\"Avon, Hatteras Island, Outer Banks, Dare County\",\"Indialantic, Brevard County\",\"Indiatlantic, Brevard County\",\"Olowalu, Maui\",\"Sullivan's Island\",\"Santa Monica, Los Angeles County\",\"San Onofre State Beach, San Diego County\",\"Charleston Harbor, Charleston County\",\"Bald Head Island, Brunswick County\",\"Dillon Beach, Marin County\",\"Maui\",\"Pawleys Island, Georgetown County\",\"Moonstone Beach, Humboldt County\",\"Palm Beach County\",\"San Onofre, San Diego County \",\"Farallon Islands\",\"New Smyrna Beach\",\"Marathon, Monroe County\",\"South Jetty, New Smyrna Beach, Volusia County\",\"North Topsail Beach, Onslow County\",\"Stuart Beach, Martin County\",\"Floridana Beach, Brevard County\",\"Newport Beach, Orange County\",\"Ormond Beach / Daytona Beach, Volusia County\",\"Boca Raton, Palm Beach County\",\"Hermosa Beach, Los Angeles County\",\"Mustang Island, near Port Aransas\",\"Vilano Beach, St.  Johns County\",\"Malibu, Los Angeles County\",\"Mobile Bay\",\"Ponte Vedra, St. Johns County\",\"Bunkers, Humboldt Bay, Eureka, Humboldt County\",\"Crescent Beach, St. Johns County\",\"Galveston Island\",\"Imperial Beach, San Diego County\",\"Franklin Point, San Mateo County\",\"Long Beach, Los Angeles County\",\"Coligny Beach, Hilton Head, Beaufort County\",\"Folly Island, near Charleston\",\"Kiawah Island, Charleston County\",\"Pearl Harbor, O'ahu\",\"Holden Beach. Brunswick County\",\"Pigeon Point, San Mateo County\",\"St. Augustine, St. John's County\",\"New Smyrna Beach,  Volusia County\",\"Kanaha Beach, Maui\",\"Condado Beach, San Juan\",\"Miami Beach, Miami-Dade County\",\"Tybee Island, Chatham County\",\"Hollywood Beach, Broward County\",\"Pablo Beach, Jacksonville, Duval County\",\"Masonboro Island, New Hanover County\",\"Winchester Bay\",\"Off Charleston\",\"Kihei, Maui\",\"Kauai\",\"Virginia Beach, Princess Anne County\",\"Fort Lauderdale\",\"Lori Wilson Park, Cocoa Beach, Brevard  County\",\"Santa Barbara County\",\"San Francisco Bay\",\"Ponte Vedra Beach, St Johns County\",\"Hanalei Bay, Kauai\",\"Ponce de Leon Inlet, Volusia County \",\"Hutchinson Island, St. Lucie County\",\"Kau District\",\"Tiger Shores Beach, Martin County\",\"St. Lucie County\",\"Boca Grande, Lee County\",\"San Miguel Island, Santa Barbara County\",\"Holden Beach, Brunswick County\",\"Ho'okipa Beach, Pa'ia, Maui\",\"Hobe Sound, Martin County\",\"Pensacola, Escambia County\",\"Destin, Okaloosa County\",\"Gadsden Point, Tampa Bay\",\"Surf City, Topsail Island, Pender County\",\"Off Masonboro Island, New Hanover County\",\"Sunset Beach, Brunswick County\",\"Bodega Rock, Sonoma County\",\"Cape Canaveral, Brevard County\",\"Kahana Beach, Maui\",\"Staten Island, Richmond County\",\"Topsail Island, Pender County\",\"Paia Bay, Maui\",\"Bethune Beach, south of New Smyrna Beach, Volusia County\",\"Linda Mar Beach, Pedro Point, San Mateo County\",\"Myrtle Beach\",\"Hobe Sound, Palm Beach County\",\"White Plains Beach, Barbers Point, O'ahu\",\"Patrick Air Force Base, Brevard County\",\"Stono Inlet, near Charleston, Charleston County\",\"Honokowai, Maui\",\"Atlantic Beach, Duval County\",\"Kealia Beach, Kaua'i\",\"Fripp Island, Beaufort County\",\"Sargent Beach, Matagorda County\",\"St. Augustine, St Johns County\",\"Mustang Island, Corpus Christi\",\"Daytona Beach, Volusia County \",\"Spring Lake, Monmouth County\",\"Galveston Bay\",\"Kahului, Maui\",\"Matawan Creek, 10 miles from the sea, Monmouth County\",\"San Diego, San Diego County\",\"Sheepshead Bay, Brooklyn\",\"New Smyrna Beach / Waveland, Volusia County\",\"South of Ponce Inlet, Volusia County\",\"Carolina Beach, New Hanover County\",\"Ocean City (offshore)\",\"Puna\",\"Ka'a'awa, Oahu\",\"Delray Beach\",\"Sea Bright, Monmouth County\",\"Lake Pontchartrain\",\"Folly Beach\",\"Davenport Landing, Santa Cruz County\",\"Barber\\u2019s Point, O'ahu\",\"Monastery Beach, Carmel Bay, Monterey County\",\"Ocean City, Cape May County\",\"Leftovers, near Waimea Bay, O'ahu\",\"Key Biscayne\",\"Makena, Maui\",\"Fort Pierce, St Lucie County\",\"Emerald Isle Pier (near Morehead City), Carteret County\",\"Municipal Beach, West Palm Beach, Palm Beach County\",\"Maile Beach, O'ahu\",\"Surf Beach, Lompoc, Santa Barbara County\",\"Santa Catalina Island, Los Angeles County\",\"Kahala, O'ahu\",\"Fort Pierce Inlet, St Lucie County\",\"Absecon, Atlantic County\",\"Elliot Key\",\"Tampa Bay, Hillsborough County\",\"Boca Ciega Bay, Pinellas County\",\"San Juan\",\"Morehead, Carteret County\",\"Palm Beach Inlet, Palm Beach County\",\"St Augustine, St Johns County\",\"Boynton Beach, Palm Beach County\",\"Seabrook Beach\",\"San Francisco Bay (or San Leandro Bay), near cannery, Alameda County\",\"Fort Pierce, St. Lucie County\",\"Santa Barbara Channel\",\"Hilo, Hawai'i\",\"Sarasota County\",\"Klamath River, Del Norte County\",\"Sebastian Inlet, Brevard County\",\"St Augustine Beach, St Johns County\",\"Neptune Beach, Duval County\",\"Clearwater Beach, Pinellas County\",\"Delray Beach, Palm Beach County\",\"Solana Beach, San Diego County\",\"Makena Landing, Maui\",\"Atlantic Beach, Emerald Isle, Carteret County\",\"North Beach, St. Lucie County\",\"LaJolla, San Diego County\",\"Santa Cruz, Santa Cruz County\",\"Monterey Bay, Monterey County\",\"St. Petersburg, Pinellas County\",\"Wailea Beach, Maui\",\"Salmon Creek, Sonoma County\",\"Moloka'i\",\"Mavericks, Half Moon Bay, San Mateo County\",\"New Smyrna  Beach, Volusia County\",\"Crescent Beach St. Johns County\",\"Bridgeport, Fairfield County\",\"Jupiter Inlet\",\"Midway Island, Northwestern Hawaiian Islands\",\"Southeast Farallon Island, Farallon Islands\",\"Pelican Beach Park, Satellite Beach, Brevard County\",\"Haulover Beach, Miami-Dade County\",\"Garden City Beach, Horry County\",\"Pismo Beach, San Luis Obispo County\",\"Turtle Beach, Siesta Key, Sarasota County\",\"Lyman Beach, Kailua-Kona\",\"Amelia Island, Nassau County\",\"Shell Island Panama City Beach, Bay County\",\"New Orleans\",\"Ocracoke, Hyde County\",\"Ponce de Leon Inlet, Volusia County\",\"Keawakapu Beach, Maui\",\"Shrewsbury River, Highlands, Monmouth County\",\"Sandy Hook Bay, Highlands, Monmouth County\",\"Mustang Island, Nueces County\",\"Norfolk\",\"Off Makapauu Point, O'ahu\",\"Florida Straits\",\"Brazos\",\"Paukukalo, Maui\",\"Cape San Blas, Gulf County\",\"Point Conception, Santa Barbara County\",\"Stinson Beach, Marin County\",\"Miami\",\"Rockaway\",\"Long Island\",\"Loggerhead Park, Juno Beach, Palm Beach County\",\"Jensen Beach Park, Martin County\",\"South of Ponce Inlet, New Smyrna Beach, Volusia County\",\"Jekyll Island, Glynn County\",\"Rodanthe, Dare County\",\"North Jetty, Fort Pierce Inlet State Park, St. Lucie County\",\"Volusia County\",\"Mission Beach, San Diego County\",\"St. Helena Island, Beaufort County\",\"Daytona Beach Shores\",\"Oak Island, Brunswick County\",\"Near Key West\",\"White Plains Beach, Oahu\",\"Lanai\",\"Marina State Beach, Monterey County\",\"Hanna Park, Jacksonville, Duval County\",\"Lauderdale-by-the-Sea, Broward County\",\"Brooklyn\",\"North Salmon Creek Beach, Sonoma County\",\"Round Island Park, Indian River County\",\"Santa Maria Island, Manatee County\",\"Pepper Park Beach, St. Lucie County\",\"Ponte Vedra Beach, St. Johns County\",\"Kaiwi Channel\",\"Sea Girt, Monmouth County\",\"South Padre Island, Cameron County\",\"Brennecke Beach, Po'ipu, Kaua'i\",\"Back River, Savannah Beach, Chatham County\",\"St. Simons Island or Jeykll Island, Glynn County\",\"Laguna Beach, Orange County\",\"Pinellas County\",\"St. Croix, Cane Bay\",\"Point Purisima, Santa Barbara County\",\"Sea Ranch, Sonoma County\",\"Albion Cove, Albion, Mendocino County\",\"Bird Rock, near Tomales Point, Marin County\",\"Ormond By The Sea, Volusia County\",\"Waihe'e, Wailuku, Maui\",\"False Cape\",\"Point Sur, Monterey County\",\"Matanzas Inlet, St Johns County\",\"Waimanu, Honoka'a, Hawai'i\",\"Gulf of Mexico\",\"Ft. Pierce, St Lucie County\",\"Kalama Beach, Kihei, Maui\",\"Port Lavaca, Calhoun County\",\"Off Hilton Head, Beaufort County \",\"2 miles off Jupiter, Palm Beach County\",\"Biltmore Beach, near Panama City\",\"8 miles south of Elliot Key, Miami-Dade County\",\"Municipal Bathing area, Riviera Beach, Palm Beach County\",\"South Jetty, Galveston\",\"Point Comfort, Calhoun County\",\"Southeast Farallon Island\",\"Key Biscayne, Miami, Dade County\",\"Reeds Bay, Brigantine, Atlantic County\",\"Ft. Lauderdale, Broward County\",\"3 days out of Old Saybrook, Connecticut, 37.04'N, 67.57'W, Southern fringe of Gulf Stream\",\"Bolivar Peninsula\",\"Pebble Beach, Cypress Point, Monterey County\",\"Hollywood, Broward County\",\"100 miles offshore\",\"Steel Pier, Atlantic City, Atlantic County\",\"Near US Air Force Base at Elgin, Okaloosa County\",\"In front of Key Biscayne Beach Club, Key Biscayne\",\"Between Palm  & Salerno Inlets, Martin County\",\"Pacifica, San Mateo County\",\"Pompano Beach, Palm Beach County\",\"Dana Point, San Clemente, Orange County\",\"Granite Pier, Rockport\",\"50 miles NE of Honolulu\",\"Snapper Point Jetty, Miami, Dade County\",\"Dania, Broward County\",\"Off Key West\",\"Waimea Bay, O'ahu\",\"Manatee County\",\"Manasquan, Ocean County\",\"Off Andy Bowie Park, Padre Island, near Port Isabel\",\"Hawaii\",\"Bird Rock, Tomales Point, near Marin County / Sonoma County border\",\"St. Petersburg, Pinnellas County\",\"Packery Channel\",\"Makaha, O'ahu\",\"Egmont Key, Hillsborough County\",\"Ventura\",\"Somewhere between Hatteras and Beaufort\",\"Hapuna Beach, Hawai'i\",\"Okaloosa County\",\"Awili, South Kona, Hawai'i\",\"St. Thomas, Magens Bay\",\"Mullet Key, Pinellas County\",\"Palm Beach Shores, Riviera Beach, Singer Island, Palm Beach County\",\"McArthur Beach, Singer Island, Palm Beach Shores\",\"San Mateo County\",\"Kailua Bay, O'ahu\",\"Horn Island\",\"Fenwick Island\",\"Monterey, Montery County\",\"San Gregorio Beach, San Mateo County\",\"Winyah Bay\",\"Satellite  Beach, Brevard County\",\"Davenport Light, San Mateo County\",\"North of Jupiter Inlet, Palm Beach County\",\"Running Waters Beach, Ninini Point, Kaua'i\",\"Waihe'e, Maui\",\"North of Morro Rock, San Luis Obispo County\",\"Paradise Beach Park, Brevard County\",\"Sea Pines Beach Club, Hilton Head, Beaufort County\",\"Playalinda, Brevard County\",\"Fort Pierce, St. Lucie County \",\"Indian Beach, Ecola State Park, just north of Cannon Beach, Clatsop County \",\"Wailua, Kaua'i\",\"Waialua Beach, Moloka'i\",\"Latigo Point / Paradise Cove,west of Malibu, Los Angeles County\",\"Tunitas Beach, San Mateo County\",\"Nest Key, Monroe County\",\"Kekaha Beach, Kaua'i\",\"St Augustine, St. Johns County\",\"Jupiter Island Beach, Martin County\",\"15 miles north of Sebastian Inlet, Brevard County\",\"Off Shelter Cover (between Fort Bragg & Eureka), Humboldt County\",\"Bayport, Hernando County\",\"Palmetto Dunes, Hilton Head, Beaufort County\",\"Barbers Point, O'ahu\",\"Little Glass Shacks, Princeville, Kaua'i\",\"New Hanover County\",\"Masonboro Inlet, New Hanover County\",\"Pinellas Point, Tampa Bay\",\"Monastery Beach, Carmel River State Park, Monterey Peninsula, Monterey California\",\"Kailua-Kona, Hawai'i\",\"Latigo Point / Paradise Cove, west of Malibu, Los Angeles County\",\"Pacific Beach, Grays Harbor County\",\"Wabasso Beach, Indian River County\",\"Trinidad Head, Humboldt County\",\"Trinidad State Beach, Humboldt County\",\"Russian Gulch, Jenner, Sonoma County\",\"Hanalei Point, Kaua'i\",\"North end of County Beach, Palm Beach County\",\"Spanish River Park Beach, Palm Beach County\",\"Neskowin, Tillamook County\",\"One'ula Beach Park, 'Ewa Beach, O'ahu\",\"Baltimore Aquarium\",\"Ma'ili Beach, O'ahu\",\"Croatan Beach, Virginia Beach, \",\"8.5 miles south of Ano Nuevo State Reserve, Davenport County\",\"South Miami Beach, Dade County\",\"John Pennekamp Marine Park, Monroe County\",\"Florida Bay\",\"Juno Beach / North Palm Beach, Palm Beach County\",\"Near Port Aransas, Nueces County\",\"40 miles off Cocodrie\",\"Mustang Island State Park, Nueces County\",\"Anahola, Kaua'i\",\"Salvo, Dare County\",\"Off Palos Verdes Estates, Los Angeles\",\"Gulf of Mexico, 22 miles from Pensacola\",\"Between Wrightsville Beach & Carolina Beach, New Hanover County\",\"Surfside Beach\",\"Kahe Point, O'ahu\",\"Ehukai Beach Park, Sunset Beach, O'ahu\",\"90 miles east of Hilo, Hawai'i\",\"Montera Beach, San Mateo County\",\"Monster Hole, Sebastian Inlet, Indian River County\",\"Mokapu, Kane'ohe Marine Air Corps Station, O'ahu\",\"Fowey Rock, Key Biscayne\",\"Myers Creek\",\"Ka'anapali, Maui\",\"12 miles northeast of Mayport,  Duval County\",\"Off San Diego, San Diego County\",\"McClure Beach, near Tomales Point, Marin County\",\"South of Neptune Beach, Duval County\",\"Pajaro Dunes, Santa Cruz County\",\"Ewa, O'ahu\",\"South Kohala, Hawai'i\",\"Ano Nuevo Island, San Mateo, County\",\"Municipal Beach, Boyton Beach, Palm Beach County\",\"Public Beach (Carlin Park), Jupiter, Palm Beach County\",\"Fort Walton Beach, Okaloosa County\",\"10 miles off Cape Canaveral\",\"Haystack Rock, Cannon Beach, Clatsop County\",\"Off San Clemente Island, Los Angeles County\",\"Padre Island\",\"Sebastian, Indian River County\",\"Puamana, Lahaina, Maui\",\"Scofield - Sandy Point\",\"North Farallon Island, Farallon Islands\",\"North of Point Sur, Monterey County\",\" New Smyrna Beach, Volusia County\",\"Windy Hill, near Myrtle Beach, Horry County\",\"Perch Rock, Point Conception, Santa Barbara County\",\"Off Hutchinson Island, St Lucie County\",\"Usal Creek, Bear Harbor, Mendocino County\",\"Seal Beach, Orange County\",\"Sandy Hook, Monmouth County\",\"Off Lahaina, Maui\",\"Off Fort Pierce, St Lucie County\",\"Kama'ole Beach, Park No. 1, Kihei, Maui\",\"St. Andrews State Park, Bay County\",\"Maha'ulepu, Koloa, Kaua'i\",\"Dewey Beach\",\"Grand Isle, Jefferson Parish\",\"Bob Graham Beach, Martin County\",\"Morro Rock, Morro Bay, San Obispo County\",\"Lake Worth Beach, Palm Beach County\",\"Haulover Inlet, Dade County\",\" Riviera Beach, Palm Beach County\",\"Intracoastal Waterway, Boca Raton, Palm Beach County\",\"Off 12th Street, Miami Beach\",\"Caloosahatchee River, Lee County\",\"6 miles south of Boca Chica Key, Monroe County \",\"Cape Kiwanda,Tillamook County\",\"Off Lake Worth, Palm Beach County\",\"San Francisco\",\"Kane'ohe Bay, O'ahu\",\"Off Crystal River, Citrus County\",\"\\\"Turnaround\\\", Cape Kiwanda, Tillamook County\",\"Bear Harbor, Mendocino County\",\"Point Buchon, San Luis Obispo County\",\"Off Umpqua River\",\"Stuart Beach, Martin County \",\"Sands Cut, Elliot Key\",\"Ha'ena Beach Park, Kaua'i\",\"Honoli'i Pali, Hilo Bay ('Alae Point), Hawai'i\",\"Carter Cay\",\"St. Petersburg Beach, Pinellas County\",\"Keaukaha, Hilo, Hawai'i\",\"Hilton Head, Beaufort County\",\"Tampa Bay, Manatee County\",\"Jupiter Island, Brevard County\",\"La'au Point, Moloka'i\",\"Nimitz Beach, Barbers Point, O'ahu\",\"South Moss Beach, Spanish Bay, Monterey Peninsula\",\"Stillwater Cove, Sonoma County\",\"Daws Island, Broad River (near Beaufort)\",\"Gulf Island National Seashore Park\",\"North coast\",\"Lower Delaware Bay\",\"Bay St. Louis, Hancock County\",\"Tangier Sound, Somerset County\",\"Avalon, Los Angeles County\",\"Pepe'ekeo, Honomu, Hawai'i\",\"Garden Key, Charlotte County\",\"Mosquito Inlet (Ponce Inlet), Volusia County\",\"Small creek near Coles Island\",\" Kalepolepo, Kihei, Maui\",\"Rockport, Aransas County\",\"Mana, Kaua'i\",\" Marathon, Monroe County\",\"Redondo, Los Angeles County\",\"Pa'uwela, Maui\",\"Lewes, Sussex County\",\"Off Fort Gaines, Dauphin Island, Mobile County\",\"Davis Shore, east of Beaufor, Carteret Countyt\",\"Cape Lookout, Carteret County\",\"Shrewsbury River,  Monmouth County\",\"Off Diamond Head, Honolulu, O'ahu\",\"St. John's River, Jacksonville, Duval County\",\"Prince's Bay, Staten Island\",\"Off Kohala\",\"Near a small wreck in a channel at Indian Key\",\"St. John's River\",\"Trout River, Panama Park\",\"Inter-Island Dry Dock at Kakaako Street, Honolulu, O'ahu\",\"Makapu'u Point, O'ahu\",\"Southport, Brunswick County\",\"Waikiki Beach, Oahu\",\"Coddington Cove\",\"Indian River Inlet / Fort Pierce Inlet\",\"Kalihi, O'ahu\",\"Near Port Lavaca, Calhoun County\",\"Koko Head, south side of O'ahu Island\",\"Texas City, Galveston\",\"Delaware Lightship\",\"Seabright, Monmouth County\",\"Woodcliff Channel, Freeport, Long Island\",\"Municipal Pier, St. Petersburg, Tampa bay\",\"Nahant\",\"Capistrano, Orange County\",\"Keawanui, Kamalo, Moloka'i\",\"Bayboro, Pinellas County\",\"Santurce\",\"Hilo Bay Yacht Club, Hilo, Hawai'i\",\"Galveston Ship Channel\",\"Hale'iwa, O'ahu\",\"Seaside, Ocean County\",\"Catalina Channel, Los Angeles County\",\"Off Florida coast\",\"Off shore\",\"Corpus Christi\",\"Englewood Beach, Charlotte County\",\"Slaunwhite's Ledge, Hubbard Cove\",\"James Island Sound, Charleston\",\"Florida Keys 25\\u00baN,82\\u00baW\",\"John's Pass, Pinellas County\",\"Lavalette, Ocean County\",\"West Palm Beach, Palm Beach County\",\"Honomu, Hawai'i\",\"Soldier Key, Miami-Dade County\",\"Beach Haven, Ocean County\",\"In Matawan Creek, off NJ Clay Company brickyards at Cliffwood, Monmouth County, 9.5 miles from the sea, Monmouth County\",\"Atlantic, near New Bern, Craven County\",\"off Grand Lake, Cameron Parish\",\"Sewell\\u2019s Point, near Palm Beach\",\"Calibogue Sound\",\"Florida Keys \",\"Nanakuli, Oah\\u2019u\",\"Papaikou plantation \",\"Near Panama City, Bay County\",\"Ramshorn Creek\",\"a creek near Jacksonville, Duval County\",\"Point Judith\",\"Palama\",\"Mount Pleasant, Charleston County\",\"Near Fernandina Bar, Nassau County \",\"Off the Battery\",\"Cape Hatteras\",\"Cape Sable, Monroe County\",\"Off Kawaihae\",\"Cape Canso\",\"Mahattan\",\"Elliott Cut, Charleston County\",\"Cedar Island, Carteret County\",\"Greenport Sound, Long Island\",\"Smithville (now Southport), Brunswick County\",\"Kawahae\",\"Chester River\",\"St. Pierre Bank \",\"Coney Island\",\"Honolulu Harbor\",\"Patapsco River\",\"Cape Cod\",\"Chelsea Beach, Suffolk County\",\"Oahu\",\"Grand Banks\",\"Between Manhattan and The Bronx\",\"Maliu, Hawai'i\",\"Pensacola Harbor, Escambia County\",\"Sag Harbor, Suffolk County\",\"Bristol Harbor\",\"Uo, Lahaina, Maui\",\"Swampscott, Essex County\",\"Near Havana\",\"\\u201cSouthern Wharf\\u201d\",\"New York\",\"Lost Tree Village, Palm Beach County\",\"Magwoods Wharf, Charleston Harbor, Charleston County\",\"Waikiki\",\"Cumberland Island\",\"East River\",\"West Bay near Galveston \",\"Honolulu\",\"Off Normandie-by-the-Sea, Monmouth County\",\"Hampton Roads\",\"Off Longport, Atlantic County\",\"Halifax\",\"Velasco\",\"New Bern, Craven County\",\"Anastasia Island\",\"Woolsey's Point, East River\",\"Rockport\",\"North Beach, St. Augustine\",\"Raritan Bay\",\"Noyes Beach\",\"Near the mouth of the Cape Fear River, Brunswick County\",\"Fernandina, Nassau County\",\"Hillsborough Bay\",\"Branford, New Haven County\",\"Portlock, Oahu\",\"River mouth\",\"Los Angeles, Los Angeles County\",\"Hutchinson Island, Martin County\",\"The Narrows\",\"Providence\",\"Elizabeth City, Pasquotank County  \",\"In the bay near the naval yard at Pensacola, Escambia County\",\"Bull\\u2019s Bay, near Charleston\",\"Fort Pickens, Escambia County\",\"Jamaica Bay\",\"Bayonne, Hudson County\",\"Hamakua Homakua, Hawai'i\",\"Pass Christian, Hamilton County\",\"Off Sable Island\",\"200 miles off Hampton Roads, Virginia, USA\",\"Indian River area\",\"Pacific Beach, San Diego County\",\"Sarasota, Sarasota County\",\"Siesta Key, Sarasota County\",\"Longboat Key, Sarasota, Sarasota County\",\"Staten Island\",\"Baker's Haulover, Miami Beach\",\"Coronado Strand, San Diego County\",\"Near Twin Islands off Lanikai, O'ahu (east coast)\",\"Oak Beach, Fire Inlet\",\"Vaca Cut Channel & bridge under Marathon, Monroe County\",\"Hilo, off Kaua'i\",\"Baker Beach, San Francisco County\",\"Indian Rocks Beach, Clearwater, Pinellas County\",\"Off La Jolla Cove, San Diego County\",\"Alligator Head, La Jolla, San Diego County\",\"In kelp beds off La Jolla, San Diego County\",\"1 mile off Miami Beach\",\"Water Island\",\"Miami Seaquarium, Virginia Key, Miami, Miami-Dade County\",\"Salter Path, Atlantic Beach, Carteret County\",\"Chicago (Lake Michigan)\",\"Pacific Grove, Monterey County\",\"Trinidad Bay, Humboldt County\",\"Windy Hill Beach\",\"Zuma Beach, Santa Monica, Los Angeles County\",\"East Moloka'i\",\"Near Port Canaveral Coast Guard Base\",\"Aquadilla\",\"Miami, Miami-Dade County\",\"South Beach, Fort Pierce, St Lucie County\",\"Atascadero Beach, Morro Bay, San Luis Obispo County\",\"8 miles off St. Marks, Wakulla County\",\"Savannah Beach, Savannah, Chatham County\",\"Between False Klamath & mouth of Klamath River, Del Norte County\",\"Sea Spray, Palm Beach\",\"Fowey Rock Light, Miami\",\"Atlantic Beach, Horry County\",\"Haulover Inlet\",\"Off Point Mugu, Ventura County\",\"Hutchinson Island Beach, Martin County\",\"Maile Point, O'ahu\",\"Topanga Canyon Beach, Santa Monica Bay\",\"Fairmount Park Aquarium, Philadelphia\",\"Laguna Beach, Bay County\",\"Albergotti Creek, near Air Station boat docks, Beaufort\",\"Whitewood Point on Lloyd Neck in Oyster Bay\",\"Pearl Harbor Channel, O'ahu\",\"Pawley\\u2019s Island, Georgetown County\",\"Ocean Ridge, Boca Raton, Palm Beach County\",\"8 miles off Newport Beach, Orange County\",\"30 miles east of Corpus Christi\",\"Seaside Park, Ocean County\",\"Key Largo Sound\",\"Off Port Everglades, Broward County\",\"Near Paradise Cove, Malibu, Los Angeles County\",\"120 miles southeast of New Orleans\",\"Between Keawakapu & Makena, Maui\",\"Off Boca Raton Hotel & Club, Boca Raton, Palm Beach County\",\"Lignum Vitae Channel, Florida Keys, Monroe County\",\"Aptos, Santa Cruz County\",\"North picnic area, Jekyll Island, Glynn County\",\"10 miles off Santa Barbara, Santa Barbara County\",\"2 miles east of Dania Beach, Broward County\",\"Little River Beach, Horry County\",\"Hog Island\",\"Mississippi City\",\"Parris Island\",\"Mispillion Light, Delaware Bay\",\"Barnegat Light, Ocean County\",\"Off Cape Hatteraa\",\"Miami, Miami-Date County\",\"Long Branch, Monmouth County (offshore)\",\"Pamlico Sound off Frisco, Dare County\",\"Georges Bank\",\"Lahaina, Maui\",\"Honokohau, Maui\",\"Pontchartrain Beach\",\"Dana Point, Orange County\",\"Near Encino, Los Angeles County\",\"At sea, several hundred miles south east of Cape Henry, Virginia\",\"West Bay, 19 miles from Galveston\",\"Off San Pedro, Los Angeles County\",\"Kane'ohe Bay, Mokapu, O'ahu\",\"Brown\\u2019s Inlet on New River, Onslow Beach\",\"50 miles offshore\",\"Thunderbolt, Chatham County\",\"Melbourne, Brevard County\",\"Fort Moultrie\",\"70 miles off Tarpon Springs\",\"High Island\",\"Key West, Monroe County \",\"Sandy Hook (ocean side), Monmouth County\",\"Off Brownsville\",\"1 mile ESE of Navesink, Monmouth County\",\"1 mile off Mala Wharf, Lahaina, Maui\",\"Off Ocean City, Cape May County\",\"Offshore, between Mantoloking & Point Pleasant, Ocean County\",\"North end of Morris Island at mouth of Charleston Harbor\",\"Mystic River\",\"Pawley\\u2019s Island, north of Charleston\",\"Brielle, Monmouth County (Offshore)\",\"Kahakuloa, Maui\",\"Beach 103rd Street, Rockaway \",\"Rock Harbor, Key Largo, Monroe County\",\"Near Port Arthur\",\"Kapehu Beach, Laupahoehoe, Hawai'i\",\"Mona Island, 40 miles west of the mainland \",\"Off Santa Monica, Los Angeles County\",\"Panacea, Wakulla County\",\"Pacific Grove, Monterey Bay, Monterey County\",\"Between Ala Moana Channel & Kewalo Basin, O'ahu\",\"Kaula Rock near Niihau \",\"Fourchu, Cape Breton Island\",\"Waiau, Pearl Harbor, O'ahu\",\"Rockaway Beach\",\"Wailupe, O'ahu\",\"Waikiki, O'ahu\",\"Montauk\",\"Oketee River, Jasper County\",\"Midway, Northwestern Hawaiian Islands\",\"3 miles from shore off McGregor Point, Maui\",\"Victim was on said to be on tanker that collided off Florida coast on 10-20-1943\",\"Atlantic Beach, Mayport,  Duval County\",\"North Beach\",\"Ocracoke Inlet, Carteret County\",\"Ocracoke\",\"Off Waianae, O'ahu\",\"In a canal 10 miles north of St Augustine\",\"Biscayne Bay\",\"Gulf of Mexico between Brownsville & Carmen, Mexico\",\"St. John, Genti Bay\",\"10 miles off Redondo Beach, Los Angeles County\",\"Horseshoe Reef, Scott Creek, Davenport, Santa Cruz County\",\"Carysfort Lighthouse, Key Largo, Monroe County\",\"Maliko Point, Maui\",\"Spanish House Beach, Brevard County\",\"Maha\\u2018ulepu Beach, Kauai\",\"Topanga Beach, Los Angeles County\",\"Key Largo\",\"Spreckelsville, Maui\",\"St. Augustine Beach, St. John's County\",\"South Beach, Miami-Dade County\",\" Cocoa Beach, Brevard  County\",\"Hobe Sound\",\"Tourmaline Surf Park, San Diego County\",\"Seaport, Brevard County\",\"Humboldt Bay, Eureka, Humboldt County\",\"Davidson's Surf Break, Kekaha, Kaua'i\",\"Kiholo Bay\",\"\\\"Stuart Rocks\\\", Martin County\",\"Ka'anapali, Honokowai, Maui\",\"Ka\\u2019anapali Shores\",\"Ballston Beach, Truro, Cape Cod\",\"Tofino, Vancouver\",\"Pleasure Point, Santa Cruz County\",\"Bathtub Reef  Beach, Stuart, Martin County\",\"Nimitz State Beach, Oahu\",\"Samoa Beach, Humboldt County\",\"Hatillo Beach\",\"Seaside\",\"Cape Canaveral\",\"Newport, Lincoln County\",\"Pigeon Point\",\"Seaside Cove\",\"Makahuena Point, Kauai\",\"Lincoln City, Lincoln County\",\"Leftovers near Chun's Reef, Oahu\",\"Off Catalina Island\",\"Leffingwell Landing, Cambria,  San Luis Obispo County\",\"Iroquiois Point, Oahu\",\"Summerland Key, Monroe County\",\"Near Boynton Beach, Palm Beach County\",\"Halewia, Oahu\",\"Juan Ponce de Le\\u00f3n Landing, Melbourne Beach, Brevard County\",\"Gleneden Beach, Lincoln County\",\"Keawekapu Beach, Kihei, Maui\",\"Between  Makena & Molokini, Maui\",\"Ninole Bay, Hawaii County\",\"Santa Lucea Beach, South Hutchinson Island, St. Lucie County\",\"Macarthur State Park\",\"Bethel Shoals, Indian River County\",\"West Beach, Galveston\",\"Off Snipe Point, Florida Keys, Monroe County\",\"Cape Henlopen State Park, Sussex County\",\"Oceano Dunes State Beach, San Luis Obispo County\",\"Manhattan Beach, Los Angeles County\",\"Okaloosa Island\",\"Table Beach, Brevard County\",\"South of Cocoa Beach, Brevard County\",\"Bay Head, Ocean County\",\"Waiehu, Maui\",\"Pila'a Beach, Kaua'i\",\"Miami Beach\",\"Surfside Beach, Brazoria County\",\"Kona Coast State Park\",\"Pacific State , San Mateo County\",\"Butler Beach, St Augustine,       St. Johns County\",\"Ulua Beach, Maui\",\"Ka'a Point, Maui\",\"Pillar Point, Half-Moon Bay, San Mateo County\",\"Pohoiki \",\"Winterhaven Park,           Ponce Inlet, Volusia County\",\"Catalina Channel\",\"Butterfly Beach, Montecito, Santa Barbara County\",\"Key West Aquarium\",\"Casino Beach, Pensacola, Escambia County\",\"Carlin Park, Jupiter, Palm Beach County\",\"Grass Island, Aransas County\",\"Buxton Beach, Dare County\",\"Kure Beach, New Hanover County\",\"Quebradillas\",\"Ala Moana Beach Park, Oah'u\",\"Buck Island\",\"McKenzie Beach Park in Pahoa, Hawai'i \",\"Hutchinson Island\",\"Ormond-by-the-Sea, Volusia County\",\"Bethune Beach\",\"Santa Rosa Beach, Walton County\",\"Alenuihaha Channel\",\" Vieques\",\"San Diego County\",\"Kona\",\"Walton Rocks, St Lucie County\",\"Carlin Park, Jupiter Inlet\",\"Shell Beach, San Luis Obispo County\",\"Biscayne National Park, Miami\",\"Intracoastal Waterway,      St. Petersburg\",\"Lahilahi Point, Oahu\",\"Litchfield Beach, Georgetown County\",\"Kamilo Point, Hawai'i\",\"West Cove, Catalina Island\",\"Huguenot Park\",\"Venice Pier, Venice, Los Angeles County\",\"Wailea, Maui\",\"Waialua Bay, O'ahu\",\"Off Fort Pierce, St. Lucie County\",\"Opposite Patrick Air Force Base, Brevard County\",\" Huntington Beach, Orange County\",\"Lovers Key State Park, Bonita Springs, Lee County\",\"Beachway Avenue Approach, New Smyrna Beach, Volusia County\",\"Near Cocoa Beach, Brevard  County\",\"New Smyrna Beach / Ponce Inlet, Volusia County\",\"Palm Beach Shores, Palm Beach County\",\"Hammocks Beach State Park, Bear Island, Onslow County\",\"Cherry Grove\",\"Curlew Island, Breton Sound\",\"Kawa'a \",\"Ponce, Volusia County\",\"Micklers Landing, St. Johns County\",\"Figure Eight Island, Wilmington, New Hanover County\",\"Sandridge Beach\",\"Surf Beach, Vandenberg AFB, Santa Barbara County\",\"Burnt Cove near Eastport, Washington County\",\"Florence\",\"Tavares Bay, Maui\",\" Kahului, Maui\",\"Matagorda Beach\",\"Follett's Island, Brazoria County\",\"Off Jupiter Inlet, Palm Beach County\",\"Perdido Key, Escambia County\",\"Sunday Beach, Matagorda Island, Calhoun  County\",\"Ocracoke Island, Hyde County\",\"Egg Harbor, Atlantic County\",\"Beaufort Inlet\",\"Near oil rig Hondo, 5 nm from Gaviota, Santa Barbara County\",\"Off Long Island\",\"Terramar Beach, Carlsbad, San Diego County\",\"Pismo Beach, San Luis  Obispo County\",\"Corolla, Currituck County\",\"Key Colony Beach, Monroe County\",\"Kalama Park, Maui\",\"Davenport, Santa Cruz County\",\"Loch Lomond, Marin County\",\"Lori Wilson Park, Cocoa Beach, Brevard County\",\"Adventure Aquarium, Camden\",\"Stuart, Martin County\",\"Riviera Beach\",\"Hanalei Bay\",\"Off Tarpon Springs\",\"Jacksonville\",\"Fripp Island\",\"Eight Mile Beach, Galveston\",\"Dog Patch, San Onofre\",\"Hallandale Beach, Broward County\",\"Apalachicola Bay \",\"Shelter Cover, north of Fort Bragg, Shelter Cove, Mendocino County\",\"Marconi Beach, Wellfleet, Barnstable County\",\"Snipes Point, Monroe County\",\"Ventnor\",\"DeBordieu Colony, Georgetown County\",\"Jacksonvlle, Duval County\",\"Menauhant Beach, Falmouth,\\nBarnstable County\",\"Sea Pines Resort, Hilton Head Island, Beaufort County\",\"Bathtub Beach \",\"Shipwreck\\u2019s Beach, Keoneloa Bay, Kauai\",\"Fort Worth\",\"Kama\\u2018ole Beach Park, Maui \",\"Davidsons Beach, Kekaha, Kauai\",\"Lantana Beach, Palm Beach County\",\"Stillwater Cove, Monterey County\",\"Hultin's Beach, Oahu\",\"Stearns Wharf, Santa Barbara\",\"Seal Rock, Goleta Beach, Santa Barbara\",\"South Beach, Westport, Grays Harbor County\",\"Wrightsville Beach\",\"Blockhouse Beach, Brevard County\",\"Jensen Beach\",\"Monterey Bay\",\"Daytona, Volusia County\",\"St. Augustine\",\"Kekaha Beach, Kauai\",\"Georgetown County\",\"Sunset Beach, Orange County\",\"Off Jupiter\",\"Awendaw, Charleston County\",\"Middle Sambo Reef off Boca Chica, Monroe County\",\"Burkes Beach, Hilton Head, Beaufort County\",\"Singer Island, Palm Beach County\",\"South Forest Beach, Hilton Head Island, Beaufort County\",\"Kukio Beach\",\"Isle of Palms,  Charleston County\",\"Surfside Beach, Horry  County\",\"Honokowai Point, Maui\",\"Waikoloa area\",\"North Koahala, Big Island\",\"Crescent Beach, St Johns County\",\"Anaehoomalu Bay, Hawaii\",\"Off Boca Grande, Lee County\",\"Browns, Oahu\",\"Ship Bottom, Ocean County\",\"Fort Macon State Beach, Carteret County\",\"Lighhouse Point Park, Ponce Inlet, Volusia County\",\"Wilmington River, Chatham County\",\"Haulover Inlet, Miami-Dade County\",\"Moonstone Beach, South Kingstown, Washington County\",\"Off Cape Hatteras, Dare County\",\"Off Key Biscayne\",\"Makaha Beach, Oahu\",\"Napoopoo Park in Kealakekua Bay, The Big Island\",\"Cape Kiwanda, Tillamook County\",\"Sandspit Beach, Monta\\u00f1a de Oro State Park \",\"Near Patrick AFB, Brevard County\",\"Beacons Beach, San Diego County\",\"Habush, Oahu\",\"St. Simon Island, Glynn County\",\"Near the Bahia Honda Bridge, Monroe County\",\"Oceanside, San Diego County\",\"John Pennekamp Coral Reef State Park, Monroe County\",\"Trinidad Beach, Huboldt County\",\"Sailors Haven, Fire Island, Suffolk County\",\"Atlantique Beach, Fire Island, Suffolk County\",\"Crystal Beach, Galveston  County\",\"Longnook Beach, Truro, Barnstable County\",\"Rhode River, Chesapeake Bay\",\"Atlantic Beach, Carteret  County\",\"Pounders Beach, Oahu\",\"Newcomb Hollow Beach, Wellfleet, Barnstable County\",\"Humboldt County\",\"Avalon State Park Beach, North Hutchinson Island, St Lucie County\",\"Kamaole Beach Park I, Maui\",\"Mayport Naval Station Beach, Duval County\",\"Ocracoke, Lifeguard Beach, National Park Service, Hyde County\",\"3 miles off Jupiter, Palm Beach County\",\"Resident's Beach, Marco Island\",\"Kanahena Cove \",\"Off San Diego\",\"Surf City\",\"South Beach, Hunting Island State Park, Beaufort County\",\"Isle of Palms County Park, Isle of Palms, Charleston County\",\"Off Surf City, Pender County\",\"Mayport Naval Station  Duval County\",\"Edisto Beach, Colleton County\",\"Cortes Bank\",\"Murrells Inlet, Georgetown County\",\"Morro Bay, San Luis Obispo County\",\"Morro Strand State Beach, San Luis Obispo County\",\"Deer Creek Beach, Ventura County\",\"El Pescador Beach, Los Angeles County\",\"Hapuna Beach\",\"Lahaina\",\"Off Panama City\",\"Windsor Beach, Indian River County\",\"Figure Eight Island,  New Hanover County\",\"Assateague National Seashore\",\"Fletcher Beach, Hutchinson Island, Martin County\",\"Manomet Point, Plymouth, Plymouth County\",\"Katrina Cut, Dauphin Island, Mobile County\",\"Manresa State Beach, Santa Cruz County\",\"Walls Beach, Vandenberg AFB, Santa Barbara County\",\"Cherie Down Park, Brevard County\",\"Maalaea, South Maui\",\"Leadbetter Beach, Santa Barbara County\",\"North Kohala, Hawaii County\",\"Fort Pierce Inlet State Park, St. Lucie County\",\"Airplane Beach, Lahina, West Maui\",\"Indian Harbor Beach, Brevard County\",\"Monta\\u00f1a de Oro State Park, San Luis Obispo County \",\"Big Talbot Island, Duval County\",\"Gaviota State Beach, Santa Barbara County\",\"Fernandina Beach, Amelia Island, Nassau County\",\"Off Singer Island, Palm Beach County\",\"Neptune, Duval County\",\"Corona Del Mar, Newport, Orange County\",\"Pirates Beach, Galveston\",\"Kalapaki Beach, Kauai\",\"Off Palos Verdes peninsula, Los Angeles County\",\"Off Gloucester, Essec County\",\"Capitola, Santa Cruz County\",\"Surfside, Orange County\",\"Refugio State Beach, Santa Barbara County\",\"Kingston Plantation, Myrtle Beach, Horry County\",\"Makaha, Oahu\",\"Indian Beach, Ecola State Park, Clatsop County\",\"Charlie Young Beach, Kihei, Maui\",\"Hooipa Beach Park, Maui\",\"Hugenot Beach , Jacksonville, Duval County\",\"Corners Beach, Jupiter, Palm Beach County\",\"Upolu Point, North Kohala, Big Island\",\"Fort Myers Beach, Lee County\",\"Horseshoe Rock, Santa Barbara County\",\"Leftovers, Oahu\",\"Shipyard Beach Club, Hilton Head Island, Beaufort County\",\"Off Leffingwell Landing, San Luis Obispo County\",\"Lanikai Beach, Kailua, Oahu\",\"Waikiki, \",\"Deerfield Beach, Broward County\",\"Malaka, Oahu\",\"Kehena Beach, Hawaii\",\"Paradise Beach, Melbourne, Brevard County\",\"La'aloa Beach Park\",\"Off Surfside\",\"Hanalei Bay, Kauai, \",\"Vero Beach, St. Lucie County\",\"Bolsa Chica State Park, Orange County\",\"North Carolina Aquarium at Fort Fisher\",\"Indian River Inlet, Rehoboth Beach\",\"Islamorada Founder's Park, Plantation Key, Monroe County\",\"Atlantiic Beach, Duval County\",\"Ocean Beach, Jaycee Park, Vero Beach, Indian River County\",\"Sandridge Beach, Virginia Beach, Princess Anne County\",\"Frying Pan Shoals\",\"Quarter mile offshore in Kaanapali, West Maui\",\"Olowalu side of Lahina, Maui \",\"Hobe Sound Beach, Palm Beach County\",\"Atlantic Dunes Park, Delray Beach, Palm Beach County\",\"11 miles off Dog Island in the Gulf of Mexico, Franklin County\",\"South side of Ponce de Leon Inlet, Volusia County\",\"Pensacola  Beach, Escambia County\",\"Two miles off Key Colony Beach, Monroe County\",\"Grand Strand, Myrtle Beach, Horry County\",\"Fort Fisher, New Hanover County\",\"World Typhoon Lagoon, Disney Water Park, Orange County\",\"Fort Pierce Inlet, St. Lucie County\",\"South Beach Park, Indian River County\",\"Jupiter Beach, Palm Beach County\",\"Sebastian Inlet, Indian River County\",\"The Rocks, Hutchinson Island, Martin County\",\"Salmon Creek Beach, Sonoma County\",\"Sunset Beach, O'ahu\",\"In Gulf of Mexico 17 miles off Weeki Wachee \",\"Daytona Beach Shores,  Volusia County\",\" Palm Beach County\",\"Sunset Beach, Oahu\",\"East Beach, Galveston\",\"Clam Beach, near Eureka, Humboldt County\",\"Volusia County  \",\"Waiokapua Bay/Majors Bay, Brennecke Beach, Poipu, Kaua'i Island\",\"Wreck of the Navy Barge, 22 miles SE of Rudee \",\"Gleneden Beach\",\"Walden Rocks, St. Lucie County\",\"Pecks Lake, Martin County\",\"Virginia Beach\",\"North of Pidgeon Point, San Mateo County\",\"Old Kona Airport State Park\",\"Lakewood Campground, Grand Strand, Horry County\",\"South Beach, Sebastian, Indian River County\",\"St. Augustine, St. Johns County\",\"South Jacksonville Beach, Duval County\",\"Bouges Bank, Emerald Isle, Carteret County\",\"Prince William Sound\",\"Boca Ciega Bay, Tampa, Pinellas County\",\"Sebastian Inlet, Indian River or Brevard County\",\"Lake Worth Inlet/West Palm Beach, Palm Beach County\",\"Olowalu\",\"Pet Den, Satellite Beach, Brevard County\",\"Fort Pierce Inlet State Park, St Lucie County\",\"Vaughn Beach, Flagler County\",\"Bonita Springs, Lee County\",\"Bay of Fundy\",\"Sunset Cliffs, San Diego\",\"Coral Cove Park, Jupiter Island, Martin County\",\"Big Pine Key, Monroe County \",\"Oceanic Pier, Wrightsville Beach, New Hanover County\",\"Daytona  Beach, Volusia County\",\"Neptune Avenue, Ormond Beach, Volusia County\",\"Gulfstream Park beach, Palm Beach County\",\"Waddell Reef, Santa Cruz County\",\"Big Island off Kona Village Resort, North Kona\",\"Midnight Lump (38 miles offshore)\",\"Santa Rosa Sound Escambia County\",\"Municipal Beach, Riviera Beach, Palm Beach County\",\"On the south side of Ponce Inlet, Volusia County\",\"27th Avenue, New Smyrna Beach, Volusia County\",\"Seminole Avenue, Ormond Beach, Volusia County\",\"Smyrna Dunes Park, New Smyrna Beach, Volusia County\",\"Smyrna Dunes  Park, New Smyrna Beach, Volusia County\",\"Pine Island, Corolla, Currituck County\",\"Coral Cove Park, Palm Beach County\",\"Behune Beach, Volusia County\",\"Bird Rock, Tomales Point\",\"Huguenot Memorial Park, Duval County\",\"Paradise Bay (next to Wailua Bay), Maui\",\"Hamstead, Pender County\",\"Goats Island (Moku\\u2019auia Island), Malaekahana State Recreation Area, Laie, O'ahu\",\"Abalone Point, Westport Union Landing, Mendocino County\",\"Pamlico Sound\",\"Between Santa Cruz Island and Santa Barbara\",\"Little Talbot Island, Jacksonville, Duval County\",\"Mouth of Wallua River, Kaua'i\",\"Bayshore Garden, Sarasota Bay, Sarasota County\",\"Goat Rock, Bodega Bay, Sonoma County?\",\"Treasure Shores Beach, Indian River County\",\"\\\"Bunkers\\\" Eureka, Humboldt County\",\"Horners, Wailua, Kaua'i\",\"North Beach Jetty, St Lucie County\",\"Waipo\",\"Velzyland, north shore of O'ahu\",\"Bastendorf Beach, Coos County\",\"Honomuni, Moloka'i\",\"Chun's Reef, Laniakea, O'ahu\",\"Winchester Bay, Douglas County\",\"Wreck of the U-352 \",\"Manasota Beach, Sarasota County\",\"Wai'anae, O'ahu\",\"Manalapan, Palm Beach County\",\"Twin Arches, Hana Ranch, Maui\",\"St Lucie County\",\"Gold Beach, Curry County\",\"Castle Rock, San Miguel Island, Santa Barbara County\",\"Kea'au Beach Park, O'ahu\",\"North Jetty Park, Fort Pierce, St Lucie County\",\"San Nicholas Island, Santa Barbara County\",\"Ano Nuevo, San Mateo County\",\"Kailua Bay\",\"Miami Beach, Dade County\",\"Sunset Cliffs, San Diego, San Diego County\",\"Cape Lookout Bight\",\"Shelter Cove, Humboldt County\",\"Matanzas Bay Inlet, St. Johns County\",\"North Beach, Hutchinson Island, St. Lucie County\",\"Crescent Beach, St. Augustine, St. Johns County\",\"Ha'ena, Kaua'i\",\"Southwest of O'ahu\",\"Ka\\u2019eleki\\u2019I Point, Maui\",\"St. Louis\",\"La'ie Point, O'ahu\",\"Shark Shallows, Ponce Inlet, Volusia County\",\"Public Beach, Siesta Key, Sarasota County\",\"Nakalele Point, Maui\",\"Truro (Cape Cod), Barnstable County\",\"Wiggins Pass, Collier County\",\"North Beach Inlet, St. Lucie County\",\"Ocean Lakes Campground, south of Myrtle Beach, Horry County\",\"Spessard Holland Park, Melbourne Beach, Brevard County\",\"Carmel, Monterey County\",\"3 miles east of Jacksonville Beach, Duval County\",\" Daytona Beach, Volusia County\",\"Makaha Surf Beach\",\"Short Sand Beach, Oswald West State Park\",\"North Forest Beach, near Hilton Head, Beaufort County\",\"Bill Baggs Cape Florida State Recreation Area, Miami-Dade County\",\"Off the Hanalei River, Kaua'i\",\"Kinikini, Mana, Kaua'i\",\"Carolina Beach\",\"Opposite Grand Wailea Resort, Wailea, Maui\",\"LaJolla Shores, San Diego County\",\"Bluefish Cove, Pt. Lobos State Park, Monterey County\",\"Off 29th Avenue, Myrtle Beach, Horry County\",\"Cat Island, Harrison County\",\"Port Aransas\",\"Sandy Beach, Oahu\",\"Ewa Beach, O'ahu\",\"Waveland Beach, Hutchinson Island, St Lucie County\",\"Scripps, LaJolla, San Diego County\",\"Port Bolivar, Galveston County\",\"Quarter mile south of Ponce de Leon Inlet, Volusia County\",\"Off Zelda Boulevard, Daytona Beach, Volusia Countyy\",\"Carolina Beach off Texas Avenue, New Hanover County\",\"34th Avenue North, Myrtle Beach, Horry County\",\"6th Avenue North, Myrtle Beach, Horry County\",\"Tigertail Beach, Collier County\",\"Big Bayou, St. Petersburg, Pinellas County \",\"Salmon Beach, Sonoma County\",\"Klamath River mouth, Del Norte County\",\"Ocean Beach, San Francisco, San Francisco County\",\"Tillamook Head, Clatsop County\",\"Marco Island, Collier County\",\"Port of the Islands, Collier County\",\"Destin, Walton County\",\"Howard E. Futch Memorial Park at Paradise Beach, Brevard County\",\"Surf City, Long Beach Island, Ocean County\",\"Sand Key Beach, Clearwater, Pinellas County\",\"204s, San Clemente, Orange County\",\"New Smyrna Beach / Cape Canaveral  National Seashore, Brevard County\",\"North of Apache Pier, Myrtle Beach, Horry County\",\"Gold  Beach\",\"Lifeguard Tower 16, Huntington Beach, Orange County\",\"Limantour Beach, Point Reyes National Seashore\",\"Rocky Point, north shore of O'ahu\",\"Long Key, Monroe County\",\"Albuquerue Aquarium, Albuquerue\",\"Isla Blanca Park, South Padre Island, Cameron County\",\"Central Gulf Coast, St. John County\",\"Crescent Beach, Sarasota County\",\"Off Sullivans Island\",\"North Kihei, Maui\",\"Alligator Reef off Islamorada, Monroe County\",\"Gun Beach\",\"North Shore, O'ahu\",\"100 miles off Ft. Myers Beach\",\"Normandy Beach, Hutchinson Island,  St. Lucie County\",\"Naples\",\"Virginia Aquarium & Marine Science Center, Virginia Beach \",\"Garden City\",\"Silva's Channel, Mokuleia, O'ahu\",\"Will Rogers State Beach, Los Angeles County\",\"Marques Island\",\"Atlantic Beach, Carteret County\",\"Faria Beach, Ventura County\",\"North Topsail Beach, Onslow  County\",\"Bellows Beach near Wailea Point, O\\u2019ahu\",\"Bean Hollow State Beach, San Mateo County\",\"Islamorada, Monroe County\",\"Ponce Inlet,  New Smyrna Beach, Volusia County\",\"Sarasota Bay\",\"Waveland Beach, Hutchinson Island, St. Lucie County\",\"Smith Point, Long Island\",\"French Frigate Shoals\",\"Majors Bay, Kaua'i\",\"O'ahu\",\"Monterey, Monterey County\",\"Fort Myers\",\"Debordieu Beach, Georgetown County\",\"Singleton Beach, Hilton Head Island, Beaufort County\",\"Broad Beach, Malibu, Los Angeles County\",\"Oswald State Park\",\"Newport Aquarium, Newport\",\"Florence, Lane County\",\"Singer Island, Riviera Beach\",\"Onslow Beach\",\"Off Key Largo, Monroe County\",\"Isla Blanca Park, South Padre Island\",\"Sebastian Inlet\",\"Siletz River mouth, Lincoln County\",\"Kibesillah, Mendocino County\",\"Cocoa  Beach, Brevard County\",\"Off 21st Avenue, Isle of Palms, Charleston County\",\"a pier at the end of Caxambas Drive, Marco Island \",\"Kapalua, Maui\",\"Deerfield Beach (near Boca Raton), Broward County\",\"Brenecke Beach, Po'ipu, Kaua'i\",\"Lauderdale-By-The-Sea, Broward County\",\"St. Augustine Beach, St. Johns County\",\"Ten Thousand Islands National Wildlife Refuge, Collier County\",\"Atlantic Avenue, Palm Beach County\",\"St. George Island (near Apachicola), Franklin County\",\"Bryan Beach, Brazoria County\",\"Anini Beach, Kaua'i\",\"100 miles off Ocean City, Maryland, in 7000' of water\",\"Topsail Beach, Pender County\",\"Ponce De Leon Inlet, Volusia County\",\"Gulf of Mexico, 65 miles offshore from Mobile\",\"Kewalo Basin Channel, O'ahu\",\"Hideaways Beach, Princeville, Kaua'i\",\"2 miles off Pompano Beach, Broward County\",\"A quarter mile north of Fort Pierce Inlet\",\"Everglades National Park, Monroe County\",\"Key Biscayne, Dade County\",\"Catalina Island\",\"Padre Island National Seashore\",\"Isle of Palms, Charleston County \",\"Gulf Islands National Seashore\",\"Santa Rosa Island, Escambia County\",\"Chatham Island\",\"Marathon , Monroe County\",\"Taverniier, Monroe County\",\"Near 70th Avenue, Myrtle Beach, Horry County\",\"Wilbur-by-the-Sea, Volusia County\",\"Daytona, Volusia County \",\"Coquina Beach, Anna Maria Island, Manatee County\",\"Sandbridge Beach, Princess Anne County\",\"Mayport Naval Station, Jacksonville, Duval Country\",\"Waites Island, Horry County\",\"Cape Kiwanda\",\"Key Largo, Monroe County\",\"Opposite main gate at Patrick Air Force Base, Cape Canaveral, Brevard County\",\"Cove Beach / Kalama Beach, Kihei, Maui\",\"Stuart Park Beach, Martin County\",\"Palm Beach?\",\"Near Patrick Air Force Base Brevard County\",\"Honolua Bay\",\"Tunnels surf break off Makua Beach, Kaua'i\",\"Miami, Dade County\",\"Kalihiwai Beach, Kauai\",\"Punaluu\",\"Stuart Rocks, Martin County\",\"Velzyland\",\"Channel between South Padre Island & Padre Island National Seashore\",\"St. Augustine  St. Johns County\",\"Pirate's Beach, Galveston Island\",\"Disney / Vero Beach, Indian River County\",\"Gulf Shores Beach, Baldwin County\",\"Crawford Road beach approach at New Smyrna Beach, Volusia County\",\"North Hutchinson Island, St. Lucie Couny\",\"Kama'ole Beach Park I, Kihei, Maui\",\"Bathtub Reef Beach, Martin County\",\"Ka'anapali\",\"North Beach, Patrick AFB, Brevard County\",\"New Smyrna Beach, Volusia County  \",\"Sunglow Pier, Daytona Beach Shores, Volusia County\",\"Shepard Park, Cocoa Beach, Brevard County \",\"Melbourne Beach, Brevard County \",\"Coral Cove Park, Jupiter Inlet, Palm Beach County\",\"Makua Beach, Oahu\",\"St Augustine Beach. St. Johns County\",\"Canova Beach, Brevard County\",\"Near New Smyrna Jetty, Volusia County\",\"Avila Beach, San Luis Obispo County\",\"1.5 miles off Surfside \",\"Ocracoke Inlet\"]],[\"color\",[\"New Smyrna Beach, Volusia County\",\"Daytona Beach, Volusia County\",\"Ponce Inlet, Volusia County\",\"Melbourne Beach, Brevard County\",\"Myrtle Beach, Horry County\",\"Isle of Palms, Charleston County\",\"Cocoa Beach, Brevard County\",\"Ponce Inlet, New Smyrna Beach, Volusia County\",\"Jacksonville Beach, Duval County\",\"Ormond Beach, Volusia County\",\"Palm Beach, Palm Beach County\",\"Cocoa Beach, Brevard  County\",\"Singer Island, Riviera Beach, Palm Beach County\",\"Juno Beach, Palm Beach County\",\"Florida Keys, Monroe County\",\"Florida Keys\",\"Vero Beach, Indian River County\",\"Sanibel Island, Lee County\",\"Folly Beach, Charleston County\",\"Pensacola Bay, Escambia County\",\"Jacksonville, Duval County\",\"Charleston\",\"Riviera Beach, Palm Beach County\",\"Key West, Monroe County\",\"Galveston\",\"Huntington Beach, Orange County\",\"Gulf Shores, Baldwin County\",\"Jupiter, Palm Beach County\",\"Panama City, Bay County\",\"Jensen Beach, Martin County\",\"Playalinda Beach, Brevard County\",\"Fort Lauderdale, Broward County\",\"Ocean Isle, Brunswick County\",\"Ocean Reef Park, Singer Island, Palm Beach County\",\"Fernandina Beach, Nassau County\",\"Flagler Beach, Flagler County\",\"Wrightsville Beach, New Hanover County\",\"Daytona Beach Shores, Volusia County\",\"North Myrtle Beach, Horry County\",\"Emerald Isle, Carteret County\",\"La Jolla, San Diego County\",\"South Padre Island\",\"Bethune Beach, Volusia County\",\"Playalinda Beach, Canaveral National Seashore, Brevard County\",\"Jensen Beach, Martin County \",\"Hilton Head Island, Beaufort County\",\"Tomales Point, Marin County\",\"Venice Beach, Los Angeles County\",\"Atlantic City, Atlantic County\",\"Avon, Hatteras Island, Outer Banks, Dare County\",\"Indialantic, Brevard County\",\"Indiatlantic, Brevard County\",\"Olowalu, Maui\",\"Sullivan's Island\",\"Santa Monica, Los Angeles County\",\"San Onofre State Beach, San Diego County\",\"Charleston Harbor, Charleston County\",\"Bald Head Island, Brunswick County\",\"Dillon Beach, Marin County\",\"Maui\",\"Pawleys Island, Georgetown County\",\"Moonstone Beach, Humboldt County\",\"Palm Beach County\",\"San Onofre, San Diego County \",\"Farallon Islands\",\"New Smyrna Beach\",\"Marathon, Monroe County\",\"South Jetty, New Smyrna Beach, Volusia County\",\"North Topsail Beach, Onslow County\",\"Stuart Beach, Martin County\",\"Floridana Beach, Brevard County\",\"Newport Beach, Orange County\",\"Ormond Beach / Daytona Beach, Volusia County\",\"Boca Raton, Palm Beach County\",\"Hermosa Beach, Los Angeles County\",\"Mustang Island, near Port Aransas\",\"Vilano Beach, St.  Johns County\",\"Malibu, Los Angeles County\",\"Mobile Bay\",\"Ponte Vedra, St. Johns County\",\"Bunkers, Humboldt Bay, Eureka, Humboldt County\",\"Crescent Beach, St. Johns County\",\"Galveston Island\",\"Imperial Beach, San Diego County\",\"Franklin Point, San Mateo County\",\"Long Beach, Los Angeles County\",\"Coligny Beach, Hilton Head, Beaufort County\",\"Folly Island, near Charleston\",\"Kiawah Island, Charleston County\",\"Pearl Harbor, O'ahu\",\"Holden Beach. Brunswick County\",\"Pigeon Point, San Mateo County\",\"St. Augustine, St. John's County\",\"New Smyrna Beach,  Volusia County\",\"Kanaha Beach, Maui\",\"Condado Beach, San Juan\",\"Miami Beach, Miami-Dade County\",\"Tybee Island, Chatham County\",\"Hollywood Beach, Broward County\",\"Pablo Beach, Jacksonville, Duval County\",\"Masonboro Island, New Hanover County\",\"Winchester Bay\",\"Off Charleston\",\"Kihei, Maui\",\"Kauai\",\"Virginia Beach, Princess Anne County\",\"Fort Lauderdale\",\"Lori Wilson Park, Cocoa Beach, Brevard  County\",\"Santa Barbara County\",\"San Francisco Bay\",\"Ponte Vedra Beach, St Johns County\",\"Hanalei Bay, Kauai\",\"Ponce de Leon Inlet, Volusia County \",\"Hutchinson Island, St. Lucie County\",\"Kau District\",\"Tiger Shores Beach, Martin County\",\"St. Lucie County\",\"Boca Grande, Lee County\",\"San Miguel Island, Santa Barbara County\",\"Holden Beach, Brunswick County\",\"Ho'okipa Beach, Pa'ia, Maui\",\"Hobe Sound, Martin County\",\"Pensacola, Escambia County\",\"Destin, Okaloosa County\",\"Gadsden Point, Tampa Bay\",\"Surf City, Topsail Island, Pender County\",\"Off Masonboro Island, New Hanover County\",\"Sunset Beach, Brunswick County\",\"Bodega Rock, Sonoma County\",\"Cape Canaveral, Brevard County\",\"Kahana Beach, Maui\",\"Staten Island, Richmond County\",\"Topsail Island, Pender County\",\"Paia Bay, Maui\",\"Bethune Beach, south of New Smyrna Beach, Volusia County\",\"Linda Mar Beach, Pedro Point, San Mateo County\",\"Myrtle Beach\",\"Hobe Sound, Palm Beach County\",\"White Plains Beach, Barbers Point, O'ahu\",\"Patrick Air Force Base, Brevard County\",\"Stono Inlet, near Charleston, Charleston County\",\"Honokowai, Maui\",\"Atlantic Beach, Duval County\",\"Kealia Beach, Kaua'i\",\"Fripp Island, Beaufort County\",\"Sargent Beach, Matagorda County\",\"St. Augustine, St Johns County\",\"Mustang Island, Corpus Christi\",\"Daytona Beach, Volusia County \",\"Spring Lake, Monmouth County\",\"Galveston Bay\",\"Kahului, Maui\",\"Matawan Creek, 10 miles from the sea, Monmouth County\",\"San Diego, San Diego County\",\"Sheepshead Bay, Brooklyn\",\"New Smyrna Beach / Waveland, Volusia County\",\"South of Ponce Inlet, Volusia County\",\"Carolina Beach, New Hanover County\",\"Ocean City (offshore)\",\"Puna\",\"Ka'a'awa, Oahu\",\"Delray Beach\",\"Sea Bright, Monmouth County\",\"Lake Pontchartrain\",\"Folly Beach\",\"Davenport Landing, Santa Cruz County\",\"Barber\\u2019s Point, O'ahu\",\"Monastery Beach, Carmel Bay, Monterey County\",\"Ocean City, Cape May County\",\"Leftovers, near Waimea Bay, O'ahu\",\"Key Biscayne\",\"Makena, Maui\",\"Fort Pierce, St Lucie County\",\"Emerald Isle Pier (near Morehead City), Carteret County\",\"Municipal Beach, West Palm Beach, Palm Beach County\",\"Maile Beach, O'ahu\",\"Surf Beach, Lompoc, Santa Barbara County\",\"Santa Catalina Island, Los Angeles County\",\"Kahala, O'ahu\",\"Fort Pierce Inlet, St Lucie County\",\"Absecon, Atlantic County\",\"Elliot Key\",\"Tampa Bay, Hillsborough County\",\"Boca Ciega Bay, Pinellas County\",\"San Juan\",\"Morehead, Carteret County\",\"Palm Beach Inlet, Palm Beach County\",\"St Augustine, St Johns County\",\"Boynton Beach, Palm Beach County\",\"Seabrook Beach\",\"San Francisco Bay (or San Leandro Bay), near cannery, Alameda County\",\"Fort Pierce, St. Lucie County\",\"Santa Barbara Channel\",\"Hilo, Hawai'i\",\"Sarasota County\",\"Klamath River, Del Norte County\",\"Sebastian Inlet, Brevard County\",\"St Augustine Beach, St Johns County\",\"Neptune Beach, Duval County\",\"Clearwater Beach, Pinellas County\",\"Delray Beach, Palm Beach County\",\"Solana Beach, San Diego County\",\"Makena Landing, Maui\",\"Atlantic Beach, Emerald Isle, Carteret County\",\"North Beach, St. Lucie County\",\"LaJolla, San Diego County\",\"Santa Cruz, Santa Cruz County\",\"Monterey Bay, Monterey County\",\"St. Petersburg, Pinellas County\",\"Wailea Beach, Maui\",\"Salmon Creek, Sonoma County\",\"Moloka'i\",\"Mavericks, Half Moon Bay, San Mateo County\",\"New Smyrna  Beach, Volusia County\",\"Crescent Beach St. Johns County\",\"Bridgeport, Fairfield County\",\"Jupiter Inlet\",\"Midway Island, Northwestern Hawaiian Islands\",\"Southeast Farallon Island, Farallon Islands\",\"Pelican Beach Park, Satellite Beach, Brevard County\",\"Haulover Beach, Miami-Dade County\",\"Garden City Beach, Horry County\",\"Pismo Beach, San Luis Obispo County\",\"Turtle Beach, Siesta Key, Sarasota County\",\"Lyman Beach, Kailua-Kona\",\"Amelia Island, Nassau County\",\"Shell Island Panama City Beach, Bay County\",\"New Orleans\",\"Ocracoke, Hyde County\",\"Ponce de Leon Inlet, Volusia County\",\"Keawakapu Beach, Maui\",\"Shrewsbury River, Highlands, Monmouth County\",\"Sandy Hook Bay, Highlands, Monmouth County\",\"Mustang Island, Nueces County\",\"Norfolk\",\"Off Makapauu Point, O'ahu\",\"Florida Straits\",\"Brazos\",\"Paukukalo, Maui\",\"Cape San Blas, Gulf County\",\"Point Conception, Santa Barbara County\",\"Stinson Beach, Marin County\",\"Miami\",\"Rockaway\",\"Long Island\",\"Loggerhead Park, Juno Beach, Palm Beach County\",\"Jensen Beach Park, Martin County\",\"South of Ponce Inlet, New Smyrna Beach, Volusia County\",\"Jekyll Island, Glynn County\",\"Rodanthe, Dare County\",\"North Jetty, Fort Pierce Inlet State Park, St. Lucie County\",\"Volusia County\",\"Mission Beach, San Diego County\",\"St. Helena Island, Beaufort County\",\"Daytona Beach Shores\",\"Oak Island, Brunswick County\",\"Near Key West\",\"White Plains Beach, Oahu\",\"Lanai\",\"Marina State Beach, Monterey County\",\"Hanna Park, Jacksonville, Duval County\",\"Lauderdale-by-the-Sea, Broward County\",\"Brooklyn\",\"North Salmon Creek Beach, Sonoma County\",\"Round Island Park, Indian River County\",\"Santa Maria Island, Manatee County\",\"Pepper Park Beach, St. Lucie County\",\"Ponte Vedra Beach, St. Johns County\",\"Kaiwi Channel\",\"Sea Girt, Monmouth County\",\"South Padre Island, Cameron County\",\"Brennecke Beach, Po'ipu, Kaua'i\",\"Back River, Savannah Beach, Chatham County\",\"St. Simons Island or Jeykll Island, Glynn County\",\"Laguna Beach, Orange County\",\"Pinellas County\",\"St. Croix, Cane Bay\",\"Point Purisima, Santa Barbara County\",\"Sea Ranch, Sonoma County\",\"Albion Cove, Albion, Mendocino County\",\"Bird Rock, near Tomales Point, Marin County\",\"Ormond By The Sea, Volusia County\",\"Waihe'e, Wailuku, Maui\",\"False Cape\",\"Point Sur, Monterey County\",\"Matanzas Inlet, St Johns County\",\"Waimanu, Honoka'a, Hawai'i\",\"Gulf of Mexico\",\"Ft. Pierce, St Lucie County\",\"Kalama Beach, Kihei, Maui\",\"Port Lavaca, Calhoun County\",\"Off Hilton Head, Beaufort County \",\"2 miles off Jupiter, Palm Beach County\",\"Biltmore Beach, near Panama City\",\"8 miles south of Elliot Key, Miami-Dade County\",\"Municipal Bathing area, Riviera Beach, Palm Beach County\",\"South Jetty, Galveston\",\"Point Comfort, Calhoun County\",\"Southeast Farallon Island\",\"Key Biscayne, Miami, Dade County\",\"Reeds Bay, Brigantine, Atlantic County\",\"Ft. Lauderdale, Broward County\",\"3 days out of Old Saybrook, Connecticut, 37.04'N, 67.57'W, Southern fringe of Gulf Stream\",\"Bolivar Peninsula\",\"Pebble Beach, Cypress Point, Monterey County\",\"Hollywood, Broward County\",\"100 miles offshore\",\"Steel Pier, Atlantic City, Atlantic County\",\"Near US Air Force Base at Elgin, Okaloosa County\",\"In front of Key Biscayne Beach Club, Key Biscayne\",\"Between Palm  & Salerno Inlets, Martin County\",\"Pacifica, San Mateo County\",\"Pompano Beach, Palm Beach County\",\"Dana Point, San Clemente, Orange County\",\"Granite Pier, Rockport\",\"50 miles NE of Honolulu\",\"Snapper Point Jetty, Miami, Dade County\",\"Dania, Broward County\",\"Off Key West\",\"Waimea Bay, O'ahu\",\"Manatee County\",\"Manasquan, Ocean County\",\"Off Andy Bowie Park, Padre Island, near Port Isabel\",\"Hawaii\",\"Bird Rock, Tomales Point, near Marin County / Sonoma County border\",\"St. Petersburg, Pinnellas County\",\"Packery Channel\",\"Makaha, O'ahu\",\"Egmont Key, Hillsborough County\",\"Ventura\",\"Somewhere between Hatteras and Beaufort\",\"Hapuna Beach, Hawai'i\",\"Okaloosa County\",\"Awili, South Kona, Hawai'i\",\"St. Thomas, Magens Bay\",\"Mullet Key, Pinellas County\",\"Palm Beach Shores, Riviera Beach, Singer Island, Palm Beach County\",\"McArthur Beach, Singer Island, Palm Beach Shores\",\"San Mateo County\",\"Kailua Bay, O'ahu\",\"Horn Island\",\"Fenwick Island\",\"Monterey, Montery County\",\"San Gregorio Beach, San Mateo County\",\"Winyah Bay\",\"Satellite  Beach, Brevard County\",\"Davenport Light, San Mateo County\",\"North of Jupiter Inlet, Palm Beach County\",\"Running Waters Beach, Ninini Point, Kaua'i\",\"Waihe'e, Maui\",\"North of Morro Rock, San Luis Obispo County\",\"Paradise Beach Park, Brevard County\",\"Sea Pines Beach Club, Hilton Head, Beaufort County\",\"Playalinda, Brevard County\",\"Fort Pierce, St. Lucie County \",\"Indian Beach, Ecola State Park, just north of Cannon Beach, Clatsop County \",\"Wailua, Kaua'i\",\"Waialua Beach, Moloka'i\",\"Latigo Point / Paradise Cove,west of Malibu, Los Angeles County\",\"Tunitas Beach, San Mateo County\",\"Nest Key, Monroe County\",\"Kekaha Beach, Kaua'i\",\"St Augustine, St. Johns County\",\"Jupiter Island Beach, Martin County\",\"15 miles north of Sebastian Inlet, Brevard County\",\"Off Shelter Cover (between Fort Bragg & Eureka), Humboldt County\",\"Bayport, Hernando County\",\"Palmetto Dunes, Hilton Head, Beaufort County\",\"Barbers Point, O'ahu\",\"Little Glass Shacks, Princeville, Kaua'i\",\"New Hanover County\",\"Masonboro Inlet, New Hanover County\",\"Pinellas Point, Tampa Bay\",\"Monastery Beach, Carmel River State Park, Monterey Peninsula, Monterey California\",\"Kailua-Kona, Hawai'i\",\"Latigo Point / Paradise Cove, west of Malibu, Los Angeles County\",\"Pacific Beach, Grays Harbor County\",\"Wabasso Beach, Indian River County\",\"Trinidad Head, Humboldt County\",\"Trinidad State Beach, Humboldt County\",\"Russian Gulch, Jenner, Sonoma County\",\"Hanalei Point, Kaua'i\",\"North end of County Beach, Palm Beach County\",\"Spanish River Park Beach, Palm Beach County\",\"Neskowin, Tillamook County\",\"One'ula Beach Park, 'Ewa Beach, O'ahu\",\"Baltimore Aquarium\",\"Ma'ili Beach, O'ahu\",\"Croatan Beach, Virginia Beach, \",\"8.5 miles south of Ano Nuevo State Reserve, Davenport County\",\"South Miami Beach, Dade County\",\"John Pennekamp Marine Park, Monroe County\",\"Florida Bay\",\"Juno Beach / North Palm Beach, Palm Beach County\",\"Near Port Aransas, Nueces County\",\"40 miles off Cocodrie\",\"Mustang Island State Park, Nueces County\",\"Anahola, Kaua'i\",\"Salvo, Dare County\",\"Off Palos Verdes Estates, Los Angeles\",\"Gulf of Mexico, 22 miles from Pensacola\",\"Between Wrightsville Beach & Carolina Beach, New Hanover County\",\"Surfside Beach\",\"Kahe Point, O'ahu\",\"Ehukai Beach Park, Sunset Beach, O'ahu\",\"90 miles east of Hilo, Hawai'i\",\"Montera Beach, San Mateo County\",\"Monster Hole, Sebastian Inlet, Indian River County\",\"Mokapu, Kane'ohe Marine Air Corps Station, O'ahu\",\"Fowey Rock, Key Biscayne\",\"Myers Creek\",\"Ka'anapali, Maui\",\"12 miles northeast of Mayport,  Duval County\",\"Off San Diego, San Diego County\",\"McClure Beach, near Tomales Point, Marin County\",\"South of Neptune Beach, Duval County\",\"Pajaro Dunes, Santa Cruz County\",\"Ewa, O'ahu\",\"South Kohala, Hawai'i\",\"Ano Nuevo Island, San Mateo, County\",\"Municipal Beach, Boyton Beach, Palm Beach County\",\"Public Beach (Carlin Park), Jupiter, Palm Beach County\",\"Fort Walton Beach, Okaloosa County\",\"10 miles off Cape Canaveral\",\"Haystack Rock, Cannon Beach, Clatsop County\",\"Off San Clemente Island, Los Angeles County\",\"Padre Island\",\"Sebastian, Indian River County\",\"Puamana, Lahaina, Maui\",\"Scofield - Sandy Point\",\"North Farallon Island, Farallon Islands\",\"North of Point Sur, Monterey County\",\" New Smyrna Beach, Volusia County\",\"Windy Hill, near Myrtle Beach, Horry County\",\"Perch Rock, Point Conception, Santa Barbara County\",\"Off Hutchinson Island, St Lucie County\",\"Usal Creek, Bear Harbor, Mendocino County\",\"Seal Beach, Orange County\",\"Sandy Hook, Monmouth County\",\"Off Lahaina, Maui\",\"Off Fort Pierce, St Lucie County\",\"Kama'ole Beach, Park No. 1, Kihei, Maui\",\"St. Andrews State Park, Bay County\",\"Maha'ulepu, Koloa, Kaua'i\",\"Dewey Beach\",\"Grand Isle, Jefferson Parish\",\"Bob Graham Beach, Martin County\",\"Morro Rock, Morro Bay, San Obispo County\",\"Lake Worth Beach, Palm Beach County\",\"Haulover Inlet, Dade County\",\" Riviera Beach, Palm Beach County\",\"Intracoastal Waterway, Boca Raton, Palm Beach County\",\"Off 12th Street, Miami Beach\",\"Caloosahatchee River, Lee County\",\"6 miles south of Boca Chica Key, Monroe County \",\"Cape Kiwanda,Tillamook County\",\"Off Lake Worth, Palm Beach County\",\"San Francisco\",\"Kane'ohe Bay, O'ahu\",\"Off Crystal River, Citrus County\",\"\\\"Turnaround\\\", Cape Kiwanda, Tillamook County\",\"Bear Harbor, Mendocino County\",\"Point Buchon, San Luis Obispo County\",\"Off Umpqua River\",\"Stuart Beach, Martin County \",\"Sands Cut, Elliot Key\",\"Ha'ena Beach Park, Kaua'i\",\"Honoli'i Pali, Hilo Bay ('Alae Point), Hawai'i\",\"Carter Cay\",\"St. Petersburg Beach, Pinellas County\",\"Keaukaha, Hilo, Hawai'i\",\"Hilton Head, Beaufort County\",\"Tampa Bay, Manatee County\",\"Jupiter Island, Brevard County\",\"La'au Point, Moloka'i\",\"Nimitz Beach, Barbers Point, O'ahu\",\"South Moss Beach, Spanish Bay, Monterey Peninsula\",\"Stillwater Cove, Sonoma County\",\"Daws Island, Broad River (near Beaufort)\",\"Gulf Island National Seashore Park\",\"North coast\",\"Lower Delaware Bay\",\"Bay St. Louis, Hancock County\",\"Tangier Sound, Somerset County\",\"Avalon, Los Angeles County\",\"Pepe'ekeo, Honomu, Hawai'i\",\"Garden Key, Charlotte County\",\"Mosquito Inlet (Ponce Inlet), Volusia County\",\"Small creek near Coles Island\",\" Kalepolepo, Kihei, Maui\",\"Rockport, Aransas County\",\"Mana, Kaua'i\",\" Marathon, Monroe County\",\"Redondo, Los Angeles County\",\"Pa'uwela, Maui\",\"Lewes, Sussex County\",\"Off Fort Gaines, Dauphin Island, Mobile County\",\"Davis Shore, east of Beaufor, Carteret Countyt\",\"Cape Lookout, Carteret County\",\"Shrewsbury River,  Monmouth County\",\"Off Diamond Head, Honolulu, O'ahu\",\"St. John's River, Jacksonville, Duval County\",\"Prince's Bay, Staten Island\",\"Off Kohala\",\"Near a small wreck in a channel at Indian Key\",\"St. John's River\",\"Trout River, Panama Park\",\"Inter-Island Dry Dock at Kakaako Street, Honolulu, O'ahu\",\"Makapu'u Point, O'ahu\",\"Southport, Brunswick County\",\"Waikiki Beach, Oahu\",\"Coddington Cove\",\"Indian River Inlet / Fort Pierce Inlet\",\"Kalihi, O'ahu\",\"Near Port Lavaca, Calhoun County\",\"Koko Head, south side of O'ahu Island\",\"Texas City, Galveston\",\"Delaware Lightship\",\"Seabright, Monmouth County\",\"Woodcliff Channel, Freeport, Long Island\",\"Municipal Pier, St. Petersburg, Tampa bay\",\"Nahant\",\"Capistrano, Orange County\",\"Keawanui, Kamalo, Moloka'i\",\"Bayboro, Pinellas County\",\"Santurce\",\"Hilo Bay Yacht Club, Hilo, Hawai'i\",\"Galveston Ship Channel\",\"Hale'iwa, O'ahu\",\"Seaside, Ocean County\",\"Catalina Channel, Los Angeles County\",\"Off Florida coast\",\"Off shore\",\"Corpus Christi\",\"Englewood Beach, Charlotte County\",\"Slaunwhite's Ledge, Hubbard Cove\",\"James Island Sound, Charleston\",\"Florida Keys 25\\u00baN,82\\u00baW\",\"John's Pass, Pinellas County\",\"Lavalette, Ocean County\",\"West Palm Beach, Palm Beach County\",\"Honomu, Hawai'i\",\"Soldier Key, Miami-Dade County\",\"Beach Haven, Ocean County\",\"In Matawan Creek, off NJ Clay Company brickyards at Cliffwood, Monmouth County, 9.5 miles from the sea, Monmouth County\",\"Atlantic, near New Bern, Craven County\",\"off Grand Lake, Cameron Parish\",\"Sewell\\u2019s Point, near Palm Beach\",\"Calibogue Sound\",\"Florida Keys \",\"Nanakuli, Oah\\u2019u\",\"Papaikou plantation \",\"Near Panama City, Bay County\",\"Ramshorn Creek\",\"a creek near Jacksonville, Duval County\",\"Point Judith\",\"Palama\",\"Mount Pleasant, Charleston County\",\"Near Fernandina Bar, Nassau County \",\"Off the Battery\",\"Cape Hatteras\",\"Cape Sable, Monroe County\",\"Off Kawaihae\",\"Cape Canso\",\"Mahattan\",\"Elliott Cut, Charleston County\",\"Cedar Island, Carteret County\",\"Greenport Sound, Long Island\",\"Smithville (now Southport), Brunswick County\",\"Kawahae\",\"Chester River\",\"St. Pierre Bank \",\"Coney Island\",\"Honolulu Harbor\",\"Patapsco River\",\"Cape Cod\",\"Chelsea Beach, Suffolk County\",\"Oahu\",\"Grand Banks\",\"Between Manhattan and The Bronx\",\"Maliu, Hawai'i\",\"Pensacola Harbor, Escambia County\",\"Sag Harbor, Suffolk County\",\"Bristol Harbor\",\"Uo, Lahaina, Maui\",\"Swampscott, Essex County\",\"Near Havana\",\"\\u201cSouthern Wharf\\u201d\",\"New York\",\"Lost Tree Village, Palm Beach County\",\"Magwoods Wharf, Charleston Harbor, Charleston County\",\"Waikiki\",\"Cumberland Island\",\"East River\",\"West Bay near Galveston \",\"Honolulu\",\"Off Normandie-by-the-Sea, Monmouth County\",\"Hampton Roads\",\"Off Longport, Atlantic County\",\"Halifax\",\"Velasco\",\"New Bern, Craven County\",\"Anastasia Island\",\"Woolsey's Point, East River\",\"Rockport\",\"North Beach, St. Augustine\",\"Raritan Bay\",\"Noyes Beach\",\"Near the mouth of the Cape Fear River, Brunswick County\",\"Fernandina, Nassau County\",\"Hillsborough Bay\",\"Branford, New Haven County\",\"Portlock, Oahu\",\"River mouth\",\"Los Angeles, Los Angeles County\",\"Hutchinson Island, Martin County\",\"The Narrows\",\"Providence\",\"Elizabeth City, Pasquotank County  \",\"In the bay near the naval yard at Pensacola, Escambia County\",\"Bull\\u2019s Bay, near Charleston\",\"Fort Pickens, Escambia County\",\"Jamaica Bay\",\"Bayonne, Hudson County\",\"Hamakua Homakua, Hawai'i\",\"Pass Christian, Hamilton County\",\"Off Sable Island\",\"200 miles off Hampton Roads, Virginia, USA\",\"Indian River area\",\"Pacific Beach, San Diego County\",\"Sarasota, Sarasota County\",\"Siesta Key, Sarasota County\",\"Longboat Key, Sarasota, Sarasota County\",\"Staten Island\",\"Baker's Haulover, Miami Beach\",\"Coronado Strand, San Diego County\",\"Near Twin Islands off Lanikai, O'ahu (east coast)\",\"Oak Beach, Fire Inlet\",\"Vaca Cut Channel & bridge under Marathon, Monroe County\",\"Hilo, off Kaua'i\",\"Baker Beach, San Francisco County\",\"Indian Rocks Beach, Clearwater, Pinellas County\",\"Off La Jolla Cove, San Diego County\",\"Alligator Head, La Jolla, San Diego County\",\"In kelp beds off La Jolla, San Diego County\",\"1 mile off Miami Beach\",\"Water Island\",\"Miami Seaquarium, Virginia Key, Miami, Miami-Dade County\",\"Salter Path, Atlantic Beach, Carteret County\",\"Chicago (Lake Michigan)\",\"Pacific Grove, Monterey County\",\"Trinidad Bay, Humboldt County\",\"Windy Hill Beach\",\"Zuma Beach, Santa Monica, Los Angeles County\",\"East Moloka'i\",\"Near Port Canaveral Coast Guard Base\",\"Aquadilla\",\"Miami, Miami-Dade County\",\"South Beach, Fort Pierce, St Lucie County\",\"Atascadero Beach, Morro Bay, San Luis Obispo County\",\"8 miles off St. Marks, Wakulla County\",\"Savannah Beach, Savannah, Chatham County\",\"Between False Klamath & mouth of Klamath River, Del Norte County\",\"Sea Spray, Palm Beach\",\"Fowey Rock Light, Miami\",\"Atlantic Beach, Horry County\",\"Haulover Inlet\",\"Off Point Mugu, Ventura County\",\"Hutchinson Island Beach, Martin County\",\"Maile Point, O'ahu\",\"Topanga Canyon Beach, Santa Monica Bay\",\"Fairmount Park Aquarium, Philadelphia\",\"Laguna Beach, Bay County\",\"Albergotti Creek, near Air Station boat docks, Beaufort\",\"Whitewood Point on Lloyd Neck in Oyster Bay\",\"Pearl Harbor Channel, O'ahu\",\"Pawley\\u2019s Island, Georgetown County\",\"Ocean Ridge, Boca Raton, Palm Beach County\",\"8 miles off Newport Beach, Orange County\",\"30 miles east of Corpus Christi\",\"Seaside Park, Ocean County\",\"Key Largo Sound\",\"Off Port Everglades, Broward County\",\"Near Paradise Cove, Malibu, Los Angeles County\",\"120 miles southeast of New Orleans\",\"Between Keawakapu & Makena, Maui\",\"Off Boca Raton Hotel & Club, Boca Raton, Palm Beach County\",\"Lignum Vitae Channel, Florida Keys, Monroe County\",\"Aptos, Santa Cruz County\",\"North picnic area, Jekyll Island, Glynn County\",\"10 miles off Santa Barbara, Santa Barbara County\",\"2 miles east of Dania Beach, Broward County\",\"Little River Beach, Horry County\",\"Hog Island\",\"Mississippi City\",\"Parris Island\",\"Mispillion Light, Delaware Bay\",\"Barnegat Light, Ocean County\",\"Off Cape Hatteraa\",\"Miami, Miami-Date County\",\"Long Branch, Monmouth County (offshore)\",\"Pamlico Sound off Frisco, Dare County\",\"Georges Bank\",\"Lahaina, Maui\",\"Honokohau, Maui\",\"Pontchartrain Beach\",\"Dana Point, Orange County\",\"Near Encino, Los Angeles County\",\"At sea, several hundred miles south east of Cape Henry, Virginia\",\"West Bay, 19 miles from Galveston\",\"Off San Pedro, Los Angeles County\",\"Kane'ohe Bay, Mokapu, O'ahu\",\"Brown\\u2019s Inlet on New River, Onslow Beach\",\"50 miles offshore\",\"Thunderbolt, Chatham County\",\"Melbourne, Brevard County\",\"Fort Moultrie\",\"70 miles off Tarpon Springs\",\"High Island\",\"Key West, Monroe County \",\"Sandy Hook (ocean side), Monmouth County\",\"Off Brownsville\",\"1 mile ESE of Navesink, Monmouth County\",\"1 mile off Mala Wharf, Lahaina, Maui\",\"Off Ocean City, Cape May County\",\"Offshore, between Mantoloking & Point Pleasant, Ocean County\",\"North end of Morris Island at mouth of Charleston Harbor\",\"Mystic River\",\"Pawley\\u2019s Island, north of Charleston\",\"Brielle, Monmouth County (Offshore)\",\"Kahakuloa, Maui\",\"Beach 103rd Street, Rockaway \",\"Rock Harbor, Key Largo, Monroe County\",\"Near Port Arthur\",\"Kapehu Beach, Laupahoehoe, Hawai'i\",\"Mona Island, 40 miles west of the mainland \",\"Off Santa Monica, Los Angeles County\",\"Panacea, Wakulla County\",\"Pacific Grove, Monterey Bay, Monterey County\",\"Between Ala Moana Channel & Kewalo Basin, O'ahu\",\"Kaula Rock near Niihau \",\"Fourchu, Cape Breton Island\",\"Waiau, Pearl Harbor, O'ahu\",\"Rockaway Beach\",\"Wailupe, O'ahu\",\"Waikiki, O'ahu\",\"Montauk\",\"Oketee River, Jasper County\",\"Midway, Northwestern Hawaiian Islands\",\"3 miles from shore off McGregor Point, Maui\",\"Victim was on said to be on tanker that collided off Florida coast on 10-20-1943\",\"Atlantic Beach, Mayport,  Duval County\",\"North Beach\",\"Ocracoke Inlet, Carteret County\",\"Ocracoke\",\"Off Waianae, O'ahu\",\"In a canal 10 miles north of St Augustine\",\"Biscayne Bay\",\"Gulf of Mexico between Brownsville & Carmen, Mexico\",\"St. John, Genti Bay\",\"10 miles off Redondo Beach, Los Angeles County\",\"Horseshoe Reef, Scott Creek, Davenport, Santa Cruz County\",\"Carysfort Lighthouse, Key Largo, Monroe County\",\"Maliko Point, Maui\",\"Spanish House Beach, Brevard County\",\"Maha\\u2018ulepu Beach, Kauai\",\"Topanga Beach, Los Angeles County\",\"Key Largo\",\"Spreckelsville, Maui\",\"St. Augustine Beach, St. John's County\",\"South Beach, Miami-Dade County\",\" Cocoa Beach, Brevard  County\",\"Hobe Sound\",\"Tourmaline Surf Park, San Diego County\",\"Seaport, Brevard County\",\"Humboldt Bay, Eureka, Humboldt County\",\"Davidson's Surf Break, Kekaha, Kaua'i\",\"Kiholo Bay\",\"\\\"Stuart Rocks\\\", Martin County\",\"Ka'anapali, Honokowai, Maui\",\"Ka\\u2019anapali Shores\",\"Ballston Beach, Truro, Cape Cod\",\"Tofino, Vancouver\",\"Pleasure Point, Santa Cruz County\",\"Bathtub Reef  Beach, Stuart, Martin County\",\"Nimitz State Beach, Oahu\",\"Samoa Beach, Humboldt County\",\"Hatillo Beach\",\"Seaside\",\"Cape Canaveral\",\"Newport, Lincoln County\",\"Pigeon Point\",\"Seaside Cove\",\"Makahuena Point, Kauai\",\"Lincoln City, Lincoln County\",\"Leftovers near Chun's Reef, Oahu\",\"Off Catalina Island\",\"Leffingwell Landing, Cambria,  San Luis Obispo County\",\"Iroquiois Point, Oahu\",\"Summerland Key, Monroe County\",\"Near Boynton Beach, Palm Beach County\",\"Halewia, Oahu\",\"Juan Ponce de Le\\u00f3n Landing, Melbourne Beach, Brevard County\",\"Gleneden Beach, Lincoln County\",\"Keawekapu Beach, Kihei, Maui\",\"Between  Makena & Molokini, Maui\",\"Ninole Bay, Hawaii County\",\"Santa Lucea Beach, South Hutchinson Island, St. Lucie County\",\"Macarthur State Park\",\"Bethel Shoals, Indian River County\",\"West Beach, Galveston\",\"Off Snipe Point, Florida Keys, Monroe County\",\"Cape Henlopen State Park, Sussex County\",\"Oceano Dunes State Beach, San Luis Obispo County\",\"Manhattan Beach, Los Angeles County\",\"Okaloosa Island\",\"Table Beach, Brevard County\",\"South of Cocoa Beach, Brevard County\",\"Bay Head, Ocean County\",\"Waiehu, Maui\",\"Pila'a Beach, Kaua'i\",\"Miami Beach\",\"Surfside Beach, Brazoria County\",\"Kona Coast State Park\",\"Pacific State , San Mateo County\",\"Butler Beach, St Augustine,       St. Johns County\",\"Ulua Beach, Maui\",\"Ka'a Point, Maui\",\"Pillar Point, Half-Moon Bay, San Mateo County\",\"Pohoiki \",\"Winterhaven Park,           Ponce Inlet, Volusia County\",\"Catalina Channel\",\"Butterfly Beach, Montecito, Santa Barbara County\",\"Key West Aquarium\",\"Casino Beach, Pensacola, Escambia County\",\"Carlin Park, Jupiter, Palm Beach County\",\"Grass Island, Aransas County\",\"Buxton Beach, Dare County\",\"Kure Beach, New Hanover County\",\"Quebradillas\",\"Ala Moana Beach Park, Oah'u\",\"Buck Island\",\"McKenzie Beach Park in Pahoa, Hawai'i \",\"Hutchinson Island\",\"Ormond-by-the-Sea, Volusia County\",\"Bethune Beach\",\"Santa Rosa Beach, Walton County\",\"Alenuihaha Channel\",\" Vieques\",\"San Diego County\",\"Kona\",\"Walton Rocks, St Lucie County\",\"Carlin Park, Jupiter Inlet\",\"Shell Beach, San Luis Obispo County\",\"Biscayne National Park, Miami\",\"Intracoastal Waterway,      St. Petersburg\",\"Lahilahi Point, Oahu\",\"Litchfield Beach, Georgetown County\",\"Kamilo Point, Hawai'i\",\"West Cove, Catalina Island\",\"Huguenot Park\",\"Venice Pier, Venice, Los Angeles County\",\"Wailea, Maui\",\"Waialua Bay, O'ahu\",\"Off Fort Pierce, St. Lucie County\",\"Opposite Patrick Air Force Base, Brevard County\",\" Huntington Beach, Orange County\",\"Lovers Key State Park, Bonita Springs, Lee County\",\"Beachway Avenue Approach, New Smyrna Beach, Volusia County\",\"Near Cocoa Beach, Brevard  County\",\"New Smyrna Beach / Ponce Inlet, Volusia County\",\"Palm Beach Shores, Palm Beach County\",\"Hammocks Beach State Park, Bear Island, Onslow County\",\"Cherry Grove\",\"Curlew Island, Breton Sound\",\"Kawa'a \",\"Ponce, Volusia County\",\"Micklers Landing, St. Johns County\",\"Figure Eight Island, Wilmington, New Hanover County\",\"Sandridge Beach\",\"Surf Beach, Vandenberg AFB, Santa Barbara County\",\"Burnt Cove near Eastport, Washington County\",\"Florence\",\"Tavares Bay, Maui\",\" Kahului, Maui\",\"Matagorda Beach\",\"Follett's Island, Brazoria County\",\"Off Jupiter Inlet, Palm Beach County\",\"Perdido Key, Escambia County\",\"Sunday Beach, Matagorda Island, Calhoun  County\",\"Ocracoke Island, Hyde County\",\"Egg Harbor, Atlantic County\",\"Beaufort Inlet\",\"Near oil rig Hondo, 5 nm from Gaviota, Santa Barbara County\",\"Off Long Island\",\"Terramar Beach, Carlsbad, San Diego County\",\"Pismo Beach, San Luis  Obispo County\",\"Corolla, Currituck County\",\"Key Colony Beach, Monroe County\",\"Kalama Park, Maui\",\"Davenport, Santa Cruz County\",\"Loch Lomond, Marin County\",\"Lori Wilson Park, Cocoa Beach, Brevard County\",\"Adventure Aquarium, Camden\",\"Stuart, Martin County\",\"Riviera Beach\",\"Hanalei Bay\",\"Off Tarpon Springs\",\"Jacksonville\",\"Fripp Island\",\"Eight Mile Beach, Galveston\",\"Dog Patch, San Onofre\",\"Hallandale Beach, Broward County\",\"Apalachicola Bay \",\"Shelter Cover, north of Fort Bragg, Shelter Cove, Mendocino County\",\"Marconi Beach, Wellfleet, Barnstable County\",\"Snipes Point, Monroe County\",\"Ventnor\",\"DeBordieu Colony, Georgetown County\",\"Jacksonvlle, Duval County\",\"Menauhant Beach, Falmouth,\\nBarnstable County\",\"Sea Pines Resort, Hilton Head Island, Beaufort County\",\"Bathtub Beach \",\"Shipwreck\\u2019s Beach, Keoneloa Bay, Kauai\",\"Fort Worth\",\"Kama\\u2018ole Beach Park, Maui \",\"Davidsons Beach, Kekaha, Kauai\",\"Lantana Beach, Palm Beach County\",\"Stillwater Cove, Monterey County\",\"Hultin's Beach, Oahu\",\"Stearns Wharf, Santa Barbara\",\"Seal Rock, Goleta Beach, Santa Barbara\",\"South Beach, Westport, Grays Harbor County\",\"Wrightsville Beach\",\"Blockhouse Beach, Brevard County\",\"Jensen Beach\",\"Monterey Bay\",\"Daytona, Volusia County\",\"St. Augustine\",\"Kekaha Beach, Kauai\",\"Georgetown County\",\"Sunset Beach, Orange County\",\"Off Jupiter\",\"Awendaw, Charleston County\",\"Middle Sambo Reef off Boca Chica, Monroe County\",\"Burkes Beach, Hilton Head, Beaufort County\",\"Singer Island, Palm Beach County\",\"South Forest Beach, Hilton Head Island, Beaufort County\",\"Kukio Beach\",\"Isle of Palms,  Charleston County\",\"Surfside Beach, Horry  County\",\"Honokowai Point, Maui\",\"Waikoloa area\",\"North Koahala, Big Island\",\"Crescent Beach, St Johns County\",\"Anaehoomalu Bay, Hawaii\",\"Off Boca Grande, Lee County\",\"Browns, Oahu\",\"Ship Bottom, Ocean County\",\"Fort Macon State Beach, Carteret County\",\"Lighhouse Point Park, Ponce Inlet, Volusia County\",\"Wilmington River, Chatham County\",\"Haulover Inlet, Miami-Dade County\",\"Moonstone Beach, South Kingstown, Washington County\",\"Off Cape Hatteras, Dare County\",\"Off Key Biscayne\",\"Makaha Beach, Oahu\",\"Napoopoo Park in Kealakekua Bay, The Big Island\",\"Cape Kiwanda, Tillamook County\",\"Sandspit Beach, Monta\\u00f1a de Oro State Park \",\"Near Patrick AFB, Brevard County\",\"Beacons Beach, San Diego County\",\"Habush, Oahu\",\"St. Simon Island, Glynn County\",\"Near the Bahia Honda Bridge, Monroe County\",\"Oceanside, San Diego County\",\"John Pennekamp Coral Reef State Park, Monroe County\",\"Trinidad Beach, Huboldt County\",\"Sailors Haven, Fire Island, Suffolk County\",\"Atlantique Beach, Fire Island, Suffolk County\",\"Crystal Beach, Galveston  County\",\"Longnook Beach, Truro, Barnstable County\",\"Rhode River, Chesapeake Bay\",\"Atlantic Beach, Carteret  County\",\"Pounders Beach, Oahu\",\"Newcomb Hollow Beach, Wellfleet, Barnstable County\",\"Humboldt County\",\"Avalon State Park Beach, North Hutchinson Island, St Lucie County\",\"Kamaole Beach Park I, Maui\",\"Mayport Naval Station Beach, Duval County\",\"Ocracoke, Lifeguard Beach, National Park Service, Hyde County\",\"3 miles off Jupiter, Palm Beach County\",\"Resident's Beach, Marco Island\",\"Kanahena Cove \",\"Off San Diego\",\"Surf City\",\"South Beach, Hunting Island State Park, Beaufort County\",\"Isle of Palms County Park, Isle of Palms, Charleston County\",\"Off Surf City, Pender County\",\"Mayport Naval Station  Duval County\",\"Edisto Beach, Colleton County\",\"Cortes Bank\",\"Murrells Inlet, Georgetown County\",\"Morro Bay, San Luis Obispo County\",\"Morro Strand State Beach, San Luis Obispo County\",\"Deer Creek Beach, Ventura County\",\"El Pescador Beach, Los Angeles County\",\"Hapuna Beach\",\"Lahaina\",\"Off Panama City\",\"Windsor Beach, Indian River County\",\"Figure Eight Island,  New Hanover County\",\"Assateague National Seashore\",\"Fletcher Beach, Hutchinson Island, Martin County\",\"Manomet Point, Plymouth, Plymouth County\",\"Katrina Cut, Dauphin Island, Mobile County\",\"Manresa State Beach, Santa Cruz County\",\"Walls Beach, Vandenberg AFB, Santa Barbara County\",\"Cherie Down Park, Brevard County\",\"Maalaea, South Maui\",\"Leadbetter Beach, Santa Barbara County\",\"North Kohala, Hawaii County\",\"Fort Pierce Inlet State Park, St. Lucie County\",\"Airplane Beach, Lahina, West Maui\",\"Indian Harbor Beach, Brevard County\",\"Monta\\u00f1a de Oro State Park, San Luis Obispo County \",\"Big Talbot Island, Duval County\",\"Gaviota State Beach, Santa Barbara County\",\"Fernandina Beach, Amelia Island, Nassau County\",\"Off Singer Island, Palm Beach County\",\"Neptune, Duval County\",\"Corona Del Mar, Newport, Orange County\",\"Pirates Beach, Galveston\",\"Kalapaki Beach, Kauai\",\"Off Palos Verdes peninsula, Los Angeles County\",\"Off Gloucester, Essec County\",\"Capitola, Santa Cruz County\",\"Surfside, Orange County\",\"Refugio State Beach, Santa Barbara County\",\"Kingston Plantation, Myrtle Beach, Horry County\",\"Makaha, Oahu\",\"Indian Beach, Ecola State Park, Clatsop County\",\"Charlie Young Beach, Kihei, Maui\",\"Hooipa Beach Park, Maui\",\"Hugenot Beach , Jacksonville, Duval County\",\"Corners Beach, Jupiter, Palm Beach County\",\"Upolu Point, North Kohala, Big Island\",\"Fort Myers Beach, Lee County\",\"Horseshoe Rock, Santa Barbara County\",\"Leftovers, Oahu\",\"Shipyard Beach Club, Hilton Head Island, Beaufort County\",\"Off Leffingwell Landing, San Luis Obispo County\",\"Lanikai Beach, Kailua, Oahu\",\"Waikiki, \",\"Deerfield Beach, Broward County\",\"Malaka, Oahu\",\"Kehena Beach, Hawaii\",\"Paradise Beach, Melbourne, Brevard County\",\"La'aloa Beach Park\",\"Off Surfside\",\"Hanalei Bay, Kauai, \",\"Vero Beach, St. Lucie County\",\"Bolsa Chica State Park, Orange County\",\"North Carolina Aquarium at Fort Fisher\",\"Indian River Inlet, Rehoboth Beach\",\"Islamorada Founder's Park, Plantation Key, Monroe County\",\"Atlantiic Beach, Duval County\",\"Ocean Beach, Jaycee Park, Vero Beach, Indian River County\",\"Sandridge Beach, Virginia Beach, Princess Anne County\",\"Frying Pan Shoals\",\"Quarter mile offshore in Kaanapali, West Maui\",\"Olowalu side of Lahina, Maui \",\"Hobe Sound Beach, Palm Beach County\",\"Atlantic Dunes Park, Delray Beach, Palm Beach County\",\"11 miles off Dog Island in the Gulf of Mexico, Franklin County\",\"South side of Ponce de Leon Inlet, Volusia County\",\"Pensacola  Beach, Escambia County\",\"Two miles off Key Colony Beach, Monroe County\",\"Grand Strand, Myrtle Beach, Horry County\",\"Fort Fisher, New Hanover County\",\"World Typhoon Lagoon, Disney Water Park, Orange County\",\"Fort Pierce Inlet, St. Lucie County\",\"South Beach Park, Indian River County\",\"Jupiter Beach, Palm Beach County\",\"Sebastian Inlet, Indian River County\",\"The Rocks, Hutchinson Island, Martin County\",\"Salmon Creek Beach, Sonoma County\",\"Sunset Beach, O'ahu\",\"In Gulf of Mexico 17 miles off Weeki Wachee \",\"Daytona Beach Shores,  Volusia County\",\" Palm Beach County\",\"Sunset Beach, Oahu\",\"East Beach, Galveston\",\"Clam Beach, near Eureka, Humboldt County\",\"Volusia County  \",\"Waiokapua Bay/Majors Bay, Brennecke Beach, Poipu, Kaua'i Island\",\"Wreck of the Navy Barge, 22 miles SE of Rudee \",\"Gleneden Beach\",\"Walden Rocks, St. Lucie County\",\"Pecks Lake, Martin County\",\"Virginia Beach\",\"North of Pidgeon Point, San Mateo County\",\"Old Kona Airport State Park\",\"Lakewood Campground, Grand Strand, Horry County\",\"South Beach, Sebastian, Indian River County\",\"St. Augustine, St. Johns County\",\"South Jacksonville Beach, Duval County\",\"Bouges Bank, Emerald Isle, Carteret County\",\"Prince William Sound\",\"Boca Ciega Bay, Tampa, Pinellas County\",\"Sebastian Inlet, Indian River or Brevard County\",\"Lake Worth Inlet/West Palm Beach, Palm Beach County\",\"Olowalu\",\"Pet Den, Satellite Beach, Brevard County\",\"Fort Pierce Inlet State Park, St Lucie County\",\"Vaughn Beach, Flagler County\",\"Bonita Springs, Lee County\",\"Bay of Fundy\",\"Sunset Cliffs, San Diego\",\"Coral Cove Park, Jupiter Island, Martin County\",\"Big Pine Key, Monroe County \",\"Oceanic Pier, Wrightsville Beach, New Hanover County\",\"Daytona  Beach, Volusia County\",\"Neptune Avenue, Ormond Beach, Volusia County\",\"Gulfstream Park beach, Palm Beach County\",\"Waddell Reef, Santa Cruz County\",\"Big Island off Kona Village Resort, North Kona\",\"Midnight Lump (38 miles offshore)\",\"Santa Rosa Sound Escambia County\",\"Municipal Beach, Riviera Beach, Palm Beach County\",\"On the south side of Ponce Inlet, Volusia County\",\"27th Avenue, New Smyrna Beach, Volusia County\",\"Seminole Avenue, Ormond Beach, Volusia County\",\"Smyrna Dunes Park, New Smyrna Beach, Volusia County\",\"Smyrna Dunes  Park, New Smyrna Beach, Volusia County\",\"Pine Island, Corolla, Currituck County\",\"Coral Cove Park, Palm Beach County\",\"Behune Beach, Volusia County\",\"Bird Rock, Tomales Point\",\"Huguenot Memorial Park, Duval County\",\"Paradise Bay (next to Wailua Bay), Maui\",\"Hamstead, Pender County\",\"Goats Island (Moku\\u2019auia Island), Malaekahana State Recreation Area, Laie, O'ahu\",\"Abalone Point, Westport Union Landing, Mendocino County\",\"Pamlico Sound\",\"Between Santa Cruz Island and Santa Barbara\",\"Little Talbot Island, Jacksonville, Duval County\",\"Mouth of Wallua River, Kaua'i\",\"Bayshore Garden, Sarasota Bay, Sarasota County\",\"Goat Rock, Bodega Bay, Sonoma County?\",\"Treasure Shores Beach, Indian River County\",\"\\\"Bunkers\\\" Eureka, Humboldt County\",\"Horners, Wailua, Kaua'i\",\"North Beach Jetty, St Lucie County\",\"Waipo\",\"Velzyland, north shore of O'ahu\",\"Bastendorf Beach, Coos County\",\"Honomuni, Moloka'i\",\"Chun's Reef, Laniakea, O'ahu\",\"Winchester Bay, Douglas County\",\"Wreck of the U-352 \",\"Manasota Beach, Sarasota County\",\"Wai'anae, O'ahu\",\"Manalapan, Palm Beach County\",\"Twin Arches, Hana Ranch, Maui\",\"St Lucie County\",\"Gold Beach, Curry County\",\"Castle Rock, San Miguel Island, Santa Barbara County\",\"Kea'au Beach Park, O'ahu\",\"North Jetty Park, Fort Pierce, St Lucie County\",\"San Nicholas Island, Santa Barbara County\",\"Ano Nuevo, San Mateo County\",\"Kailua Bay\",\"Miami Beach, Dade County\",\"Sunset Cliffs, San Diego, San Diego County\",\"Cape Lookout Bight\",\"Shelter Cove, Humboldt County\",\"Matanzas Bay Inlet, St. Johns County\",\"North Beach, Hutchinson Island, St. Lucie County\",\"Crescent Beach, St. Augustine, St. Johns County\",\"Ha'ena, Kaua'i\",\"Southwest of O'ahu\",\"Ka\\u2019eleki\\u2019I Point, Maui\",\"St. Louis\",\"La'ie Point, O'ahu\",\"Shark Shallows, Ponce Inlet, Volusia County\",\"Public Beach, Siesta Key, Sarasota County\",\"Nakalele Point, Maui\",\"Truro (Cape Cod), Barnstable County\",\"Wiggins Pass, Collier County\",\"North Beach Inlet, St. Lucie County\",\"Ocean Lakes Campground, south of Myrtle Beach, Horry County\",\"Spessard Holland Park, Melbourne Beach, Brevard County\",\"Carmel, Monterey County\",\"3 miles east of Jacksonville Beach, Duval County\",\" Daytona Beach, Volusia County\",\"Makaha Surf Beach\",\"Short Sand Beach, Oswald West State Park\",\"North Forest Beach, near Hilton Head, Beaufort County\",\"Bill Baggs Cape Florida State Recreation Area, Miami-Dade County\",\"Off the Hanalei River, Kaua'i\",\"Kinikini, Mana, Kaua'i\",\"Carolina Beach\",\"Opposite Grand Wailea Resort, Wailea, Maui\",\"LaJolla Shores, San Diego County\",\"Bluefish Cove, Pt. Lobos State Park, Monterey County\",\"Off 29th Avenue, Myrtle Beach, Horry County\",\"Cat Island, Harrison County\",\"Port Aransas\",\"Sandy Beach, Oahu\",\"Ewa Beach, O'ahu\",\"Waveland Beach, Hutchinson Island, St Lucie County\",\"Scripps, LaJolla, San Diego County\",\"Port Bolivar, Galveston County\",\"Quarter mile south of Ponce de Leon Inlet, Volusia County\",\"Off Zelda Boulevard, Daytona Beach, Volusia Countyy\",\"Carolina Beach off Texas Avenue, New Hanover County\",\"34th Avenue North, Myrtle Beach, Horry County\",\"6th Avenue North, Myrtle Beach, Horry County\",\"Tigertail Beach, Collier County\",\"Big Bayou, St. Petersburg, Pinellas County \",\"Salmon Beach, Sonoma County\",\"Klamath River mouth, Del Norte County\",\"Ocean Beach, San Francisco, San Francisco County\",\"Tillamook Head, Clatsop County\",\"Marco Island, Collier County\",\"Port of the Islands, Collier County\",\"Destin, Walton County\",\"Howard E. Futch Memorial Park at Paradise Beach, Brevard County\",\"Surf City, Long Beach Island, Ocean County\",\"Sand Key Beach, Clearwater, Pinellas County\",\"204s, San Clemente, Orange County\",\"New Smyrna Beach / Cape Canaveral  National Seashore, Brevard County\",\"North of Apache Pier, Myrtle Beach, Horry County\",\"Gold  Beach\",\"Lifeguard Tower 16, Huntington Beach, Orange County\",\"Limantour Beach, Point Reyes National Seashore\",\"Rocky Point, north shore of O'ahu\",\"Long Key, Monroe County\",\"Albuquerue Aquarium, Albuquerue\",\"Isla Blanca Park, South Padre Island, Cameron County\",\"Central Gulf Coast, St. John County\",\"Crescent Beach, Sarasota County\",\"Off Sullivans Island\",\"North Kihei, Maui\",\"Alligator Reef off Islamorada, Monroe County\",\"Gun Beach\",\"North Shore, O'ahu\",\"100 miles off Ft. Myers Beach\",\"Normandy Beach, Hutchinson Island,  St. Lucie County\",\"Naples\",\"Virginia Aquarium & Marine Science Center, Virginia Beach \",\"Garden City\",\"Silva's Channel, Mokuleia, O'ahu\",\"Will Rogers State Beach, Los Angeles County\",\"Marques Island\",\"Atlantic Beach, Carteret County\",\"Faria Beach, Ventura County\",\"North Topsail Beach, Onslow  County\",\"Bellows Beach near Wailea Point, O\\u2019ahu\",\"Bean Hollow State Beach, San Mateo County\",\"Islamorada, Monroe County\",\"Ponce Inlet,  New Smyrna Beach, Volusia County\",\"Sarasota Bay\",\"Waveland Beach, Hutchinson Island, St. Lucie County\",\"Smith Point, Long Island\",\"French Frigate Shoals\",\"Majors Bay, Kaua'i\",\"O'ahu\",\"Monterey, Monterey County\",\"Fort Myers\",\"Debordieu Beach, Georgetown County\",\"Singleton Beach, Hilton Head Island, Beaufort County\",\"Broad Beach, Malibu, Los Angeles County\",\"Oswald State Park\",\"Newport Aquarium, Newport\",\"Florence, Lane County\",\"Singer Island, Riviera Beach\",\"Onslow Beach\",\"Off Key Largo, Monroe County\",\"Isla Blanca Park, South Padre Island\",\"Sebastian Inlet\",\"Siletz River mouth, Lincoln County\",\"Kibesillah, Mendocino County\",\"Cocoa  Beach, Brevard County\",\"Off 21st Avenue, Isle of Palms, Charleston County\",\"a pier at the end of Caxambas Drive, Marco Island \",\"Kapalua, Maui\",\"Deerfield Beach (near Boca Raton), Broward County\",\"Brenecke Beach, Po'ipu, Kaua'i\",\"Lauderdale-By-The-Sea, Broward County\",\"St. Augustine Beach, St. Johns County\",\"Ten Thousand Islands National Wildlife Refuge, Collier County\",\"Atlantic Avenue, Palm Beach County\",\"St. George Island (near Apachicola), Franklin County\",\"Bryan Beach, Brazoria County\",\"Anini Beach, Kaua'i\",\"100 miles off Ocean City, Maryland, in 7000' of water\",\"Topsail Beach, Pender County\",\"Ponce De Leon Inlet, Volusia County\",\"Gulf of Mexico, 65 miles offshore from Mobile\",\"Kewalo Basin Channel, O'ahu\",\"Hideaways Beach, Princeville, Kaua'i\",\"2 miles off Pompano Beach, Broward County\",\"A quarter mile north of Fort Pierce Inlet\",\"Everglades National Park, Monroe County\",\"Key Biscayne, Dade County\",\"Catalina Island\",\"Padre Island National Seashore\",\"Isle of Palms, Charleston County \",\"Gulf Islands National Seashore\",\"Santa Rosa Island, Escambia County\",\"Chatham Island\",\"Marathon , Monroe County\",\"Taverniier, Monroe County\",\"Near 70th Avenue, Myrtle Beach, Horry County\",\"Wilbur-by-the-Sea, Volusia County\",\"Daytona, Volusia County \",\"Coquina Beach, Anna Maria Island, Manatee County\",\"Sandbridge Beach, Princess Anne County\",\"Mayport Naval Station, Jacksonville, Duval Country\",\"Waites Island, Horry County\",\"Cape Kiwanda\",\"Key Largo, Monroe County\",\"Opposite main gate at Patrick Air Force Base, Cape Canaveral, Brevard County\",\"Cove Beach / Kalama Beach, Kihei, Maui\",\"Stuart Park Beach, Martin County\",\"Palm Beach?\",\"Near Patrick Air Force Base Brevard County\",\"Honolua Bay\",\"Tunnels surf break off Makua Beach, Kaua'i\",\"Miami, Dade County\",\"Kalihiwai Beach, Kauai\",\"Punaluu\",\"Stuart Rocks, Martin County\",\"Velzyland\",\"Channel between South Padre Island & Padre Island National Seashore\",\"St. Augustine  St. Johns County\",\"Pirate's Beach, Galveston Island\",\"Disney / Vero Beach, Indian River County\",\"Gulf Shores Beach, Baldwin County\",\"Crawford Road beach approach at New Smyrna Beach, Volusia County\",\"North Hutchinson Island, St. Lucie Couny\",\"Kama'ole Beach Park I, Kihei, Maui\",\"Bathtub Reef Beach, Martin County\",\"Ka'anapali\",\"North Beach, Patrick AFB, Brevard County\",\"New Smyrna Beach, Volusia County  \",\"Sunglow Pier, Daytona Beach Shores, Volusia County\",\"Shepard Park, Cocoa Beach, Brevard County \",\"Melbourne Beach, Brevard County \",\"Coral Cove Park, Jupiter Inlet, Palm Beach County\",\"Makua Beach, Oahu\",\"St Augustine Beach. St. Johns County\",\"Canova Beach, Brevard County\",\"Near New Smyrna Jetty, Volusia County\",\"Avila Beach, San Luis Obispo County\",\"1.5 miles off Surfside \",\"Ocracoke Inlet\"]]]}}},\"view\":{\"type\":\"object\",\"name\":\"CDSView\",\"id\":\"p1094\",\"attributes\":{\"filter\":{\"type\":\"object\",\"name\":\"AllIndices\",\"id\":\"p1095\"}}},\"glyph\":{\"type\":\"object\",\"name\":\"Scatter\",\"id\":\"p1088\",\"attributes\":{\"tags\":[\"apply_ranges\"],\"x\":{\"type\":\"field\",\"field\":\"longitude\"},\"y\":{\"type\":\"field\",\"field\":\"latitude\"},\"size\":{\"type\":\"value\",\"value\":5.477225575051661},\"line_color\":{\"type\":\"field\",\"field\":\"color\",\"transform\":{\"type\":\"object\",\"name\":\"CategoricalColorMapper\",\"id\":\"p1081\",\"attributes\":{\"palette\":[\"#1f77b3\",\"#ff7e0e\",\"#2ba02b\",\"#d62628\",\"#9367bc\",\"#8c564b\",\"#e277c1\",\"#7e7e7e\",\"#bcbc21\",\"#16bdcf\",\"#3a0182\",\"#004201\",\"#0fffa8\",\"#5d003f\",\"#bcbcff\",\"#d8afa1\",\"#b80080\",\"#004d52\",\"#6b6400\",\"#7c0100\",\"#6026ff\",\"#ffff9a\",\"#564964\",\"#8cb893\",\"#93fbff\",\"#018267\",\"#90ff00\",\"#8200a0\",\"#ac8944\",\"#5b3400\",\"#ffbff2\",\"#ff6e75\",\"#798cff\",\"#dd00ff\",\"#505646\",\"#004489\",\"#ffbf60\",\"#ff018c\",\"#bdc8cf\",\"#af97b5\",\"#b65600\",\"#017000\",\"#cd87ff\",\"#1cd646\",\"#bfebc3\",\"#7997b5\",\"#a56089\",\"#6e8956\",\"#bc7c75\",\"#8a2844\",\"#00acff\",\"#8ed4ff\",\"#4b6d77\",\"#00d4b1\",\"#9300f2\",\"#8a9500\",\"#5d5b9e\",\"#fddfba\",\"#00939e\",\"#ffdb00\",\"#00aa79\",\"#520067\",\"#000091\",\"#0a5d3d\",\"#a5e275\",\"#623b41\",\"#c6c689\",\"#ff9eb5\",\"#cd4f6b\",\"#ff07d6\",\"#8a3a05\",\"#7e3d70\",\"#ff4901\",\"#602ba5\",\"#1c00ff\",\"#e6dfff\",\"#aa3baf\",\"#d89c00\",\"#a3a39e\",\"#3f69ff\",\"#46490c\",\"#7b6985\",\"#6b978c\",\"#ff9a75\",\"#835bff\",\"#7c6b46\",\"#80b654\",\"#bc0049\",\"#fd93ff\",\"#5d0018\",\"#89d1d1\",\"#9c8cd3\",\"#da6d42\",\"#8a5700\",\"#3b5069\",\"#4b6b3b\",\"#edcfd8\",\"#cfedff\",\"#aa1500\",\"#dfff4f\",\"#ff2a56\",\"#d1499e\",\"#707cb8\",\"#598000\",\"#00e4fd\",\"#774b95\",\"#67d48c\",\"#3d3a72\",\"#ac413f\",\"#d6a166\",\"#c169cd\",\"#69595d\",\"#87aced\",\"#a0a569\",\"#d1aae6\",\"#870062\",\"#00fddb\",\"#672818\",\"#b342ff\",\"#0e59c4\",\"#168742\",\"#90d300\",\"#cd7900\",\"#f959ff\",\"#5b7466\",\"#8eaeb3\",\"#9c7c8c\",\"#4600c6\",\"#6b4d2d\",\"#a56d46\",\"#9e8972\",\"#a8afca\",\"#cd8ca7\",\"#00fd64\",\"#917900\",\"#ff62a1\",\"#f4ffd8\",\"#018cf0\",\"#13aca0\",\"#5b2d59\",\"#89859e\",\"#cfccba\",\"#d4afc4\",\"#dbdd6d\",\"#cffff4\",\"#006485\",\"#006962\",\"#a84167\",\"#2d97c4\",\"#a874ff\",\"#26ba5d\",\"#57b600\",\"#caffa7\",\"#a379aa\",\"#ffbc93\",\"#89e2c1\",\"#0fc8ff\",\"#d400c4\",\"#626d89\",\"#69858e\",\"#4b4d52\",\"#aa6067\",\"#79b5d4\",\"#2b5916\",\"#9a0024\",\"#bdd1f2\",\"#896e67\",\"#69a56b\",\"#855467\",\"#aecdba\",\"#87997e\",\"#cadb00\",\"#9a0390\",\"#ebbc1a\",\"#eb9cd1\",\"#70006e\",\"#b1a131\",\"#ca6b93\",\"#4146a3\",\"#e48c89\",\"#d44400\",\"#c68aca\",\"#b69597\",\"#d41f75\",\"#724bcc\",\"#674d00\",\"#672138\",\"#38564f\",\"#6ebaaa\",\"#853a31\",\"#a5d397\",\"#b8af8e\",\"#d8e4df\",\"#aa00df\",\"#cac1db\",\"#ffdf8c\",\"#e2524d\",\"#66696e\",\"#ff001c\",\"#522d72\",\"#4d906b\",\"#a86d11\",\"#ff9e26\",\"#5ea3af\",\"#c88556\",\"#915997\",\"#a3a1ff\",\"#fdbaba\",\"#242a87\",\"#dbe6a8\",\"#97f2a7\",\"#6793d6\",\"#ba5b3f\",\"#3a5d91\",\"#364f2f\",\"#267c95\",\"#89959a\",\"#cfb356\",\"#004664\",\"#5e5d2f\",\"#8e8e41\",\"#ac3f13\",\"#69953b\",\"#a13d85\",\"#bfb6ba\",\"#acc667\",\"#6469cf\",\"#91af00\",\"#2be2da\",\"#016e36\",\"#ff7952\",\"#42807e\",\"#4fe800\",\"#995428\",\"#5d0a00\",\"#a30057\",\"#0c8700\",\"#5982a7\",\"#ffebfb\",\"#4b6901\",\"#8775d4\",\"#e6c6ff\",\"#a5ffda\",\"#d86e77\",\"#df014b\",\"#69675b\",\"#776ba1\",\"#7e8067\",\"#594685\",\"#0000ca\",\"#7c002a\",\"#97ff72\",\"#b5e2e1\",\"#db52c8\",\"#777734\",\"#57bd8e\",\"#1f77b3\",\"#ff7e0e\",\"#2ba02b\",\"#d62628\",\"#9367bc\",\"#8c564b\",\"#e277c1\",\"#7e7e7e\",\"#bcbc21\",\"#16bdcf\",\"#3a0182\",\"#004201\",\"#0fffa8\",\"#5d003f\",\"#bcbcff\",\"#d8afa1\",\"#b80080\",\"#004d52\",\"#6b6400\",\"#7c0100\",\"#6026ff\",\"#ffff9a\",\"#564964\",\"#8cb893\",\"#93fbff\",\"#018267\",\"#90ff00\",\"#8200a0\",\"#ac8944\",\"#5b3400\",\"#ffbff2\",\"#ff6e75\",\"#798cff\",\"#dd00ff\",\"#505646\",\"#004489\",\"#ffbf60\",\"#ff018c\",\"#bdc8cf\",\"#af97b5\",\"#b65600\",\"#017000\",\"#cd87ff\",\"#1cd646\",\"#bfebc3\",\"#7997b5\",\"#a56089\",\"#6e8956\",\"#bc7c75\",\"#8a2844\",\"#00acff\",\"#8ed4ff\",\"#4b6d77\",\"#00d4b1\",\"#9300f2\",\"#8a9500\",\"#5d5b9e\",\"#fddfba\",\"#00939e\",\"#ffdb00\",\"#00aa79\",\"#520067\",\"#000091\",\"#0a5d3d\",\"#a5e275\",\"#623b41\",\"#c6c689\",\"#ff9eb5\",\"#cd4f6b\",\"#ff07d6\",\"#8a3a05\",\"#7e3d70\",\"#ff4901\",\"#602ba5\",\"#1c00ff\",\"#e6dfff\",\"#aa3baf\",\"#d89c00\",\"#a3a39e\",\"#3f69ff\",\"#46490c\",\"#7b6985\",\"#6b978c\",\"#ff9a75\",\"#835bff\",\"#7c6b46\",\"#80b654\",\"#bc0049\",\"#fd93ff\",\"#5d0018\",\"#89d1d1\",\"#9c8cd3\",\"#da6d42\",\"#8a5700\",\"#3b5069\",\"#4b6b3b\",\"#edcfd8\",\"#cfedff\",\"#aa1500\",\"#dfff4f\",\"#ff2a56\",\"#d1499e\",\"#707cb8\",\"#598000\",\"#00e4fd\",\"#774b95\",\"#67d48c\",\"#3d3a72\",\"#ac413f\",\"#d6a166\",\"#c169cd\",\"#69595d\",\"#87aced\",\"#a0a569\",\"#d1aae6\",\"#870062\",\"#00fddb\",\"#672818\",\"#b342ff\",\"#0e59c4\",\"#168742\",\"#90d300\",\"#cd7900\",\"#f959ff\",\"#5b7466\",\"#8eaeb3\",\"#9c7c8c\",\"#4600c6\",\"#6b4d2d\",\"#a56d46\",\"#9e8972\",\"#a8afca\",\"#cd8ca7\",\"#00fd64\",\"#917900\",\"#ff62a1\",\"#f4ffd8\",\"#018cf0\",\"#13aca0\",\"#5b2d59\",\"#89859e\",\"#cfccba\",\"#d4afc4\",\"#dbdd6d\",\"#cffff4\",\"#006485\",\"#006962\",\"#a84167\",\"#2d97c4\",\"#a874ff\",\"#26ba5d\",\"#57b600\",\"#caffa7\",\"#a379aa\",\"#ffbc93\",\"#89e2c1\",\"#0fc8ff\",\"#d400c4\",\"#626d89\",\"#69858e\",\"#4b4d52\",\"#aa6067\",\"#79b5d4\",\"#2b5916\",\"#9a0024\",\"#bdd1f2\",\"#896e67\",\"#69a56b\",\"#855467\",\"#aecdba\",\"#87997e\",\"#cadb00\",\"#9a0390\",\"#ebbc1a\",\"#eb9cd1\",\"#70006e\",\"#b1a131\",\"#ca6b93\",\"#4146a3\",\"#e48c89\",\"#d44400\",\"#c68aca\",\"#b69597\",\"#d41f75\",\"#724bcc\",\"#674d00\",\"#672138\",\"#38564f\",\"#6ebaaa\",\"#853a31\",\"#a5d397\",\"#b8af8e\",\"#d8e4df\",\"#aa00df\",\"#cac1db\",\"#ffdf8c\",\"#e2524d\",\"#66696e\",\"#ff001c\",\"#522d72\",\"#4d906b\",\"#a86d11\",\"#ff9e26\",\"#5ea3af\",\"#c88556\",\"#915997\",\"#a3a1ff\",\"#fdbaba\",\"#242a87\",\"#dbe6a8\",\"#97f2a7\",\"#6793d6\",\"#ba5b3f\",\"#3a5d91\",\"#364f2f\",\"#267c95\",\"#89959a\",\"#cfb356\",\"#004664\",\"#5e5d2f\",\"#8e8e41\",\"#ac3f13\",\"#69953b\",\"#a13d85\",\"#bfb6ba\",\"#acc667\",\"#6469cf\",\"#91af00\",\"#2be2da\",\"#016e36\",\"#ff7952\",\"#42807e\",\"#4fe800\",\"#995428\",\"#5d0a00\",\"#a30057\",\"#0c8700\",\"#5982a7\",\"#ffebfb\",\"#4b6901\",\"#8775d4\",\"#e6c6ff\",\"#a5ffda\",\"#d86e77\",\"#df014b\",\"#69675b\",\"#776ba1\",\"#7e8067\",\"#594685\",\"#0000ca\",\"#7c002a\",\"#97ff72\",\"#b5e2e1\",\"#db52c8\",\"#777734\",\"#57bd8e\",\"#1f77b3\",\"#ff7e0e\",\"#2ba02b\",\"#d62628\",\"#9367bc\",\"#8c564b\",\"#e277c1\",\"#7e7e7e\",\"#bcbc21\",\"#16bdcf\",\"#3a0182\",\"#004201\",\"#0fffa8\",\"#5d003f\",\"#bcbcff\",\"#d8afa1\",\"#b80080\",\"#004d52\",\"#6b6400\",\"#7c0100\",\"#6026ff\",\"#ffff9a\",\"#564964\",\"#8cb893\",\"#93fbff\",\"#018267\",\"#90ff00\",\"#8200a0\",\"#ac8944\",\"#5b3400\",\"#ffbff2\",\"#ff6e75\",\"#798cff\",\"#dd00ff\",\"#505646\",\"#004489\",\"#ffbf60\",\"#ff018c\",\"#bdc8cf\",\"#af97b5\",\"#b65600\",\"#017000\",\"#cd87ff\",\"#1cd646\",\"#bfebc3\",\"#7997b5\",\"#a56089\",\"#6e8956\",\"#bc7c75\",\"#8a2844\",\"#00acff\",\"#8ed4ff\",\"#4b6d77\",\"#00d4b1\",\"#9300f2\",\"#8a9500\",\"#5d5b9e\",\"#fddfba\",\"#00939e\",\"#ffdb00\",\"#00aa79\",\"#520067\",\"#000091\",\"#0a5d3d\",\"#a5e275\",\"#623b41\",\"#c6c689\",\"#ff9eb5\",\"#cd4f6b\",\"#ff07d6\",\"#8a3a05\",\"#7e3d70\",\"#ff4901\",\"#602ba5\",\"#1c00ff\",\"#e6dfff\",\"#aa3baf\",\"#d89c00\",\"#a3a39e\",\"#3f69ff\",\"#46490c\",\"#7b6985\",\"#6b978c\",\"#ff9a75\",\"#835bff\",\"#7c6b46\",\"#80b654\",\"#bc0049\",\"#fd93ff\",\"#5d0018\",\"#89d1d1\",\"#9c8cd3\",\"#da6d42\",\"#8a5700\",\"#3b5069\",\"#4b6b3b\",\"#edcfd8\",\"#cfedff\",\"#aa1500\",\"#dfff4f\",\"#ff2a56\",\"#d1499e\",\"#707cb8\",\"#598000\",\"#00e4fd\",\"#774b95\",\"#67d48c\",\"#3d3a72\",\"#ac413f\",\"#d6a166\",\"#c169cd\",\"#69595d\",\"#87aced\",\"#a0a569\",\"#d1aae6\",\"#870062\",\"#00fddb\",\"#672818\",\"#b342ff\",\"#0e59c4\",\"#168742\",\"#90d300\",\"#cd7900\",\"#f959ff\",\"#5b7466\",\"#8eaeb3\",\"#9c7c8c\",\"#4600c6\",\"#6b4d2d\",\"#a56d46\",\"#9e8972\",\"#a8afca\",\"#cd8ca7\",\"#00fd64\",\"#917900\",\"#ff62a1\",\"#f4ffd8\",\"#018cf0\",\"#13aca0\",\"#5b2d59\",\"#89859e\",\"#cfccba\",\"#d4afc4\",\"#dbdd6d\",\"#cffff4\",\"#006485\",\"#006962\",\"#a84167\",\"#2d97c4\",\"#a874ff\",\"#26ba5d\",\"#57b600\",\"#caffa7\",\"#a379aa\",\"#ffbc93\",\"#89e2c1\",\"#0fc8ff\",\"#d400c4\",\"#626d89\",\"#69858e\",\"#4b4d52\",\"#aa6067\",\"#79b5d4\",\"#2b5916\",\"#9a0024\",\"#bdd1f2\",\"#896e67\",\"#69a56b\",\"#855467\",\"#aecdba\",\"#87997e\",\"#cadb00\",\"#9a0390\",\"#ebbc1a\",\"#eb9cd1\",\"#70006e\",\"#b1a131\",\"#ca6b93\",\"#4146a3\",\"#e48c89\",\"#d44400\",\"#c68aca\",\"#b69597\",\"#d41f75\",\"#724bcc\",\"#674d00\",\"#672138\",\"#38564f\",\"#6ebaaa\",\"#853a31\",\"#a5d397\",\"#b8af8e\",\"#d8e4df\",\"#aa00df\",\"#cac1db\",\"#ffdf8c\",\"#e2524d\",\"#66696e\",\"#ff001c\",\"#522d72\",\"#4d906b\",\"#a86d11\",\"#ff9e26\",\"#5ea3af\",\"#c88556\",\"#915997\",\"#a3a1ff\",\"#fdbaba\",\"#242a87\",\"#dbe6a8\",\"#97f2a7\",\"#6793d6\",\"#ba5b3f\",\"#3a5d91\",\"#364f2f\",\"#267c95\",\"#89959a\",\"#cfb356\",\"#004664\",\"#5e5d2f\",\"#8e8e41\",\"#ac3f13\",\"#69953b\",\"#a13d85\",\"#bfb6ba\",\"#acc667\",\"#6469cf\",\"#91af00\",\"#2be2da\",\"#016e36\",\"#ff7952\",\"#42807e\",\"#4fe800\",\"#995428\",\"#5d0a00\",\"#a30057\",\"#0c8700\",\"#5982a7\",\"#ffebfb\",\"#4b6901\",\"#8775d4\",\"#e6c6ff\",\"#a5ffda\",\"#d86e77\",\"#df014b\",\"#69675b\",\"#776ba1\",\"#7e8067\",\"#594685\",\"#0000ca\",\"#7c002a\",\"#97ff72\",\"#b5e2e1\",\"#db52c8\",\"#777734\",\"#57bd8e\",\"#1f77b3\",\"#ff7e0e\",\"#2ba02b\",\"#d62628\",\"#9367bc\",\"#8c564b\",\"#e277c1\",\"#7e7e7e\",\"#bcbc21\",\"#16bdcf\",\"#3a0182\",\"#004201\",\"#0fffa8\",\"#5d003f\",\"#bcbcff\",\"#d8afa1\",\"#b80080\",\"#004d52\",\"#6b6400\",\"#7c0100\",\"#6026ff\",\"#ffff9a\",\"#564964\",\"#8cb893\",\"#93fbff\",\"#018267\",\"#90ff00\",\"#8200a0\",\"#ac8944\",\"#5b3400\",\"#ffbff2\",\"#ff6e75\",\"#798cff\",\"#dd00ff\",\"#505646\",\"#004489\",\"#ffbf60\",\"#ff018c\",\"#bdc8cf\",\"#af97b5\",\"#b65600\",\"#017000\",\"#cd87ff\",\"#1cd646\",\"#bfebc3\",\"#7997b5\",\"#a56089\",\"#6e8956\",\"#bc7c75\",\"#8a2844\",\"#00acff\",\"#8ed4ff\",\"#4b6d77\",\"#00d4b1\",\"#9300f2\",\"#8a9500\",\"#5d5b9e\",\"#fddfba\",\"#00939e\",\"#ffdb00\",\"#00aa79\",\"#520067\",\"#000091\",\"#0a5d3d\",\"#a5e275\",\"#623b41\",\"#c6c689\",\"#ff9eb5\",\"#cd4f6b\",\"#ff07d6\",\"#8a3a05\",\"#7e3d70\",\"#ff4901\",\"#602ba5\",\"#1c00ff\",\"#e6dfff\",\"#aa3baf\",\"#d89c00\",\"#a3a39e\",\"#3f69ff\",\"#46490c\",\"#7b6985\",\"#6b978c\",\"#ff9a75\",\"#835bff\",\"#7c6b46\",\"#80b654\",\"#bc0049\",\"#fd93ff\",\"#5d0018\",\"#89d1d1\",\"#9c8cd3\",\"#da6d42\",\"#8a5700\",\"#3b5069\",\"#4b6b3b\",\"#edcfd8\",\"#cfedff\",\"#aa1500\",\"#dfff4f\",\"#ff2a56\",\"#d1499e\",\"#707cb8\",\"#598000\",\"#00e4fd\",\"#774b95\",\"#67d48c\",\"#3d3a72\",\"#ac413f\",\"#d6a166\",\"#c169cd\",\"#69595d\",\"#87aced\",\"#a0a569\",\"#d1aae6\",\"#870062\",\"#00fddb\",\"#672818\",\"#b342ff\",\"#0e59c4\",\"#168742\",\"#90d300\",\"#cd7900\",\"#f959ff\",\"#5b7466\",\"#8eaeb3\",\"#9c7c8c\",\"#4600c6\",\"#6b4d2d\",\"#a56d46\",\"#9e8972\",\"#a8afca\",\"#cd8ca7\",\"#00fd64\",\"#917900\",\"#ff62a1\",\"#f4ffd8\",\"#018cf0\",\"#13aca0\",\"#5b2d59\",\"#89859e\",\"#cfccba\",\"#d4afc4\",\"#dbdd6d\",\"#cffff4\",\"#006485\",\"#006962\",\"#a84167\",\"#2d97c4\",\"#a874ff\",\"#26ba5d\",\"#57b600\",\"#caffa7\",\"#a379aa\",\"#ffbc93\",\"#89e2c1\",\"#0fc8ff\",\"#d400c4\",\"#626d89\",\"#69858e\",\"#4b4d52\",\"#aa6067\",\"#79b5d4\",\"#2b5916\",\"#9a0024\",\"#bdd1f2\",\"#896e67\",\"#69a56b\",\"#855467\",\"#aecdba\",\"#87997e\",\"#cadb00\",\"#9a0390\",\"#ebbc1a\",\"#eb9cd1\",\"#70006e\",\"#b1a131\",\"#ca6b93\",\"#4146a3\",\"#e48c89\",\"#d44400\",\"#c68aca\",\"#b69597\",\"#d41f75\",\"#724bcc\",\"#674d00\",\"#672138\",\"#38564f\",\"#6ebaaa\",\"#853a31\",\"#a5d397\",\"#b8af8e\",\"#d8e4df\",\"#aa00df\",\"#cac1db\",\"#ffdf8c\",\"#e2524d\",\"#66696e\",\"#ff001c\",\"#522d72\",\"#4d906b\",\"#a86d11\",\"#ff9e26\",\"#5ea3af\",\"#c88556\",\"#915997\",\"#a3a1ff\",\"#fdbaba\",\"#242a87\",\"#dbe6a8\",\"#97f2a7\",\"#6793d6\",\"#ba5b3f\",\"#3a5d91\",\"#364f2f\",\"#267c95\",\"#89959a\",\"#cfb356\",\"#004664\",\"#5e5d2f\",\"#8e8e41\",\"#ac3f13\",\"#69953b\",\"#a13d85\",\"#bfb6ba\",\"#acc667\",\"#6469cf\",\"#91af00\",\"#2be2da\",\"#016e36\",\"#ff7952\",\"#42807e\",\"#4fe800\",\"#995428\",\"#5d0a00\",\"#a30057\",\"#0c8700\",\"#5982a7\",\"#ffebfb\",\"#4b6901\",\"#8775d4\",\"#e6c6ff\",\"#a5ffda\",\"#d86e77\",\"#df014b\",\"#69675b\",\"#776ba1\",\"#7e8067\",\"#594685\",\"#0000ca\",\"#7c002a\",\"#97ff72\",\"#b5e2e1\",\"#db52c8\",\"#777734\",\"#57bd8e\",\"#1f77b3\",\"#ff7e0e\",\"#2ba02b\",\"#d62628\",\"#9367bc\",\"#8c564b\",\"#e277c1\",\"#7e7e7e\",\"#bcbc21\",\"#16bdcf\",\"#3a0182\",\"#004201\",\"#0fffa8\",\"#5d003f\",\"#bcbcff\",\"#d8afa1\",\"#b80080\",\"#004d52\",\"#6b6400\",\"#7c0100\",\"#6026ff\",\"#ffff9a\",\"#564964\",\"#8cb893\",\"#93fbff\",\"#018267\",\"#90ff00\",\"#8200a0\",\"#ac8944\",\"#5b3400\",\"#ffbff2\",\"#ff6e75\",\"#798cff\",\"#dd00ff\",\"#505646\",\"#004489\",\"#ffbf60\",\"#ff018c\",\"#bdc8cf\",\"#af97b5\",\"#b65600\",\"#017000\",\"#cd87ff\",\"#1cd646\",\"#bfebc3\",\"#7997b5\",\"#a56089\",\"#6e8956\",\"#bc7c75\",\"#8a2844\",\"#00acff\",\"#8ed4ff\",\"#4b6d77\",\"#00d4b1\",\"#9300f2\",\"#8a9500\",\"#5d5b9e\",\"#fddfba\",\"#00939e\",\"#ffdb00\",\"#00aa79\",\"#520067\",\"#000091\",\"#0a5d3d\",\"#a5e275\",\"#623b41\",\"#c6c689\",\"#ff9eb5\",\"#cd4f6b\",\"#ff07d6\",\"#8a3a05\",\"#7e3d70\",\"#ff4901\",\"#602ba5\",\"#1c00ff\",\"#e6dfff\",\"#aa3baf\",\"#d89c00\",\"#a3a39e\",\"#3f69ff\",\"#46490c\",\"#7b6985\",\"#6b978c\",\"#ff9a75\",\"#835bff\",\"#7c6b46\",\"#80b654\",\"#bc0049\",\"#fd93ff\",\"#5d0018\",\"#89d1d1\",\"#9c8cd3\",\"#da6d42\",\"#8a5700\",\"#3b5069\",\"#4b6b3b\",\"#edcfd8\",\"#cfedff\",\"#aa1500\",\"#dfff4f\",\"#ff2a56\",\"#d1499e\",\"#707cb8\",\"#598000\",\"#00e4fd\",\"#774b95\",\"#67d48c\",\"#3d3a72\",\"#ac413f\",\"#d6a166\",\"#c169cd\",\"#69595d\",\"#87aced\",\"#a0a569\",\"#d1aae6\",\"#870062\",\"#00fddb\",\"#672818\",\"#b342ff\",\"#0e59c4\",\"#168742\",\"#90d300\",\"#cd7900\",\"#f959ff\",\"#5b7466\",\"#8eaeb3\",\"#9c7c8c\",\"#4600c6\",\"#6b4d2d\",\"#a56d46\",\"#9e8972\",\"#a8afca\",\"#cd8ca7\",\"#00fd64\",\"#917900\",\"#ff62a1\",\"#f4ffd8\",\"#018cf0\",\"#13aca0\",\"#5b2d59\",\"#89859e\",\"#cfccba\",\"#d4afc4\",\"#dbdd6d\",\"#cffff4\",\"#006485\",\"#006962\",\"#a84167\",\"#2d97c4\",\"#a874ff\",\"#26ba5d\",\"#57b600\",\"#caffa7\",\"#a379aa\",\"#ffbc93\",\"#89e2c1\",\"#0fc8ff\",\"#d400c4\",\"#626d89\",\"#69858e\",\"#4b4d52\",\"#aa6067\",\"#79b5d4\",\"#2b5916\",\"#9a0024\",\"#bdd1f2\",\"#896e67\",\"#69a56b\",\"#855467\",\"#aecdba\",\"#87997e\",\"#cadb00\",\"#9a0390\",\"#ebbc1a\",\"#eb9cd1\",\"#70006e\",\"#b1a131\",\"#ca6b93\",\"#4146a3\",\"#e48c89\",\"#d44400\",\"#c68aca\",\"#b69597\",\"#d41f75\",\"#724bcc\",\"#674d00\",\"#672138\",\"#38564f\",\"#6ebaaa\",\"#853a31\",\"#a5d397\",\"#b8af8e\",\"#d8e4df\",\"#aa00df\",\"#cac1db\",\"#ffdf8c\",\"#e2524d\",\"#66696e\",\"#ff001c\",\"#522d72\",\"#4d906b\",\"#a86d11\",\"#ff9e26\",\"#5ea3af\",\"#c88556\",\"#915997\",\"#a3a1ff\",\"#fdbaba\",\"#242a87\",\"#dbe6a8\",\"#97f2a7\",\"#6793d6\",\"#ba5b3f\",\"#3a5d91\",\"#364f2f\",\"#267c95\",\"#89959a\",\"#cfb356\",\"#004664\",\"#5e5d2f\",\"#8e8e41\",\"#ac3f13\",\"#69953b\",\"#a13d85\",\"#bfb6ba\",\"#acc667\",\"#6469cf\",\"#91af00\",\"#2be2da\",\"#016e36\",\"#ff7952\",\"#42807e\",\"#4fe800\",\"#995428\",\"#5d0a00\",\"#a30057\",\"#0c8700\",\"#5982a7\",\"#ffebfb\",\"#4b6901\",\"#8775d4\",\"#e6c6ff\",\"#a5ffda\",\"#d86e77\",\"#df014b\",\"#69675b\",\"#776ba1\",\"#7e8067\",\"#594685\",\"#0000ca\",\"#7c002a\",\"#97ff72\",\"#b5e2e1\",\"#db52c8\",\"#777734\",\"#57bd8e\",\"#1f77b3\",\"#ff7e0e\",\"#2ba02b\",\"#d62628\",\"#9367bc\",\"#8c564b\",\"#e277c1\",\"#7e7e7e\",\"#bcbc21\",\"#16bdcf\",\"#3a0182\",\"#004201\",\"#0fffa8\",\"#5d003f\",\"#bcbcff\",\"#d8afa1\",\"#b80080\",\"#004d52\",\"#6b6400\",\"#7c0100\",\"#6026ff\",\"#ffff9a\",\"#564964\",\"#8cb893\",\"#93fbff\",\"#018267\",\"#90ff00\",\"#8200a0\",\"#ac8944\",\"#5b3400\",\"#ffbff2\",\"#ff6e75\",\"#798cff\",\"#dd00ff\",\"#505646\",\"#004489\",\"#ffbf60\",\"#ff018c\",\"#bdc8cf\",\"#af97b5\",\"#b65600\",\"#017000\",\"#cd87ff\",\"#1cd646\",\"#bfebc3\",\"#7997b5\",\"#a56089\",\"#6e8956\",\"#bc7c75\",\"#8a2844\",\"#00acff\",\"#8ed4ff\",\"#4b6d77\",\"#00d4b1\",\"#9300f2\",\"#8a9500\",\"#5d5b9e\",\"#fddfba\",\"#00939e\",\"#ffdb00\",\"#00aa79\",\"#520067\",\"#000091\",\"#0a5d3d\",\"#a5e275\",\"#623b41\",\"#c6c689\",\"#ff9eb5\",\"#cd4f6b\",\"#ff07d6\",\"#8a3a05\",\"#7e3d70\",\"#ff4901\",\"#602ba5\",\"#1c00ff\",\"#e6dfff\",\"#aa3baf\",\"#d89c00\",\"#a3a39e\"],\"factors\":[\"New Smyrna Beach, Volusia County\",\"Daytona Beach, Volusia County\",\"Ponce Inlet, Volusia County\",\"Melbourne Beach, Brevard County\",\"Myrtle Beach, Horry County\",\"Isle of Palms, Charleston County\",\"Cocoa Beach, Brevard County\",\"Ponce Inlet, New Smyrna Beach, Volusia County\",\"Jacksonville Beach, Duval County\",\"Ormond Beach, Volusia County\",\"Palm Beach, Palm Beach County\",\"Cocoa Beach, Brevard  County\",\"Singer Island, Riviera Beach, Palm Beach County\",\"Juno Beach, Palm Beach County\",\"Florida Keys, Monroe County\",\"Florida Keys\",\"Vero Beach, Indian River County\",\"Sanibel Island, Lee County\",\"Folly Beach, Charleston County\",\"Pensacola Bay, Escambia County\",\"Jacksonville, Duval County\",\"Charleston\",\"Riviera Beach, Palm Beach County\",\"Key West, Monroe County\",\"Galveston\",\"Huntington Beach, Orange County\",\"Gulf Shores, Baldwin County\",\"Jupiter, Palm Beach County\",\"Panama City, Bay County\",\"Jensen Beach, Martin County\",\"Playalinda Beach, Brevard County\",\"Fort Lauderdale, Broward County\",\"Ocean Isle, Brunswick County\",\"Ocean Reef Park, Singer Island, Palm Beach County\",\"Fernandina Beach, Nassau County\",\"Flagler Beach, Flagler County\",\"Wrightsville Beach, New Hanover County\",\"Daytona Beach Shores, Volusia County\",\"North Myrtle Beach, Horry County\",\"Emerald Isle, Carteret County\",\"La Jolla, San Diego County\",\"South Padre Island\",\"Bethune Beach, Volusia County\",\"Playalinda Beach, Canaveral National Seashore, Brevard County\",\"Jensen Beach, Martin County \",\"Hilton Head Island, Beaufort County\",\"Tomales Point, Marin County\",\"Venice Beach, Los Angeles County\",\"Atlantic City, Atlantic County\",\"Avon, Hatteras Island, Outer Banks, Dare County\",\"Indialantic, Brevard County\",\"Indiatlantic, Brevard County\",\"Olowalu, Maui\",\"Sullivan's Island\",\"Santa Monica, Los Angeles County\",\"San Onofre State Beach, San Diego County\",\"Charleston Harbor, Charleston County\",\"Bald Head Island, Brunswick County\",\"Dillon Beach, Marin County\",\"Maui\",\"Pawleys Island, Georgetown County\",\"Moonstone Beach, Humboldt County\",\"Palm Beach County\",\"San Onofre, San Diego County \",\"Farallon Islands\",\"New Smyrna Beach\",\"Marathon, Monroe County\",\"South Jetty, New Smyrna Beach, Volusia County\",\"North Topsail Beach, Onslow County\",\"Stuart Beach, Martin County\",\"Floridana Beach, Brevard County\",\"Newport Beach, Orange County\",\"Ormond Beach / Daytona Beach, Volusia County\",\"Boca Raton, Palm Beach County\",\"Hermosa Beach, Los Angeles County\",\"Mustang Island, near Port Aransas\",\"Vilano Beach, St.  Johns County\",\"Malibu, Los Angeles County\",\"Mobile Bay\",\"Ponte Vedra, St. Johns County\",\"Bunkers, Humboldt Bay, Eureka, Humboldt County\",\"Crescent Beach, St. Johns County\",\"Galveston Island\",\"Imperial Beach, San Diego County\",\"Franklin Point, San Mateo County\",\"Long Beach, Los Angeles County\",\"Coligny Beach, Hilton Head, Beaufort County\",\"Folly Island, near Charleston\",\"Kiawah Island, Charleston County\",\"Pearl Harbor, O'ahu\",\"Holden Beach. Brunswick County\",\"Pigeon Point, San Mateo County\",\"St. Augustine, St. John's County\",\"New Smyrna Beach,  Volusia County\",\"Kanaha Beach, Maui\",\"Condado Beach, San Juan\",\"Miami Beach, Miami-Dade County\",\"Tybee Island, Chatham County\",\"Hollywood Beach, Broward County\",\"Pablo Beach, Jacksonville, Duval County\",\"Masonboro Island, New Hanover County\",\"Winchester Bay\",\"Off Charleston\",\"Kihei, Maui\",\"Kauai\",\"Virginia Beach, Princess Anne County\",\"Fort Lauderdale\",\"Lori Wilson Park, Cocoa Beach, Brevard  County\",\"Santa Barbara County\",\"San Francisco Bay\",\"Ponte Vedra Beach, St Johns County\",\"Hanalei Bay, Kauai\",\"Ponce de Leon Inlet, Volusia County \",\"Hutchinson Island, St. Lucie County\",\"Kau District\",\"Tiger Shores Beach, Martin County\",\"St. Lucie County\",\"Boca Grande, Lee County\",\"San Miguel Island, Santa Barbara County\",\"Holden Beach, Brunswick County\",\"Ho'okipa Beach, Pa'ia, Maui\",\"Hobe Sound, Martin County\",\"Pensacola, Escambia County\",\"Destin, Okaloosa County\",\"Gadsden Point, Tampa Bay\",\"Surf City, Topsail Island, Pender County\",\"Off Masonboro Island, New Hanover County\",\"Sunset Beach, Brunswick County\",\"Bodega Rock, Sonoma County\",\"Cape Canaveral, Brevard County\",\"Kahana Beach, Maui\",\"Staten Island, Richmond County\",\"Topsail Island, Pender County\",\"Paia Bay, Maui\",\"Bethune Beach, south of New Smyrna Beach, Volusia County\",\"Linda Mar Beach, Pedro Point, San Mateo County\",\"Myrtle Beach\",\"Hobe Sound, Palm Beach County\",\"White Plains Beach, Barbers Point, O'ahu\",\"Patrick Air Force Base, Brevard County\",\"Stono Inlet, near Charleston, Charleston County\",\"Honokowai, Maui\",\"Atlantic Beach, Duval County\",\"Kealia Beach, Kaua'i\",\"Fripp Island, Beaufort County\",\"Sargent Beach, Matagorda County\",\"St. Augustine, St Johns County\",\"Mustang Island, Corpus Christi\",\"Daytona Beach, Volusia County \",\"Spring Lake, Monmouth County\",\"Galveston Bay\",\"Kahului, Maui\",\"Matawan Creek, 10 miles from the sea, Monmouth County\",\"San Diego, San Diego County\",\"Sheepshead Bay, Brooklyn\",\"New Smyrna Beach / Waveland, Volusia County\",\"South of Ponce Inlet, Volusia County\",\"Carolina Beach, New Hanover County\",\"Ocean City (offshore)\",\"Puna\",\"Ka'a'awa, Oahu\",\"Delray Beach\",\"Sea Bright, Monmouth County\",\"Lake Pontchartrain\",\"Folly Beach\",\"Davenport Landing, Santa Cruz County\",\"Barber\\u2019s Point, O'ahu\",\"Monastery Beach, Carmel Bay, Monterey County\",\"Ocean City, Cape May County\",\"Leftovers, near Waimea Bay, O'ahu\",\"Key Biscayne\",\"Makena, Maui\",\"Fort Pierce, St Lucie County\",\"Emerald Isle Pier (near Morehead City), Carteret County\",\"Municipal Beach, West Palm Beach, Palm Beach County\",\"Maile Beach, O'ahu\",\"Surf Beach, Lompoc, Santa Barbara County\",\"Santa Catalina Island, Los Angeles County\",\"Kahala, O'ahu\",\"Fort Pierce Inlet, St Lucie County\",\"Absecon, Atlantic County\",\"Elliot Key\",\"Tampa Bay, Hillsborough County\",\"Boca Ciega Bay, Pinellas County\",\"San Juan\",\"Morehead, Carteret County\",\"Palm Beach Inlet, Palm Beach County\",\"St Augustine, St Johns County\",\"Boynton Beach, Palm Beach County\",\"Seabrook Beach\",\"San Francisco Bay (or San Leandro Bay), near cannery, Alameda County\",\"Fort Pierce, St. Lucie County\",\"Santa Barbara Channel\",\"Hilo, Hawai'i\",\"Sarasota County\",\"Klamath River, Del Norte County\",\"Sebastian Inlet, Brevard County\",\"St Augustine Beach, St Johns County\",\"Neptune Beach, Duval County\",\"Clearwater Beach, Pinellas County\",\"Delray Beach, Palm Beach County\",\"Solana Beach, San Diego County\",\"Makena Landing, Maui\",\"Atlantic Beach, Emerald Isle, Carteret County\",\"North Beach, St. Lucie County\",\"LaJolla, San Diego County\",\"Santa Cruz, Santa Cruz County\",\"Monterey Bay, Monterey County\",\"St. Petersburg, Pinellas County\",\"Wailea Beach, Maui\",\"Salmon Creek, Sonoma County\",\"Moloka'i\",\"Mavericks, Half Moon Bay, San Mateo County\",\"New Smyrna  Beach, Volusia County\",\"Crescent Beach St. Johns County\",\"Bridgeport, Fairfield County\",\"Jupiter Inlet\",\"Midway Island, Northwestern Hawaiian Islands\",\"Southeast Farallon Island, Farallon Islands\",\"Pelican Beach Park, Satellite Beach, Brevard County\",\"Haulover Beach, Miami-Dade County\",\"Garden City Beach, Horry County\",\"Pismo Beach, San Luis Obispo County\",\"Turtle Beach, Siesta Key, Sarasota County\",\"Lyman Beach, Kailua-Kona\",\"Amelia Island, Nassau County\",\"Shell Island Panama City Beach, Bay County\",\"New Orleans\",\"Ocracoke, Hyde County\",\"Ponce de Leon Inlet, Volusia County\",\"Keawakapu Beach, Maui\",\"Shrewsbury River, Highlands, Monmouth County\",\"Sandy Hook Bay, Highlands, Monmouth County\",\"Mustang Island, Nueces County\",\"Norfolk\",\"Off Makapauu Point, O'ahu\",\"Florida Straits\",\"Brazos\",\"Paukukalo, Maui\",\"Cape San Blas, Gulf County\",\"Point Conception, Santa Barbara County\",\"Stinson Beach, Marin County\",\"Miami\",\"Rockaway\",\"Long Island\",\"Loggerhead Park, Juno Beach, Palm Beach County\",\"Jensen Beach Park, Martin County\",\"South of Ponce Inlet, New Smyrna Beach, Volusia County\",\"Jekyll Island, Glynn County\",\"Rodanthe, Dare County\",\"North Jetty, Fort Pierce Inlet State Park, St. Lucie County\",\"Volusia County\",\"Mission Beach, San Diego County\",\"St. Helena Island, Beaufort County\",\"Daytona Beach Shores\",\"Oak Island, Brunswick County\",\"Near Key West\",\"White Plains Beach, Oahu\",\"Lanai\",\"Marina State Beach, Monterey County\",\"Hanna Park, Jacksonville, Duval County\",\"Lauderdale-by-the-Sea, Broward County\",\"Brooklyn\",\"North Salmon Creek Beach, Sonoma County\",\"Round Island Park, Indian River County\",\"Santa Maria Island, Manatee County\",\"Pepper Park Beach, St. Lucie County\",\"Ponte Vedra Beach, St. Johns County\",\"Kaiwi Channel\",\"Sea Girt, Monmouth County\",\"South Padre Island, Cameron County\",\"Brennecke Beach, Po'ipu, Kaua'i\",\"Back River, Savannah Beach, Chatham County\",\"St. Simons Island or Jeykll Island, Glynn County\",\"Laguna Beach, Orange County\",\"Pinellas County\",\"St. Croix, Cane Bay\",\"Point Purisima, Santa Barbara County\",\"Sea Ranch, Sonoma County\",\"Albion Cove, Albion, Mendocino County\",\"Bird Rock, near Tomales Point, Marin County\",\"Ormond By The Sea, Volusia County\",\"Waihe'e, Wailuku, Maui\",\"False Cape\",\"Point Sur, Monterey County\",\"Matanzas Inlet, St Johns County\",\"Waimanu, Honoka'a, Hawai'i\",\"Gulf of Mexico\",\"Ft. Pierce, St Lucie County\",\"Kalama Beach, Kihei, Maui\",\"Port Lavaca, Calhoun County\",\"Off Hilton Head, Beaufort County \",\"2 miles off Jupiter, Palm Beach County\",\"Biltmore Beach, near Panama City\",\"8 miles south of Elliot Key, Miami-Dade County\",\"Municipal Bathing area, Riviera Beach, Palm Beach County\",\"South Jetty, Galveston\",\"Point Comfort, Calhoun County\",\"Southeast Farallon Island\",\"Key Biscayne, Miami, Dade County\",\"Reeds Bay, Brigantine, Atlantic County\",\"Ft. Lauderdale, Broward County\",\"3 days out of Old Saybrook, Connecticut, 37.04'N, 67.57'W, Southern fringe of Gulf Stream\",\"Bolivar Peninsula\",\"Pebble Beach, Cypress Point, Monterey County\",\"Hollywood, Broward County\",\"100 miles offshore\",\"Steel Pier, Atlantic City, Atlantic County\",\"Near US Air Force Base at Elgin, Okaloosa County\",\"In front of Key Biscayne Beach Club, Key Biscayne\",\"Between Palm  & Salerno Inlets, Martin County\",\"Pacifica, San Mateo County\",\"Pompano Beach, Palm Beach County\",\"Dana Point, San Clemente, Orange County\",\"Granite Pier, Rockport\",\"50 miles NE of Honolulu\",\"Snapper Point Jetty, Miami, Dade County\",\"Dania, Broward County\",\"Off Key West\",\"Waimea Bay, O'ahu\",\"Manatee County\",\"Manasquan, Ocean County\",\"Off Andy Bowie Park, Padre Island, near Port Isabel\",\"Hawaii\",\"Bird Rock, Tomales Point, near Marin County / Sonoma County border\",\"St. Petersburg, Pinnellas County\",\"Packery Channel\",\"Makaha, O'ahu\",\"Egmont Key, Hillsborough County\",\"Ventura\",\"Somewhere between Hatteras and Beaufort\",\"Hapuna Beach, Hawai'i\",\"Okaloosa County\",\"Awili, South Kona, Hawai'i\",\"St. Thomas, Magens Bay\",\"Mullet Key, Pinellas County\",\"Palm Beach Shores, Riviera Beach, Singer Island, Palm Beach County\",\"McArthur Beach, Singer Island, Palm Beach Shores\",\"San Mateo County\",\"Kailua Bay, O'ahu\",\"Horn Island\",\"Fenwick Island\",\"Monterey, Montery County\",\"San Gregorio Beach, San Mateo County\",\"Winyah Bay\",\"Satellite  Beach, Brevard County\",\"Davenport Light, San Mateo County\",\"North of Jupiter Inlet, Palm Beach County\",\"Running Waters Beach, Ninini Point, Kaua'i\",\"Waihe'e, Maui\",\"North of Morro Rock, San Luis Obispo County\",\"Paradise Beach Park, Brevard County\",\"Sea Pines Beach Club, Hilton Head, Beaufort County\",\"Playalinda, Brevard County\",\"Fort Pierce, St. Lucie County \",\"Indian Beach, Ecola State Park, just north of Cannon Beach, Clatsop County \",\"Wailua, Kaua'i\",\"Waialua Beach, Moloka'i\",\"Latigo Point / Paradise Cove,west of Malibu, Los Angeles County\",\"Tunitas Beach, San Mateo County\",\"Nest Key, Monroe County\",\"Kekaha Beach, Kaua'i\",\"St Augustine, St. Johns County\",\"Jupiter Island Beach, Martin County\",\"15 miles north of Sebastian Inlet, Brevard County\",\"Off Shelter Cover (between Fort Bragg & Eureka), Humboldt County\",\"Bayport, Hernando County\",\"Palmetto Dunes, Hilton Head, Beaufort County\",\"Barbers Point, O'ahu\",\"Little Glass Shacks, Princeville, Kaua'i\",\"New Hanover County\",\"Masonboro Inlet, New Hanover County\",\"Pinellas Point, Tampa Bay\",\"Monastery Beach, Carmel River State Park, Monterey Peninsula, Monterey California\",\"Kailua-Kona, Hawai'i\",\"Latigo Point / Paradise Cove, west of Malibu, Los Angeles County\",\"Pacific Beach, Grays Harbor County\",\"Wabasso Beach, Indian River County\",\"Trinidad Head, Humboldt County\",\"Trinidad State Beach, Humboldt County\",\"Russian Gulch, Jenner, Sonoma County\",\"Hanalei Point, Kaua'i\",\"North end of County Beach, Palm Beach County\",\"Spanish River Park Beach, Palm Beach County\",\"Neskowin, Tillamook County\",\"One'ula Beach Park, 'Ewa Beach, O'ahu\",\"Baltimore Aquarium\",\"Ma'ili Beach, O'ahu\",\"Croatan Beach, Virginia Beach, \",\"8.5 miles south of Ano Nuevo State Reserve, Davenport County\",\"South Miami Beach, Dade County\",\"John Pennekamp Marine Park, Monroe County\",\"Florida Bay\",\"Juno Beach / North Palm Beach, Palm Beach County\",\"Near Port Aransas, Nueces County\",\"40 miles off Cocodrie\",\"Mustang Island State Park, Nueces County\",\"Anahola, Kaua'i\",\"Salvo, Dare County\",\"Off Palos Verdes Estates, Los Angeles\",\"Gulf of Mexico, 22 miles from Pensacola\",\"Between Wrightsville Beach & Carolina Beach, New Hanover County\",\"Surfside Beach\",\"Kahe Point, O'ahu\",\"Ehukai Beach Park, Sunset Beach, O'ahu\",\"90 miles east of Hilo, Hawai'i\",\"Montera Beach, San Mateo County\",\"Monster Hole, Sebastian Inlet, Indian River County\",\"Mokapu, Kane'ohe Marine Air Corps Station, O'ahu\",\"Fowey Rock, Key Biscayne\",\"Myers Creek\",\"Ka'anapali, Maui\",\"12 miles northeast of Mayport,  Duval County\",\"Off San Diego, San Diego County\",\"McClure Beach, near Tomales Point, Marin County\",\"South of Neptune Beach, Duval County\",\"Pajaro Dunes, Santa Cruz County\",\"Ewa, O'ahu\",\"South Kohala, Hawai'i\",\"Ano Nuevo Island, San Mateo, County\",\"Municipal Beach, Boyton Beach, Palm Beach County\",\"Public Beach (Carlin Park), Jupiter, Palm Beach County\",\"Fort Walton Beach, Okaloosa County\",\"10 miles off Cape Canaveral\",\"Haystack Rock, Cannon Beach, Clatsop County\",\"Off San Clemente Island, Los Angeles County\",\"Padre Island\",\"Sebastian, Indian River County\",\"Puamana, Lahaina, Maui\",\"Scofield - Sandy Point\",\"North Farallon Island, Farallon Islands\",\"North of Point Sur, Monterey County\",\" New Smyrna Beach, Volusia County\",\"Windy Hill, near Myrtle Beach, Horry County\",\"Perch Rock, Point Conception, Santa Barbara County\",\"Off Hutchinson Island, St Lucie County\",\"Usal Creek, Bear Harbor, Mendocino County\",\"Seal Beach, Orange County\",\"Sandy Hook, Monmouth County\",\"Off Lahaina, Maui\",\"Off Fort Pierce, St Lucie County\",\"Kama'ole Beach, Park No. 1, Kihei, Maui\",\"St. Andrews State Park, Bay County\",\"Maha'ulepu, Koloa, Kaua'i\",\"Dewey Beach\",\"Grand Isle, Jefferson Parish\",\"Bob Graham Beach, Martin County\",\"Morro Rock, Morro Bay, San Obispo County\",\"Lake Worth Beach, Palm Beach County\",\"Haulover Inlet, Dade County\",\" Riviera Beach, Palm Beach County\",\"Intracoastal Waterway, Boca Raton, Palm Beach County\",\"Off 12th Street, Miami Beach\",\"Caloosahatchee River, Lee County\",\"6 miles south of Boca Chica Key, Monroe County \",\"Cape Kiwanda,Tillamook County\",\"Off Lake Worth, Palm Beach County\",\"San Francisco\",\"Kane'ohe Bay, O'ahu\",\"Off Crystal River, Citrus County\",\"\\\"Turnaround\\\", Cape Kiwanda, Tillamook County\",\"Bear Harbor, Mendocino County\",\"Point Buchon, San Luis Obispo County\",\"Off Umpqua River\",\"Stuart Beach, Martin County \",\"Sands Cut, Elliot Key\",\"Ha'ena Beach Park, Kaua'i\",\"Honoli'i Pali, Hilo Bay ('Alae Point), Hawai'i\",\"Carter Cay\",\"St. Petersburg Beach, Pinellas County\",\"Keaukaha, Hilo, Hawai'i\",\"Hilton Head, Beaufort County\",\"Tampa Bay, Manatee County\",\"Jupiter Island, Brevard County\",\"La'au Point, Moloka'i\",\"Nimitz Beach, Barbers Point, O'ahu\",\"South Moss Beach, Spanish Bay, Monterey Peninsula\",\"Stillwater Cove, Sonoma County\",\"Daws Island, Broad River (near Beaufort)\",\"Gulf Island National Seashore Park\",\"North coast\",\"Lower Delaware Bay\",\"Bay St. Louis, Hancock County\",\"Tangier Sound, Somerset County\",\"Avalon, Los Angeles County\",\"Pepe'ekeo, Honomu, Hawai'i\",\"Garden Key, Charlotte County\",\"Mosquito Inlet (Ponce Inlet), Volusia County\",\"Small creek near Coles Island\",\" Kalepolepo, Kihei, Maui\",\"Rockport, Aransas County\",\"Mana, Kaua'i\",\" Marathon, Monroe County\",\"Redondo, Los Angeles County\",\"Pa'uwela, Maui\",\"Lewes, Sussex County\",\"Off Fort Gaines, Dauphin Island, Mobile County\",\"Davis Shore, east of Beaufor, Carteret Countyt\",\"Cape Lookout, Carteret County\",\"Shrewsbury River,  Monmouth County\",\"Off Diamond Head, Honolulu, O'ahu\",\"St. John's River, Jacksonville, Duval County\",\"Prince's Bay, Staten Island\",\"Off Kohala\",\"Near a small wreck in a channel at Indian Key\",\"St. John's River\",\"Trout River, Panama Park\",\"Inter-Island Dry Dock at Kakaako Street, Honolulu, O'ahu\",\"Makapu'u Point, O'ahu\",\"Southport, Brunswick County\",\"Waikiki Beach, Oahu\",\"Coddington Cove\",\"Indian River Inlet / Fort Pierce Inlet\",\"Kalihi, O'ahu\",\"Near Port Lavaca, Calhoun County\",\"Koko Head, south side of O'ahu Island\",\"Texas City, Galveston\",\"Delaware Lightship\",\"Seabright, Monmouth County\",\"Woodcliff Channel, Freeport, Long Island\",\"Municipal Pier, St. Petersburg, Tampa bay\",\"Nahant\",\"Capistrano, Orange County\",\"Keawanui, Kamalo, Moloka'i\",\"Bayboro, Pinellas County\",\"Santurce\",\"Hilo Bay Yacht Club, Hilo, Hawai'i\",\"Galveston Ship Channel\",\"Hale'iwa, O'ahu\",\"Seaside, Ocean County\",\"Catalina Channel, Los Angeles County\",\"Off Florida coast\",\"Off shore\",\"Corpus Christi\",\"Englewood Beach, Charlotte County\",\"Slaunwhite's Ledge, Hubbard Cove\",\"James Island Sound, Charleston\",\"Florida Keys 25\\u00baN,82\\u00baW\",\"John's Pass, Pinellas County\",\"Lavalette, Ocean County\",\"West Palm Beach, Palm Beach County\",\"Honomu, Hawai'i\",\"Soldier Key, Miami-Dade County\",\"Beach Haven, Ocean County\",\"In Matawan Creek, off NJ Clay Company brickyards at Cliffwood, Monmouth County, 9.5 miles from the sea, Monmouth County\",\"Atlantic, near New Bern, Craven County\",\"off Grand Lake, Cameron Parish\",\"Sewell\\u2019s Point, near Palm Beach\",\"Calibogue Sound\",\"Florida Keys \",\"Nanakuli, Oah\\u2019u\",\"Papaikou plantation \",\"Near Panama City, Bay County\",\"Ramshorn Creek\",\"a creek near Jacksonville, Duval County\",\"Point Judith\",\"Palama\",\"Mount Pleasant, Charleston County\",\"Near Fernandina Bar, Nassau County \",\"Off the Battery\",\"Cape Hatteras\",\"Cape Sable, Monroe County\",\"Off Kawaihae\",\"Cape Canso\",\"Mahattan\",\"Elliott Cut, Charleston County\",\"Cedar Island, Carteret County\",\"Greenport Sound, Long Island\",\"Smithville (now Southport), Brunswick County\",\"Kawahae\",\"Chester River\",\"St. Pierre Bank \",\"Coney Island\",\"Honolulu Harbor\",\"Patapsco River\",\"Cape Cod\",\"Chelsea Beach, Suffolk County\",\"Oahu\",\"Grand Banks\",\"Between Manhattan and The Bronx\",\"Maliu, Hawai'i\",\"Pensacola Harbor, Escambia County\",\"Sag Harbor, Suffolk County\",\"Bristol Harbor\",\"Uo, Lahaina, Maui\",\"Swampscott, Essex County\",\"Near Havana\",\"\\u201cSouthern Wharf\\u201d\",\"New York\",\"Lost Tree Village, Palm Beach County\",\"Magwoods Wharf, Charleston Harbor, Charleston County\",\"Waikiki\",\"Cumberland Island\",\"East River\",\"West Bay near Galveston \",\"Honolulu\",\"Off Normandie-by-the-Sea, Monmouth County\",\"Hampton Roads\",\"Off Longport, Atlantic County\",\"Halifax\",\"Velasco\",\"New Bern, Craven County\",\"Anastasia Island\",\"Woolsey's Point, East River\",\"Rockport\",\"North Beach, St. Augustine\",\"Raritan Bay\",\"Noyes Beach\",\"Near the mouth of the Cape Fear River, Brunswick County\",\"Fernandina, Nassau County\",\"Hillsborough Bay\",\"Branford, New Haven County\",\"Portlock, Oahu\",\"River mouth\",\"Los Angeles, Los Angeles County\",\"Hutchinson Island, Martin County\",\"The Narrows\",\"Providence\",\"Elizabeth City, Pasquotank County  \",\"In the bay near the naval yard at Pensacola, Escambia County\",\"Bull\\u2019s Bay, near Charleston\",\"Fort Pickens, Escambia County\",\"Jamaica Bay\",\"Bayonne, Hudson County\",\"Hamakua Homakua, Hawai'i\",\"Pass Christian, Hamilton County\",\"Off Sable Island\",\"200 miles off Hampton Roads, Virginia, USA\",\"Indian River area\",\"Pacific Beach, San Diego County\",\"Sarasota, Sarasota County\",\"Siesta Key, Sarasota County\",\"Longboat Key, Sarasota, Sarasota County\",\"Staten Island\",\"Baker's Haulover, Miami Beach\",\"Coronado Strand, San Diego County\",\"Near Twin Islands off Lanikai, O'ahu (east coast)\",\"Oak Beach, Fire Inlet\",\"Vaca Cut Channel & bridge under Marathon, Monroe County\",\"Hilo, off Kaua'i\",\"Baker Beach, San Francisco County\",\"Indian Rocks Beach, Clearwater, Pinellas County\",\"Off La Jolla Cove, San Diego County\",\"Alligator Head, La Jolla, San Diego County\",\"In kelp beds off La Jolla, San Diego County\",\"1 mile off Miami Beach\",\"Water Island\",\"Miami Seaquarium, Virginia Key, Miami, Miami-Dade County\",\"Salter Path, Atlantic Beach, Carteret County\",\"Chicago (Lake Michigan)\",\"Pacific Grove, Monterey County\",\"Trinidad Bay, Humboldt County\",\"Windy Hill Beach\",\"Zuma Beach, Santa Monica, Los Angeles County\",\"East Moloka'i\",\"Near Port Canaveral Coast Guard Base\",\"Aquadilla\",\"Miami, Miami-Dade County\",\"South Beach, Fort Pierce, St Lucie County\",\"Atascadero Beach, Morro Bay, San Luis Obispo County\",\"8 miles off St. Marks, Wakulla County\",\"Savannah Beach, Savannah, Chatham County\",\"Between False Klamath & mouth of Klamath River, Del Norte County\",\"Sea Spray, Palm Beach\",\"Fowey Rock Light, Miami\",\"Atlantic Beach, Horry County\",\"Haulover Inlet\",\"Off Point Mugu, Ventura County\",\"Hutchinson Island Beach, Martin County\",\"Maile Point, O'ahu\",\"Topanga Canyon Beach, Santa Monica Bay\",\"Fairmount Park Aquarium, Philadelphia\",\"Laguna Beach, Bay County\",\"Albergotti Creek, near Air Station boat docks, Beaufort\",\"Whitewood Point on Lloyd Neck in Oyster Bay\",\"Pearl Harbor Channel, O'ahu\",\"Pawley\\u2019s Island, Georgetown County\",\"Ocean Ridge, Boca Raton, Palm Beach County\",\"8 miles off Newport Beach, Orange County\",\"30 miles east of Corpus Christi\",\"Seaside Park, Ocean County\",\"Key Largo Sound\",\"Off Port Everglades, Broward County\",\"Near Paradise Cove, Malibu, Los Angeles County\",\"120 miles southeast of New Orleans\",\"Between Keawakapu & Makena, Maui\",\"Off Boca Raton Hotel & Club, Boca Raton, Palm Beach County\",\"Lignum Vitae Channel, Florida Keys, Monroe County\",\"Aptos, Santa Cruz County\",\"North picnic area, Jekyll Island, Glynn County\",\"10 miles off Santa Barbara, Santa Barbara County\",\"2 miles east of Dania Beach, Broward County\",\"Little River Beach, Horry County\",\"Hog Island\",\"Mississippi City\",\"Parris Island\",\"Mispillion Light, Delaware Bay\",\"Barnegat Light, Ocean County\",\"Off Cape Hatteraa\",\"Miami, Miami-Date County\",\"Long Branch, Monmouth County (offshore)\",\"Pamlico Sound off Frisco, Dare County\",\"Georges Bank\",\"Lahaina, Maui\",\"Honokohau, Maui\",\"Pontchartrain Beach\",\"Dana Point, Orange County\",\"Near Encino, Los Angeles County\",\"At sea, several hundred miles south east of Cape Henry, Virginia\",\"West Bay, 19 miles from Galveston\",\"Off San Pedro, Los Angeles County\",\"Kane'ohe Bay, Mokapu, O'ahu\",\"Brown\\u2019s Inlet on New River, Onslow Beach\",\"50 miles offshore\",\"Thunderbolt, Chatham County\",\"Melbourne, Brevard County\",\"Fort Moultrie\",\"70 miles off Tarpon Springs\",\"High Island\",\"Key West, Monroe County \",\"Sandy Hook (ocean side), Monmouth County\",\"Off Brownsville\",\"1 mile ESE of Navesink, Monmouth County\",\"1 mile off Mala Wharf, Lahaina, Maui\",\"Off Ocean City, Cape May County\",\"Offshore, between Mantoloking & Point Pleasant, Ocean County\",\"North end of Morris Island at mouth of Charleston Harbor\",\"Mystic River\",\"Pawley\\u2019s Island, north of Charleston\",\"Brielle, Monmouth County (Offshore)\",\"Kahakuloa, Maui\",\"Beach 103rd Street, Rockaway \",\"Rock Harbor, Key Largo, Monroe County\",\"Near Port Arthur\",\"Kapehu Beach, Laupahoehoe, Hawai'i\",\"Mona Island, 40 miles west of the mainland \",\"Off Santa Monica, Los Angeles County\",\"Panacea, Wakulla County\",\"Pacific Grove, Monterey Bay, Monterey County\",\"Between Ala Moana Channel & Kewalo Basin, O'ahu\",\"Kaula Rock near Niihau \",\"Fourchu, Cape Breton Island\",\"Waiau, Pearl Harbor, O'ahu\",\"Rockaway Beach\",\"Wailupe, O'ahu\",\"Waikiki, O'ahu\",\"Montauk\",\"Oketee River, Jasper County\",\"Midway, Northwestern Hawaiian Islands\",\"3 miles from shore off McGregor Point, Maui\",\"Victim was on said to be on tanker that collided off Florida coast on 10-20-1943\",\"Atlantic Beach, Mayport,  Duval County\",\"North Beach\",\"Ocracoke Inlet, Carteret County\",\"Ocracoke\",\"Off Waianae, O'ahu\",\"In a canal 10 miles north of St Augustine\",\"Biscayne Bay\",\"Gulf of Mexico between Brownsville & Carmen, Mexico\",\"St. John, Genti Bay\",\"10 miles off Redondo Beach, Los Angeles County\",\"Horseshoe Reef, Scott Creek, Davenport, Santa Cruz County\",\"Carysfort Lighthouse, Key Largo, Monroe County\",\"Maliko Point, Maui\",\"Spanish House Beach, Brevard County\",\"Maha\\u2018ulepu Beach, Kauai\",\"Topanga Beach, Los Angeles County\",\"Key Largo\",\"Spreckelsville, Maui\",\"St. Augustine Beach, St. John's County\",\"South Beach, Miami-Dade County\",\" Cocoa Beach, Brevard  County\",\"Hobe Sound\",\"Tourmaline Surf Park, San Diego County\",\"Seaport, Brevard County\",\"Humboldt Bay, Eureka, Humboldt County\",\"Davidson's Surf Break, Kekaha, Kaua'i\",\"Kiholo Bay\",\"\\\"Stuart Rocks\\\", Martin County\",\"Ka'anapali, Honokowai, Maui\",\"Ka\\u2019anapali Shores\",\"Ballston Beach, Truro, Cape Cod\",\"Tofino, Vancouver\",\"Pleasure Point, Santa Cruz County\",\"Bathtub Reef  Beach, Stuart, Martin County\",\"Nimitz State Beach, Oahu\",\"Samoa Beach, Humboldt County\",\"Hatillo Beach\",\"Seaside\",\"Cape Canaveral\",\"Newport, Lincoln County\",\"Pigeon Point\",\"Seaside Cove\",\"Makahuena Point, Kauai\",\"Lincoln City, Lincoln County\",\"Leftovers near Chun's Reef, Oahu\",\"Off Catalina Island\",\"Leffingwell Landing, Cambria,  San Luis Obispo County\",\"Iroquiois Point, Oahu\",\"Summerland Key, Monroe County\",\"Near Boynton Beach, Palm Beach County\",\"Halewia, Oahu\",\"Juan Ponce de Le\\u00f3n Landing, Melbourne Beach, Brevard County\",\"Gleneden Beach, Lincoln County\",\"Keawekapu Beach, Kihei, Maui\",\"Between  Makena & Molokini, Maui\",\"Ninole Bay, Hawaii County\",\"Santa Lucea Beach, South Hutchinson Island, St. Lucie County\",\"Macarthur State Park\",\"Bethel Shoals, Indian River County\",\"West Beach, Galveston\",\"Off Snipe Point, Florida Keys, Monroe County\",\"Cape Henlopen State Park, Sussex County\",\"Oceano Dunes State Beach, San Luis Obispo County\",\"Manhattan Beach, Los Angeles County\",\"Okaloosa Island\",\"Table Beach, Brevard County\",\"South of Cocoa Beach, Brevard County\",\"Bay Head, Ocean County\",\"Waiehu, Maui\",\"Pila'a Beach, Kaua'i\",\"Miami Beach\",\"Surfside Beach, Brazoria County\",\"Kona Coast State Park\",\"Pacific State , San Mateo County\",\"Butler Beach, St Augustine,       St. Johns County\",\"Ulua Beach, Maui\",\"Ka'a Point, Maui\",\"Pillar Point, Half-Moon Bay, San Mateo County\",\"Pohoiki \",\"Winterhaven Park,           Ponce Inlet, Volusia County\",\"Catalina Channel\",\"Butterfly Beach, Montecito, Santa Barbara County\",\"Key West Aquarium\",\"Casino Beach, Pensacola, Escambia County\",\"Carlin Park, Jupiter, Palm Beach County\",\"Grass Island, Aransas County\",\"Buxton Beach, Dare County\",\"Kure Beach, New Hanover County\",\"Quebradillas\",\"Ala Moana Beach Park, Oah'u\",\"Buck Island\",\"McKenzie Beach Park in Pahoa, Hawai'i \",\"Hutchinson Island\",\"Ormond-by-the-Sea, Volusia County\",\"Bethune Beach\",\"Santa Rosa Beach, Walton County\",\"Alenuihaha Channel\",\" Vieques\",\"San Diego County\",\"Kona\",\"Walton Rocks, St Lucie County\",\"Carlin Park, Jupiter Inlet\",\"Shell Beach, San Luis Obispo County\",\"Biscayne National Park, Miami\",\"Intracoastal Waterway,      St. Petersburg\",\"Lahilahi Point, Oahu\",\"Litchfield Beach, Georgetown County\",\"Kamilo Point, Hawai'i\",\"West Cove, Catalina Island\",\"Huguenot Park\",\"Venice Pier, Venice, Los Angeles County\",\"Wailea, Maui\",\"Waialua Bay, O'ahu\",\"Off Fort Pierce, St. Lucie County\",\"Opposite Patrick Air Force Base, Brevard County\",\" Huntington Beach, Orange County\",\"Lovers Key State Park, Bonita Springs, Lee County\",\"Beachway Avenue Approach, New Smyrna Beach, Volusia County\",\"Near Cocoa Beach, Brevard  County\",\"New Smyrna Beach / Ponce Inlet, Volusia County\",\"Palm Beach Shores, Palm Beach County\",\"Hammocks Beach State Park, Bear Island, Onslow County\",\"Cherry Grove\",\"Curlew Island, Breton Sound\",\"Kawa'a \",\"Ponce, Volusia County\",\"Micklers Landing, St. Johns County\",\"Figure Eight Island, Wilmington, New Hanover County\",\"Sandridge Beach\",\"Surf Beach, Vandenberg AFB, Santa Barbara County\",\"Burnt Cove near Eastport, Washington County\",\"Florence\",\"Tavares Bay, Maui\",\" Kahului, Maui\",\"Matagorda Beach\",\"Follett's Island, Brazoria County\",\"Off Jupiter Inlet, Palm Beach County\",\"Perdido Key, Escambia County\",\"Sunday Beach, Matagorda Island, Calhoun  County\",\"Ocracoke Island, Hyde County\",\"Egg Harbor, Atlantic County\",\"Beaufort Inlet\",\"Near oil rig Hondo, 5 nm from Gaviota, Santa Barbara County\",\"Off Long Island\",\"Terramar Beach, Carlsbad, San Diego County\",\"Pismo Beach, San Luis  Obispo County\",\"Corolla, Currituck County\",\"Key Colony Beach, Monroe County\",\"Kalama Park, Maui\",\"Davenport, Santa Cruz County\",\"Loch Lomond, Marin County\",\"Lori Wilson Park, Cocoa Beach, Brevard County\",\"Adventure Aquarium, Camden\",\"Stuart, Martin County\",\"Riviera Beach\",\"Hanalei Bay\",\"Off Tarpon Springs\",\"Jacksonville\",\"Fripp Island\",\"Eight Mile Beach, Galveston\",\"Dog Patch, San Onofre\",\"Hallandale Beach, Broward County\",\"Apalachicola Bay \",\"Shelter Cover, north of Fort Bragg, Shelter Cove, Mendocino County\",\"Marconi Beach, Wellfleet, Barnstable County\",\"Snipes Point, Monroe County\",\"Ventnor\",\"DeBordieu Colony, Georgetown County\",\"Jacksonvlle, Duval County\",\"Menauhant Beach, Falmouth,\\nBarnstable County\",\"Sea Pines Resort, Hilton Head Island, Beaufort County\",\"Bathtub Beach \",\"Shipwreck\\u2019s Beach, Keoneloa Bay, Kauai\",\"Fort Worth\",\"Kama\\u2018ole Beach Park, Maui \",\"Davidsons Beach, Kekaha, Kauai\",\"Lantana Beach, Palm Beach County\",\"Stillwater Cove, Monterey County\",\"Hultin's Beach, Oahu\",\"Stearns Wharf, Santa Barbara\",\"Seal Rock, Goleta Beach, Santa Barbara\",\"South Beach, Westport, Grays Harbor County\",\"Wrightsville Beach\",\"Blockhouse Beach, Brevard County\",\"Jensen Beach\",\"Monterey Bay\",\"Daytona, Volusia County\",\"St. Augustine\",\"Kekaha Beach, Kauai\",\"Georgetown County\",\"Sunset Beach, Orange County\",\"Off Jupiter\",\"Awendaw, Charleston County\",\"Middle Sambo Reef off Boca Chica, Monroe County\",\"Burkes Beach, Hilton Head, Beaufort County\",\"Singer Island, Palm Beach County\",\"South Forest Beach, Hilton Head Island, Beaufort County\",\"Kukio Beach\",\"Isle of Palms,  Charleston County\",\"Surfside Beach, Horry  County\",\"Honokowai Point, Maui\",\"Waikoloa area\",\"North Koahala, Big Island\",\"Crescent Beach, St Johns County\",\"Anaehoomalu Bay, Hawaii\",\"Off Boca Grande, Lee County\",\"Browns, Oahu\",\"Ship Bottom, Ocean County\",\"Fort Macon State Beach, Carteret County\",\"Lighhouse Point Park, Ponce Inlet, Volusia County\",\"Wilmington River, Chatham County\",\"Haulover Inlet, Miami-Dade County\",\"Moonstone Beach, South Kingstown, Washington County\",\"Off Cape Hatteras, Dare County\",\"Off Key Biscayne\",\"Makaha Beach, Oahu\",\"Napoopoo Park in Kealakekua Bay, The Big Island\",\"Cape Kiwanda, Tillamook County\",\"Sandspit Beach, Monta\\u00f1a de Oro State Park \",\"Near Patrick AFB, Brevard County\",\"Beacons Beach, San Diego County\",\"Habush, Oahu\",\"St. Simon Island, Glynn County\",\"Near the Bahia Honda Bridge, Monroe County\",\"Oceanside, San Diego County\",\"John Pennekamp Coral Reef State Park, Monroe County\",\"Trinidad Beach, Huboldt County\",\"Sailors Haven, Fire Island, Suffolk County\",\"Atlantique Beach, Fire Island, Suffolk County\",\"Crystal Beach, Galveston  County\",\"Longnook Beach, Truro, Barnstable County\",\"Rhode River, Chesapeake Bay\",\"Atlantic Beach, Carteret  County\",\"Pounders Beach, Oahu\",\"Newcomb Hollow Beach, Wellfleet, Barnstable County\",\"Humboldt County\",\"Avalon State Park Beach, North Hutchinson Island, St Lucie County\",\"Kamaole Beach Park I, Maui\",\"Mayport Naval Station Beach, Duval County\",\"Ocracoke, Lifeguard Beach, National Park Service, Hyde County\",\"3 miles off Jupiter, Palm Beach County\",\"Resident's Beach, Marco Island\",\"Kanahena Cove \",\"Off San Diego\",\"Surf City\",\"South Beach, Hunting Island State Park, Beaufort County\",\"Isle of Palms County Park, Isle of Palms, Charleston County\",\"Off Surf City, Pender County\",\"Mayport Naval Station  Duval County\",\"Edisto Beach, Colleton County\",\"Cortes Bank\",\"Murrells Inlet, Georgetown County\",\"Morro Bay, San Luis Obispo County\",\"Morro Strand State Beach, San Luis Obispo County\",\"Deer Creek Beach, Ventura County\",\"El Pescador Beach, Los Angeles County\",\"Hapuna Beach\",\"Lahaina\",\"Off Panama City\",\"Windsor Beach, Indian River County\",\"Figure Eight Island,  New Hanover County\",\"Assateague National Seashore\",\"Fletcher Beach, Hutchinson Island, Martin County\",\"Manomet Point, Plymouth, Plymouth County\",\"Katrina Cut, Dauphin Island, Mobile County\",\"Manresa State Beach, Santa Cruz County\",\"Walls Beach, Vandenberg AFB, Santa Barbara County\",\"Cherie Down Park, Brevard County\",\"Maalaea, South Maui\",\"Leadbetter Beach, Santa Barbara County\",\"North Kohala, Hawaii County\",\"Fort Pierce Inlet State Park, St. Lucie County\",\"Airplane Beach, Lahina, West Maui\",\"Indian Harbor Beach, Brevard County\",\"Monta\\u00f1a de Oro State Park, San Luis Obispo County \",\"Big Talbot Island, Duval County\",\"Gaviota State Beach, Santa Barbara County\",\"Fernandina Beach, Amelia Island, Nassau County\",\"Off Singer Island, Palm Beach County\",\"Neptune, Duval County\",\"Corona Del Mar, Newport, Orange County\",\"Pirates Beach, Galveston\",\"Kalapaki Beach, Kauai\",\"Off Palos Verdes peninsula, Los Angeles County\",\"Off Gloucester, Essec County\",\"Capitola, Santa Cruz County\",\"Surfside, Orange County\",\"Refugio State Beach, Santa Barbara County\",\"Kingston Plantation, Myrtle Beach, Horry County\",\"Makaha, Oahu\",\"Indian Beach, Ecola State Park, Clatsop County\",\"Charlie Young Beach, Kihei, Maui\",\"Hooipa Beach Park, Maui\",\"Hugenot Beach , Jacksonville, Duval County\",\"Corners Beach, Jupiter, Palm Beach County\",\"Upolu Point, North Kohala, Big Island\",\"Fort Myers Beach, Lee County\",\"Horseshoe Rock, Santa Barbara County\",\"Leftovers, Oahu\",\"Shipyard Beach Club, Hilton Head Island, Beaufort County\",\"Off Leffingwell Landing, San Luis Obispo County\",\"Lanikai Beach, Kailua, Oahu\",\"Waikiki, \",\"Deerfield Beach, Broward County\",\"Malaka, Oahu\",\"Kehena Beach, Hawaii\",\"Paradise Beach, Melbourne, Brevard County\",\"La'aloa Beach Park\",\"Off Surfside\",\"Hanalei Bay, Kauai, \",\"Vero Beach, St. Lucie County\",\"Bolsa Chica State Park, Orange County\",\"North Carolina Aquarium at Fort Fisher\",\"Indian River Inlet, Rehoboth Beach\",\"Islamorada Founder's Park, Plantation Key, Monroe County\",\"Atlantiic Beach, Duval County\",\"Ocean Beach, Jaycee Park, Vero Beach, Indian River County\",\"Sandridge Beach, Virginia Beach, Princess Anne County\",\"Frying Pan Shoals\",\"Quarter mile offshore in Kaanapali, West Maui\",\"Olowalu side of Lahina, Maui \",\"Hobe Sound Beach, Palm Beach County\",\"Atlantic Dunes Park, Delray Beach, Palm Beach County\",\"11 miles off Dog Island in the Gulf of Mexico, Franklin County\",\"South side of Ponce de Leon Inlet, Volusia County\",\"Pensacola  Beach, Escambia County\",\"Two miles off Key Colony Beach, Monroe County\",\"Grand Strand, Myrtle Beach, Horry County\",\"Fort Fisher, New Hanover County\",\"World Typhoon Lagoon, Disney Water Park, Orange County\",\"Fort Pierce Inlet, St. Lucie County\",\"South Beach Park, Indian River County\",\"Jupiter Beach, Palm Beach County\",\"Sebastian Inlet, Indian River County\",\"The Rocks, Hutchinson Island, Martin County\",\"Salmon Creek Beach, Sonoma County\",\"Sunset Beach, O'ahu\",\"In Gulf of Mexico 17 miles off Weeki Wachee \",\"Daytona Beach Shores,  Volusia County\",\" Palm Beach County\",\"Sunset Beach, Oahu\",\"East Beach, Galveston\",\"Clam Beach, near Eureka, Humboldt County\",\"Volusia County  \",\"Waiokapua Bay/Majors Bay, Brennecke Beach, Poipu, Kaua'i Island\",\"Wreck of the Navy Barge, 22 miles SE of Rudee \",\"Gleneden Beach\",\"Walden Rocks, St. Lucie County\",\"Pecks Lake, Martin County\",\"Virginia Beach\",\"North of Pidgeon Point, San Mateo County\",\"Old Kona Airport State Park\",\"Lakewood Campground, Grand Strand, Horry County\",\"South Beach, Sebastian, Indian River County\",\"St. Augustine, St. Johns County\",\"South Jacksonville Beach, Duval County\",\"Bouges Bank, Emerald Isle, Carteret County\",\"Prince William Sound\",\"Boca Ciega Bay, Tampa, Pinellas County\",\"Sebastian Inlet, Indian River or Brevard County\",\"Lake Worth Inlet/West Palm Beach, Palm Beach County\",\"Olowalu\",\"Pet Den, Satellite Beach, Brevard County\",\"Fort Pierce Inlet State Park, St Lucie County\",\"Vaughn Beach, Flagler County\",\"Bonita Springs, Lee County\",\"Bay of Fundy\",\"Sunset Cliffs, San Diego\",\"Coral Cove Park, Jupiter Island, Martin County\",\"Big Pine Key, Monroe County \",\"Oceanic Pier, Wrightsville Beach, New Hanover County\",\"Daytona  Beach, Volusia County\",\"Neptune Avenue, Ormond Beach, Volusia County\",\"Gulfstream Park beach, Palm Beach County\",\"Waddell Reef, Santa Cruz County\",\"Big Island off Kona Village Resort, North Kona\",\"Midnight Lump (38 miles offshore)\",\"Santa Rosa Sound Escambia County\",\"Municipal Beach, Riviera Beach, Palm Beach County\",\"On the south side of Ponce Inlet, Volusia County\",\"27th Avenue, New Smyrna Beach, Volusia County\",\"Seminole Avenue, Ormond Beach, Volusia County\",\"Smyrna Dunes Park, New Smyrna Beach, Volusia County\",\"Smyrna Dunes  Park, New Smyrna Beach, Volusia County\",\"Pine Island, Corolla, Currituck County\",\"Coral Cove Park, Palm Beach County\",\"Behune Beach, Volusia County\",\"Bird Rock, Tomales Point\",\"Huguenot Memorial Park, Duval County\",\"Paradise Bay (next to Wailua Bay), Maui\",\"Hamstead, Pender County\",\"Goats Island (Moku\\u2019auia Island), Malaekahana State Recreation Area, Laie, O'ahu\",\"Abalone Point, Westport Union Landing, Mendocino County\",\"Pamlico Sound\",\"Between Santa Cruz Island and Santa Barbara\",\"Little Talbot Island, Jacksonville, Duval County\",\"Mouth of Wallua River, Kaua'i\",\"Bayshore Garden, Sarasota Bay, Sarasota County\",\"Goat Rock, Bodega Bay, Sonoma County?\",\"Treasure Shores Beach, Indian River County\",\"\\\"Bunkers\\\" Eureka, Humboldt County\",\"Horners, Wailua, Kaua'i\",\"North Beach Jetty, St Lucie County\",\"Waipo\",\"Velzyland, north shore of O'ahu\",\"Bastendorf Beach, Coos County\",\"Honomuni, Moloka'i\",\"Chun's Reef, Laniakea, O'ahu\",\"Winchester Bay, Douglas County\",\"Wreck of the U-352 \",\"Manasota Beach, Sarasota County\",\"Wai'anae, O'ahu\",\"Manalapan, Palm Beach County\",\"Twin Arches, Hana Ranch, Maui\",\"St Lucie County\",\"Gold Beach, Curry County\",\"Castle Rock, San Miguel Island, Santa Barbara County\",\"Kea'au Beach Park, O'ahu\",\"North Jetty Park, Fort Pierce, St Lucie County\",\"San Nicholas Island, Santa Barbara County\",\"Ano Nuevo, San Mateo County\",\"Kailua Bay\",\"Miami Beach, Dade County\",\"Sunset Cliffs, San Diego, San Diego County\",\"Cape Lookout Bight\",\"Shelter Cove, Humboldt County\",\"Matanzas Bay Inlet, St. Johns County\",\"North Beach, Hutchinson Island, St. Lucie County\",\"Crescent Beach, St. Augustine, St. Johns County\",\"Ha'ena, Kaua'i\",\"Southwest of O'ahu\",\"Ka\\u2019eleki\\u2019I Point, Maui\",\"St. Louis\",\"La'ie Point, O'ahu\",\"Shark Shallows, Ponce Inlet, Volusia County\",\"Public Beach, Siesta Key, Sarasota County\",\"Nakalele Point, Maui\",\"Truro (Cape Cod), Barnstable County\",\"Wiggins Pass, Collier County\",\"North Beach Inlet, St. Lucie County\",\"Ocean Lakes Campground, south of Myrtle Beach, Horry County\",\"Spessard Holland Park, Melbourne Beach, Brevard County\",\"Carmel, Monterey County\",\"3 miles east of Jacksonville Beach, Duval County\",\" Daytona Beach, Volusia County\",\"Makaha Surf Beach\",\"Short Sand Beach, Oswald West State Park\",\"North Forest Beach, near Hilton Head, Beaufort County\",\"Bill Baggs Cape Florida State Recreation Area, Miami-Dade County\",\"Off the Hanalei River, Kaua'i\",\"Kinikini, Mana, Kaua'i\",\"Carolina Beach\",\"Opposite Grand Wailea Resort, Wailea, Maui\",\"LaJolla Shores, San Diego County\",\"Bluefish Cove, Pt. Lobos State Park, Monterey County\",\"Off 29th Avenue, Myrtle Beach, Horry County\",\"Cat Island, Harrison County\",\"Port Aransas\",\"Sandy Beach, Oahu\",\"Ewa Beach, O'ahu\",\"Waveland Beach, Hutchinson Island, St Lucie County\",\"Scripps, LaJolla, San Diego County\",\"Port Bolivar, Galveston County\",\"Quarter mile south of Ponce de Leon Inlet, Volusia County\",\"Off Zelda Boulevard, Daytona Beach, Volusia Countyy\",\"Carolina Beach off Texas Avenue, New Hanover County\",\"34th Avenue North, Myrtle Beach, Horry County\",\"6th Avenue North, Myrtle Beach, Horry County\",\"Tigertail Beach, Collier County\",\"Big Bayou, St. Petersburg, Pinellas County \",\"Salmon Beach, Sonoma County\",\"Klamath River mouth, Del Norte County\",\"Ocean Beach, San Francisco, San Francisco County\",\"Tillamook Head, Clatsop County\",\"Marco Island, Collier County\",\"Port of the Islands, Collier County\",\"Destin, Walton County\",\"Howard E. Futch Memorial Park at Paradise Beach, Brevard County\",\"Surf City, Long Beach Island, Ocean County\",\"Sand Key Beach, Clearwater, Pinellas County\",\"204s, San Clemente, Orange County\",\"New Smyrna Beach / Cape Canaveral  National Seashore, Brevard County\",\"North of Apache Pier, Myrtle Beach, Horry County\",\"Gold  Beach\",\"Lifeguard Tower 16, Huntington Beach, Orange County\",\"Limantour Beach, Point Reyes National Seashore\",\"Rocky Point, north shore of O'ahu\",\"Long Key, Monroe County\",\"Albuquerue Aquarium, Albuquerue\",\"Isla Blanca Park, South Padre Island, Cameron County\",\"Central Gulf Coast, St. John County\",\"Crescent Beach, Sarasota County\",\"Off Sullivans Island\",\"North Kihei, Maui\",\"Alligator Reef off Islamorada, Monroe County\",\"Gun Beach\",\"North Shore, O'ahu\",\"100 miles off Ft. Myers Beach\",\"Normandy Beach, Hutchinson Island,  St. Lucie County\",\"Naples\",\"Virginia Aquarium & Marine Science Center, Virginia Beach \",\"Garden City\",\"Silva's Channel, Mokuleia, O'ahu\",\"Will Rogers State Beach, Los Angeles County\",\"Marques Island\",\"Atlantic Beach, Carteret County\",\"Faria Beach, Ventura County\",\"North Topsail Beach, Onslow  County\",\"Bellows Beach near Wailea Point, O\\u2019ahu\",\"Bean Hollow State Beach, San Mateo County\",\"Islamorada, Monroe County\",\"Ponce Inlet,  New Smyrna Beach, Volusia County\",\"Sarasota Bay\",\"Waveland Beach, Hutchinson Island, St. Lucie County\",\"Smith Point, Long Island\",\"French Frigate Shoals\",\"Majors Bay, Kaua'i\",\"O'ahu\",\"Monterey, Monterey County\",\"Fort Myers\",\"Debordieu Beach, Georgetown County\",\"Singleton Beach, Hilton Head Island, Beaufort County\",\"Broad Beach, Malibu, Los Angeles County\",\"Oswald State Park\",\"Newport Aquarium, Newport\",\"Florence, Lane County\",\"Singer Island, Riviera Beach\",\"Onslow Beach\",\"Off Key Largo, Monroe County\",\"Isla Blanca Park, South Padre Island\",\"Sebastian Inlet\",\"Siletz River mouth, Lincoln County\",\"Kibesillah, Mendocino County\",\"Cocoa  Beach, Brevard County\",\"Off 21st Avenue, Isle of Palms, Charleston County\",\"a pier at the end of Caxambas Drive, Marco Island \",\"Kapalua, Maui\",\"Deerfield Beach (near Boca Raton), Broward County\",\"Brenecke Beach, Po'ipu, Kaua'i\",\"Lauderdale-By-The-Sea, Broward County\",\"St. Augustine Beach, St. Johns County\",\"Ten Thousand Islands National Wildlife Refuge, Collier County\",\"Atlantic Avenue, Palm Beach County\",\"St. George Island (near Apachicola), Franklin County\",\"Bryan Beach, Brazoria County\",\"Anini Beach, Kaua'i\",\"100 miles off Ocean City, Maryland, in 7000' of water\",\"Topsail Beach, Pender County\",\"Ponce De Leon Inlet, Volusia County\",\"Gulf of Mexico, 65 miles offshore from Mobile\",\"Kewalo Basin Channel, O'ahu\",\"Hideaways Beach, Princeville, Kaua'i\",\"2 miles off Pompano Beach, Broward County\",\"A quarter mile north of Fort Pierce Inlet\",\"Everglades National Park, Monroe County\",\"Key Biscayne, Dade County\",\"Catalina Island\",\"Padre Island National Seashore\",\"Isle of Palms, Charleston County \",\"Gulf Islands National Seashore\",\"Santa Rosa Island, Escambia County\",\"Chatham Island\",\"Marathon , Monroe County\",\"Taverniier, Monroe County\",\"Near 70th Avenue, Myrtle Beach, Horry County\",\"Wilbur-by-the-Sea, Volusia County\",\"Daytona, Volusia County \",\"Coquina Beach, Anna Maria Island, Manatee County\",\"Sandbridge Beach, Princess Anne County\",\"Mayport Naval Station, Jacksonville, Duval Country\",\"Waites Island, Horry County\",\"Cape Kiwanda\",\"Key Largo, Monroe County\",\"Opposite main gate at Patrick Air Force Base, Cape Canaveral, Brevard County\",\"Cove Beach / Kalama Beach, Kihei, Maui\",\"Stuart Park Beach, Martin County\",\"Palm Beach?\",\"Near Patrick Air Force Base Brevard County\",\"Honolua Bay\",\"Tunnels surf break off Makua Beach, Kaua'i\",\"Miami, Dade County\",\"Kalihiwai Beach, Kauai\",\"Punaluu\",\"Stuart Rocks, Martin County\",\"Velzyland\",\"Channel between South Padre Island & Padre Island National Seashore\",\"St. Augustine  St. Johns County\",\"Pirate's Beach, Galveston Island\",\"Disney / Vero Beach, Indian River County\",\"Gulf Shores Beach, Baldwin County\",\"Crawford Road beach approach at New Smyrna Beach, Volusia County\",\"North Hutchinson Island, St. Lucie Couny\",\"Kama'ole Beach Park I, Kihei, Maui\",\"Bathtub Reef Beach, Martin County\",\"Ka'anapali\",\"North Beach, Patrick AFB, Brevard County\",\"New Smyrna Beach, Volusia County  \",\"Sunglow Pier, Daytona Beach Shores, Volusia County\",\"Shepard Park, Cocoa Beach, Brevard County \",\"Melbourne Beach, Brevard County \",\"Coral Cove Park, Jupiter Inlet, Palm Beach County\",\"Makua Beach, Oahu\",\"St Augustine Beach. St. Johns County\",\"Canova Beach, Brevard County\",\"Near New Smyrna Jetty, Volusia County\",\"Avila Beach, San Luis Obispo County\",\"1.5 miles off Surfside \",\"Ocracoke Inlet\"]}}},\"fill_color\":{\"type\":\"field\",\"field\":\"color\",\"transform\":{\"id\":\"p1081\"}},\"hatch_color\":{\"type\":\"field\",\"field\":\"color\",\"transform\":{\"id\":\"p1081\"}}}},\"selection_glyph\":{\"type\":\"object\",\"name\":\"Scatter\",\"id\":\"p1090\",\"attributes\":{\"tags\":[\"apply_ranges\"],\"x\":{\"type\":\"field\",\"field\":\"longitude\"},\"y\":{\"type\":\"field\",\"field\":\"latitude\"},\"size\":{\"type\":\"value\",\"value\":5.477225575051661},\"line_color\":{\"type\":\"field\",\"field\":\"color\",\"transform\":{\"id\":\"p1081\"}},\"fill_color\":{\"type\":\"field\",\"field\":\"color\",\"transform\":{\"id\":\"p1081\"}},\"hatch_color\":{\"type\":\"field\",\"field\":\"color\",\"transform\":{\"id\":\"p1081\"}}}},\"nonselection_glyph\":{\"type\":\"object\",\"name\":\"Scatter\",\"id\":\"p1089\",\"attributes\":{\"tags\":[\"apply_ranges\"],\"x\":{\"type\":\"field\",\"field\":\"longitude\"},\"y\":{\"type\":\"field\",\"field\":\"latitude\"},\"size\":{\"type\":\"value\",\"value\":5.477225575051661},\"line_color\":{\"type\":\"field\",\"field\":\"color\",\"transform\":{\"id\":\"p1081\"}},\"line_alpha\":{\"type\":\"value\",\"value\":0.1},\"fill_color\":{\"type\":\"field\",\"field\":\"color\",\"transform\":{\"id\":\"p1081\"}},\"fill_alpha\":{\"type\":\"value\",\"value\":0.1},\"hatch_color\":{\"type\":\"field\",\"field\":\"color\",\"transform\":{\"id\":\"p1081\"}},\"hatch_alpha\":{\"type\":\"value\",\"value\":0.1}}},\"hover_glyph\":{\"type\":\"object\",\"name\":\"Scatter\",\"id\":\"p1091\",\"attributes\":{\"tags\":[\"apply_ranges\"],\"x\":{\"type\":\"field\",\"field\":\"longitude\"},\"y\":{\"type\":\"field\",\"field\":\"latitude\"},\"size\":{\"type\":\"value\",\"value\":5.477225575051661},\"line_color\":{\"type\":\"field\",\"field\":\"color\",\"transform\":{\"id\":\"p1081\"}},\"fill_color\":{\"type\":\"field\",\"field\":\"color\",\"transform\":{\"id\":\"p1081\"}},\"hatch_color\":{\"type\":\"field\",\"field\":\"color\",\"transform\":{\"id\":\"p1081\"}}}},\"muted_glyph\":{\"type\":\"object\",\"name\":\"Scatter\",\"id\":\"p1092\",\"attributes\":{\"tags\":[\"apply_ranges\"],\"x\":{\"type\":\"field\",\"field\":\"longitude\"},\"y\":{\"type\":\"field\",\"field\":\"latitude\"},\"size\":{\"type\":\"value\",\"value\":5.477225575051661},\"line_color\":{\"type\":\"field\",\"field\":\"color\",\"transform\":{\"id\":\"p1081\"}},\"line_alpha\":{\"type\":\"value\",\"value\":0.2},\"fill_color\":{\"type\":\"field\",\"field\":\"color\",\"transform\":{\"id\":\"p1081\"}},\"fill_alpha\":{\"type\":\"value\",\"value\":0.2},\"hatch_color\":{\"type\":\"field\",\"field\":\"color\",\"transform\":{\"id\":\"p1081\"}},\"hatch_alpha\":{\"type\":\"value\",\"value\":0.2}}}}}],\"toolbar\":{\"type\":\"object\",\"name\":\"Toolbar\",\"id\":\"p1053\",\"attributes\":{\"tools\":[{\"type\":\"object\",\"name\":\"WheelZoomTool\",\"id\":\"p1029\",\"attributes\":{\"renderers\":\"auto\",\"zoom_on_axis\":false}},{\"type\":\"object\",\"name\":\"BoxZoomTool\",\"id\":\"p1030\",\"attributes\":{\"overlay\":{\"type\":\"object\",\"name\":\"BoxAnnotation\",\"id\":\"p1006\",\"attributes\":{\"syncable\":false,\"level\":\"overlay\",\"visible\":false,\"left\":{\"type\":\"number\",\"value\":\"nan\"},\"right\":{\"type\":\"number\",\"value\":\"nan\"},\"top\":{\"type\":\"number\",\"value\":\"nan\"},\"bottom\":{\"type\":\"number\",\"value\":\"nan\"},\"left_units\":\"canvas\",\"right_units\":\"canvas\",\"top_units\":\"canvas\",\"bottom_units\":\"canvas\",\"line_color\":\"black\",\"line_alpha\":1.0,\"line_width\":2,\"line_dash\":[4,4],\"fill_color\":\"lightgrey\",\"fill_alpha\":0.5}},\"match_aspect\":true}},{\"type\":\"object\",\"name\":\"HoverTool\",\"id\":\"p1043\",\"attributes\":{\"tags\":[\"hv_created\"],\"renderers\":[{\"id\":\"p1093\"}],\"tooltips\":[[\"longitude\",\"$x{custom}\"],[\"latitude\",\"$y{custom}\"],[\"location\",\"@{location}\"]],\"formatters\":{\"type\":\"map\",\"entries\":[[\"$x\",{\"type\":\"object\",\"name\":\"CustomJSHover\",\"id\":\"p1098\",\"attributes\":{\"code\":\"\\n        const projections = Bokeh.require(\\\"core/util/projections\\\");\\n        const {snap_x, snap_y} = special_vars\\n        const coords = projections.wgs84_mercator.invert(snap_x, snap_y)\\n        return \\\"\\\" + (coords[0]).toFixed(4)\\n    \"}}],[\"$y\",{\"type\":\"object\",\"name\":\"CustomJSHover\",\"id\":\"p1099\",\"attributes\":{\"code\":\"\\n        const projections = Bokeh.require(\\\"core/util/projections\\\");\\n        const {snap_x, snap_y} = special_vars\\n        const coords = projections.wgs84_mercator.invert(snap_x, snap_y)\\n        return \\\"\\\" + (coords[1]).toFixed(4)\\n    \"}}]]}}},{\"type\":\"object\",\"name\":\"PanTool\",\"id\":\"p1067\"},{\"type\":\"object\",\"name\":\"ResetTool\",\"id\":\"p1068\"}],\"active_drag\":{\"id\":\"p1067\"}}},\"left\":[{\"type\":\"object\",\"name\":\"LinearAxis\",\"id\":\"p1061\",\"attributes\":{\"ticker\":{\"type\":\"object\",\"name\":\"MercatorTicker\",\"id\":\"p1071\",\"attributes\":{\"mantissas\":[1,2,5],\"dimension\":\"lat\"}},\"formatter\":{\"type\":\"object\",\"name\":\"MercatorTickFormatter\",\"id\":\"p1072\",\"attributes\":{\"dimension\":\"lat\"}},\"axis_label\":\"Latitude\",\"major_label_policy\":{\"type\":\"object\",\"name\":\"AllLabels\",\"id\":\"p1064\"}}}],\"right\":[{\"type\":\"object\",\"name\":\"Legend\",\"id\":\"p1096\",\"attributes\":{\"location\":[0,0],\"click_policy\":\"mute\",\"items\":[{\"type\":\"object\",\"name\":\"LegendItem\",\"id\":\"p1097\",\"attributes\":{\"label\":{\"type\":\"field\",\"field\":\"color\"},\"renderers\":[{\"id\":\"p1093\"}]}}]}}],\"below\":[{\"type\":\"object\",\"name\":\"LinearAxis\",\"id\":\"p1056\",\"attributes\":{\"ticker\":{\"type\":\"object\",\"name\":\"MercatorTicker\",\"id\":\"p1069\",\"attributes\":{\"mantissas\":[1,2,5],\"dimension\":\"lon\"}},\"formatter\":{\"type\":\"object\",\"name\":\"MercatorTickFormatter\",\"id\":\"p1070\",\"attributes\":{\"dimension\":\"lon\"}},\"axis_label\":\"Longitude\",\"major_label_policy\":{\"type\":\"object\",\"name\":\"AllLabels\",\"id\":\"p1059\"}}}],\"center\":[{\"type\":\"object\",\"name\":\"Grid\",\"id\":\"p1060\",\"attributes\":{\"axis\":{\"id\":\"p1056\"},\"grid_line_color\":null}},{\"type\":\"object\",\"name\":\"Grid\",\"id\":\"p1065\",\"attributes\":{\"dimension\":1,\"axis\":{\"id\":\"p1061\"},\"grid_line_color\":null}}],\"frame_width\":700,\"frame_height\":500,\"min_border_top\":10,\"min_border_bottom\":10,\"min_border_left\":10,\"min_border_right\":10,\"output_backend\":\"webgl\",\"match_aspect\":true}},{\"type\":\"object\",\"name\":\"Spacer\",\"id\":\"p1101\",\"attributes\":{\"name\":\"HSpacer01696\",\"stylesheets\":[\"\\n:host(.pn-loading):before, .pn-loading:before {\\n  background-color: #c3c3c3;\\n  mask-size: auto calc(min(50%, 400px));\\n  -webkit-mask-size: auto calc(min(50%, 400px));\\n}\",{\"id\":\"p1014\"},{\"id\":\"p1012\"},{\"id\":\"p1013\"}],\"margin\":0,\"sizing_mode\":\"stretch_width\",\"align\":\"start\"}}]}}],\"defs\":[{\"type\":\"model\",\"name\":\"ReactiveHTML1\"},{\"type\":\"model\",\"name\":\"FlexBox1\",\"properties\":[{\"name\":\"align_content\",\"kind\":\"Any\",\"default\":\"flex-start\"},{\"name\":\"align_items\",\"kind\":\"Any\",\"default\":\"flex-start\"},{\"name\":\"flex_direction\",\"kind\":\"Any\",\"default\":\"row\"},{\"name\":\"flex_wrap\",\"kind\":\"Any\",\"default\":\"wrap\"},{\"name\":\"gap\",\"kind\":\"Any\",\"default\":\"\"},{\"name\":\"justify_content\",\"kind\":\"Any\",\"default\":\"flex-start\"}]},{\"type\":\"model\",\"name\":\"FloatPanel1\",\"properties\":[{\"name\":\"config\",\"kind\":\"Any\",\"default\":{\"type\":\"map\"}},{\"name\":\"contained\",\"kind\":\"Any\",\"default\":true},{\"name\":\"position\",\"kind\":\"Any\",\"default\":\"right-top\"},{\"name\":\"offsetx\",\"kind\":\"Any\",\"default\":null},{\"name\":\"offsety\",\"kind\":\"Any\",\"default\":null},{\"name\":\"theme\",\"kind\":\"Any\",\"default\":\"primary\"},{\"name\":\"status\",\"kind\":\"Any\",\"default\":\"normalized\"}]},{\"type\":\"model\",\"name\":\"GridStack1\",\"properties\":[{\"name\":\"mode\",\"kind\":\"Any\",\"default\":\"warn\"},{\"name\":\"ncols\",\"kind\":\"Any\",\"default\":null},{\"name\":\"nrows\",\"kind\":\"Any\",\"default\":null},{\"name\":\"allow_resize\",\"kind\":\"Any\",\"default\":true},{\"name\":\"allow_drag\",\"kind\":\"Any\",\"default\":true},{\"name\":\"state\",\"kind\":\"Any\",\"default\":[]}]},{\"type\":\"model\",\"name\":\"drag1\",\"properties\":[{\"name\":\"slider_width\",\"kind\":\"Any\",\"default\":5},{\"name\":\"slider_color\",\"kind\":\"Any\",\"default\":\"black\"},{\"name\":\"value\",\"kind\":\"Any\",\"default\":50}]},{\"type\":\"model\",\"name\":\"click1\",\"properties\":[{\"name\":\"terminal_output\",\"kind\":\"Any\",\"default\":\"\"},{\"name\":\"debug_name\",\"kind\":\"Any\",\"default\":\"\"},{\"name\":\"clears\",\"kind\":\"Any\",\"default\":0}]},{\"type\":\"model\",\"name\":\"FastWrapper1\",\"properties\":[{\"name\":\"object\",\"kind\":\"Any\",\"default\":null},{\"name\":\"style\",\"kind\":\"Any\",\"default\":null}]},{\"type\":\"model\",\"name\":\"NotificationAreaBase1\",\"properties\":[{\"name\":\"js_events\",\"kind\":\"Any\",\"default\":{\"type\":\"map\"}},{\"name\":\"position\",\"kind\":\"Any\",\"default\":\"bottom-right\"},{\"name\":\"_clear\",\"kind\":\"Any\",\"default\":0}]},{\"type\":\"model\",\"name\":\"NotificationArea1\",\"properties\":[{\"name\":\"js_events\",\"kind\":\"Any\",\"default\":{\"type\":\"map\"}},{\"name\":\"notifications\",\"kind\":\"Any\",\"default\":[]},{\"name\":\"position\",\"kind\":\"Any\",\"default\":\"bottom-right\"},{\"name\":\"_clear\",\"kind\":\"Any\",\"default\":0},{\"name\":\"types\",\"kind\":\"Any\",\"default\":[{\"type\":\"map\",\"entries\":[[\"type\",\"warning\"],[\"background\",\"#ffc107\"],[\"icon\",{\"type\":\"map\",\"entries\":[[\"className\",\"fas fa-exclamation-triangle\"],[\"tagName\",\"i\"],[\"color\",\"white\"]]}]]},{\"type\":\"map\",\"entries\":[[\"type\",\"info\"],[\"background\",\"#007bff\"],[\"icon\",{\"type\":\"map\",\"entries\":[[\"className\",\"fas fa-info-circle\"],[\"tagName\",\"i\"],[\"color\",\"white\"]]}]]}]}]},{\"type\":\"model\",\"name\":\"Notification\",\"properties\":[{\"name\":\"background\",\"kind\":\"Any\",\"default\":null},{\"name\":\"duration\",\"kind\":\"Any\",\"default\":3000},{\"name\":\"icon\",\"kind\":\"Any\",\"default\":null},{\"name\":\"message\",\"kind\":\"Any\",\"default\":\"\"},{\"name\":\"notification_type\",\"kind\":\"Any\",\"default\":null},{\"name\":\"_destroyed\",\"kind\":\"Any\",\"default\":false}]},{\"type\":\"model\",\"name\":\"TemplateActions1\",\"properties\":[{\"name\":\"open_modal\",\"kind\":\"Any\",\"default\":0},{\"name\":\"close_modal\",\"kind\":\"Any\",\"default\":0}]},{\"type\":\"model\",\"name\":\"BootstrapTemplateActions1\",\"properties\":[{\"name\":\"open_modal\",\"kind\":\"Any\",\"default\":0},{\"name\":\"close_modal\",\"kind\":\"Any\",\"default\":0}]},{\"type\":\"model\",\"name\":\"TemplateEditor1\",\"properties\":[{\"name\":\"layout\",\"kind\":\"Any\",\"default\":[]}]},{\"type\":\"model\",\"name\":\"MaterialTemplateActions1\",\"properties\":[{\"name\":\"open_modal\",\"kind\":\"Any\",\"default\":0},{\"name\":\"close_modal\",\"kind\":\"Any\",\"default\":0}]},{\"type\":\"model\",\"name\":\"copy_to_clipboard1\",\"properties\":[{\"name\":\"fill\",\"kind\":\"Any\",\"default\":\"none\"},{\"name\":\"value\",\"kind\":\"Any\",\"default\":null}]}]}};\n",
       "  var render_items = [{\"docid\":\"d4455903-75f6-47fb-be5d-37d36a98b062\",\"roots\":{\"p1011\":\"c8fde6db-010c-44a4-9572-eb9953250acf\"},\"root_ids\":[\"p1011\"]}];\n",
       "  var docs = Object.values(docs_json)\n",
       "  if (!docs) {\n",
       "    return\n",
       "  }\n",
       "  const py_version = docs[0].version.replace('rc', '-rc.').replace('.dev', '-dev.')\n",
       "  function embed_document(root) {\n",
       "    var Bokeh = get_bokeh(root)\n",
       "    Bokeh.embed.embed_items_notebook(docs_json, render_items);\n",
       "    for (const render_item of render_items) {\n",
       "      for (const root_id of render_item.root_ids) {\n",
       "\tconst id_el = document.getElementById(root_id)\n",
       "\tif (id_el.children.length && (id_el.children[0].className === 'bk-root')) {\n",
       "\t  const root_el = id_el.children[0]\n",
       "\t  root_el.id = root_el.id + '-rendered'\n",
       "\t}\n",
       "      }\n",
       "    }\n",
       "  }\n",
       "  function get_bokeh(root) {\n",
       "    if (root.Bokeh === undefined) {\n",
       "      return null\n",
       "    } else if (root.Bokeh.version !== py_version) {\n",
       "      if (root.Bokeh.versions === undefined || !root.Bokeh.versions.has(py_version)) {\n",
       "\treturn null\n",
       "      }\n",
       "      return root.Bokeh.versions.get(py_version);\n",
       "    } else if (root.Bokeh.version === py_version) {\n",
       "      return root.Bokeh\n",
       "    }\n",
       "    return null\n",
       "  }\n",
       "  function is_loaded(root) {\n",
       "    var Bokeh = get_bokeh(root)\n",
       "    return (Bokeh != null && Bokeh.Panel !== undefined)\n",
       "  }\n",
       "  if (is_loaded(root)) {\n",
       "    embed_document(root);\n",
       "  } else {\n",
       "    var attempts = 0;\n",
       "    var timer = setInterval(function(root) {\n",
       "      if (is_loaded(root)) {\n",
       "        clearInterval(timer);\n",
       "        embed_document(root);\n",
       "      } else if (document.readyState == \"complete\") {\n",
       "        attempts++;\n",
       "        if (attempts > 200) {\n",
       "          clearInterval(timer);\n",
       "\t  var Bokeh = get_bokeh(root)\n",
       "\t  if (Bokeh == null || Bokeh.Panel == null) {\n",
       "            console.warn(\"Panel: ERROR: Unable to run Panel code because Bokeh or Panel library is missing\");\n",
       "\t  } else {\n",
       "\t    console.warn(\"Panel: WARNING: Attempting to render but not all required libraries could be resolved.\")\n",
       "\t    embed_document(root)\n",
       "\t  }\n",
       "        }\n",
       "      }\n",
       "    }, 25, root)\n",
       "  }\n",
       "})(window);</script>"
      ],
      "text/plain": [
       ":Overlay\n",
       "   .WMTS.I   :WMTS   [Longitude,Latitude]\n",
       "   .Points.I :Points   [longitude,latitude]   (location)"
      ]
     },
     "execution_count": 40,
     "metadata": {
      "application/vnd.holoviews_exec.v0+json": {
       "id": "p1011"
      }
     },
     "output_type": "execute_result"
    }
   ],
   "source": [
    "%%capture --no-display\n",
    "\n",
    "# Configure the map plot\n",
    "shark_attack = shark_unique_df[[\"location\", \"latitude\", \"longitude\"]]\n",
    "\n",
    "# Configure the map plot\n",
    "shark_map = shark_attack.hvplot.points(\n",
    "    x=\"latitude\",\n",
    "    y=\"longitude\",\n",
    "    geo=True,\n",
    "    tiles=\"OSM\",\n",
    "    color = \"location\",\n",
    "    frame_width = 700,\n",
    "    frame_height = 500\n",
    ")\n",
    "\n",
    "# Display the map\n",
    "shark_map"
   ]
  },
  {
   "cell_type": "markdown",
   "metadata": {},
   "source": [
    "### Save Shark Attacks dataframe into CSV file in the Resources directory"
   ]
  },
  {
   "cell_type": "code",
   "execution_count": 41,
   "metadata": {},
   "outputs": [],
   "source": [
    "shark_data_north_america_df.to_csv(\"Resources/shark_attacks_clean_data.csv\", index=False)\n",
    "shark_unique_df.to_csv(\"Resources/shark_unique_locations.csv\", index=False)"
   ]
  },
  {
   "cell_type": "code",
   "execution_count": null,
   "metadata": {},
   "outputs": [],
   "source": []
  }
 ],
 "metadata": {
  "kernelspec": {
   "display_name": "dev",
   "language": "python",
   "name": "python3"
  },
  "language_info": {
   "codemirror_mode": {
    "name": "ipython",
    "version": 3
   },
   "file_extension": ".py",
   "mimetype": "text/x-python",
   "name": "python",
   "nbconvert_exporter": "python",
   "pygments_lexer": "ipython3",
   "version": "3.10.14"
  }
 },
 "nbformat": 4,
 "nbformat_minor": 2
}
