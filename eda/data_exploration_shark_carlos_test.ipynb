{
 "cells": [
  {
   "cell_type": "code",
   "execution_count": 52,
   "metadata": {},
   "outputs": [],
   "source": [
    "# Import dependencies\n",
    "import pandas as pd\n",
    "import numpy as np\n",
    "import json\n",
    "\n",
    "from config import GEOAPIFY_API\n",
    "import requests\n",
    "import pprint\n",
    "import time\n",
    "import hvplot.pandas\n",
    "import holoviews as hv\n",
    "\n",
    "pd.set_option('max_colwidth', 400)"
   ]
  },
  {
   "cell_type": "markdown",
   "metadata": {},
   "source": [
    "### Shark Attacks data retrieval"
   ]
  },
  {
   "cell_type": "code",
   "execution_count": 2,
   "metadata": {},
   "outputs": [
    {
     "data": {
      "text/html": [
       "<div>\n",
       "<style scoped>\n",
       "    .dataframe tbody tr th:only-of-type {\n",
       "        vertical-align: middle;\n",
       "    }\n",
       "\n",
       "    .dataframe tbody tr th {\n",
       "        vertical-align: top;\n",
       "    }\n",
       "\n",
       "    .dataframe thead th {\n",
       "        text-align: right;\n",
       "    }\n",
       "</style>\n",
       "<table border=\"1\" class=\"dataframe\">\n",
       "  <thead>\n",
       "    <tr style=\"text-align: right;\">\n",
       "      <th></th>\n",
       "      <th>Case Number</th>\n",
       "      <th>Date</th>\n",
       "      <th>Year</th>\n",
       "      <th>Type</th>\n",
       "      <th>Country</th>\n",
       "      <th>Area</th>\n",
       "      <th>Location</th>\n",
       "      <th>Activity</th>\n",
       "      <th>Name</th>\n",
       "      <th>Sex</th>\n",
       "      <th>...</th>\n",
       "      <th>Species</th>\n",
       "      <th>Investigator or Source</th>\n",
       "      <th>pdf</th>\n",
       "      <th>href formula</th>\n",
       "      <th>href</th>\n",
       "      <th>Case Number.1</th>\n",
       "      <th>Case Number.2</th>\n",
       "      <th>original order</th>\n",
       "      <th>Unnamed: 22</th>\n",
       "      <th>Unnamed: 23</th>\n",
       "    </tr>\n",
       "  </thead>\n",
       "  <tbody>\n",
       "    <tr>\n",
       "      <th>0</th>\n",
       "      <td>2019.08.27</td>\n",
       "      <td>27-Aug-2019</td>\n",
       "      <td>2019.0</td>\n",
       "      <td>Provoked</td>\n",
       "      <td>USA</td>\n",
       "      <td>Florida</td>\n",
       "      <td>New Smyrna Beach, Volusia County</td>\n",
       "      <td>Surfing</td>\n",
       "      <td>Donald Walsh</td>\n",
       "      <td>M</td>\n",
       "      <td>...</td>\n",
       "      <td>6.5' shark</td>\n",
       "      <td>K. McMurray, TrackingSharks.com</td>\n",
       "      <td>2019.08.27-Walsh.pdf</td>\n",
       "      <td>http://sharkattackfile.net/spreadsheets/pdf_directory/2019.08.27-Walsh.pdf</td>\n",
       "      <td>http://sharkattackfile.net/spreadsheets/pdf_directory/2019.08.27-Walsh.pdf</td>\n",
       "      <td>2019.08.27</td>\n",
       "      <td>2019.08.27</td>\n",
       "      <td>6452.0</td>\n",
       "      <td>NaN</td>\n",
       "      <td>NaN</td>\n",
       "    </tr>\n",
       "    <tr>\n",
       "      <th>1</th>\n",
       "      <td>2019.08.21</td>\n",
       "      <td>21-Aug-2019</td>\n",
       "      <td>2019.0</td>\n",
       "      <td>Unprovoked</td>\n",
       "      <td>USA</td>\n",
       "      <td>Florida</td>\n",
       "      <td>Fort Lauderdale, Broward County</td>\n",
       "      <td>Wading</td>\n",
       "      <td>Christian Mariani</td>\n",
       "      <td>M</td>\n",
       "      <td>...</td>\n",
       "      <td>NaN</td>\n",
       "      <td>K. McMurray, TrackingSharks.com</td>\n",
       "      <td>2019.08.21-Mariani.pdf</td>\n",
       "      <td>http://sharkattackfile.net/spreadsheets/pdf_directory/2019.08.21-Mariani.pdf</td>\n",
       "      <td>http://sharkattackfile.net/spreadsheets/pdf_directory/2019.08.21-Mariani.pdf</td>\n",
       "      <td>2019.08.21</td>\n",
       "      <td>2019.08.21</td>\n",
       "      <td>6451.0</td>\n",
       "      <td>NaN</td>\n",
       "      <td>NaN</td>\n",
       "    </tr>\n",
       "    <tr>\n",
       "      <th>2</th>\n",
       "      <td>2019.08.20</td>\n",
       "      <td>20-Aug-2019</td>\n",
       "      <td>2019.0</td>\n",
       "      <td>Unprovoked</td>\n",
       "      <td>USA</td>\n",
       "      <td>Hawaii</td>\n",
       "      <td>Napoopoo Park in Kealakekua Bay, The Big Island</td>\n",
       "      <td>Swimming</td>\n",
       "      <td>female</td>\n",
       "      <td>F</td>\n",
       "      <td>...</td>\n",
       "      <td>NaN</td>\n",
       "      <td>Hawaii News Now, 8/20/2019</td>\n",
       "      <td>2019.08.20-Hawaii.pdf</td>\n",
       "      <td>http://sharkattackfile.net/spreadsheets/pdf_directory/2019.08.20-Hawaii.pdf</td>\n",
       "      <td>http://sharkattackfile.net/spreadsheets/pdf_directory/2019.08.20-Hawaii.pdf</td>\n",
       "      <td>2019.08.20</td>\n",
       "      <td>2019.08.20</td>\n",
       "      <td>6450.0</td>\n",
       "      <td>NaN</td>\n",
       "      <td>NaN</td>\n",
       "    </tr>\n",
       "    <tr>\n",
       "      <th>3</th>\n",
       "      <td>2019.08.16</td>\n",
       "      <td>16-Aug-2019</td>\n",
       "      <td>2019.0</td>\n",
       "      <td>Unprovoked</td>\n",
       "      <td>USA</td>\n",
       "      <td>Florida</td>\n",
       "      <td>New Smyrna Beach, Volusia County</td>\n",
       "      <td>Wading</td>\n",
       "      <td>Maggie Crum</td>\n",
       "      <td>M</td>\n",
       "      <td>...</td>\n",
       "      <td>NaN</td>\n",
       "      <td>WESH, 8/16/2019</td>\n",
       "      <td>2019.08.16-Crum.pdf</td>\n",
       "      <td>http://sharkattackfile.net/spreadsheets/pdf_directory/2019.08.16-Crum.pdf</td>\n",
       "      <td>http://sharkattackfile.net/spreadsheets/pdf_directory/2019.08.16-Crum.pdf</td>\n",
       "      <td>2019.08.16</td>\n",
       "      <td>2019.08.16</td>\n",
       "      <td>6449.0</td>\n",
       "      <td>NaN</td>\n",
       "      <td>NaN</td>\n",
       "    </tr>\n",
       "    <tr>\n",
       "      <th>4</th>\n",
       "      <td>2019.08.11</td>\n",
       "      <td>11-Aug-2019</td>\n",
       "      <td>2019.0</td>\n",
       "      <td>Unprovoked</td>\n",
       "      <td>USA</td>\n",
       "      <td>Hawaii</td>\n",
       "      <td>Makaha Beach, Oahu</td>\n",
       "      <td>Surfing</td>\n",
       "      <td>Max Keliikipi</td>\n",
       "      <td>M</td>\n",
       "      <td>...</td>\n",
       "      <td>10' to 12' shark</td>\n",
       "      <td>M. Michaelson, GSAF</td>\n",
       "      <td>2019.08.11-Keliikipi.pdf</td>\n",
       "      <td>http://sharkattackfile.net/spreadsheets/pdf_directory/2019.08.11-Keliikipi.pdf</td>\n",
       "      <td>http://sharkattackfile.net/spreadsheets/pdf_directory/http://sharkattackfile.net/spreadsheets/pdf_directory/2019.08.11-Keliikipi.pdf</td>\n",
       "      <td>2019.08.11</td>\n",
       "      <td>2019.08.11</td>\n",
       "      <td>6448.0</td>\n",
       "      <td>NaN</td>\n",
       "      <td>NaN</td>\n",
       "    </tr>\n",
       "  </tbody>\n",
       "</table>\n",
       "<p>5 rows × 24 columns</p>\n",
       "</div>"
      ],
      "text/plain": [
       "  Case Number         Date    Year        Type Country     Area  \\\n",
       "0  2019.08.27  27-Aug-2019  2019.0    Provoked     USA  Florida   \n",
       "1  2019.08.21  21-Aug-2019  2019.0  Unprovoked     USA  Florida   \n",
       "2  2019.08.20  20-Aug-2019  2019.0  Unprovoked     USA   Hawaii   \n",
       "3  2019.08.16  16-Aug-2019  2019.0  Unprovoked     USA  Florida   \n",
       "4  2019.08.11  11-Aug-2019  2019.0  Unprovoked     USA   Hawaii   \n",
       "\n",
       "                                          Location  Activity  \\\n",
       "0                 New Smyrna Beach, Volusia County   Surfing   \n",
       "1                  Fort Lauderdale, Broward County    Wading   \n",
       "2  Napoopoo Park in Kealakekua Bay, The Big Island  Swimming   \n",
       "3                 New Smyrna Beach, Volusia County    Wading   \n",
       "4                               Makaha Beach, Oahu   Surfing   \n",
       "\n",
       "                 Name Sex   ...          Species   \\\n",
       "0        Donald Walsh    M  ...        6.5' shark   \n",
       "1  Christian Mariani     M  ...               NaN   \n",
       "2              female    F  ...               NaN   \n",
       "3         Maggie Crum    M  ...               NaN   \n",
       "4      Max Keliikipi     M  ...  10' to 12' shark   \n",
       "\n",
       "            Investigator or Source                       pdf  \\\n",
       "0  K. McMurray, TrackingSharks.com      2019.08.27-Walsh.pdf   \n",
       "1  K. McMurray, TrackingSharks.com    2019.08.21-Mariani.pdf   \n",
       "2       Hawaii News Now, 8/20/2019     2019.08.20-Hawaii.pdf   \n",
       "3                  WESH, 8/16/2019       2019.08.16-Crum.pdf   \n",
       "4              M. Michaelson, GSAF  2019.08.11-Keliikipi.pdf   \n",
       "\n",
       "                                                                     href formula  \\\n",
       "0      http://sharkattackfile.net/spreadsheets/pdf_directory/2019.08.27-Walsh.pdf   \n",
       "1    http://sharkattackfile.net/spreadsheets/pdf_directory/2019.08.21-Mariani.pdf   \n",
       "2     http://sharkattackfile.net/spreadsheets/pdf_directory/2019.08.20-Hawaii.pdf   \n",
       "3       http://sharkattackfile.net/spreadsheets/pdf_directory/2019.08.16-Crum.pdf   \n",
       "4  http://sharkattackfile.net/spreadsheets/pdf_directory/2019.08.11-Keliikipi.pdf   \n",
       "\n",
       "                                                                                                                                   href  \\\n",
       "0                                                            http://sharkattackfile.net/spreadsheets/pdf_directory/2019.08.27-Walsh.pdf   \n",
       "1                                                          http://sharkattackfile.net/spreadsheets/pdf_directory/2019.08.21-Mariani.pdf   \n",
       "2                                                           http://sharkattackfile.net/spreadsheets/pdf_directory/2019.08.20-Hawaii.pdf   \n",
       "3                                                             http://sharkattackfile.net/spreadsheets/pdf_directory/2019.08.16-Crum.pdf   \n",
       "4  http://sharkattackfile.net/spreadsheets/pdf_directory/http://sharkattackfile.net/spreadsheets/pdf_directory/2019.08.11-Keliikipi.pdf   \n",
       "\n",
       "  Case Number.1 Case Number.2 original order Unnamed: 22 Unnamed: 23  \n",
       "0    2019.08.27    2019.08.27         6452.0         NaN         NaN  \n",
       "1    2019.08.21    2019.08.21         6451.0         NaN         NaN  \n",
       "2    2019.08.20    2019.08.20         6450.0         NaN         NaN  \n",
       "3    2019.08.16    2019.08.16         6449.0         NaN         NaN  \n",
       "4    2019.08.11    2019.08.11         6448.0         NaN         NaN  \n",
       "\n",
       "[5 rows x 24 columns]"
      ]
     },
     "execution_count": 2,
     "metadata": {},
     "output_type": "execute_result"
    }
   ],
   "source": [
    "# Read the data into a Pandas DataFrame\n",
    "shark_data_raw_df = pd.read_excel(\"Resources/GSAF5-1.xlsx\")\n",
    "shark_data_raw_df.head()"
   ]
  },
  {
   "cell_type": "code",
   "execution_count": 3,
   "metadata": {},
   "outputs": [
    {
     "name": "stdout",
     "output_type": "stream",
     "text": [
      "<class 'pandas.core.frame.DataFrame'>\n",
      "RangeIndex: 25760 entries, 0 to 25759\n",
      "Data columns (total 24 columns):\n",
      " #   Column                  Non-Null Count  Dtype  \n",
      "---  ------                  --------------  -----  \n",
      " 0   Case Number             8739 non-null   object \n",
      " 1   Date                    6451 non-null   object \n",
      " 2   Year                    6449 non-null   float64\n",
      " 3   Type                    6447 non-null   object \n",
      " 4   Country                 6401 non-null   object \n",
      " 5   Area                    5988 non-null   object \n",
      " 6   Location                5904 non-null   object \n",
      " 7   Activity                5901 non-null   object \n",
      " 8   Name                    6241 non-null   object \n",
      " 9   Sex                     5886 non-null   object \n",
      " 10  Age                     3586 non-null   object \n",
      " 11  Injury                  6423 non-null   object \n",
      " 12  Fatal (Y/N)             5905 non-null   object \n",
      " 13  Time                    3064 non-null   object \n",
      " 14  Species                 3545 non-null   object \n",
      " 15  Investigator or Source  6434 non-null   object \n",
      " 16  pdf                     6451 non-null   object \n",
      " 17  href formula            6449 non-null   object \n",
      " 18  href                    6451 non-null   object \n",
      " 19  Case Number.1           6451 non-null   object \n",
      " 20  Case Number.2           6451 non-null   object \n",
      " 21  original order          6451 non-null   float64\n",
      " 22  Unnamed: 22             1 non-null      object \n",
      " 23  Unnamed: 23             2 non-null      object \n",
      "dtypes: float64(2), object(22)\n",
      "memory usage: 4.7+ MB\n"
     ]
    }
   ],
   "source": [
    "# Get a brief summary of the shark_data_raw_df DataFrame\n",
    "shark_data_raw_df.info()"
   ]
  },
  {
   "cell_type": "code",
   "execution_count": 4,
   "metadata": {},
   "outputs": [
    {
     "data": {
      "text/html": [
       "<div>\n",
       "<style scoped>\n",
       "    .dataframe tbody tr th:only-of-type {\n",
       "        vertical-align: middle;\n",
       "    }\n",
       "\n",
       "    .dataframe tbody tr th {\n",
       "        vertical-align: top;\n",
       "    }\n",
       "\n",
       "    .dataframe thead th {\n",
       "        text-align: right;\n",
       "    }\n",
       "</style>\n",
       "<table border=\"1\" class=\"dataframe\">\n",
       "  <thead>\n",
       "    <tr style=\"text-align: right;\">\n",
       "      <th></th>\n",
       "      <th>Case Number</th>\n",
       "      <th>Date</th>\n",
       "      <th>Year</th>\n",
       "      <th>Type</th>\n",
       "      <th>Country</th>\n",
       "      <th>Area</th>\n",
       "      <th>Location</th>\n",
       "      <th>Activity</th>\n",
       "      <th>Name</th>\n",
       "      <th>Sex</th>\n",
       "      <th>...</th>\n",
       "      <th>Species</th>\n",
       "      <th>Investigator or Source</th>\n",
       "      <th>pdf</th>\n",
       "      <th>href formula</th>\n",
       "      <th>href</th>\n",
       "      <th>Case Number.1</th>\n",
       "      <th>Case Number.2</th>\n",
       "      <th>original order</th>\n",
       "      <th>Unnamed: 22</th>\n",
       "      <th>Unnamed: 23</th>\n",
       "    </tr>\n",
       "  </thead>\n",
       "  <tbody>\n",
       "    <tr>\n",
       "      <th>0</th>\n",
       "      <td>2019.08.27</td>\n",
       "      <td>27-Aug-2019</td>\n",
       "      <td>2019.0</td>\n",
       "      <td>Provoked</td>\n",
       "      <td>USA</td>\n",
       "      <td>Florida</td>\n",
       "      <td>New Smyrna Beach, Volusia County</td>\n",
       "      <td>Surfing</td>\n",
       "      <td>Donald Walsh</td>\n",
       "      <td>M</td>\n",
       "      <td>...</td>\n",
       "      <td>6.5' shark</td>\n",
       "      <td>K. McMurray, TrackingSharks.com</td>\n",
       "      <td>2019.08.27-Walsh.pdf</td>\n",
       "      <td>http://sharkattackfile.net/spreadsheets/pdf_directory/2019.08.27-Walsh.pdf</td>\n",
       "      <td>http://sharkattackfile.net/spreadsheets/pdf_directory/2019.08.27-Walsh.pdf</td>\n",
       "      <td>2019.08.27</td>\n",
       "      <td>2019.08.27</td>\n",
       "      <td>6452.0</td>\n",
       "      <td>NaN</td>\n",
       "      <td>NaN</td>\n",
       "    </tr>\n",
       "    <tr>\n",
       "      <th>1</th>\n",
       "      <td>2019.08.21</td>\n",
       "      <td>21-Aug-2019</td>\n",
       "      <td>2019.0</td>\n",
       "      <td>Unprovoked</td>\n",
       "      <td>USA</td>\n",
       "      <td>Florida</td>\n",
       "      <td>Fort Lauderdale, Broward County</td>\n",
       "      <td>Wading</td>\n",
       "      <td>Christian Mariani</td>\n",
       "      <td>M</td>\n",
       "      <td>...</td>\n",
       "      <td>NaN</td>\n",
       "      <td>K. McMurray, TrackingSharks.com</td>\n",
       "      <td>2019.08.21-Mariani.pdf</td>\n",
       "      <td>http://sharkattackfile.net/spreadsheets/pdf_directory/2019.08.21-Mariani.pdf</td>\n",
       "      <td>http://sharkattackfile.net/spreadsheets/pdf_directory/2019.08.21-Mariani.pdf</td>\n",
       "      <td>2019.08.21</td>\n",
       "      <td>2019.08.21</td>\n",
       "      <td>6451.0</td>\n",
       "      <td>NaN</td>\n",
       "      <td>NaN</td>\n",
       "    </tr>\n",
       "    <tr>\n",
       "      <th>2</th>\n",
       "      <td>2019.08.20</td>\n",
       "      <td>20-Aug-2019</td>\n",
       "      <td>2019.0</td>\n",
       "      <td>Unprovoked</td>\n",
       "      <td>USA</td>\n",
       "      <td>Hawaii</td>\n",
       "      <td>Napoopoo Park in Kealakekua Bay, The Big Island</td>\n",
       "      <td>Swimming</td>\n",
       "      <td>female</td>\n",
       "      <td>F</td>\n",
       "      <td>...</td>\n",
       "      <td>NaN</td>\n",
       "      <td>Hawaii News Now, 8/20/2019</td>\n",
       "      <td>2019.08.20-Hawaii.pdf</td>\n",
       "      <td>http://sharkattackfile.net/spreadsheets/pdf_directory/2019.08.20-Hawaii.pdf</td>\n",
       "      <td>http://sharkattackfile.net/spreadsheets/pdf_directory/2019.08.20-Hawaii.pdf</td>\n",
       "      <td>2019.08.20</td>\n",
       "      <td>2019.08.20</td>\n",
       "      <td>6450.0</td>\n",
       "      <td>NaN</td>\n",
       "      <td>NaN</td>\n",
       "    </tr>\n",
       "    <tr>\n",
       "      <th>3</th>\n",
       "      <td>2019.08.16</td>\n",
       "      <td>16-Aug-2019</td>\n",
       "      <td>2019.0</td>\n",
       "      <td>Unprovoked</td>\n",
       "      <td>USA</td>\n",
       "      <td>Florida</td>\n",
       "      <td>New Smyrna Beach, Volusia County</td>\n",
       "      <td>Wading</td>\n",
       "      <td>Maggie Crum</td>\n",
       "      <td>M</td>\n",
       "      <td>...</td>\n",
       "      <td>NaN</td>\n",
       "      <td>WESH, 8/16/2019</td>\n",
       "      <td>2019.08.16-Crum.pdf</td>\n",
       "      <td>http://sharkattackfile.net/spreadsheets/pdf_directory/2019.08.16-Crum.pdf</td>\n",
       "      <td>http://sharkattackfile.net/spreadsheets/pdf_directory/2019.08.16-Crum.pdf</td>\n",
       "      <td>2019.08.16</td>\n",
       "      <td>2019.08.16</td>\n",
       "      <td>6449.0</td>\n",
       "      <td>NaN</td>\n",
       "      <td>NaN</td>\n",
       "    </tr>\n",
       "    <tr>\n",
       "      <th>4</th>\n",
       "      <td>2019.08.11</td>\n",
       "      <td>11-Aug-2019</td>\n",
       "      <td>2019.0</td>\n",
       "      <td>Unprovoked</td>\n",
       "      <td>USA</td>\n",
       "      <td>Hawaii</td>\n",
       "      <td>Makaha Beach, Oahu</td>\n",
       "      <td>Surfing</td>\n",
       "      <td>Max Keliikipi</td>\n",
       "      <td>M</td>\n",
       "      <td>...</td>\n",
       "      <td>10' to 12' shark</td>\n",
       "      <td>M. Michaelson, GSAF</td>\n",
       "      <td>2019.08.11-Keliikipi.pdf</td>\n",
       "      <td>http://sharkattackfile.net/spreadsheets/pdf_directory/2019.08.11-Keliikipi.pdf</td>\n",
       "      <td>http://sharkattackfile.net/spreadsheets/pdf_directory/http://sharkattackfile.net/spreadsheets/pdf_directory/2019.08.11-Keliikipi.pdf</td>\n",
       "      <td>2019.08.11</td>\n",
       "      <td>2019.08.11</td>\n",
       "      <td>6448.0</td>\n",
       "      <td>NaN</td>\n",
       "      <td>NaN</td>\n",
       "    </tr>\n",
       "  </tbody>\n",
       "</table>\n",
       "<p>5 rows × 24 columns</p>\n",
       "</div>"
      ],
      "text/plain": [
       "  Case Number         Date    Year        Type Country     Area  \\\n",
       "0  2019.08.27  27-Aug-2019  2019.0    Provoked     USA  Florida   \n",
       "1  2019.08.21  21-Aug-2019  2019.0  Unprovoked     USA  Florida   \n",
       "2  2019.08.20  20-Aug-2019  2019.0  Unprovoked     USA   Hawaii   \n",
       "3  2019.08.16  16-Aug-2019  2019.0  Unprovoked     USA  Florida   \n",
       "4  2019.08.11  11-Aug-2019  2019.0  Unprovoked     USA   Hawaii   \n",
       "\n",
       "                                          Location  Activity  \\\n",
       "0                 New Smyrna Beach, Volusia County   Surfing   \n",
       "1                  Fort Lauderdale, Broward County    Wading   \n",
       "2  Napoopoo Park in Kealakekua Bay, The Big Island  Swimming   \n",
       "3                 New Smyrna Beach, Volusia County    Wading   \n",
       "4                               Makaha Beach, Oahu   Surfing   \n",
       "\n",
       "                 Name Sex   ...          Species   \\\n",
       "0        Donald Walsh    M  ...        6.5' shark   \n",
       "1  Christian Mariani     M  ...               NaN   \n",
       "2              female    F  ...               NaN   \n",
       "3         Maggie Crum    M  ...               NaN   \n",
       "4      Max Keliikipi     M  ...  10' to 12' shark   \n",
       "\n",
       "            Investigator or Source                       pdf  \\\n",
       "0  K. McMurray, TrackingSharks.com      2019.08.27-Walsh.pdf   \n",
       "1  K. McMurray, TrackingSharks.com    2019.08.21-Mariani.pdf   \n",
       "2       Hawaii News Now, 8/20/2019     2019.08.20-Hawaii.pdf   \n",
       "3                  WESH, 8/16/2019       2019.08.16-Crum.pdf   \n",
       "4              M. Michaelson, GSAF  2019.08.11-Keliikipi.pdf   \n",
       "\n",
       "                                                                     href formula  \\\n",
       "0      http://sharkattackfile.net/spreadsheets/pdf_directory/2019.08.27-Walsh.pdf   \n",
       "1    http://sharkattackfile.net/spreadsheets/pdf_directory/2019.08.21-Mariani.pdf   \n",
       "2     http://sharkattackfile.net/spreadsheets/pdf_directory/2019.08.20-Hawaii.pdf   \n",
       "3       http://sharkattackfile.net/spreadsheets/pdf_directory/2019.08.16-Crum.pdf   \n",
       "4  http://sharkattackfile.net/spreadsheets/pdf_directory/2019.08.11-Keliikipi.pdf   \n",
       "\n",
       "                                                                                                                                   href  \\\n",
       "0                                                            http://sharkattackfile.net/spreadsheets/pdf_directory/2019.08.27-Walsh.pdf   \n",
       "1                                                          http://sharkattackfile.net/spreadsheets/pdf_directory/2019.08.21-Mariani.pdf   \n",
       "2                                                           http://sharkattackfile.net/spreadsheets/pdf_directory/2019.08.20-Hawaii.pdf   \n",
       "3                                                             http://sharkattackfile.net/spreadsheets/pdf_directory/2019.08.16-Crum.pdf   \n",
       "4  http://sharkattackfile.net/spreadsheets/pdf_directory/http://sharkattackfile.net/spreadsheets/pdf_directory/2019.08.11-Keliikipi.pdf   \n",
       "\n",
       "  Case Number.1 Case Number.2 original order Unnamed: 22 Unnamed: 23  \n",
       "0    2019.08.27    2019.08.27         6452.0         NaN         NaN  \n",
       "1    2019.08.21    2019.08.21         6451.0         NaN         NaN  \n",
       "2    2019.08.20    2019.08.20         6450.0         NaN         NaN  \n",
       "3    2019.08.16    2019.08.16         6449.0         NaN         NaN  \n",
       "4    2019.08.11    2019.08.11         6448.0         NaN         NaN  \n",
       "\n",
       "[5 rows x 24 columns]"
      ]
     },
     "execution_count": 4,
     "metadata": {},
     "output_type": "execute_result"
    }
   ],
   "source": [
    "# Limit the attacks to those that occurred in the United States or Canada to match Bear Attacks data\n",
    "shark_data_north_america_df = shark_data_raw_df[shark_data_raw_df[\"Country\"].isin([\"USA\", \"CANADA\"])]\n",
    "shark_data_north_america_df.head()"
   ]
  },
  {
   "cell_type": "code",
   "execution_count": 5,
   "metadata": {},
   "outputs": [
    {
     "name": "stdout",
     "output_type": "stream",
     "text": [
      "<class 'pandas.core.frame.DataFrame'>\n",
      "Index: 2322 entries, 0 to 6446\n",
      "Data columns (total 24 columns):\n",
      " #   Column                  Non-Null Count  Dtype  \n",
      "---  ------                  --------------  -----  \n",
      " 0   Case Number             2321 non-null   object \n",
      " 1   Date                    2322 non-null   object \n",
      " 2   Year                    2322 non-null   float64\n",
      " 3   Type                    2322 non-null   object \n",
      " 4   Country                 2322 non-null   object \n",
      " 5   Area                    2316 non-null   object \n",
      " 6   Location                2268 non-null   object \n",
      " 7   Activity                2185 non-null   object \n",
      " 8   Name                    2291 non-null   object \n",
      " 9   Sex                     2221 non-null   object \n",
      " 10  Age                     1565 non-null   object \n",
      " 11  Injury                  2317 non-null   object \n",
      " 12  Fatal (Y/N)             2130 non-null   object \n",
      " 13  Time                    1452 non-null   object \n",
      " 14  Species                 1374 non-null   object \n",
      " 15  Investigator or Source  2316 non-null   object \n",
      " 16  pdf                     2322 non-null   object \n",
      " 17  href formula            2322 non-null   object \n",
      " 18  href                    2322 non-null   object \n",
      " 19  Case Number.1           2322 non-null   object \n",
      " 20  Case Number.2           2322 non-null   object \n",
      " 21  original order          2322 non-null   float64\n",
      " 22  Unnamed: 22             1 non-null      object \n",
      " 23  Unnamed: 23             1 non-null      object \n",
      "dtypes: float64(2), object(22)\n",
      "memory usage: 453.5+ KB\n"
     ]
    }
   ],
   "source": [
    "# Get a brief summary of the shark_data_usa_df DataFrame\n",
    "shark_data_north_america_df.info()"
   ]
  },
  {
   "cell_type": "code",
   "execution_count": 6,
   "metadata": {},
   "outputs": [
    {
     "data": {
      "text/html": [
       "<div>\n",
       "<style scoped>\n",
       "    .dataframe tbody tr th:only-of-type {\n",
       "        vertical-align: middle;\n",
       "    }\n",
       "\n",
       "    .dataframe tbody tr th {\n",
       "        vertical-align: top;\n",
       "    }\n",
       "\n",
       "    .dataframe thead th {\n",
       "        text-align: right;\n",
       "    }\n",
       "</style>\n",
       "<table border=\"1\" class=\"dataframe\">\n",
       "  <thead>\n",
       "    <tr style=\"text-align: right;\">\n",
       "      <th></th>\n",
       "      <th>Year</th>\n",
       "      <th>original order</th>\n",
       "    </tr>\n",
       "  </thead>\n",
       "  <tbody>\n",
       "    <tr>\n",
       "      <th>count</th>\n",
       "      <td>2322.000000</td>\n",
       "      <td>2322.000000</td>\n",
       "    </tr>\n",
       "    <tr>\n",
       "      <th>mean</th>\n",
       "      <td>1966.368648</td>\n",
       "      <td>3824.114126</td>\n",
       "    </tr>\n",
       "    <tr>\n",
       "      <th>std</th>\n",
       "      <td>178.481008</td>\n",
       "      <td>1728.334868</td>\n",
       "    </tr>\n",
       "    <tr>\n",
       "      <th>min</th>\n",
       "      <td>0.000000</td>\n",
       "      <td>4.000000</td>\n",
       "    </tr>\n",
       "    <tr>\n",
       "      <th>25%</th>\n",
       "      <td>1965.000000</td>\n",
       "      <td>2671.500000</td>\n",
       "    </tr>\n",
       "    <tr>\n",
       "      <th>50%</th>\n",
       "      <td>1997.000000</td>\n",
       "      <td>4084.500000</td>\n",
       "    </tr>\n",
       "    <tr>\n",
       "      <th>75%</th>\n",
       "      <td>2009.000000</td>\n",
       "      <td>5211.750000</td>\n",
       "    </tr>\n",
       "    <tr>\n",
       "      <th>max</th>\n",
       "      <td>2019.000000</td>\n",
       "      <td>6452.000000</td>\n",
       "    </tr>\n",
       "  </tbody>\n",
       "</table>\n",
       "</div>"
      ],
      "text/plain": [
       "              Year  original order\n",
       "count  2322.000000     2322.000000\n",
       "mean   1966.368648     3824.114126\n",
       "std     178.481008     1728.334868\n",
       "min       0.000000        4.000000\n",
       "25%    1965.000000     2671.500000\n",
       "50%    1997.000000     4084.500000\n",
       "75%    2009.000000     5211.750000\n",
       "max    2019.000000     6452.000000"
      ]
     },
     "execution_count": 6,
     "metadata": {},
     "output_type": "execute_result"
    }
   ],
   "source": [
    "shark_data_north_america_df.describe()"
   ]
  },
  {
   "cell_type": "markdown",
   "metadata": {},
   "source": [
    "### Shark Data Cleaning"
   ]
  },
  {
   "cell_type": "code",
   "execution_count": 7,
   "metadata": {},
   "outputs": [
    {
     "name": "stdout",
     "output_type": "stream",
     "text": [
      "<class 'pandas.core.frame.DataFrame'>\n",
      "Index: 2322 entries, 0 to 6446\n",
      "Data columns (total 24 columns):\n",
      " #   Column                  Non-Null Count  Dtype  \n",
      "---  ------                  --------------  -----  \n",
      " 0   case_number             2321 non-null   object \n",
      " 1   date                    2322 non-null   object \n",
      " 2   year                    2322 non-null   float64\n",
      " 3   type                    2322 non-null   object \n",
      " 4   country                 2322 non-null   object \n",
      " 5   area                    2316 non-null   object \n",
      " 6   location                2268 non-null   object \n",
      " 7   activity                2185 non-null   object \n",
      " 8   name                    2291 non-null   object \n",
      " 9   sex                     2221 non-null   object \n",
      " 10  age                     1565 non-null   object \n",
      " 11  injury                  2317 non-null   object \n",
      " 12  fatal_(y/n)             2130 non-null   object \n",
      " 13  time                    1452 non-null   object \n",
      " 14  species                 1374 non-null   object \n",
      " 15  investigator_or_source  2316 non-null   object \n",
      " 16  pdf                     2322 non-null   object \n",
      " 17  href_formula            2322 non-null   object \n",
      " 18  href                    2322 non-null   object \n",
      " 19  case_number.1           2322 non-null   object \n",
      " 20  case_number.2           2322 non-null   object \n",
      " 21  original_order          2322 non-null   float64\n",
      " 22  unnamed:_22             1 non-null      object \n",
      " 23  unnamed:_23             1 non-null      object \n",
      "dtypes: float64(2), object(22)\n",
      "memory usage: 453.5+ KB\n"
     ]
    }
   ],
   "source": [
    "# Change headers to lowercase and replace spaces with underscores\n",
    "shark_data_north_america_df.columns = shark_data_north_america_df.columns.str.lower().str.strip().str.replace(\" \", \"_\")\n",
    "shark_data_north_america_df.info()"
   ]
  },
  {
   "cell_type": "markdown",
   "metadata": {},
   "source": [
    "#### Clean date"
   ]
  },
  {
   "cell_type": "code",
   "execution_count": 8,
   "metadata": {},
   "outputs": [
    {
     "data": {
      "text/plain": [
       "array(['27-Aug-2019', '21-Aug-2019', '20-Aug-2019', ..., 'Before 1921',\n",
       "       'Before 17-Jul-1916', '1900-1905'], dtype=object)"
      ]
     },
     "execution_count": 8,
     "metadata": {},
     "output_type": "execute_result"
    }
   ],
   "source": [
    "# Verify the original values\n",
    "shark_data_north_america_df.date.unique()"
   ]
  },
  {
   "cell_type": "code",
   "execution_count": 9,
   "metadata": {},
   "outputs": [
    {
     "name": "stderr",
     "output_type": "stream",
     "text": [
      "C:\\Users\\carlo\\AppData\\Local\\Temp\\ipykernel_4832\\1730911965.py:2: SettingWithCopyWarning: \n",
      "A value is trying to be set on a copy of a slice from a DataFrame.\n",
      "Try using .loc[row_indexer,col_indexer] = value instead\n",
      "\n",
      "See the caveats in the documentation: https://pandas.pydata.org/pandas-docs/stable/user_guide/indexing.html#returning-a-view-versus-a-copy\n",
      "  shark_data_north_america_df['date'] = shark_data_north_america_df['date'].str.replace('Reported ', '', regex=False)\n",
      "C:\\Users\\carlo\\AppData\\Local\\Temp\\ipykernel_4832\\1730911965.py:5: SettingWithCopyWarning: \n",
      "A value is trying to be set on a copy of a slice from a DataFrame.\n",
      "Try using .loc[row_indexer,col_indexer] = value instead\n",
      "\n",
      "See the caveats in the documentation: https://pandas.pydata.org/pandas-docs/stable/user_guide/indexing.html#returning-a-view-versus-a-copy\n",
      "  shark_data_north_america_df['date'] = pd.to_datetime(shark_data_north_america_df['date'], errors='coerce', format='%d-%b-%Y')\n"
     ]
    },
    {
     "data": {
      "text/plain": [
       "<DatetimeArray>\n",
       "['2019-08-27 00:00:00', '2019-08-21 00:00:00', '2019-08-20 00:00:00',\n",
       " '2019-08-16 00:00:00', '2019-08-11 00:00:00', '2019-08-04 00:00:00',\n",
       " '2019-08-03 00:00:00', '2019-07-30 00:00:00', '2019-07-29 00:00:00',\n",
       " '2019-07-27 00:00:00',\n",
       " ...\n",
       " '1840-07-22 00:00:00', '1837-09-09 00:00:00', '1831-08-24 00:00:00',\n",
       " '1830-07-26 00:00:00', '1829-06-10 00:00:00', '1817-06-24 00:00:00',\n",
       " '1810-09-15 00:00:00', '1780-08-08 00:00:00', '1771-07-12 00:00:00',\n",
       " '1751-07-27 00:00:00']\n",
       "Length: 1867, dtype: datetime64[ns]"
      ]
     },
     "execution_count": 9,
     "metadata": {},
     "output_type": "execute_result"
    }
   ],
   "source": [
    "# Replace 'Reported' with an empty string in the 'Date' column\n",
    "shark_data_north_america_df['date'] = shark_data_north_america_df['date'].str.replace('Reported ', '', regex=False)\n",
    "\n",
    "# Convert 'Date' to datetime\n",
    "shark_data_north_america_df['date'] = pd.to_datetime(shark_data_north_america_df['date'], errors='coerce', format='%d-%b-%Y')\n",
    "\n",
    "# Optionally, print the distinct values after cleaning\n",
    "shark_data_north_america_df['date'].unique()"
   ]
  },
  {
   "cell_type": "markdown",
   "metadata": {},
   "source": [
    "#### Clean Year"
   ]
  },
  {
   "cell_type": "code",
   "execution_count": 10,
   "metadata": {},
   "outputs": [
    {
     "data": {
      "text/plain": [
       "array([2019., 2018., 2017., 2016., 2015., 2014., 2013., 2012., 2011.,\n",
       "       2010., 2009., 2008., 2007., 2006., 2005., 2004., 2003., 2002.,\n",
       "       2001., 2000., 1999., 1998., 1997., 1996., 1995., 1994., 1993.,\n",
       "       1992., 1991., 1990., 1989., 1988., 1987., 1986., 1985., 1984.,\n",
       "       1983., 1982., 1981., 1980., 1979., 1978., 1977., 1976., 1975.,\n",
       "       1974., 1973., 1972., 1971., 1970., 1969., 1968., 1967., 1966.,\n",
       "       1965., 1964., 1963., 1962., 1961., 1960., 1959., 1958., 1957.,\n",
       "       1956., 1955., 1954., 1953., 1952., 1951., 1950., 1949., 1948.,\n",
       "       1947., 1945., 1944., 1943., 1942., 1941., 1940., 1939., 1938.,\n",
       "       1937., 1936., 1935., 1934., 1933., 1932., 1931., 1930., 1929.,\n",
       "       1928., 1927., 1926., 1925., 1924., 1923., 1922., 1920., 1919.,\n",
       "       1918., 1917., 1916., 1915., 1914., 1913., 1912., 1911., 1910.,\n",
       "       1909., 1908., 1907., 1906., 1905., 1904., 1903., 1902., 1901.,\n",
       "       1900., 1899., 1898., 1897., 1896., 1895., 1894., 1892., 1891.,\n",
       "       1890., 1889., 1888., 1887., 1886., 1885., 1884., 1883., 1882.,\n",
       "       1881., 1880., 1879., 1878., 1876., 1874., 1873., 1872., 1871.,\n",
       "       1870., 1866., 1865., 1864., 1863., 1862., 1860., 1859., 1858.,\n",
       "       1857., 1855., 1853., 1852., 1851., 1850., 1849., 1848., 1847.,\n",
       "       1845., 1842., 1840., 1837., 1831., 1830., 1829., 1828., 1817.,\n",
       "       1816., 1810., 1805., 1803., 1780., 1779., 1771., 1751., 1642.,\n",
       "          0.])"
      ]
     },
     "execution_count": 10,
     "metadata": {},
     "output_type": "execute_result"
    }
   ],
   "source": [
    "# Verify the original values\n",
    "shark_data_north_america_df['year'].unique()"
   ]
  },
  {
   "cell_type": "code",
   "execution_count": 11,
   "metadata": {},
   "outputs": [
    {
     "name": "stderr",
     "output_type": "stream",
     "text": [
      "C:\\Users\\carlo\\AppData\\Local\\Temp\\ipykernel_4832\\1787755575.py:2: SettingWithCopyWarning: \n",
      "A value is trying to be set on a copy of a slice from a DataFrame.\n",
      "Try using .loc[row_indexer,col_indexer] = value instead\n",
      "\n",
      "See the caveats in the documentation: https://pandas.pydata.org/pandas-docs/stable/user_guide/indexing.html#returning-a-view-versus-a-copy\n",
      "  shark_data_north_america_df['year'] = pd.to_numeric(shark_data_north_america_df['year'], errors='coerce')\n",
      "C:\\Users\\carlo\\AppData\\Local\\Temp\\ipykernel_4832\\1787755575.py:8: SettingWithCopyWarning: \n",
      "A value is trying to be set on a copy of a slice from a DataFrame.\n",
      "Try using .loc[row_indexer,col_indexer] = value instead\n",
      "\n",
      "See the caveats in the documentation: https://pandas.pydata.org/pandas-docs/stable/user_guide/indexing.html#returning-a-view-versus-a-copy\n",
      "  shark_data_north_america_df['year'] = shark_data_north_america_df['year'].apply(lambda x: x if (pd.notnull(x) and valid_year_range[0] <= x <= valid_year_range[1]) else np.nan)\n"
     ]
    },
    {
     "data": {
      "text/plain": [
       "array([2019., 2018., 2017., 2016., 2015., 2014., 2013., 2012., 2011.,\n",
       "       2010., 2009., 2008., 2007., 2006., 2005., 2004., 2003., 2002.,\n",
       "       2001., 2000., 1999., 1998., 1997., 1996., 1995., 1994., 1993.,\n",
       "       1992., 1991., 1990., 1989., 1988., 1987., 1986., 1985., 1984.,\n",
       "       1983., 1982., 1981., 1980., 1979., 1978., 1977., 1976., 1975.,\n",
       "       1974., 1973., 1972., 1971., 1970., 1969., 1968., 1967., 1966.,\n",
       "       1965., 1964., 1963., 1962., 1961., 1960., 1959., 1958., 1957.,\n",
       "       1956., 1955., 1954., 1953., 1952., 1951., 1950., 1949., 1948.,\n",
       "       1947., 1945., 1944., 1943., 1942., 1941., 1940., 1939., 1938.,\n",
       "       1937., 1936., 1935., 1934., 1933., 1932., 1931., 1930., 1929.,\n",
       "       1928., 1927., 1926., 1925., 1924., 1923., 1922., 1920., 1919.,\n",
       "       1918., 1917., 1916., 1915., 1914., 1913., 1912., 1911., 1910.,\n",
       "       1909., 1908., 1907., 1906., 1905., 1904., 1903., 1902., 1901.,\n",
       "       1900.,   nan])"
      ]
     },
     "execution_count": 11,
     "metadata": {},
     "output_type": "execute_result"
    }
   ],
   "source": [
    "# Convert 'Year' to numeric, setting errors='coerce' to handle non-numeric values\n",
    "shark_data_north_america_df['year'] = pd.to_numeric(shark_data_north_america_df['year'], errors='coerce')\n",
    "\n",
    "# Define valid range for years\n",
    "valid_year_range = (1900, 2019)  # Adjust the range as needed\n",
    "\n",
    "# Filter out invalid years outside the valid range\n",
    "shark_data_north_america_df['year'] = shark_data_north_america_df['year'].apply(lambda x: x if (pd.notnull(x) and valid_year_range[0] <= x <= valid_year_range[1]) else np.nan)\n",
    "\n",
    "# Print the distinct values after cleaning\n",
    "shark_data_north_america_df['year'].sort_values(ascending=False).unique()"
   ]
  },
  {
   "cell_type": "markdown",
   "metadata": {},
   "source": [
    "#### Clean Fatal"
   ]
  },
  {
   "cell_type": "code",
   "execution_count": 12,
   "metadata": {},
   "outputs": [
    {
     "data": {
      "text/plain": [
       "array(['N', nan, 'Y', 'UNKNOWN', 'Y x 2'], dtype=object)"
      ]
     },
     "execution_count": 12,
     "metadata": {},
     "output_type": "execute_result"
    }
   ],
   "source": [
    "# Verify the original values\n",
    "shark_data_north_america_df['fatal_(y/n)'].unique()"
   ]
  },
  {
   "cell_type": "code",
   "execution_count": 13,
   "metadata": {},
   "outputs": [
    {
     "name": "stderr",
     "output_type": "stream",
     "text": [
      "C:\\Users\\carlo\\AppData\\Local\\Temp\\ipykernel_4832\\1262230436.py:12: SettingWithCopyWarning: \n",
      "A value is trying to be set on a copy of a slice from a DataFrame.\n",
      "Try using .loc[row_indexer,col_indexer] = value instead\n",
      "\n",
      "See the caveats in the documentation: https://pandas.pydata.org/pandas-docs/stable/user_guide/indexing.html#returning-a-view-versus-a-copy\n",
      "  shark_data_north_america_df['fatal_(y/n)'] = shark_data_north_america_df['fatal_(y/n)'].apply(standardize_fatal)\n"
     ]
    },
    {
     "data": {
      "text/plain": [
       "array(['N', nan, 'Y'], dtype=object)"
      ]
     },
     "execution_count": 13,
     "metadata": {},
     "output_type": "execute_result"
    }
   ],
   "source": [
    "# Define mapping for Fatal(Y/N) values\n",
    "def standardize_fatal(value):\n",
    "    value = str(value).strip().upper()\n",
    "    if value in ['Y', 'YES', 'Y X 2']:\n",
    "        return 'Y'\n",
    "    elif value in ['N', 'NO', 'N ']:\n",
    "        return 'N'\n",
    "    else:\n",
    "        return np.nan\n",
    "\n",
    "# Apply the function to the 'Fatal(Y/N)' column\n",
    "shark_data_north_america_df['fatal_(y/n)'] = shark_data_north_america_df['fatal_(y/n)'].apply(standardize_fatal)\n",
    "\n",
    "# Verify the updated values\n",
    "shark_data_north_america_df['fatal_(y/n)'].unique()"
   ]
  },
  {
   "cell_type": "markdown",
   "metadata": {},
   "source": [
    "#### Clean Age"
   ]
  },
  {
   "cell_type": "code",
   "execution_count": 14,
   "metadata": {},
   "outputs": [
    {
     "data": {
      "text/plain": [
       "array([40, 11, 26, 9, 16, 51, 21, 20, 37, nan, 18, 49, 23, 8, 64, 19, 17,\n",
       "       65, 67, 28, 25, 10, 58, 74, 46, 50, 48, 29, 13, 55, 39, '60s', 14,\n",
       "       61, 42, 'a minor', 12, 30, 57, 52, 15, 54, 35, 60, 33, 3, 69, 34,\n",
       "       22, 'Teen', 47, 41, 36, 66, 32, 43, 59, 6, 27, 71, 44, 31, '38',\n",
       "       '39', '32', '68', '12', '18', '43', '47', '6', '9', '10', '16',\n",
       "       '13', '11', '17', '14', '19', '30', '65', '63', '48', '70', '58',\n",
       "       '20', '50', '44', '53', '34', '7', '29', '40', '15', '28', '20s',\n",
       "       '52', '33', '26', '45', '50s', '8', '61', '22', '37', '23', '42',\n",
       "       '25', 'teen', '21', '57', '46', '3', '56', '60', '51', '35', '24',\n",
       "       '55', '30s', '31', '27', '41', '5', '54', '86', '49', '66', '36',\n",
       "       '12 or 13', '59', '62', 'Teens', 45, 38, 7, 56, '8 or 10', '\\xa0 ',\n",
       "       24, '6½', 'mid-30s', 73, 53, '23 & 20', 5, 62, 63,\n",
       "       '7      &    31', ' 28', '71', \"60's\", '87', '67', '77', 'Elderly',\n",
       "       'mid-20s', 'Ca. 33', 75, '21 or 26', 'adult', '9 & 12',\n",
       "       '37, 67, 35, 27,  ? & 27', '4', ' 43', '?    &   14', '10 or 12',\n",
       "       'young'], dtype=object)"
      ]
     },
     "execution_count": 14,
     "metadata": {},
     "output_type": "execute_result"
    }
   ],
   "source": [
    "# Verify the original values\n",
    "shark_data_north_america_df['age'].unique()"
   ]
  },
  {
   "cell_type": "code",
   "execution_count": 15,
   "metadata": {},
   "outputs": [
    {
     "name": "stdout",
     "output_type": "stream",
     "text": [
      "Number of NaN values in 'Age': 795\n"
     ]
    },
    {
     "name": "stderr",
     "output_type": "stream",
     "text": [
      "C:\\Users\\carlo\\AppData\\Local\\Temp\\ipykernel_4832\\3567059219.py:10: SettingWithCopyWarning: \n",
      "A value is trying to be set on a copy of a slice from a DataFrame.\n",
      "Try using .loc[row_indexer,col_indexer] = value instead\n",
      "\n",
      "See the caveats in the documentation: https://pandas.pydata.org/pandas-docs/stable/user_guide/indexing.html#returning-a-view-versus-a-copy\n",
      "  shark_data_north_america_df['age'] = shark_data_north_america_df['age'].apply(convert_to_numeric)\n"
     ]
    },
    {
     "data": {
      "text/plain": [
       "array([87., 86., 77., 75., 74., 73., 71., 70., 69., 68., 67., 66., 65.,\n",
       "       64., 63., 62., 61., 60., 59., 58., 57., 56., 55., 54., 53., 52.,\n",
       "       51., 50., 49., 48., 47., 46., 45., 44., 43., 42., 41., 40., 39.,\n",
       "       38., 37., 36., 35., 34., 33., 32., 31., 30., 29., 28., 27., 26.,\n",
       "       25., 24., 23., 22., 21., 20., 19., 18., 17., 16., 15., 14., 13.,\n",
       "       12., 11., 10.,  9.,  8.,  7.,  6.,  5.,  4.,  3., nan])"
      ]
     },
     "execution_count": 15,
     "metadata": {},
     "output_type": "execute_result"
    }
   ],
   "source": [
    "# Function to convert values to numeric, replacing invalid ones with NaN\n",
    "def convert_to_numeric(value):\n",
    "    try:\n",
    "        # Convert value to numeric, if possible\n",
    "        return pd.to_numeric(value, errors='coerce')\n",
    "    except (ValueError, TypeError):\n",
    "        return np.nan\n",
    "\n",
    "# Apply the function to the 'Age' column\n",
    "shark_data_north_america_df['age'] = shark_data_north_america_df['age'].apply(convert_to_numeric)\n",
    "\n",
    "# Print the number of NaN values in the 'Age' column to verify\n",
    "print(f\"Number of NaN values in 'Age': {shark_data_north_america_df['age'].isna().sum()}\")\n",
    "\n",
    "# Verify the original values\n",
    "shark_data_north_america_df['age'].sort_values(ascending=False).unique()"
   ]
  },
  {
   "cell_type": "markdown",
   "metadata": {},
   "source": [
    "#### Clean Gender"
   ]
  },
  {
   "cell_type": "code",
   "execution_count": 16,
   "metadata": {},
   "outputs": [
    {
     "data": {
      "text/plain": [
       "array(['M', 'F', nan, 'M ', 'lli', 'M x 2'], dtype=object)"
      ]
     },
     "execution_count": 16,
     "metadata": {},
     "output_type": "execute_result"
    }
   ],
   "source": [
    "# Verify the original values\n",
    "shark_data_north_america_df['sex'].unique()"
   ]
  },
  {
   "cell_type": "code",
   "execution_count": 17,
   "metadata": {},
   "outputs": [
    {
     "name": "stderr",
     "output_type": "stream",
     "text": [
      "C:\\Users\\carlo\\AppData\\Local\\Temp\\ipykernel_4832\\2695549873.py:5: SettingWithCopyWarning: \n",
      "A value is trying to be set on a copy of a slice from a DataFrame.\n",
      "Try using .loc[row_indexer,col_indexer] = value instead\n",
      "\n",
      "See the caveats in the documentation: https://pandas.pydata.org/pandas-docs/stable/user_guide/indexing.html#returning-a-view-versus-a-copy\n",
      "  shark_data_north_america_df['sex'] = shark_data_north_america_df['sex'].apply(lambda x: x.strip() if isinstance(x, str) else x)  # Remove any leading/trailing spaces\n",
      "C:\\Users\\carlo\\AppData\\Local\\Temp\\ipykernel_4832\\2695549873.py:6: SettingWithCopyWarning: \n",
      "A value is trying to be set on a copy of a slice from a DataFrame.\n",
      "Try using .loc[row_indexer,col_indexer] = value instead\n",
      "\n",
      "See the caveats in the documentation: https://pandas.pydata.org/pandas-docs/stable/user_guide/indexing.html#returning-a-view-versus-a-copy\n",
      "  shark_data_north_america_df['sex'] = shark_data_north_america_df['sex'].apply(lambda x: x if x in valid_sex_values else 'U')\n"
     ]
    },
    {
     "data": {
      "text/plain": [
       "array(['M', 'F', 'U'], dtype=object)"
      ]
     },
     "execution_count": 17,
     "metadata": {},
     "output_type": "execute_result"
    }
   ],
   "source": [
    "# Define the valid values for sex\n",
    "valid_sex_values = ['M', 'F']\n",
    "\n",
    "# Use apply with a lambda function to clean the 'Sex ' column\n",
    "shark_data_north_america_df['sex'] = shark_data_north_america_df['sex'].apply(lambda x: x.strip() if isinstance(x, str) else x)  # Remove any leading/trailing spaces\n",
    "shark_data_north_america_df['sex'] = shark_data_north_america_df['sex'].apply(lambda x: x if x in valid_sex_values else 'U')\n",
    "\n",
    "# Verify the cleaned values\n",
    "shark_data_north_america_df['sex'].unique()"
   ]
  },
  {
   "cell_type": "markdown",
   "metadata": {},
   "source": [
    "#### Clean location"
   ]
  },
  {
   "cell_type": "code",
   "execution_count": 18,
   "metadata": {},
   "outputs": [
    {
     "name": "stdout",
     "output_type": "stream",
     "text": [
      "<class 'pandas.core.frame.DataFrame'>\n",
      "Index: 2322 entries, 0 to 6446\n",
      "Data columns (total 24 columns):\n",
      " #   Column                  Non-Null Count  Dtype         \n",
      "---  ------                  --------------  -----         \n",
      " 0   case_number             2321 non-null   object        \n",
      " 1   date                    2094 non-null   datetime64[ns]\n",
      " 2   year                    2169 non-null   float64       \n",
      " 3   type                    2322 non-null   object        \n",
      " 4   country                 2322 non-null   object        \n",
      " 5   area                    2316 non-null   object        \n",
      " 6   location                2268 non-null   object        \n",
      " 7   activity                2185 non-null   object        \n",
      " 8   name                    2291 non-null   object        \n",
      " 9   sex                     2322 non-null   object        \n",
      " 10  age                     1527 non-null   float64       \n",
      " 11  injury                  2317 non-null   object        \n",
      " 12  fatal_(y/n)             2112 non-null   object        \n",
      " 13  time                    1452 non-null   object        \n",
      " 14  species                 1374 non-null   object        \n",
      " 15  investigator_or_source  2316 non-null   object        \n",
      " 16  pdf                     2322 non-null   object        \n",
      " 17  href_formula            2322 non-null   object        \n",
      " 18  href                    2322 non-null   object        \n",
      " 19  case_number.1           2322 non-null   object        \n",
      " 20  case_number.2           2322 non-null   object        \n",
      " 21  original_order          2322 non-null   float64       \n",
      " 22  unnamed:_22             1 non-null      object        \n",
      " 23  unnamed:_23             1 non-null      object        \n",
      "dtypes: datetime64[ns](1), float64(3), object(20)\n",
      "memory usage: 453.5+ KB\n"
     ]
    }
   ],
   "source": [
    "shark_data_north_america_df.info()"
   ]
  },
  {
   "cell_type": "code",
   "execution_count": 19,
   "metadata": {},
   "outputs": [
    {
     "name": "stdout",
     "output_type": "stream",
     "text": [
      "<class 'pandas.core.frame.DataFrame'>\n",
      "Index: 2268 entries, 0 to 6446\n",
      "Data columns (total 24 columns):\n",
      " #   Column                  Non-Null Count  Dtype         \n",
      "---  ------                  --------------  -----         \n",
      " 0   case_number             2267 non-null   object        \n",
      " 1   date                    2054 non-null   datetime64[ns]\n",
      " 2   year                    2130 non-null   float64       \n",
      " 3   type                    2268 non-null   object        \n",
      " 4   country                 2268 non-null   object        \n",
      " 5   area                    2266 non-null   object        \n",
      " 6   location                2268 non-null   object        \n",
      " 7   activity                2138 non-null   object        \n",
      " 8   name                    2237 non-null   object        \n",
      " 9   sex                     2268 non-null   object        \n",
      " 10  age                     1509 non-null   float64       \n",
      " 11  injury                  2263 non-null   object        \n",
      " 12  fatal_(y/n)             2066 non-null   object        \n",
      " 13  time                    1440 non-null   object        \n",
      " 14  species                 1353 non-null   object        \n",
      " 15  investigator_or_source  2262 non-null   object        \n",
      " 16  pdf                     2268 non-null   object        \n",
      " 17  href_formula            2268 non-null   object        \n",
      " 18  href                    2268 non-null   object        \n",
      " 19  case_number.1           2268 non-null   object        \n",
      " 20  case_number.2           2268 non-null   object        \n",
      " 21  original_order          2268 non-null   float64       \n",
      " 22  unnamed:_22             1 non-null      object        \n",
      " 23  unnamed:_23             1 non-null      object        \n",
      "dtypes: datetime64[ns](1), float64(3), object(20)\n",
      "memory usage: 443.0+ KB\n"
     ]
    }
   ],
   "source": [
    "# Remove rows where Location is NaN \n",
    "shark_data_north_america_df = shark_data_north_america_df.dropna(subset=[\"location\"])\n",
    "shark_data_north_america_df.info()"
   ]
  },
  {
   "cell_type": "markdown",
   "metadata": {},
   "source": [
    "### Retrieve Latitude and Longitude for each Location using Geoapify API"
   ]
  },
  {
   "cell_type": "code",
   "execution_count": 25,
   "metadata": {},
   "outputs": [
    {
     "data": {
      "text/html": [
       "<div>\n",
       "<style scoped>\n",
       "    .dataframe tbody tr th:only-of-type {\n",
       "        vertical-align: middle;\n",
       "    }\n",
       "\n",
       "    .dataframe tbody tr th {\n",
       "        vertical-align: top;\n",
       "    }\n",
       "\n",
       "    .dataframe thead th {\n",
       "        text-align: right;\n",
       "    }\n",
       "</style>\n",
       "<table border=\"1\" class=\"dataframe\">\n",
       "  <thead>\n",
       "    <tr style=\"text-align: right;\">\n",
       "      <th></th>\n",
       "      <th>location</th>\n",
       "      <th>area</th>\n",
       "      <th>country</th>\n",
       "      <th>count</th>\n",
       "    </tr>\n",
       "  </thead>\n",
       "  <tbody>\n",
       "    <tr>\n",
       "      <th>837</th>\n",
       "      <td>New Smyrna Beach, Volusia County</td>\n",
       "      <td>Florida</td>\n",
       "      <td>USA</td>\n",
       "      <td>172</td>\n",
       "    </tr>\n",
       "    <tr>\n",
       "      <th>311</th>\n",
       "      <td>Daytona Beach, Volusia County</td>\n",
       "      <td>Florida</td>\n",
       "      <td>USA</td>\n",
       "      <td>30</td>\n",
       "    </tr>\n",
       "    <tr>\n",
       "      <th>1067</th>\n",
       "      <td>Ponce Inlet, Volusia County</td>\n",
       "      <td>Florida</td>\n",
       "      <td>USA</td>\n",
       "      <td>22</td>\n",
       "    </tr>\n",
       "    <tr>\n",
       "      <th>737</th>\n",
       "      <td>Melbourne Beach, Brevard County</td>\n",
       "      <td>Florida</td>\n",
       "      <td>USA</td>\n",
       "      <td>18</td>\n",
       "    </tr>\n",
       "    <tr>\n",
       "      <th>793</th>\n",
       "      <td>Myrtle Beach, Horry County</td>\n",
       "      <td>South Carolina</td>\n",
       "      <td>USA</td>\n",
       "      <td>17</td>\n",
       "    </tr>\n",
       "    <tr>\n",
       "      <th>...</th>\n",
       "      <td>...</td>\n",
       "      <td>...</td>\n",
       "      <td>...</td>\n",
       "      <td>...</td>\n",
       "    </tr>\n",
       "    <tr>\n",
       "      <th>511</th>\n",
       "      <td>In kelp beds off La Jolla, San Diego County</td>\n",
       "      <td>California</td>\n",
       "      <td>USA</td>\n",
       "      <td>1</td>\n",
       "    </tr>\n",
       "    <tr>\n",
       "      <th>510</th>\n",
       "      <td>In front of Key Biscayne Beach Club, Key Biscayne</td>\n",
       "      <td>Florida</td>\n",
       "      <td>USA</td>\n",
       "      <td>1</td>\n",
       "    </tr>\n",
       "    <tr>\n",
       "      <th>509</th>\n",
       "      <td>In a canal 10 miles north of St Augustine</td>\n",
       "      <td>Florida</td>\n",
       "      <td>USA</td>\n",
       "      <td>1</td>\n",
       "    </tr>\n",
       "    <tr>\n",
       "      <th>508</th>\n",
       "      <td>In Matawan Creek, off NJ Clay Company brickyards at Cliffwood, Monmouth County, 9.5 miles from the sea, Monmouth County</td>\n",
       "      <td>New Jersey</td>\n",
       "      <td>USA</td>\n",
       "      <td>1</td>\n",
       "    </tr>\n",
       "    <tr>\n",
       "      <th>1431</th>\n",
       "      <td>“Southern Wharf”</td>\n",
       "      <td>South Carolina</td>\n",
       "      <td>USA</td>\n",
       "      <td>1</td>\n",
       "    </tr>\n",
       "  </tbody>\n",
       "</table>\n",
       "<p>1432 rows × 4 columns</p>\n",
       "</div>"
      ],
      "text/plain": [
       "                                                                                                                     location  \\\n",
       "837                                                                                          New Smyrna Beach, Volusia County   \n",
       "311                                                                                             Daytona Beach, Volusia County   \n",
       "1067                                                                                              Ponce Inlet, Volusia County   \n",
       "737                                                                                           Melbourne Beach, Brevard County   \n",
       "793                                                                                                Myrtle Beach, Horry County   \n",
       "...                                                                                                                       ...   \n",
       "511                                                                               In kelp beds off La Jolla, San Diego County   \n",
       "510                                                                         In front of Key Biscayne Beach Club, Key Biscayne   \n",
       "509                                                                                 In a canal 10 miles north of St Augustine   \n",
       "508   In Matawan Creek, off NJ Clay Company brickyards at Cliffwood, Monmouth County, 9.5 miles from the sea, Monmouth County   \n",
       "1431                                                                                                         “Southern Wharf”   \n",
       "\n",
       "                area country  count  \n",
       "837          Florida     USA    172  \n",
       "311          Florida     USA     30  \n",
       "1067         Florida     USA     22  \n",
       "737          Florida     USA     18  \n",
       "793   South Carolina     USA     17  \n",
       "...              ...     ...    ...  \n",
       "511       California     USA      1  \n",
       "510          Florida     USA      1  \n",
       "509          Florida     USA      1  \n",
       "508       New Jersey     USA      1  \n",
       "1431  South Carolina     USA      1  \n",
       "\n",
       "[1432 rows x 4 columns]"
      ]
     },
     "execution_count": 25,
     "metadata": {},
     "output_type": "execute_result"
    }
   ],
   "source": [
    "# Get the unique values in the 'Location' column to minimize the number of API calls including Area and Country columns\n",
    "# Only use location, area and country columns\n",
    "shark_unique_df = shark_data_north_america_df[['location', 'area', 'country']]\n",
    "\n",
    "# Group by location, area, and country to get the count of unique values\n",
    "shark_unique_df = shark_unique_df.groupby(['location', 'area', 'country']).size().reset_index(name='count')\n",
    "shark_unique_df.sort_values(by='count', ascending=False)"
   ]
  },
  {
   "cell_type": "code",
   "execution_count": 30,
   "metadata": {},
   "outputs": [
    {
     "name": "stdout",
     "output_type": "stream",
     "text": [
      " Cocoa Beach, Brevard  County, Florida, USA\n",
      " Daytona Beach, Volusia County, Florida, USA\n",
      " Huntington Beach, Orange County, California, USA\n",
      " Kahului, Maui, Hawaii, USA\n",
      " Kalepolepo, Kihei, Maui, Hawaii, USA\n",
      " Marathon, Monroe County, Florida, USA\n",
      " New Smyrna Beach, Volusia County, Florida, USA\n",
      " Palm Beach County, Florida, USA\n",
      " Riviera Beach, Palm Beach County, Florida, USA\n",
      " Vieques, Puerto Rico, USA\n"
     ]
    }
   ],
   "source": [
    "test_df = shark_unique_df[0:10]\n",
    "\n",
    "for index, row in test_df.iterrows():\n",
    "    location = row['location']\n",
    "    area = row['area']\n",
    "    country = row['country']\n",
    "    print(f\"{location}, {area}, {country}\")\n"
   ]
  },
  {
   "cell_type": "code",
   "execution_count": 33,
   "metadata": {},
   "outputs": [
    {
     "name": "stdout",
     "output_type": "stream",
     "text": [
      "Location not found: 10 miles offshore from Sea Isle City, Cape May County, New Jersey, USA\n",
      "Location not found: 16 km west of Digby Gut, Bay of Fundy, CANADA\n",
      "Location not found: 16 miles north of Fort Pierce Inlet, Indian River County , Florida, USA\n",
      "Location not found: 2 miles off Keahole Airport, Hawaii, USA\n",
      "Location not found: 20 miles from Mayport, Florida, USA\n",
      "Location not found: 24 km off Santa Catalina Island in the Channel Islands, California, USA\n",
      "Location not found: 3 to 4 miles west of Indian Pass, Gulf County, Florida, USA\n",
      "Location not found: 60 miles offshore north of San Juan, Puerto Rico, USA\n",
      "Location not found: Between Magic Sands Beach and Kahaluu Beach on the Kona coast, Hawaii, USA\n",
      "Location not found: Between Pescadero Point & Bean Hollow Beach, San Mateo County, California, USA\n",
      "Location not found: Brevard County, a mile north of Sebastian Inlet, Florida, USA\n",
      "Location not found: Elephant Rock near Tomales Point, Marin County, California, USA\n",
      "Location not found: Hollywood Beach, just above Mattapoisett Harbor, Buzzards Bay, Massachusetts, USA\n",
      "Location not found: Honoli'i Pali, Hilo Bay ('Alae Point), Hawai'i, Hawaii, USA\n",
      "Location not found: Portuguese Beach at mouth of Salmon Creek, Sonoma County, California, USA\n",
      "Location not found: Riviera Beach, near Palm Beach Inlet, Palm Beach County, Florida, USA\n",
      "Location not found: Silver (Silva) Channels, Waialua, O'ahu, Hawaii, USA\n",
      "Location not found: Sullivan's Island at entrance to Charleston Harbor, South Carolina, USA\n",
      "Location not found: Victim was on said to be on tanker that collided off Florida coast on 10-20-1943, Florida, USA\n",
      "Location not found: Wilkes Islet Lagoon (Pacific Ocean north of the Marshall Islands), Wake Island, USA\n"
     ]
    },
    {
     "data": {
      "text/html": [
       "<div>\n",
       "<style scoped>\n",
       "    .dataframe tbody tr th:only-of-type {\n",
       "        vertical-align: middle;\n",
       "    }\n",
       "\n",
       "    .dataframe tbody tr th {\n",
       "        vertical-align: top;\n",
       "    }\n",
       "\n",
       "    .dataframe thead th {\n",
       "        text-align: right;\n",
       "    }\n",
       "</style>\n",
       "<table border=\"1\" class=\"dataframe\">\n",
       "  <thead>\n",
       "    <tr style=\"text-align: right;\">\n",
       "      <th></th>\n",
       "      <th>location</th>\n",
       "      <th>area</th>\n",
       "      <th>country</th>\n",
       "      <th>count</th>\n",
       "      <th>latitude</th>\n",
       "      <th>longitude</th>\n",
       "    </tr>\n",
       "  </thead>\n",
       "  <tbody>\n",
       "    <tr>\n",
       "      <th>0</th>\n",
       "      <td>Cocoa Beach, Brevard  County</td>\n",
       "      <td>Florida</td>\n",
       "      <td>USA</td>\n",
       "      <td>1</td>\n",
       "      <td>28.318411</td>\n",
       "      <td>-80.609496</td>\n",
       "    </tr>\n",
       "    <tr>\n",
       "      <th>1</th>\n",
       "      <td>Daytona Beach, Volusia County</td>\n",
       "      <td>Florida</td>\n",
       "      <td>USA</td>\n",
       "      <td>1</td>\n",
       "      <td>29.210815</td>\n",
       "      <td>-81.022833</td>\n",
       "    </tr>\n",
       "    <tr>\n",
       "      <th>2</th>\n",
       "      <td>Huntington Beach, Orange County</td>\n",
       "      <td>California</td>\n",
       "      <td>USA</td>\n",
       "      <td>1</td>\n",
       "      <td>33.678334</td>\n",
       "      <td>-118.000016</td>\n",
       "    </tr>\n",
       "    <tr>\n",
       "      <th>3</th>\n",
       "      <td>Kahului, Maui</td>\n",
       "      <td>Hawaii</td>\n",
       "      <td>USA</td>\n",
       "      <td>1</td>\n",
       "      <td>20.889410</td>\n",
       "      <td>-156.472712</td>\n",
       "    </tr>\n",
       "    <tr>\n",
       "      <th>4</th>\n",
       "      <td>Kalepolepo, Kihei, Maui</td>\n",
       "      <td>Hawaii</td>\n",
       "      <td>USA</td>\n",
       "      <td>1</td>\n",
       "      <td>20.765394</td>\n",
       "      <td>-156.458837</td>\n",
       "    </tr>\n",
       "  </tbody>\n",
       "</table>\n",
       "</div>"
      ],
      "text/plain": [
       "                           location        area country  count   latitude  \\\n",
       "0      Cocoa Beach, Brevard  County     Florida     USA      1  28.318411   \n",
       "1     Daytona Beach, Volusia County     Florida     USA      1  29.210815   \n",
       "2   Huntington Beach, Orange County  California     USA      1  33.678334   \n",
       "3                     Kahului, Maui      Hawaii     USA      1  20.889410   \n",
       "4           Kalepolepo, Kihei, Maui      Hawaii     USA      1  20.765394   \n",
       "\n",
       "    longitude  \n",
       "0  -80.609496  \n",
       "1  -81.022833  \n",
       "2 -118.000016  \n",
       "3 -156.472712  \n",
       "4 -156.458837  "
      ]
     },
     "execution_count": 33,
     "metadata": {},
     "output_type": "execute_result"
    }
   ],
   "source": [
    "# Add a new column to the DataFrame to store the coordinates\n",
    "shark_unique_df[\"latitude\"] = np.nan\n",
    "shark_unique_df[\"longitude\"] = np.nan\n",
    "\n",
    "# Set parameters to get the latitude and longitude of the Location\n",
    "params = {\"apiKey\": GEOAPIFY_API}\n",
    "\n",
    "# Loop through the rows of the shark_short_data_usa_df DataFrame\n",
    "for index, row in shark_unique_df.iterrows():\n",
    "    # Get the location, area, country from the row\n",
    "    location = row['location']\n",
    "    area = row['area']\n",
    "    country = row['country']\n",
    "\n",
    "    params[\"text\"] = f\"{location}, {area}, {country}\"\n",
    "\n",
    "    # Set the base URL\n",
    "    base_url = \"https://api.geoapify.com/v1/geocode/search?\"\n",
    "\n",
    "    geo_location = requests.get(base_url, params=params).json()\n",
    "\n",
    "    # Get the coordinates from the response and add them to the DataFrame\n",
    "    try:\n",
    "        shark_unique_df.loc[index, \"latitude\"] = geo_location[\"features\"][0][\"properties\"][\"lat\"]\n",
    "        shark_unique_df.loc[index, \"longitude\"] = geo_location[\"features\"][0][\"properties\"][\"lon\"]\n",
    "    except (KeyError, IndexError):\n",
    "        print(f\"Location not found: {location}, {area}, {country}\")\n",
    "        \n",
    "    # Pause for 1 second to avoid hitting the rate limit\n",
    "    time.sleep(1)\n",
    "\n",
    "# Get the first 5 rows of the shark_short_data_usa_df DataFrame\n",
    "shark_unique_df.head()"
   ]
  },
  {
   "cell_type": "code",
   "execution_count": 2,
   "metadata": {},
   "outputs": [
    {
     "ename": "NameError",
     "evalue": "name 'shark_unique_df' is not defined",
     "output_type": "error",
     "traceback": [
      "\u001b[1;31m---------------------------------------------------------------------------\u001b[0m",
      "\u001b[1;31mNameError\u001b[0m                                 Traceback (most recent call last)",
      "Cell \u001b[1;32mIn[2], line 1\u001b[0m\n\u001b[1;32m----> 1\u001b[0m \u001b[43mshark_unique_df\u001b[49m\u001b[38;5;241m.\u001b[39minfo()\n",
      "\u001b[1;31mNameError\u001b[0m: name 'shark_unique_df' is not defined"
     ]
    }
   ],
   "source": [
    "shark_unique_df.info()"
   ]
  },
  {
   "cell_type": "code",
   "execution_count": 35,
   "metadata": {},
   "outputs": [
    {
     "name": "stdout",
     "output_type": "stream",
     "text": [
      "<class 'pandas.core.frame.DataFrame'>\n",
      "Index: 1412 entries, 0 to 1431\n",
      "Data columns (total 6 columns):\n",
      " #   Column     Non-Null Count  Dtype  \n",
      "---  ------     --------------  -----  \n",
      " 0   location   1412 non-null   object \n",
      " 1   area       1412 non-null   object \n",
      " 2   country    1412 non-null   object \n",
      " 3   count      1412 non-null   int64  \n",
      " 4   latitude   1412 non-null   float64\n",
      " 5   longitude  1412 non-null   float64\n",
      "dtypes: float64(2), int64(1), object(3)\n",
      "memory usage: 77.2+ KB\n"
     ]
    }
   ],
   "source": [
    "# Remove rows where location is not found\n",
    "shark_unique_df = shark_unique_df.dropna(subset=[\"latitude\", \"longitude\"])\n",
    "shark_unique_df.info()"
   ]
  },
  {
   "cell_type": "markdown",
   "metadata": {},
   "source": [
    "### Display a map of Shark Attacks"
   ]
  },
  {
   "cell_type": "code",
   "execution_count": 71,
   "metadata": {},
   "outputs": [
    {
     "data": {
      "text/html": [
       "<div>\n",
       "<style scoped>\n",
       "    .dataframe tbody tr th:only-of-type {\n",
       "        vertical-align: middle;\n",
       "    }\n",
       "\n",
       "    .dataframe tbody tr th {\n",
       "        vertical-align: top;\n",
       "    }\n",
       "\n",
       "    .dataframe thead th {\n",
       "        text-align: right;\n",
       "    }\n",
       "</style>\n",
       "<table border=\"1\" class=\"dataframe\">\n",
       "  <thead>\n",
       "    <tr style=\"text-align: right;\">\n",
       "      <th></th>\n",
       "      <th>location</th>\n",
       "      <th>area</th>\n",
       "      <th>country</th>\n",
       "      <th>count</th>\n",
       "      <th>latitude</th>\n",
       "      <th>longitude</th>\n",
       "    </tr>\n",
       "  </thead>\n",
       "  <tbody>\n",
       "    <tr>\n",
       "      <th>0</th>\n",
       "      <td>Cocoa Beach, Brevard  County</td>\n",
       "      <td>Florida</td>\n",
       "      <td>USA</td>\n",
       "      <td>1</td>\n",
       "      <td>28.318411</td>\n",
       "      <td>-80.609496</td>\n",
       "    </tr>\n",
       "    <tr>\n",
       "      <th>1</th>\n",
       "      <td>Daytona Beach, Volusia County</td>\n",
       "      <td>Florida</td>\n",
       "      <td>USA</td>\n",
       "      <td>1</td>\n",
       "      <td>29.210815</td>\n",
       "      <td>-81.022833</td>\n",
       "    </tr>\n",
       "    <tr>\n",
       "      <th>2</th>\n",
       "      <td>Huntington Beach, Orange County</td>\n",
       "      <td>California</td>\n",
       "      <td>USA</td>\n",
       "      <td>1</td>\n",
       "      <td>33.678334</td>\n",
       "      <td>-118.000016</td>\n",
       "    </tr>\n",
       "    <tr>\n",
       "      <th>3</th>\n",
       "      <td>Kahului, Maui</td>\n",
       "      <td>Hawaii</td>\n",
       "      <td>USA</td>\n",
       "      <td>1</td>\n",
       "      <td>20.889410</td>\n",
       "      <td>-156.472712</td>\n",
       "    </tr>\n",
       "    <tr>\n",
       "      <th>4</th>\n",
       "      <td>Kalepolepo, Kihei, Maui</td>\n",
       "      <td>Hawaii</td>\n",
       "      <td>USA</td>\n",
       "      <td>1</td>\n",
       "      <td>20.765394</td>\n",
       "      <td>-156.458837</td>\n",
       "    </tr>\n",
       "  </tbody>\n",
       "</table>\n",
       "</div>"
      ],
      "text/plain": [
       "                           location        area country  count   latitude  \\\n",
       "0      Cocoa Beach, Brevard  County     Florida     USA      1  28.318411   \n",
       "1     Daytona Beach, Volusia County     Florida     USA      1  29.210815   \n",
       "2   Huntington Beach, Orange County  California     USA      1  33.678334   \n",
       "3                     Kahului, Maui      Hawaii     USA      1  20.889410   \n",
       "4           Kalepolepo, Kihei, Maui      Hawaii     USA      1  20.765394   \n",
       "\n",
       "    longitude  \n",
       "0  -80.609496  \n",
       "1  -81.022833  \n",
       "2 -118.000016  \n",
       "3 -156.472712  \n",
       "4 -156.458837  "
      ]
     },
     "execution_count": 71,
     "metadata": {},
     "output_type": "execute_result"
    }
   ],
   "source": [
    "shark_attack = shark_unique_df.copy()\n",
    "\n",
    "# remove all \" from the location column\n",
    "shark_attack['location'] = shark_attack['location'].str.replace('\"', '')\n",
    "shark_attack.head()"
   ]
  },
  {
   "cell_type": "code",
   "execution_count": 72,
   "metadata": {},
   "outputs": [],
   "source": [
    "shark_attack.to_csv(\"Resources/shark_attack_temp.csv\", index=False)"
   ]
  },
  {
   "cell_type": "code",
   "execution_count": null,
   "metadata": {},
   "outputs": [],
   "source": []
  },
  {
   "cell_type": "code",
   "execution_count": 65,
   "metadata": {},
   "outputs": [
    {
     "data": {
      "text/html": [
       "<div>\n",
       "<style scoped>\n",
       "    .dataframe tbody tr th:only-of-type {\n",
       "        vertical-align: middle;\n",
       "    }\n",
       "\n",
       "    .dataframe tbody tr th {\n",
       "        vertical-align: top;\n",
       "    }\n",
       "\n",
       "    .dataframe thead th {\n",
       "        text-align: right;\n",
       "    }\n",
       "</style>\n",
       "<table border=\"1\" class=\"dataframe\">\n",
       "  <thead>\n",
       "    <tr style=\"text-align: right;\">\n",
       "      <th></th>\n",
       "      <th>location</th>\n",
       "      <th>area</th>\n",
       "      <th>country</th>\n",
       "      <th>latitude</th>\n",
       "      <th>longitude</th>\n",
       "      <th>name</th>\n",
       "    </tr>\n",
       "  </thead>\n",
       "  <tbody>\n",
       "    <tr>\n",
       "      <th>0</th>\n",
       "      <td>Cocoa Beach, Brevard  County</td>\n",
       "      <td>Florida</td>\n",
       "      <td>USA</td>\n",
       "      <td>28.318411</td>\n",
       "      <td>-80.609496</td>\n",
       "      <td>Cocoa Beach, Brevard  County, Florida, USA</td>\n",
       "    </tr>\n",
       "    <tr>\n",
       "      <th>1</th>\n",
       "      <td>Daytona Beach, Volusia County</td>\n",
       "      <td>Florida</td>\n",
       "      <td>USA</td>\n",
       "      <td>29.210815</td>\n",
       "      <td>-81.022833</td>\n",
       "      <td>Daytona Beach, Volusia County, Florida, USA</td>\n",
       "    </tr>\n",
       "    <tr>\n",
       "      <th>2</th>\n",
       "      <td>Huntington Beach, Orange County</td>\n",
       "      <td>California</td>\n",
       "      <td>USA</td>\n",
       "      <td>33.678334</td>\n",
       "      <td>-118.000016</td>\n",
       "      <td>Huntington Beach, Orange County, California, USA</td>\n",
       "    </tr>\n",
       "    <tr>\n",
       "      <th>3</th>\n",
       "      <td>Kahului, Maui</td>\n",
       "      <td>Hawaii</td>\n",
       "      <td>USA</td>\n",
       "      <td>20.889410</td>\n",
       "      <td>-156.472712</td>\n",
       "      <td>Kahului, Maui, Hawaii, USA</td>\n",
       "    </tr>\n",
       "    <tr>\n",
       "      <th>4</th>\n",
       "      <td>Kalepolepo, Kihei, Maui</td>\n",
       "      <td>Hawaii</td>\n",
       "      <td>USA</td>\n",
       "      <td>20.765394</td>\n",
       "      <td>-156.458837</td>\n",
       "      <td>Kalepolepo, Kihei, Maui, Hawaii, USA</td>\n",
       "    </tr>\n",
       "  </tbody>\n",
       "</table>\n",
       "</div>"
      ],
      "text/plain": [
       "                           location        area country   latitude  \\\n",
       "0      Cocoa Beach, Brevard  County     Florida     USA  28.318411   \n",
       "1     Daytona Beach, Volusia County     Florida     USA  29.210815   \n",
       "2   Huntington Beach, Orange County  California     USA  33.678334   \n",
       "3                     Kahului, Maui      Hawaii     USA  20.889410   \n",
       "4           Kalepolepo, Kihei, Maui      Hawaii     USA  20.765394   \n",
       "\n",
       "    longitude                                              name  \n",
       "0  -80.609496        Cocoa Beach, Brevard  County, Florida, USA  \n",
       "1  -81.022833       Daytona Beach, Volusia County, Florida, USA  \n",
       "2 -118.000016  Huntington Beach, Orange County, California, USA  \n",
       "3 -156.472712                        Kahului, Maui, Hawaii, USA  \n",
       "4 -156.458837              Kalepolepo, Kihei, Maui, Hawaii, USA  "
      ]
     },
     "execution_count": 65,
     "metadata": {},
     "output_type": "execute_result"
    }
   ],
   "source": [
    "shark_attack = shark_unique_df[[\"location\", \"area\", \"country\", \"latitude\", \"longitude\"]]\n",
    "shark_attack['name'] = shark_attack['location'].str.strip() + ', ' + shark_attack['area'].str.strip() + ', ' + shark_attack['country'].str.strip()\n",
    "shark_attack['name'] = shark_attack['name'].str.replace('\"', '')\n",
    "shark_attack.head()"
   ]
  },
  {
   "cell_type": "code",
   "execution_count": 66,
   "metadata": {},
   "outputs": [
    {
     "name": "stdout",
     "output_type": "stream",
     "text": [
      "<class 'pandas.core.frame.DataFrame'>\n",
      "Index: 1412 entries, 0 to 1431\n",
      "Data columns (total 6 columns):\n",
      " #   Column     Non-Null Count  Dtype  \n",
      "---  ------     --------------  -----  \n",
      " 0   location   1412 non-null   object \n",
      " 1   area       1412 non-null   object \n",
      " 2   country    1412 non-null   object \n",
      " 3   latitude   1412 non-null   float64\n",
      " 4   longitude  1412 non-null   float64\n",
      " 5   name       1412 non-null   object \n",
      "dtypes: float64(2), object(4)\n",
      "memory usage: 77.2+ KB\n"
     ]
    }
   ],
   "source": [
    "shark_attack.info()"
   ]
  },
  {
   "cell_type": "code",
   "execution_count": 1,
   "metadata": {},
   "outputs": [
    {
     "ename": "NameError",
     "evalue": "name 'shark_attack' is not defined",
     "output_type": "error",
     "traceback": [
      "\u001b[1;31m---------------------------------------------------------------------------\u001b[0m",
      "\u001b[1;31mNameError\u001b[0m                                 Traceback (most recent call last)",
      "Cell \u001b[1;32mIn[1], line 6\u001b[0m\n\u001b[0;32m      1\u001b[0m \u001b[38;5;66;03m# # Configure the map plot\u001b[39;00m\n\u001b[0;32m      2\u001b[0m \u001b[38;5;66;03m# shark_attack = shark_unique_df[[\"location\", \"area\", \"country\", \"latitude\", \"longitude\"]]\u001b[39;00m\n\u001b[0;32m      3\u001b[0m \u001b[38;5;66;03m# shark_attack['name'] = shark_attack['location'] + ', ' + shark_attack['area'] + ', ' + shark_attack['country']\u001b[39;00m\n\u001b[0;32m      4\u001b[0m \n\u001b[0;32m      5\u001b[0m \u001b[38;5;66;03m# Configure the map plot\u001b[39;00m\n\u001b[1;32m----> 6\u001b[0m shark_map \u001b[38;5;241m=\u001b[39m \u001b[43mshark_attack\u001b[49m\u001b[38;5;241m.\u001b[39mhvplot\u001b[38;5;241m.\u001b[39mpoints(\n\u001b[0;32m      7\u001b[0m     x\u001b[38;5;241m=\u001b[39m\u001b[38;5;124m\"\u001b[39m\u001b[38;5;124mlatitude\u001b[39m\u001b[38;5;124m\"\u001b[39m,\n\u001b[0;32m      8\u001b[0m     y\u001b[38;5;241m=\u001b[39m\u001b[38;5;124m\"\u001b[39m\u001b[38;5;124mlongitude\u001b[39m\u001b[38;5;124m\"\u001b[39m,\n\u001b[0;32m      9\u001b[0m     geo\u001b[38;5;241m=\u001b[39m\u001b[38;5;28;01mTrue\u001b[39;00m,\n\u001b[0;32m     10\u001b[0m     tiles\u001b[38;5;241m=\u001b[39m\u001b[38;5;124m\"\u001b[39m\u001b[38;5;124mOSM\u001b[39m\u001b[38;5;124m\"\u001b[39m,\n\u001b[0;32m     11\u001b[0m     color \u001b[38;5;241m=\u001b[39m \u001b[38;5;124m\"\u001b[39m\u001b[38;5;124mname\u001b[39m\u001b[38;5;124m\"\u001b[39m,\n\u001b[0;32m     12\u001b[0m     frame_width \u001b[38;5;241m=\u001b[39m \u001b[38;5;241m700\u001b[39m,\n\u001b[0;32m     13\u001b[0m     frame_height \u001b[38;5;241m=\u001b[39m \u001b[38;5;241m500\u001b[39m\n\u001b[0;32m     14\u001b[0m )\n\u001b[0;32m     16\u001b[0m \u001b[38;5;66;03m# Display the map\u001b[39;00m\n\u001b[0;32m     17\u001b[0m shark_map\n",
      "\u001b[1;31mNameError\u001b[0m: name 'shark_attack' is not defined"
     ]
    }
   ],
   "source": [
    "%%capture --no-display\n",
    "\n",
    "# # Configure the map plot\n",
    "# shark_attack = shark_unique_df[[\"location\", \"area\", \"country\", \"latitude\", \"longitude\"]]\n",
    "# shark_attack['name'] = shark_attack['location'] + ', ' + shark_attack['area'] + ', ' + shark_attack['country']\n",
    "\n",
    "# Configure the map plot\n",
    "shark_map = shark_attack.hvplot.points(\n",
    "    x=\"latitude\",\n",
    "    y=\"longitude\",\n",
    "    geo=True,\n",
    "    tiles=\"OSM\",\n",
    "    color = \"name\",\n",
    "    frame_width = 700,\n",
    "    frame_height = 500\n",
    ")\n",
    "\n",
    "# Display the map\n",
    "shark_map"
   ]
  },
  {
   "cell_type": "markdown",
   "metadata": {},
   "source": [
    "### Save Shark Attacks dataframe into CSV file in the Resources directory"
   ]
  },
  {
   "cell_type": "code",
   "execution_count": 75,
   "metadata": {},
   "outputs": [],
   "source": [
    "shark_data_north_america_df.to_csv(\"Resources/shark_attacks_clean_data.csv\", index=False)\n",
    "shark_unique_df.to_csv(\"Resources/shark_unique_locations.csv\", index=False)"
   ]
  },
  {
   "cell_type": "code",
   "execution_count": null,
   "metadata": {},
   "outputs": [],
   "source": []
  }
 ],
 "metadata": {
  "kernelspec": {
   "display_name": "dev",
   "language": "python",
   "name": "python3"
  },
  "language_info": {
   "codemirror_mode": {
    "name": "ipython",
    "version": 3
   },
   "file_extension": ".py",
   "mimetype": "text/x-python",
   "name": "python",
   "nbconvert_exporter": "python",
   "pygments_lexer": "ipython3",
   "version": "3.10.14"
  }
 },
 "nbformat": 4,
 "nbformat_minor": 2
}
